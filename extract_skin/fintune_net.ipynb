{
 "metadata": {
  "name": "",
  "signature": "sha256:68688e52c535ef828d4392e95f2b934096119db4c369b32e34b0bfb14143d327"
 },
 "nbformat": 3,
 "nbformat_minor": 0,
 "worksheets": [
  {
   "cells": [
    {
     "cell_type": "code",
     "collapsed": false,
     "input": [
      "import numpy as np\n",
      "import matplotlib.pyplot as plt\n",
      "%matplotlib inline\n",
      "import sys\n",
      "# add self-defined python script path\n",
      "sys.path.append('/home/qinshuo/WorkPlace/caffe_space/my_scripts/')\n",
      "import numpy as np\n",
      "caffe_root = '/home/qinshuo/WorkPlace/caffe/'\n",
      "sys.path.insert(0,caffe_root+'python')\n",
      "import caffe\n",
      "\n",
      "\n",
      "# setup GPU/CPU mode and device number\n",
      "caffe.set_mode_gpu() \n",
      "caffe.set_device(0)"
     ],
     "language": "python",
     "metadata": {},
     "outputs": [],
     "prompt_number": 1
    },
    {
     "cell_type": "code",
     "collapsed": false,
     "input": [
      "net_def = '/home/qinshuo/WorkPlace/caffe_space/seg_spine/config/seg_spine.prototxt'\n",
      "init_weight = '/home/qinshuo/WorkPlace/caffe_space/seg_spine/weight/seg_spine_net1.caffemodel'"
     ],
     "language": "python",
     "metadata": {},
     "outputs": [],
     "prompt_number": 2
    },
    {
     "cell_type": "code",
     "collapsed": false,
     "input": [
      "# Load the fully convolutional network to transplant the parameters.\n",
      "fine_net = caffe.Net(net_def, init_weight,caffe.TRAIN)"
     ],
     "language": "python",
     "metadata": {},
     "outputs": [
      {
       "output_type": "stream",
       "stream": "stdout",
       "text": [
        "/home/qinshuo/WorkPlace/caffe_space/seg_spine/spine_list/train_list.txt\n",
        "/media/D/SpineDataset/spine_seg\n",
        "/media/D/SpineDataset/spine_seg\n",
        "10\n",
        "1\n",
        "False\n",
        "Train\n"
       ]
      }
     ],
     "prompt_number": 3
    },
    {
     "cell_type": "code",
     "collapsed": false,
     "input": [
      "fine_net.forward()"
     ],
     "language": "python",
     "metadata": {},
     "outputs": [
      {
       "metadata": {},
       "output_type": "pyout",
       "prompt_number": 4,
       "text": [
        "{'accuracy': array([  1.00000000e+00,   2.60904257e-04], dtype=float32),\n",
        " 'loss': array(0.00579474912956357, dtype=float32)}"
       ]
      }
     ],
     "prompt_number": 4
    },
    {
     "cell_type": "code",
     "collapsed": false,
     "input": [
      "def forward_steps(net,step):\n",
      "    for i in range(step):\n",
      "        net.forward()\n",
      "        p_step = 100\n",
      "        if (i+1)%p_step == 0:\n",
      "            train_loss = net.blobs['loss'].data\n",
      "            train_acc  = net.blobs['accuracy'].data\n",
      "            print \"iteration: {:<5}   loss: {}    accuracy: {}\".format(str(i+1),str(train_loss),train_acc)"
     ],
     "language": "python",
     "metadata": {},
     "outputs": [],
     "prompt_number": 5
    },
    {
     "cell_type": "code",
     "collapsed": false,
     "input": [
      "for iter in range(20):\n",
      "    forward_steps(fine_net,10000)\n",
      "    snap_shot_weight = '/home/qinshuo/WorkPlace/caffe_space/seg_spine/weight/seg_spine_net_fin{}.caffemodel'.format(iter*10000)\n",
      "    print \"snaping to: \"+snap_shot_weight\n",
      "    fine_net.save(snap_shot_weight)\n",
      "    \n",
      "    "
     ],
     "language": "python",
     "metadata": {},
     "outputs": [
      {
       "output_type": "stream",
       "stream": "stdout",
       "text": [
        "iteration: 100     loss: 0.00447481684387    accuracy: [  1.00000000e+00   1.26624043e-04]\n",
        "iteration: 200     loss: 0.000307681737468    accuracy: [ 1.  0.]"
       ]
      }
     ]
    },
    {
     "cell_type": "code",
     "collapsed": false,
     "input": [],
     "language": "python",
     "metadata": {},
     "outputs": []
    }
   ],
   "metadata": {}
  }
 ]
}