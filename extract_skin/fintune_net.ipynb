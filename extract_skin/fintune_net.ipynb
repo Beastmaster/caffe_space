{
 "metadata": {
  "name": "",
  "signature": "sha256:1d2e58f9bbb5f5f06f5de3fbe0accfb7ee9a33b211fb34e7fcfdea58c38b8997"
 },
 "nbformat": 3,
 "nbformat_minor": 0,
 "worksheets": [
  {
   "cells": [
    {
     "cell_type": "code",
     "collapsed": false,
     "input": [
      "import numpy as np\n",
      "import matplotlib.pyplot as plt\n",
      "%matplotlib inline\n",
      "import sys\n",
      "# add self-defined python script path\n",
      "sys.path.append('/home/qinshuo/WorkPlace/caffe_space/my_scripts/')\n",
      "import numpy as np\n",
      "caffe_root = '/home/qinshuo/WorkPlace/caffe/'\n",
      "sys.path.insert(0,caffe_root+'python')\n",
      "import caffe\n",
      "\n",
      "\n",
      "# setup GPU/CPU mode and device number\n",
      "caffe.set_mode_gpu() \n",
      "caffe.set_device(0)"
     ],
     "language": "python",
     "metadata": {},
     "outputs": [],
     "prompt_number": 1
    },
    {
     "cell_type": "code",
     "collapsed": false,
     "input": [
      "net_def = '/home/qinshuo/WorkPlace/caffe_space/extract_skin/config/seg_skin.prototxt'\n",
      "init_weight = '/home/qinshuo/WorkPlace/caffe_space/extract_skin/weight/seg_skin4.caffemodel'"
     ],
     "language": "python",
     "metadata": {},
     "outputs": [],
     "prompt_number": 4
    },
    {
     "cell_type": "code",
     "collapsed": false,
     "input": [
      "# Load the fully convolutional network to transplant the parameters.\n",
      "fine_net = caffe.Net(net_def, init_weight,caffe.TRAIN)"
     ],
     "language": "python",
     "metadata": {},
     "outputs": [
      {
       "output_type": "stream",
       "stream": "stdout",
       "text": [
        "/home/qinshuo/WorkPlace/caffe_space/extract_skin/data_list/head_train.txt\n",
        "\n",
        "\n",
        "32\n",
        "1\n",
        "False\n",
        "Train\n"
       ]
      }
     ],
     "prompt_number": 5
    },
    {
     "cell_type": "code",
     "collapsed": false,
     "input": [
      "fine_net.forward()"
     ],
     "language": "python",
     "metadata": {},
     "outputs": [
      {
       "metadata": {},
       "output_type": "pyout",
       "prompt_number": 6,
       "text": [
        "{'accuracy': array([ 0.,  0.], dtype=float32),\n",
        " 'loss': array(0.0955587774515152, dtype=float32)}"
       ]
      }
     ],
     "prompt_number": 6
    },
    {
     "cell_type": "code",
     "collapsed": false,
     "input": [
      "def forward_steps(net,step):\n",
      "    for i in range(step):\n",
      "        net.forward()\n",
      "        p_step = 100\n",
      "        if (i+1)%p_step == 0:\n",
      "            train_loss = net.blobs['loss'].data\n",
      "            train_acc  = net.blobs['accuracy'].data\n",
      "            print \"iteration: {:<5}   loss: {}    accuracy: {}\".format(str(i+1),str(train_loss),train_acc)"
     ],
     "language": "python",
     "metadata": {},
     "outputs": [],
     "prompt_number": 7
    },
    {
     "cell_type": "code",
     "collapsed": false,
     "input": [
      "for iter in range(20):\n",
      "    forward_steps(fine_net,10000)\n",
      "    snap_shot_weight = '/home/qinshuo/WorkPlace/caffe_space/extract_skin/weight/seg_skin_net_fin{}.caffemodel'.format(iter*10000)\n",
      "    print \"snaping to: \"+snap_shot_weight\n",
      "    fine_net.save(snap_shot_weight)\n",
      "    \n",
      "    "
     ],
     "language": "python",
     "metadata": {},
     "outputs": [
      {
       "output_type": "stream",
       "stream": "stdout",
       "text": [
        "iteration: 100     loss: 0.00805831886828    accuracy: [ 0.37435693  0.00437684]\n",
        "iteration: 200     loss: 0.00752438884228    accuracy: [ 0.27790919  0.00886866]"
       ]
      },
      {
       "output_type": "stream",
       "stream": "stdout",
       "text": [
        "\n",
        "iteration: 300     loss: 0.00661130342633    accuracy: [ 0.3680208   0.00257529]"
       ]
      },
      {
       "output_type": "stream",
       "stream": "stdout",
       "text": [
        "\n",
        "iteration: 400     loss: 0.00859943684191    accuracy: [ 0.3382026   0.00480291]"
       ]
      },
      {
       "output_type": "stream",
       "stream": "stdout",
       "text": [
        "\n",
        "iteration: 500     loss: 0.00952723994851    accuracy: [ 0.30719876  0.00805609]"
       ]
      },
      {
       "output_type": "stream",
       "stream": "stdout",
       "text": [
        "\n",
        "iteration: 600     loss: 0.00619865488261    accuracy: [ 0.36196065  0.00216409]"
       ]
      },
      {
       "output_type": "stream",
       "stream": "stdout",
       "text": [
        "\n",
        "iteration: 700     loss: 0.00615354441106    accuracy: [ 0.34391043  0.00368709]"
       ]
      },
      {
       "output_type": "stream",
       "stream": "stdout",
       "text": [
        "\n",
        "iteration: 800     loss: 0.00746437022462    accuracy: [ 0.35390577  0.00416703]"
       ]
      },
      {
       "output_type": "stream",
       "stream": "stdout",
       "text": [
        "\n",
        "iteration: 900     loss: 0.0176689848304    accuracy: [ 0.45516729  0.00762737]"
       ]
      },
      {
       "output_type": "stream",
       "stream": "stdout",
       "text": [
        "\n",
        "iteration: 1000    loss: 0.0198166612536    accuracy: [ 0.06365906  0.24861878]"
       ]
      },
      {
       "output_type": "stream",
       "stream": "stdout",
       "text": [
        "\n",
        "iteration: 1100    loss: 0.00889098457992    accuracy: [ 0.24541152  0.01270078]"
       ]
      },
      {
       "output_type": "stream",
       "stream": "stdout",
       "text": [
        "\n",
        "iteration: 1200    loss: 0.0112214852124    accuracy: [ 0.35147673  0.0053967 ]"
       ]
      },
      {
       "output_type": "stream",
       "stream": "stdout",
       "text": [
        "\n",
        "iteration: 1300    loss: 0.178327351809    accuracy: [ 0.20682038  0.03084127]"
       ]
      },
      {
       "output_type": "stream",
       "stream": "stdout",
       "text": [
        "\n",
        "iteration: 1400    loss: 0.00819384679198    accuracy: [ 0.39247552  0.00289214]"
       ]
      },
      {
       "output_type": "stream",
       "stream": "stdout",
       "text": [
        "\n",
        "iteration: 1500    loss: 0.0147058265284    accuracy: [ 0.35892129  0.01078999]"
       ]
      },
      {
       "output_type": "stream",
       "stream": "stdout",
       "text": [
        "\n",
        "iteration: 1600    loss: 0.0102548515424    accuracy: [ 0.33824804  0.0081399 ]"
       ]
      },
      {
       "output_type": "stream",
       "stream": "stdout",
       "text": [
        "\n",
        "iteration: 1700    loss: 0.00617722980678    accuracy: [ 0.35636663  0.00258406]"
       ]
      },
      {
       "output_type": "stream",
       "stream": "stdout",
       "text": [
        "\n",
        "iteration: 1800    loss: 0.0069514955394    accuracy: [ 0.36080608  0.00290168]"
       ]
      },
      {
       "output_type": "stream",
       "stream": "stdout",
       "text": [
        "\n",
        "iteration: 1900    loss: 0.00991045776755    accuracy: [ 0.35616177  0.00509832]"
       ]
      },
      {
       "output_type": "stream",
       "stream": "stdout",
       "text": [
        "\n",
        "iteration: 2000    loss: 0.00739343930036    accuracy: [ 0.38061401  0.00354318]"
       ]
      },
      {
       "output_type": "stream",
       "stream": "stdout",
       "text": [
        "\n",
        "iteration: 2100    loss: 0.00797326676548    accuracy: [ 0.33603466  0.00521899]"
       ]
      },
      {
       "output_type": "stream",
       "stream": "stdout",
       "text": [
        "\n",
        "iteration: 2200    loss: 0.00825214199722    accuracy: [ 0.30382225  0.00720791]"
       ]
      },
      {
       "output_type": "stream",
       "stream": "stdout",
       "text": [
        "\n",
        "iteration: 2300    loss: 0.0209646262228    accuracy: [ 0.39310256  0.01561346]"
       ]
      },
      {
       "output_type": "stream",
       "stream": "stdout",
       "text": [
        "\n",
        "iteration: 2400    loss: 0.0127913793549    accuracy: [ 0.42860416  0.00645069]"
       ]
      },
      {
       "output_type": "stream",
       "stream": "stdout",
       "text": [
        "\n",
        "iteration: 2500    loss: 0.0134973619133    accuracy: [ 0.12300666  0.10527132]"
       ]
      },
      {
       "output_type": "stream",
       "stream": "stdout",
       "text": [
        "\n",
        "iteration: 2600    loss: 0.00795117486268    accuracy: [ 0.30712172  0.00488024]"
       ]
      },
      {
       "output_type": "stream",
       "stream": "stdout",
       "text": [
        "\n",
        "iteration: 2700    loss: 0.0166884958744    accuracy: [ 0.08523392  0.18263365]"
       ]
      },
      {
       "output_type": "stream",
       "stream": "stdout",
       "text": [
        "\n",
        "iteration: 2800    loss: 0.00925851147622    accuracy: [ 0.42248744  0.00358073]"
       ]
      },
      {
       "output_type": "stream",
       "stream": "stdout",
       "text": [
        "\n",
        "iteration: 2900    loss: 0.0112135605887    accuracy: [ 0.26975784  0.01441355]"
       ]
      },
      {
       "output_type": "stream",
       "stream": "stdout",
       "text": [
        "\n",
        "iteration: 3000    loss: 0.00664362683892    accuracy: [ 0.2268005   0.01512294]"
       ]
      },
      {
       "output_type": "stream",
       "stream": "stdout",
       "text": [
        "\n",
        "iteration: 3100    loss: 0.00793645530939    accuracy: [ 0.34771049  0.00484445]"
       ]
      },
      {
       "output_type": "stream",
       "stream": "stdout",
       "text": [
        "\n",
        "iteration: 3200    loss: 0.0267072580755    accuracy: [ 0.06216182  0.28438729]"
       ]
      },
      {
       "output_type": "stream",
       "stream": "stdout",
       "text": [
        "\n",
        "iteration: 3300    loss: 0.0096442187205    accuracy: [ 0.37234297  0.00358272]"
       ]
      },
      {
       "output_type": "stream",
       "stream": "stdout",
       "text": [
        "\n",
        "iteration: 3400    loss: 0.00676705501974    accuracy: [ 0.29473266  0.00563793]"
       ]
      },
      {
       "output_type": "stream",
       "stream": "stdout",
       "text": [
        "\n",
        "iteration: 3500    loss: 0.0814666822553    accuracy: [ 0.  0.]"
       ]
      },
      {
       "output_type": "stream",
       "stream": "stdout",
       "text": [
        "\n",
        "iteration: 3600    loss: 0.00815122574568    accuracy: [ 0.18092288  0.03416385]"
       ]
      },
      {
       "output_type": "stream",
       "stream": "stdout",
       "text": [
        "\n",
        "iteration: 3700    loss: 0.00588222127408    accuracy: [ 0.29888386  0.00397597]"
       ]
      },
      {
       "output_type": "stream",
       "stream": "stdout",
       "text": [
        "\n",
        "iteration: 3800    loss: 0.212774589658    accuracy: [ 0.03429505  0.231466  ]"
       ]
      },
      {
       "output_type": "stream",
       "stream": "stdout",
       "text": [
        "\n",
        "iteration: 3900    loss: 0.00985422264785    accuracy: [ 0.40322575  0.00411172]"
       ]
      },
      {
       "output_type": "stream",
       "stream": "stdout",
       "text": [
        "\n",
        "iteration: 4000    loss: 0.00635946728289    accuracy: [ 0.36189005  0.00267092]"
       ]
      },
      {
       "output_type": "stream",
       "stream": "stdout",
       "text": [
        "\n",
        "iteration: 4100    loss: 0.00741742923856    accuracy: [ 0.2693038   0.00807046]"
       ]
      },
      {
       "output_type": "stream",
       "stream": "stdout",
       "text": [
        "\n",
        "iteration: 4200    loss: 0.0167520977557    accuracy: [ 0.39913189  0.01028145]"
       ]
      },
      {
       "output_type": "stream",
       "stream": "stdout",
       "text": [
        "\n",
        "iteration: 4300    loss: 0.0210183113813    accuracy: [ 0.16308819  0.06109808]"
       ]
      },
      {
       "output_type": "stream",
       "stream": "stdout",
       "text": [
        "\n",
        "iteration: 4400    loss: 0.0106326006353    accuracy: [ 0.36253852  0.00549207]"
       ]
      },
      {
       "output_type": "stream",
       "stream": "stdout",
       "text": [
        "\n",
        "iteration: 4500    loss: 0.00956294685602    accuracy: [ 0.39635357  0.00420281]"
       ]
      },
      {
       "output_type": "stream",
       "stream": "stdout",
       "text": [
        "\n",
        "iteration: 4600    loss: 0.00798002257943    accuracy: [ 0.17326742  0.03201677]"
       ]
      },
      {
       "output_type": "stream",
       "stream": "stdout",
       "text": [
        "\n",
        "iteration: 4700    loss: 0.0119971530512    accuracy: [ 0.33767971  0.00547098]"
       ]
      },
      {
       "output_type": "stream",
       "stream": "stdout",
       "text": [
        "\n",
        "iteration: 4800    loss: 0.0148456310853    accuracy: [ 0.33086041  0.00910309]"
       ]
      },
      {
       "output_type": "stream",
       "stream": "stdout",
       "text": [
        "\n",
        "iteration: 4900    loss: 0.00701832864434    accuracy: [ 0.35877809  0.00408789]"
       ]
      },
      {
       "output_type": "stream",
       "stream": "stdout",
       "text": [
        "\n",
        "iteration: 5000    loss: 0.00540946144611    accuracy: [ 0.29481694  0.00370582]"
       ]
      },
      {
       "output_type": "stream",
       "stream": "stdout",
       "text": [
        "\n",
        "iteration: 5100    loss: 0.00772907072678    accuracy: [ 0.29627988  0.00666753]"
       ]
      },
      {
       "output_type": "stream",
       "stream": "stdout",
       "text": [
        "\n",
        "iteration: 5200    loss: 0.00650894083083    accuracy: [ 0.37141186  0.0033938 ]"
       ]
      },
      {
       "output_type": "stream",
       "stream": "stdout",
       "text": [
        "\n",
        "iteration: 5300    loss: 0.026010511443    accuracy: [ 0.03016311  0.36902946]"
       ]
      },
      {
       "output_type": "stream",
       "stream": "stdout",
       "text": [
        "\n",
        "iteration: 5400    loss: 0.0633661001921    accuracy: [ 0.13245678  0.08681325]"
       ]
      },
      {
       "output_type": "stream",
       "stream": "stdout",
       "text": [
        "\n",
        "iteration: 5500    loss: 0.111116506159    accuracy: [ 0.  0.]"
       ]
      },
      {
       "output_type": "stream",
       "stream": "stdout",
       "text": [
        "\n",
        "iteration: 5600    loss: 0.254871934652    accuracy: [ 0.2870566   0.11793237]"
       ]
      },
      {
       "output_type": "stream",
       "stream": "stdout",
       "text": [
        "\n",
        "iteration: 5700    loss: 0.00599579000846    accuracy: [ 0.28291044  0.00488978]"
       ]
      },
      {
       "output_type": "stream",
       "stream": "stdout",
       "text": [
        "\n",
        "iteration: 5800    loss: 0.0109578846022    accuracy: [ 0.1905373   0.03329725]"
       ]
      },
      {
       "output_type": "stream",
       "stream": "stdout",
       "text": [
        "\n",
        "iteration: 5900    loss: 0.00791187211871    accuracy: [ 0.25370339  0.01323325]"
       ]
      },
      {
       "output_type": "stream",
       "stream": "stdout",
       "text": [
        "\n",
        "iteration: 6000    loss: 0.00605669338256    accuracy: [ 0.37169224  0.00279513]"
       ]
      },
      {
       "output_type": "stream",
       "stream": "stdout",
       "text": [
        "\n",
        "iteration: 6100    loss: 0.0136195933446    accuracy: [ 0.2093779   0.01691166]"
       ]
      },
      {
       "output_type": "stream",
       "stream": "stdout",
       "text": [
        "\n",
        "iteration: 6200    loss: 0.00708774989471    accuracy: [ 0.38172358  0.00377241]"
       ]
      },
      {
       "output_type": "stream",
       "stream": "stdout",
       "text": [
        "\n",
        "iteration: 6300    loss: 0.00582503527403    accuracy: [ 0.21065657  0.01559214]"
       ]
      },
      {
       "output_type": "stream",
       "stream": "stdout",
       "text": [
        "\n",
        "iteration: 6400    loss: 0.037370365113    accuracy: [ 0.00412187  0.5472222 ]"
       ]
      },
      {
       "output_type": "stream",
       "stream": "stdout",
       "text": [
        "\n",
        "iteration: 6500    loss: 0.00589998904616    accuracy: [ 0.35431045  0.00280305]"
       ]
      },
      {
       "output_type": "stream",
       "stream": "stdout",
       "text": [
        "\n",
        "iteration: 6600    loss: 0.00759260449558    accuracy: [ 0.35580075  0.00474616]"
       ]
      },
      {
       "output_type": "stream",
       "stream": "stdout",
       "text": [
        "\n",
        "iteration: 6700    loss: 0.0288699697703    accuracy: [ 0.02788262  0.36998901]"
       ]
      },
      {
       "output_type": "stream",
       "stream": "stdout",
       "text": [
        "\n",
        "iteration: 6800    loss: 0.00849828775972    accuracy: [ 0.37989545  0.00375221]"
       ]
      },
      {
       "output_type": "stream",
       "stream": "stdout",
       "text": [
        "\n",
        "iteration: 6900    loss: 0.00699885841459    accuracy: [ 0.2093733   0.01919008]"
       ]
      },
      {
       "output_type": "stream",
       "stream": "stdout",
       "text": [
        "\n",
        "iteration: 7000    loss: 0.0192077253014    accuracy: [ 0.26383901  0.02429991]"
       ]
      },
      {
       "output_type": "stream",
       "stream": "stdout",
       "text": [
        "\n",
        "iteration: 7100    loss: 0.00821397267282    accuracy: [ 0.37412304  0.00536954]"
       ]
      },
      {
       "output_type": "stream",
       "stream": "stdout",
       "text": [
        "\n",
        "iteration: 7200    loss: 0.00888425111771    accuracy: [ 0.28021652  0.00849329]"
       ]
      },
      {
       "output_type": "stream",
       "stream": "stdout",
       "text": [
        "\n",
        "iteration: 7300    loss: 0.0550823062658    accuracy: [ 0.32844606  0.01161038]"
       ]
      },
      {
       "output_type": "stream",
       "stream": "stdout",
       "text": [
        "\n",
        "iteration: 7400    loss: 0.00733040366322    accuracy: [ 0.32817519  0.00394884]"
       ]
      },
      {
       "output_type": "stream",
       "stream": "stdout",
       "text": [
        "\n",
        "iteration: 7500    loss: 0.00735469441861    accuracy: [ 0.30955455  0.00534462]"
       ]
      },
      {
       "output_type": "stream",
       "stream": "stdout",
       "text": [
        "\n",
        "iteration: 7600    loss: 0.00723256822675    accuracy: [ 0.33047971  0.00368906]"
       ]
      },
      {
       "output_type": "stream",
       "stream": "stdout",
       "text": [
        "\n",
        "iteration: 7700    loss: 0.0070307534188    accuracy: [ 0.37111858  0.00335584]"
       ]
      },
      {
       "output_type": "stream",
       "stream": "stdout",
       "text": [
        "\n",
        "iteration: 7800    loss: 0.0127160120755    accuracy: [ 0.34589553  0.00628813]"
       ]
      },
      {
       "output_type": "stream",
       "stream": "stdout",
       "text": [
        "\n",
        "iteration: 7900    loss: 0.00654163490981    accuracy: [ 0.36589643  0.00307985]"
       ]
      },
      {
       "output_type": "stream",
       "stream": "stdout",
       "text": [
        "\n",
        "iteration: 8000    loss: 0.00572803337127    accuracy: [ 0.28198358  0.00513606]"
       ]
      },
      {
       "output_type": "stream",
       "stream": "stdout",
       "text": [
        "\n",
        "iteration: 8100    loss: 0.00898930802941    accuracy: [ 0.26194748  0.0092863 ]"
       ]
      },
      {
       "output_type": "stream",
       "stream": "stdout",
       "text": [
        "\n",
        "iteration: 8200    loss: 0.0200703982264    accuracy: [ 0.41807508  0.00937329]"
       ]
      },
      {
       "output_type": "stream",
       "stream": "stdout",
       "text": [
        "\n",
        "iteration: 8300    loss: 0.00833814963698    accuracy: [ 0.40673926  0.0034464 ]"
       ]
      },
      {
       "output_type": "stream",
       "stream": "stdout",
       "text": [
        "\n",
        "iteration: 8400    loss: 0.00855330936611    accuracy: [ 0.28432205  0.00710288]"
       ]
      },
      {
       "output_type": "stream",
       "stream": "stdout",
       "text": [
        "\n",
        "iteration: 8500    loss: 0.00863789021969    accuracy: [ 0.21916908  0.01468639]"
       ]
      },
      {
       "output_type": "stream",
       "stream": "stdout",
       "text": [
        "\n",
        "iteration: 8600    loss: 0.0089369956404    accuracy: [ 0.35898671  0.00510964]"
       ]
      },
      {
       "output_type": "stream",
       "stream": "stdout",
       "text": [
        "\n",
        "iteration: 8700    loss: 0.0266322921962    accuracy: [ 0.03833327  0.32261285]"
       ]
      },
      {
       "output_type": "stream",
       "stream": "stdout",
       "text": [
        "\n",
        "iteration: 8800    loss: 0.0136929908767    accuracy: [ 0.43223032  0.00465273]"
       ]
      },
      {
       "output_type": "stream",
       "stream": "stdout",
       "text": [
        "\n",
        "iteration: 8900    loss: 0.00888794660568    accuracy: [ 0.3131977   0.00819432]"
       ]
      },
      {
       "output_type": "stream",
       "stream": "stdout",
       "text": [
        "\n",
        "iteration: 9000    loss: 0.00838817376643    accuracy: [ 0.33345559  0.00459483]"
       ]
      },
      {
       "output_type": "stream",
       "stream": "stdout",
       "text": [
        "\n",
        "iteration: 9100    loss: 0.029542343691    accuracy: [ 0.0183811   0.44155574]"
       ]
      },
      {
       "output_type": "stream",
       "stream": "stdout",
       "text": [
        "\n",
        "iteration: 9200    loss: 0.00694839796051    accuracy: [ 0.36575115  0.00296699]"
       ]
      },
      {
       "output_type": "stream",
       "stream": "stdout",
       "text": [
        "\n",
        "iteration: 9300    loss: 0.0130574870855    accuracy: [ 0.39261588  0.00671834]"
       ]
      },
      {
       "output_type": "stream",
       "stream": "stdout",
       "text": [
        "\n",
        "iteration: 9400    loss: 0.0142825338989    accuracy: [ 0.37345284  0.00572347]"
       ]
      },
      {
       "output_type": "stream",
       "stream": "stdout",
       "text": [
        "\n",
        "iteration: 9500    loss: 0.00617427425459    accuracy: [ 0.26454678  0.00716225]"
       ]
      },
      {
       "output_type": "stream",
       "stream": "stdout",
       "text": [
        "\n",
        "iteration: 9600    loss: 0.0157896615565    accuracy: [ 0.10511346  0.13554698]"
       ]
      },
      {
       "output_type": "stream",
       "stream": "stdout",
       "text": [
        "\n",
        "iteration: 9700    loss: 0.00937046855688    accuracy: [ 0.37227398  0.00349062]"
       ]
      },
      {
       "output_type": "stream",
       "stream": "stdout",
       "text": [
        "\n",
        "iteration: 9800    loss: 0.00533061521128    accuracy: [ 0.3330062   0.00370396]"
       ]
      },
      {
       "output_type": "stream",
       "stream": "stdout",
       "text": [
        "\n",
        "iteration: 9900    loss: 0.0170063767582    accuracy: [ 0.39180803  0.00828912]"
       ]
      },
      {
       "output_type": "stream",
       "stream": "stdout",
       "text": [
        "\n",
        "iteration: 10000   loss: 0.00765007967129    accuracy: [ 0.36799052  0.00327048]"
       ]
      },
      {
       "output_type": "stream",
       "stream": "stdout",
       "text": [
        "\n",
        "snaping to: /home/qinshuo/WorkPlace/caffe_space/extract_skin/weight/seg_skin_net_fin0.caffemodel\n",
        "iteration: 100     loss: 0.00793581269681    accuracy: [ 0.36447841  0.00366938]"
       ]
      },
      {
       "output_type": "stream",
       "stream": "stdout",
       "text": [
        "\n",
        "iteration: 200     loss: 0.0311426706612    accuracy: [ 0.03455541  0.3617045 ]"
       ]
      },
      {
       "output_type": "stream",
       "stream": "stdout",
       "text": [
        "\n",
        "iteration: 300     loss: 0.00715455599129    accuracy: [ 0.38498515  0.00307674]"
       ]
      },
      {
       "output_type": "stream",
       "stream": "stdout",
       "text": [
        "\n",
        "iteration: 400     loss: 0.102338969707    accuracy: [ 0.33989868  0.05926293]"
       ]
      },
      {
       "output_type": "stream",
       "stream": "stdout",
       "text": [
        "\n",
        "iteration: 500     loss: 0.0146752484143    accuracy: [ 0.11402972  0.11541298]"
       ]
      },
      {
       "output_type": "stream",
       "stream": "stdout",
       "text": [
        "\n",
        "iteration: 600     loss: 0.158784076571    accuracy: [ 0.21760947  0.05888437]"
       ]
      },
      {
       "output_type": "stream",
       "stream": "stdout",
       "text": [
        "\n",
        "iteration: 700     loss: 0.00769378338009    accuracy: [ 0.28080773  0.00667102]"
       ]
      },
      {
       "output_type": "stream",
       "stream": "stdout",
       "text": [
        "\n",
        "iteration: 800     loss: 0.00708516594023    accuracy: [ 0.32343391  0.00552773]"
       ]
      },
      {
       "output_type": "stream",
       "stream": "stdout",
       "text": [
        "\n",
        "iteration: 900     loss: 0.00754795968533    accuracy: [ 0.34033778  0.00543137]"
       ]
      },
      {
       "output_type": "stream",
       "stream": "stdout",
       "text": [
        "\n",
        "iteration: 1000    loss: 0.0155839733779    accuracy: [ 0.30216542  0.01398867]"
       ]
      },
      {
       "output_type": "stream",
       "stream": "stdout",
       "text": [
        "\n",
        "iteration: 1100    loss: 0.00823881663382    accuracy: [ 0.39591512  0.00444689]"
       ]
      },
      {
       "output_type": "stream",
       "stream": "stdout",
       "text": [
        "\n",
        "iteration: 1200    loss: 0.00734030548483    accuracy: [ 0.26756713  0.00829431]"
       ]
      },
      {
       "output_type": "stream",
       "stream": "stdout",
       "text": [
        "\n",
        "iteration: 1300    loss: 0.00651847943664    accuracy: [ 0.30000496  0.00382127]"
       ]
      },
      {
       "output_type": "stream",
       "stream": "stdout",
       "text": [
        "\n",
        "iteration: 1400    loss: 0.0143327843398    accuracy: [ 0.41521916  0.00860039]"
       ]
      },
      {
       "output_type": "stream",
       "stream": "stdout",
       "text": [
        "\n",
        "iteration: 1500    loss: 0.00939724128693    accuracy: [ 0.35601327  0.00490343]"
       ]
      },
      {
       "output_type": "stream",
       "stream": "stdout",
       "text": [
        "\n",
        "iteration: 1600    loss: 0.00707920640707    accuracy: [ 0.38304326  0.00366943]"
       ]
      },
      {
       "output_type": "stream",
       "stream": "stdout",
       "text": [
        "\n",
        "iteration: 1700    loss: 0.00559380184859    accuracy: [ 0.32682958  0.00382099]"
       ]
      },
      {
       "output_type": "stream",
       "stream": "stdout",
       "text": [
        "\n",
        "iteration: 1800    loss: 0.0100199049339    accuracy: [ 0.43247333  0.00384344]"
       ]
      },
      {
       "output_type": "stream",
       "stream": "stdout",
       "text": [
        "\n",
        "iteration: 1900    loss: 0.095869153738    accuracy: [  3.07839109e-05   1.25000000e-01]"
       ]
      },
      {
       "output_type": "stream",
       "stream": "stdout",
       "text": [
        "\n",
        "iteration: 2000    loss: 0.0150551097468    accuracy: [ 0.30877495  0.01597064]"
       ]
      },
      {
       "output_type": "stream",
       "stream": "stdout",
       "text": [
        "\n",
        "iteration: 2100    loss: 0.00849812291563    accuracy: [ 0.34307218  0.00395711]"
       ]
      },
      {
       "output_type": "stream",
       "stream": "stdout",
       "text": [
        "\n",
        "iteration: 2200    loss: 0.00711857620627    accuracy: [ 0.26751047  0.00651429]"
       ]
      },
      {
       "output_type": "stream",
       "stream": "stdout",
       "text": [
        "\n",
        "iteration: 2300    loss: 0.0102727059275    accuracy: [ 0.3080048   0.01336342]"
       ]
      },
      {
       "output_type": "stream",
       "stream": "stdout",
       "text": [
        "\n",
        "iteration: 2400    loss: 0.0110961571336    accuracy: [ 0.4240815  0.0045222]"
       ]
      },
      {
       "output_type": "stream",
       "stream": "stdout",
       "text": [
        "\n",
        "iteration: 2500    loss: 0.0069087408483    accuracy: [ 0.3307187   0.00433226]"
       ]
      },
      {
       "output_type": "stream",
       "stream": "stdout",
       "text": [
        "\n",
        "iteration: 2600    loss: 0.00907053612173    accuracy: [ 0.33905613  0.00430704]"
       ]
      },
      {
       "output_type": "stream",
       "stream": "stdout",
       "text": [
        "\n",
        "iteration: 2700    loss: 0.0190577656031    accuracy: [ 0.10096063  0.13093974]"
       ]
      },
      {
       "output_type": "stream",
       "stream": "stdout",
       "text": [
        "\n",
        "iteration: 2800    loss: 0.0157254077494    accuracy: [ 0.39950785  0.00862696]"
       ]
      },
      {
       "output_type": "stream",
       "stream": "stdout",
       "text": [
        "\n",
        "iteration: 2900    loss: 0.013736307621    accuracy: [ 0.33295089  0.01055642]"
       ]
      },
      {
       "output_type": "stream",
       "stream": "stdout",
       "text": [
        "\n",
        "iteration: 3000    loss: 0.0123954806477    accuracy: [ 0.2929568   0.00592188]"
       ]
      },
      {
       "output_type": "stream",
       "stream": "stdout",
       "text": [
        "\n",
        "iteration: 3100    loss: 0.0160464514047    accuracy: [ 0.32988951  0.014085  ]"
       ]
      },
      {
       "output_type": "stream",
       "stream": "stdout",
       "text": [
        "\n",
        "iteration: 3200    loss: 0.00545639544725    accuracy: [ 0.31601742  0.00465313]"
       ]
      },
      {
       "output_type": "stream",
       "stream": "stdout",
       "text": [
        "\n",
        "iteration: 3300    loss: 0.0204206965864    accuracy: [ 0.08293942  0.18400148]"
       ]
      },
      {
       "output_type": "stream",
       "stream": "stdout",
       "text": [
        "\n",
        "iteration: 3400    loss: 0.0260470546782    accuracy: [ 0.26346689  0.01148405]"
       ]
      },
      {
       "output_type": "stream",
       "stream": "stdout",
       "text": [
        "\n",
        "iteration: 3500    loss: 0.107312977314    accuracy: [ 0.  0.]"
       ]
      },
      {
       "output_type": "stream",
       "stream": "stdout",
       "text": [
        "\n",
        "iteration: 3600    loss: 0.0141548635438    accuracy: [ 0.35266808  0.00620283]"
       ]
      },
      {
       "output_type": "stream",
       "stream": "stdout",
       "text": [
        "\n",
        "iteration: 3700    loss: 0.00674700178206    accuracy: [ 0.361707    0.00217704]"
       ]
      },
      {
       "output_type": "stream",
       "stream": "stdout",
       "text": [
        "\n",
        "iteration: 3800    loss: 0.0169739089906    accuracy: [ 0.21656343  0.02561794]"
       ]
      },
      {
       "output_type": "stream",
       "stream": "stdout",
       "text": [
        "\n",
        "iteration: 3900    loss: 0.00932366959751    accuracy: [ 0.25548595  0.01155871]"
       ]
      },
      {
       "output_type": "stream",
       "stream": "stdout",
       "text": [
        "\n",
        "iteration: 4000    loss: 0.00777258258313    accuracy: [ 0.31066018  0.0046007 ]"
       ]
      },
      {
       "output_type": "stream",
       "stream": "stdout",
       "text": [
        "\n",
        "iteration: 4100    loss: 0.00952059868723    accuracy: [ 0.39379624  0.0047265 ]"
       ]
      },
      {
       "output_type": "stream",
       "stream": "stdout",
       "text": [
        "\n",
        "iteration: 4200    loss: 0.00861846003681    accuracy: [ 0.33881289  0.00602111]"
       ]
      },
      {
       "output_type": "stream",
       "stream": "stdout",
       "text": [
        "\n",
        "iteration: 4300    loss: 0.292871892452    accuracy: [ 0.19655599  0.12460119]"
       ]
      },
      {
       "output_type": "stream",
       "stream": "stdout",
       "text": [
        "\n",
        "iteration: 4400    loss: 0.0106530757621    accuracy: [ 0.42715228  0.00377473]"
       ]
      },
      {
       "output_type": "stream",
       "stream": "stdout",
       "text": [
        "\n",
        "iteration: 4500    loss: 0.00935813877732    accuracy: [ 0.35660592  0.00500472]"
       ]
      },
      {
       "output_type": "stream",
       "stream": "stdout",
       "text": [
        "\n",
        "iteration: 4600    loss: 0.0081228017807    accuracy: [ 0.30219197  0.00572954]"
       ]
      },
      {
       "output_type": "stream",
       "stream": "stdout",
       "text": [
        "\n",
        "iteration: 4700    loss: 0.0100827431306    accuracy: [ 0.37786835  0.0039257 ]"
       ]
      },
      {
       "output_type": "stream",
       "stream": "stdout",
       "text": [
        "\n",
        "iteration: 4800    loss: 0.00687885284424    accuracy: [ 0.36600947  0.00256806]"
       ]
      },
      {
       "output_type": "stream",
       "stream": "stdout",
       "text": [
        "\n",
        "iteration: 4900    loss: 0.00942298583686    accuracy: [ 0.15874255  0.04652115]"
       ]
      },
      {
       "output_type": "stream",
       "stream": "stdout",
       "text": [
        "\n",
        "iteration: 5000    loss: 0.118096411228    accuracy: [ 0.  0.]"
       ]
      },
      {
       "output_type": "stream",
       "stream": "stdout",
       "text": [
        "\n",
        "iteration: 5100    loss: 0.0132234981284    accuracy: [ 0.35568565  0.00817682]"
       ]
      },
      {
       "output_type": "stream",
       "stream": "stdout",
       "text": [
        "\n",
        "iteration: 5200    loss: 0.00807289313525    accuracy: [ 0.33143464  0.00522154]"
       ]
      },
      {
       "output_type": "stream",
       "stream": "stdout",
       "text": [
        "\n",
        "iteration: 5300    loss: 0.00853931438178    accuracy: [ 0.26772189  0.00731178]"
       ]
      },
      {
       "output_type": "stream",
       "stream": "stdout",
       "text": [
        "\n",
        "iteration: 5400    loss: 0.00874522700906    accuracy: [ 0.35534677  0.00501913]"
       ]
      },
      {
       "output_type": "stream",
       "stream": "stdout",
       "text": [
        "\n",
        "iteration: 5500    loss: 0.0100893490016    accuracy: [ 0.31104991  0.00474645]"
       ]
      },
      {
       "output_type": "stream",
       "stream": "stdout",
       "text": [
        "\n",
        "iteration: 5600    loss: 0.0104788448662    accuracy: [ 0.41689718  0.00468326]"
       ]
      },
      {
       "output_type": "stream",
       "stream": "stdout",
       "text": [
        "\n",
        "iteration: 5700    loss: 0.011426942423    accuracy: [ 0.33572048  0.00622978]"
       ]
      },
      {
       "output_type": "stream",
       "stream": "stdout",
       "text": [
        "\n",
        "iteration: 5800    loss: 0.0797084420919    accuracy: [ 0.24107735  0.04315086]"
       ]
      },
      {
       "output_type": "stream",
       "stream": "stdout",
       "text": [
        "\n",
        "iteration: 5900    loss: 0.00807046703994    accuracy: [ 0.24092019  0.00904704]"
       ]
      },
      {
       "output_type": "stream",
       "stream": "stdout",
       "text": [
        "\n",
        "iteration: 6000    loss: 0.00790196470916    accuracy: [ 0.34576428  0.00428729]"
       ]
      },
      {
       "output_type": "stream",
       "stream": "stdout",
       "text": [
        "\n",
        "iteration: 6100    loss: 0.00991571322083    accuracy: [ 0.35887703  0.00375251]"
       ]
      },
      {
       "output_type": "stream",
       "stream": "stdout",
       "text": [
        "\n",
        "iteration: 6200    loss: 0.0078432103619    accuracy: [ 0.20355305  0.02021852]"
       ]
      },
      {
       "output_type": "stream",
       "stream": "stdout",
       "text": [
        "\n",
        "iteration: 6300    loss: 0.0113992579281    accuracy: [ 0.35120779  0.00639715]"
       ]
      },
      {
       "output_type": "stream",
       "stream": "stdout",
       "text": [
        "\n",
        "iteration: 6400    loss: 0.0132950767875    accuracy: [ 0.37620762  0.00669961]"
       ]
      },
      {
       "output_type": "stream",
       "stream": "stdout",
       "text": [
        "\n",
        "iteration: 6500    loss: 0.00628514681011    accuracy: [ 0.35557696  0.0033309 ]"
       ]
      },
      {
       "output_type": "stream",
       "stream": "stdout",
       "text": [
        "\n",
        "iteration: 6600    loss: 0.00705849379301    accuracy: [ 0.28478459  0.00354458]"
       ]
      },
      {
       "output_type": "stream",
       "stream": "stdout",
       "text": [
        "\n",
        "iteration: 6700    loss: 0.00827532820404    accuracy: [ 0.2922568   0.00371669]"
       ]
      },
      {
       "output_type": "stream",
       "stream": "stdout",
       "text": [
        "\n",
        "iteration: 6800    loss: 0.0236125513911    accuracy: [ 0.06151304  0.26679105]"
       ]
      },
      {
       "output_type": "stream",
       "stream": "stdout",
       "text": [
        "\n",
        "iteration: 6900    loss: 0.0160394851118    accuracy: [ 0.39914998  0.00895285]"
       ]
      },
      {
       "output_type": "stream",
       "stream": "stdout",
       "text": [
        "\n",
        "iteration: 7000    loss: 0.00731289898977    accuracy: [ 0.27010596  0.00479898]"
       ]
      },
      {
       "output_type": "stream",
       "stream": "stdout",
       "text": [
        "\n",
        "iteration: 7100    loss: 0.0578089505434    accuracy: [ 0.26951599  0.03628779]"
       ]
      },
      {
       "output_type": "stream",
       "stream": "stdout",
       "text": [
        "\n",
        "iteration: 7200    loss: 0.0062932879664    accuracy: [ 0.22576417  0.0102065 ]"
       ]
      },
      {
       "output_type": "stream",
       "stream": "stdout",
       "text": [
        "\n",
        "iteration: 7300    loss: 0.00752434274182    accuracy: [ 0.2465902   0.01159802]"
       ]
      },
      {
       "output_type": "stream",
       "stream": "stdout",
       "text": [
        "\n",
        "iteration: 7400    loss: 0.00759917777032    accuracy: [ 0.27073994  0.0044214 ]"
       ]
      },
      {
       "output_type": "stream",
       "stream": "stdout",
       "text": [
        "\n",
        "iteration: 7500    loss: 0.00574491545558    accuracy: [ 0.32332388  0.00342709]"
       ]
      },
      {
       "output_type": "stream",
       "stream": "stdout",
       "text": [
        "\n",
        "iteration: 7600    loss: 0.00888323970139    accuracy: [ 0.41150454  0.00376847]"
       ]
      },
      {
       "output_type": "stream",
       "stream": "stdout",
       "text": [
        "\n",
        "iteration: 7700    loss: 0.00797523744404    accuracy: [ 0.29128906  0.00730856]"
       ]
      },
      {
       "output_type": "stream",
       "stream": "stdout",
       "text": [
        "\n",
        "iteration: 7800    loss: 0.00765062402934    accuracy: [ 0.30640414  0.00318193]"
       ]
      },
      {
       "output_type": "stream",
       "stream": "stdout",
       "text": [
        "\n",
        "iteration: 7900    loss: 0.0087388549    accuracy: [ 0.23556131  0.01803337]"
       ]
      },
      {
       "output_type": "stream",
       "stream": "stdout",
       "text": [
        "\n",
        "iteration: 8000    loss: 0.0119720138609    accuracy: [ 0.34794906  0.00676715]"
       ]
      },
      {
       "output_type": "stream",
       "stream": "stdout",
       "text": [
        "\n",
        "iteration: 8100    loss: 0.0149689130485    accuracy: [ 0.41336122  0.00901567]"
       ]
      },
      {
       "output_type": "stream",
       "stream": "stdout",
       "text": [
        "\n",
        "iteration: 8200    loss: 0.0197144001722    accuracy: [ 0.05770303  0.27416578]"
       ]
      },
      {
       "output_type": "stream",
       "stream": "stdout",
       "text": [
        "\n",
        "iteration: 8300    loss: 0.0150868417695    accuracy: [ 0.43313104  0.00712899]"
       ]
      },
      {
       "output_type": "stream",
       "stream": "stdout",
       "text": [
        "\n",
        "iteration: 8400    loss: 0.0942244082689    accuracy: [ 0.  0.]"
       ]
      },
      {
       "output_type": "stream",
       "stream": "stdout",
       "text": [
        "\n",
        "iteration: 8500    loss: 0.00824043061584    accuracy: [ 0.18228927  0.03127883]"
       ]
      },
      {
       "output_type": "stream",
       "stream": "stdout",
       "text": [
        "\n",
        "iteration: 8600    loss: 0.00864932313561    accuracy: [ 0.32638168  0.00611671]"
       ]
      },
      {
       "output_type": "stream",
       "stream": "stdout",
       "text": [
        "\n",
        "iteration: 8700    loss: 0.00752578116953    accuracy: [ 0.29775625  0.00714799]"
       ]
      },
      {
       "output_type": "stream",
       "stream": "stdout",
       "text": [
        "\n",
        "iteration: 8800    loss: 0.00688814325258    accuracy: [ 0.37106028  0.003099  ]"
       ]
      },
      {
       "output_type": "stream",
       "stream": "stdout",
       "text": [
        "\n",
        "iteration: 8900    loss: 0.0132324425504    accuracy: [ 0.40797684  0.00694548]"
       ]
      },
      {
       "output_type": "stream",
       "stream": "stdout",
       "text": [
        "\n",
        "iteration: 9000    loss: 0.0975444465876    accuracy: [ 0.  0.]"
       ]
      },
      {
       "output_type": "stream",
       "stream": "stdout",
       "text": [
        "\n",
        "iteration: 9100    loss: 0.0105009358376    accuracy: [ 0.31898516  0.00531277]"
       ]
      },
      {
       "output_type": "stream",
       "stream": "stdout",
       "text": [
        "\n",
        "iteration: 9200    loss: 0.0350614637136    accuracy: [ 0.01686645  0.49545866]"
       ]
      },
      {
       "output_type": "stream",
       "stream": "stdout",
       "text": [
        "\n",
        "iteration: 9300    loss: 0.00588317774236    accuracy: [ 0.31721091  0.00332466]"
       ]
      },
      {
       "output_type": "stream",
       "stream": "stdout",
       "text": [
        "\n",
        "iteration: 9400    loss: 0.129408746958    accuracy: [ 0.21147533  0.04727232]"
       ]
      },
      {
       "output_type": "stream",
       "stream": "stdout",
       "text": [
        "\n",
        "iteration: 9500    loss: 0.00894458405674    accuracy: [ 0.32238591  0.00528561]"
       ]
      },
      {
       "output_type": "stream",
       "stream": "stdout",
       "text": [
        "\n",
        "iteration: 9600    loss: 0.00648087169975    accuracy: [ 0.24982415  0.00685518]"
       ]
      },
      {
       "output_type": "stream",
       "stream": "stdout",
       "text": [
        "\n",
        "iteration: 9700    loss: 0.0937742888927    accuracy: [ 0.  0.]"
       ]
      },
      {
       "output_type": "stream",
       "stream": "stdout",
       "text": [
        "\n",
        "iteration: 9800    loss: 0.0247537344694    accuracy: [ 0.05690994  0.25740442]"
       ]
      },
      {
       "output_type": "stream",
       "stream": "stdout",
       "text": [
        "\n",
        "iteration: 9900    loss: 0.00979357771575    accuracy: [ 0.35656959  0.00562701]"
       ]
      },
      {
       "output_type": "stream",
       "stream": "stdout",
       "text": [
        "\n",
        "iteration: 10000   loss: 0.00728642381728    accuracy: [ 0.31227818  0.00526084]"
       ]
      },
      {
       "output_type": "stream",
       "stream": "stdout",
       "text": [
        "\n",
        "snaping to: /home/qinshuo/WorkPlace/caffe_space/extract_skin/weight/seg_skin_net_fin10000.caffemodel\n",
        "iteration: 100     loss: 0.0070493593812    accuracy: [ 0.34673133  0.00355821]"
       ]
      },
      {
       "output_type": "stream",
       "stream": "stdout",
       "text": [
        "\n",
        "iteration: 200     loss: 0.00803245138377    accuracy: [ 0.27606836  0.00629053]"
       ]
      },
      {
       "output_type": "stream",
       "stream": "stdout",
       "text": [
        "\n",
        "iteration: 300     loss: 0.0101041141897    accuracy: [ 0.1617265   0.05158243]"
       ]
      },
      {
       "output_type": "stream",
       "stream": "stdout",
       "text": [
        "\n",
        "iteration: 400     loss: 0.00905394554138    accuracy: [ 0.20448343  0.02287508]"
       ]
      },
      {
       "output_type": "stream",
       "stream": "stdout",
       "text": [
        "\n",
        "iteration: 500     loss: 0.00756091019139    accuracy: [ 0.35902825  0.00325712]"
       ]
      },
      {
       "output_type": "stream",
       "stream": "stdout",
       "text": [
        "\n",
        "iteration: 600     loss: 0.010977785103    accuracy: [ 0.34581542  0.00812047]"
       ]
      },
      {
       "output_type": "stream",
       "stream": "stdout",
       "text": [
        "\n",
        "iteration: 700     loss: 0.0107316672802    accuracy: [ 0.15400437  0.05185682]"
       ]
      },
      {
       "output_type": "stream",
       "stream": "stdout",
       "text": [
        "\n",
        "iteration: 800     loss: 0.00862265378237    accuracy: [ 0.16275179  0.04904722]"
       ]
      },
      {
       "output_type": "stream",
       "stream": "stdout",
       "text": [
        "\n",
        "iteration: 900     loss: 0.0502500720322    accuracy: [ 0.01101041  0.75554782]"
       ]
      },
      {
       "output_type": "stream",
       "stream": "stdout",
       "text": [
        "\n",
        "iteration: 1000    loss: 0.00803952850401    accuracy: [ 0.37034035  0.00184833]"
       ]
      },
      {
       "output_type": "stream",
       "stream": "stdout",
       "text": [
        "\n",
        "iteration: 1100    loss: 0.00652261683717    accuracy: [ 0.28941306  0.00756296]"
       ]
      },
      {
       "output_type": "stream",
       "stream": "stdout",
       "text": [
        "\n",
        "iteration: 1200    loss: 0.00831879954785    accuracy: [ 0.17114589  0.0394925 ]"
       ]
      },
      {
       "output_type": "stream",
       "stream": "stdout",
       "text": [
        "\n",
        "iteration: 1300    loss: 0.0193692557514    accuracy: [ 0.27580836  0.01854723]"
       ]
      },
      {
       "output_type": "stream",
       "stream": "stdout",
       "text": [
        "\n",
        "iteration: 1400    loss: 0.00962298922241    accuracy: [ 0.37169299  0.00492191]"
       ]
      },
      {
       "output_type": "stream",
       "stream": "stdout",
       "text": [
        "\n",
        "iteration: 1500    loss: 0.0356096476316    accuracy: [ 0.01803695  0.53093219]"
       ]
      },
      {
       "output_type": "stream",
       "stream": "stdout",
       "text": [
        "\n",
        "iteration: 1600    loss: 0.0104059856385    accuracy: [ 0.14831685  0.06260305]"
       ]
      },
      {
       "output_type": "stream",
       "stream": "stdout",
       "text": [
        "\n",
        "iteration: 1700    loss: 0.0124471457675    accuracy: [ 0.38967022  0.00828529]"
       ]
      },
      {
       "output_type": "stream",
       "stream": "stdout",
       "text": [
        "\n",
        "iteration: 1800    loss: 0.00636515812948    accuracy: [ 0.29247972  0.0052527 ]"
       ]
      },
      {
       "output_type": "stream",
       "stream": "stdout",
       "text": [
        "\n",
        "iteration: 1900    loss: 0.0310245919973    accuracy: [ 0.35033444  0.01163452]"
       ]
      },
      {
       "output_type": "stream",
       "stream": "stdout",
       "text": [
        "\n",
        "iteration: 2000    loss: 0.0110648497939    accuracy: [ 0.34768856  0.00721819]"
       ]
      },
      {
       "output_type": "stream",
       "stream": "stdout",
       "text": [
        "\n",
        "iteration: 2100    loss: 0.00679871533066    accuracy: [ 0.28278878  0.00694182]"
       ]
      },
      {
       "output_type": "stream",
       "stream": "stdout",
       "text": [
        "\n",
        "iteration: 2200    loss: 0.00738791376352    accuracy: [ 0.37419394  0.00401217]"
       ]
      },
      {
       "output_type": "stream",
       "stream": "stdout",
       "text": [
        "\n",
        "iteration: 2300    loss: 0.0148998051882    accuracy: [ 0.10686398  0.13115165]"
       ]
      },
      {
       "output_type": "stream",
       "stream": "stdout",
       "text": [
        "\n",
        "iteration: 2400    loss: 0.0341549664736    accuracy: [ 0.04282794  0.31211793]"
       ]
      },
      {
       "output_type": "stream",
       "stream": "stdout",
       "text": [
        "\n",
        "iteration: 2500    loss: 0.0101881083101    accuracy: [ 0.38811615  0.00557109]"
       ]
      },
      {
       "output_type": "stream",
       "stream": "stdout",
       "text": [
        "\n",
        "iteration: 2600    loss: 0.0717435255647    accuracy: [ 0.26091954  0.01827272]"
       ]
      },
      {
       "output_type": "stream",
       "stream": "stdout",
       "text": [
        "\n",
        "iteration: 2700    loss: 0.00917265471071    accuracy: [ 0.34323978  0.00592375]"
       ]
      },
      {
       "output_type": "stream",
       "stream": "stdout",
       "text": [
        "\n",
        "iteration: 2800    loss: 0.0130465961993    accuracy: [ 0.31682062  0.0107818 ]"
       ]
      },
      {
       "output_type": "stream",
       "stream": "stdout",
       "text": [
        "\n",
        "iteration: 2900    loss: 0.00997542962432    accuracy: [ 0.31144732  0.00758878]"
       ]
      },
      {
       "output_type": "stream",
       "stream": "stdout",
       "text": [
        "\n",
        "iteration: 3000    loss: 0.0157475918531    accuracy: [ 0.18530957  0.04033523]"
       ]
      },
      {
       "output_type": "stream",
       "stream": "stdout",
       "text": [
        "\n",
        "iteration: 3100    loss: 0.0571545064449    accuracy: [ 0.24529815  0.03700038]"
       ]
      },
      {
       "output_type": "stream",
       "stream": "stdout",
       "text": [
        "\n",
        "iteration: 3200    loss: 0.00850545335561    accuracy: [ 0.37436706  0.00342983]"
       ]
      },
      {
       "output_type": "stream",
       "stream": "stdout",
       "text": [
        "\n",
        "iteration: 3300    loss: 0.015040573664    accuracy: [ 0.34093368  0.00926092]"
       ]
      },
      {
       "output_type": "stream",
       "stream": "stdout",
       "text": [
        "\n",
        "iteration: 3400    loss: 0.0160209927708    accuracy: [ 0.09689724  0.15541179]"
       ]
      },
      {
       "output_type": "stream",
       "stream": "stdout",
       "text": [
        "\n",
        "iteration: 3500    loss: 0.017548315227    accuracy: [ 0.28128961  0.0079525 ]"
       ]
      },
      {
       "output_type": "stream",
       "stream": "stdout",
       "text": [
        "\n",
        "iteration: 3600    loss: 0.361706078053    accuracy: [ 0.16651617  0.05376898]"
       ]
      },
      {
       "output_type": "stream",
       "stream": "stdout",
       "text": [
        "\n",
        "iteration: 3700    loss: 0.00938430335373    accuracy: [ 0.39776558  0.00379428]"
       ]
      },
      {
       "output_type": "stream",
       "stream": "stdout",
       "text": [
        "\n",
        "iteration: 3800    loss: 0.00873736478388    accuracy: [ 0.39690119  0.0040231 ]"
       ]
      },
      {
       "output_type": "stream",
       "stream": "stdout",
       "text": [
        "\n",
        "iteration: 3900    loss: 0.0076828203164    accuracy: [ 0.26904637  0.00864713]"
       ]
      },
      {
       "output_type": "stream",
       "stream": "stdout",
       "text": [
        "\n",
        "iteration: 4000    loss: 0.00668402994052    accuracy: [ 0.40011612  0.00230085]"
       ]
      },
      {
       "output_type": "stream",
       "stream": "stdout",
       "text": [
        "\n",
        "iteration: 4100    loss: 0.00565914716572    accuracy: [ 0.33030283  0.00345793]"
       ]
      },
      {
       "output_type": "stream",
       "stream": "stdout",
       "text": [
        "\n",
        "iteration: 4200    loss: 0.00753245595843    accuracy: [ 0.39744103  0.00367096]"
       ]
      },
      {
       "output_type": "stream",
       "stream": "stdout",
       "text": [
        "\n",
        "iteration: 4300    loss: 0.00698202988133    accuracy: [ 0.29531893  0.0060149 ]"
       ]
      },
      {
       "output_type": "stream",
       "stream": "stdout",
       "text": [
        "\n",
        "iteration: 4400    loss: 0.00870073307306    accuracy: [ 0.37615529  0.00324147]"
       ]
      },
      {
       "output_type": "stream",
       "stream": "stdout",
       "text": [
        "\n",
        "iteration: 4500    loss: 0.0149791575968    accuracy: [ 0.42754346  0.00730247]"
       ]
      },
      {
       "output_type": "stream",
       "stream": "stdout",
       "text": [
        "\n",
        "iteration: 4600    loss: 0.0241646356881    accuracy: [ 0.03918326  0.32239157]"
       ]
      },
      {
       "output_type": "stream",
       "stream": "stdout",
       "text": [
        "\n",
        "iteration: 4700    loss: 0.0100181456655    accuracy: [ 0.26987264  0.01071934]"
       ]
      },
      {
       "output_type": "stream",
       "stream": "stdout",
       "text": [
        "\n",
        "iteration: 4800    loss: 0.00832518935204    accuracy: [ 0.28752157  0.00843607]"
       ]
      },
      {
       "output_type": "stream",
       "stream": "stdout",
       "text": [
        "\n",
        "iteration: 4900    loss: 0.0141302617267    accuracy: [ 0.10620172  0.13102779]"
       ]
      },
      {
       "output_type": "stream",
       "stream": "stdout",
       "text": [
        "\n",
        "iteration: 5000    loss: 0.00790333840996    accuracy: [ 0.31767359  0.00478757]"
       ]
      },
      {
       "output_type": "stream",
       "stream": "stdout",
       "text": [
        "\n",
        "iteration: 5100    loss: 0.0217598080635    accuracy: [ 0.09042078  0.15629241]"
       ]
      },
      {
       "output_type": "stream",
       "stream": "stdout",
       "text": [
        "\n",
        "iteration: 5200    loss: 0.00931916479021    accuracy: [ 0.38591638  0.00649274]"
       ]
      },
      {
       "output_type": "stream",
       "stream": "stdout",
       "text": [
        "\n",
        "iteration: 5300    loss: 0.0126716177911    accuracy: [ 0.42356682  0.00547656]"
       ]
      },
      {
       "output_type": "stream",
       "stream": "stdout",
       "text": [
        "\n",
        "iteration: 5400    loss: 0.0133235035464    accuracy: [ 0.18912956  0.05381075]"
       ]
      },
      {
       "output_type": "stream",
       "stream": "stdout",
       "text": [
        "\n",
        "iteration: 5500    loss: 0.0191655177623    accuracy: [ 0.35058933  0.00943252]"
       ]
      },
      {
       "output_type": "stream",
       "stream": "stdout",
       "text": [
        "\n",
        "iteration: 5600    loss: 0.0108430525288    accuracy: [ 0.14061946  0.073392  ]"
       ]
      },
      {
       "output_type": "stream",
       "stream": "stdout",
       "text": [
        "\n",
        "iteration: 5700    loss: 0.00600154139102    accuracy: [ 0.31451765  0.00415371]"
       ]
      },
      {
       "output_type": "stream",
       "stream": "stdout",
       "text": [
        "\n",
        "iteration: 5800    loss: 0.0226395428181    accuracy: [ 0.48378888  0.00884508]"
       ]
      },
      {
       "output_type": "stream",
       "stream": "stdout",
       "text": [
        "\n",
        "iteration: 5900    loss: 0.00660430826247    accuracy: [ 0.34694999  0.00443618]"
       ]
      },
      {
       "output_type": "stream",
       "stream": "stdout",
       "text": [
        "\n",
        "iteration: 6000    loss: 0.00676147872582    accuracy: [ 0.35344005  0.00385863]"
       ]
      },
      {
       "output_type": "stream",
       "stream": "stdout",
       "text": [
        "\n",
        "iteration: 6100    loss: 0.00877820048481    accuracy: [ 0.3703967   0.00447755]"
       ]
      },
      {
       "output_type": "stream",
       "stream": "stdout",
       "text": [
        "\n",
        "iteration: 6200    loss: 0.045196801424    accuracy: [ 0.25232291  0.0558136 ]"
       ]
      },
      {
       "output_type": "stream",
       "stream": "stdout",
       "text": [
        "\n",
        "iteration: 6300    loss: 0.00967358145863    accuracy: [ 0.15544014  0.05119001]"
       ]
      },
      {
       "output_type": "stream",
       "stream": "stdout",
       "text": [
        "\n",
        "iteration: 6400    loss: 0.0320921614766    accuracy: [ 0.03346097  0.3612259 ]"
       ]
      },
      {
       "output_type": "stream",
       "stream": "stdout",
       "text": [
        "\n",
        "iteration: 6500    loss: 0.00857904460281    accuracy: [ 0.22971594  0.01394985]"
       ]
      },
      {
       "output_type": "stream",
       "stream": "stdout",
       "text": [
        "\n",
        "iteration: 6600    loss: 0.012340310961    accuracy: [ 0.13566907  0.08749859]"
       ]
      },
      {
       "output_type": "stream",
       "stream": "stdout",
       "text": [
        "\n",
        "iteration: 6700    loss: 0.00942403823137    accuracy: [ 0.39766797  0.00448659]"
       ]
      },
      {
       "output_type": "stream",
       "stream": "stdout",
       "text": [
        "\n",
        "iteration: 6800    loss: 0.00583950895816    accuracy: [ 0.35780716  0.00309564]"
       ]
      },
      {
       "output_type": "stream",
       "stream": "stdout",
       "text": [
        "\n",
        "iteration: 6900    loss: 0.00706869456917    accuracy: [ 0.36233899  0.00378468]"
       ]
      },
      {
       "output_type": "stream",
       "stream": "stdout",
       "text": [
        "\n",
        "iteration: 7000    loss: 0.00897085852921    accuracy: [ 0.33879668  0.00275345]"
       ]
      },
      {
       "output_type": "stream",
       "stream": "stdout",
       "text": [
        "\n",
        "iteration: 7100    loss: 0.01556832809    accuracy: [ 0.23009399  0.01375948]"
       ]
      },
      {
       "output_type": "stream",
       "stream": "stdout",
       "text": [
        "\n",
        "iteration: 7200    loss: 0.212061628699    accuracy: [ 0.  0.]"
       ]
      },
      {
       "output_type": "stream",
       "stream": "stdout",
       "text": [
        "\n",
        "iteration: 7300    loss: 0.0262873694301    accuracy: [ 0.04762106  0.29470038]"
       ]
      },
      {
       "output_type": "stream",
       "stream": "stdout",
       "text": [
        "\n",
        "iteration: 7400    loss: 0.334056735039    accuracy: [ 0.34098032  0.21031709]"
       ]
      },
      {
       "output_type": "stream",
       "stream": "stdout",
       "text": [
        "\n",
        "iteration: 7500    loss: 0.00757940998301    accuracy: [ 0.38970479  0.00280458]"
       ]
      },
      {
       "output_type": "stream",
       "stream": "stdout",
       "text": [
        "\n",
        "iteration: 7600    loss: 0.00672975182533    accuracy: [ 0.31035998  0.00427214]"
       ]
      },
      {
       "output_type": "stream",
       "stream": "stdout",
       "text": [
        "\n",
        "iteration: 7700    loss: 0.0156377162784    accuracy: [ 0.422241    0.00584197]"
       ]
      },
      {
       "output_type": "stream",
       "stream": "stdout",
       "text": [
        "\n",
        "iteration: 7800    loss: 0.00959527306259    accuracy: [ 0.31096265  0.00698097]"
       ]
      },
      {
       "output_type": "stream",
       "stream": "stdout",
       "text": [
        "\n",
        "iteration: 7900    loss: 0.0185168404132    accuracy: [ 0.06741796  0.24155712]"
       ]
      },
      {
       "output_type": "stream",
       "stream": "stdout",
       "text": [
        "\n",
        "iteration: 8000    loss: 0.00818851590157    accuracy: [ 0.32966059  0.00426776]"
       ]
      },
      {
       "output_type": "stream",
       "stream": "stdout",
       "text": [
        "\n",
        "iteration: 8100    loss: 0.00804356392473    accuracy: [ 0.32892606  0.0065175 ]"
       ]
      },
      {
       "output_type": "stream",
       "stream": "stdout",
       "text": [
        "\n",
        "iteration: 8200    loss: 0.097064435482    accuracy: [ 0.  0.]"
       ]
      },
      {
       "output_type": "stream",
       "stream": "stdout",
       "text": [
        "\n",
        "iteration: 8300    loss: 0.0252005886286    accuracy: [ 0.40029395  0.01192343]"
       ]
      },
      {
       "output_type": "stream",
       "stream": "stdout",
       "text": [
        "\n",
        "iteration: 8400    loss: 0.00991707853973    accuracy: [ 0.30974579  0.00741646]"
       ]
      },
      {
       "output_type": "stream",
       "stream": "stdout",
       "text": [
        "\n",
        "iteration: 8500    loss: 0.0292447004467    accuracy: [ 0.45016024  0.01144791]"
       ]
      },
      {
       "output_type": "stream",
       "stream": "stdout",
       "text": [
        "\n",
        "iteration: 8600    loss: 0.00973295047879    accuracy: [ 0.15358715  0.06417777]"
       ]
      },
      {
       "output_type": "stream",
       "stream": "stdout",
       "text": [
        "\n",
        "iteration: 8700    loss: 0.0077027445659    accuracy: [ 0.35577285  0.00477796]"
       ]
      },
      {
       "output_type": "stream",
       "stream": "stdout",
       "text": [
        "\n",
        "iteration: 8800    loss: 0.0158070456237    accuracy: [ 0.39673063  0.00684799]"
       ]
      },
      {
       "output_type": "stream",
       "stream": "stdout",
       "text": [
        "\n",
        "iteration: 8900    loss: 0.00795702636242    accuracy: [ 0.35979378  0.00514796]"
       ]
      },
      {
       "output_type": "stream",
       "stream": "stdout",
       "text": [
        "\n",
        "iteration: 9000    loss: 0.292154610157    accuracy: [ 0.24945129  0.34888646]"
       ]
      },
      {
       "output_type": "stream",
       "stream": "stdout",
       "text": [
        "\n",
        "iteration: 9100    loss: 0.318075150251    accuracy: [ 0.13376772  0.06875848]"
       ]
      },
      {
       "output_type": "stream",
       "stream": "stdout",
       "text": [
        "\n",
        "iteration: 9200    loss: 0.0104462103918    accuracy: [ 0.39658991  0.00559558]"
       ]
      },
      {
       "output_type": "stream",
       "stream": "stdout",
       "text": [
        "\n",
        "iteration: 9300    loss: 0.00809331797063    accuracy: [ 0.33252686  0.00522989]"
       ]
      },
      {
       "output_type": "stream",
       "stream": "stdout",
       "text": [
        "\n",
        "iteration: 9400    loss: 0.00685034971684    accuracy: [ 0.36692816  0.00309298]"
       ]
      },
      {
       "output_type": "stream",
       "stream": "stdout",
       "text": [
        "\n",
        "iteration: 9500    loss: 0.00741079170257    accuracy: [ 0.34538761  0.00443447]"
       ]
      },
      {
       "output_type": "stream",
       "stream": "stdout",
       "text": [
        "\n",
        "iteration: 9600    loss: 0.0106184380129    accuracy: [ 0.40891075  0.00353284]"
       ]
      },
      {
       "output_type": "stream",
       "stream": "stdout",
       "text": [
        "\n",
        "iteration: 9700    loss: 0.00964137539268    accuracy: [ 0.16051833  0.04231796]"
       ]
      },
      {
       "output_type": "stream",
       "stream": "stdout",
       "text": [
        "\n",
        "iteration: 9800    loss: 0.00654240511358    accuracy: [ 0.36607119  0.00328673]"
       ]
      },
      {
       "output_type": "stream",
       "stream": "stdout",
       "text": [
        "\n",
        "iteration: 9900    loss: 0.0147735942155    accuracy: [ 0.10868417  0.11281347]"
       ]
      },
      {
       "output_type": "stream",
       "stream": "stdout",
       "text": [
        "\n",
        "iteration: 10000   loss: 0.00626461906359    accuracy: [ 0.35760966  0.00278775]"
       ]
      },
      {
       "output_type": "stream",
       "stream": "stdout",
       "text": [
        "\n",
        "snaping to: /home/qinshuo/WorkPlace/caffe_space/extract_skin/weight/seg_skin_net_fin20000.caffemodel\n",
        "iteration: 100     loss: 0.0123551590368    accuracy: [ 0.33128223  0.00609897]"
       ]
      },
      {
       "output_type": "stream",
       "stream": "stdout",
       "text": [
        "\n",
        "iteration: 200     loss: 0.00737044261768    accuracy: [ 0.37097716  0.00420012]"
       ]
      },
      {
       "output_type": "stream",
       "stream": "stdout",
       "text": [
        "\n",
        "iteration: 300     loss: 0.0105443466455    accuracy: [ 0.26344395  0.00957521]"
       ]
      },
      {
       "output_type": "stream",
       "stream": "stdout",
       "text": [
        "\n",
        "iteration: 400     loss: 0.00780588621274    accuracy: [ 0.40092915  0.00360206]"
       ]
      },
      {
       "output_type": "stream",
       "stream": "stdout",
       "text": [
        "\n",
        "iteration: 500     loss: 0.00558984465897    accuracy: [ 0.32529554  0.0034639 ]"
       ]
      },
      {
       "output_type": "stream",
       "stream": "stdout",
       "text": [
        "\n",
        "iteration: 600     loss: 0.0297872796655    accuracy: [ 0.33918008  0.00293917]"
       ]
      },
      {
       "output_type": "stream",
       "stream": "stdout",
       "text": [
        "\n",
        "iteration: 700     loss: 0.00852715224028    accuracy: [ 0.18819894  0.02438628]"
       ]
      },
      {
       "output_type": "stream",
       "stream": "stdout",
       "text": [
        "\n",
        "iteration: 800     loss: 0.0149675179273    accuracy: [ 0.37259185  0.01272892]"
       ]
      },
      {
       "output_type": "stream",
       "stream": "stdout",
       "text": [
        "\n",
        "iteration: 900     loss: 0.00998355541378    accuracy: [ 0.24549846  0.01235913]"
       ]
      },
      {
       "output_type": "stream",
       "stream": "stdout",
       "text": [
        "\n",
        "iteration: 1000    loss: 0.0100876651704    accuracy: [ 0.34385893  0.00643137]"
       ]
      },
      {
       "output_type": "stream",
       "stream": "stdout",
       "text": [
        "\n",
        "iteration: 1100    loss: 0.0107670705765    accuracy: [ 0.32726008  0.00316766]"
       ]
      },
      {
       "output_type": "stream",
       "stream": "stdout",
       "text": [
        "\n",
        "iteration: 1200    loss: 0.00821431726217    accuracy: [ 0.3835803   0.00283038]"
       ]
      },
      {
       "output_type": "stream",
       "stream": "stdout",
       "text": [
        "\n",
        "iteration: 1300    loss: 0.0164202190936    accuracy: [ 0.42715284  0.00824117]"
       ]
      },
      {
       "output_type": "stream",
       "stream": "stdout",
       "text": [
        "\n",
        "iteration: 1400    loss: 0.005152143538    accuracy: [ 0.33375469  0.00321525]"
       ]
      },
      {
       "output_type": "stream",
       "stream": "stdout",
       "text": [
        "\n",
        "iteration: 1500    loss: 0.0414748378098    accuracy: [ 0.26685762  0.03439616]"
       ]
      },
      {
       "output_type": "stream",
       "stream": "stdout",
       "text": [
        "\n",
        "iteration: 1600    loss: 0.0163074303418    accuracy: [ 0.11592124  0.13010271]"
       ]
      },
      {
       "output_type": "stream",
       "stream": "stdout",
       "text": [
        "\n",
        "iteration: 1700    loss: 0.0326423197985    accuracy: [ 0.39049575  0.01766379]"
       ]
      },
      {
       "output_type": "stream",
       "stream": "stdout",
       "text": [
        "\n",
        "iteration: 1800    loss: 0.00780023168772    accuracy: [ 0.31020564  0.00522451]"
       ]
      },
      {
       "output_type": "stream",
       "stream": "stdout",
       "text": [
        "\n",
        "iteration: 1900    loss: 0.00762555142865    accuracy: [ 0.27804348  0.00702579]"
       ]
      },
      {
       "output_type": "stream",
       "stream": "stdout",
       "text": [
        "\n",
        "iteration: 2000    loss: 0.00671894522384    accuracy: [ 0.26544315  0.00455174]"
       ]
      },
      {
       "output_type": "stream",
       "stream": "stdout",
       "text": [
        "\n",
        "iteration: 2100    loss: 0.0122221689671    accuracy: [ 0.29671156  0.01576658]"
       ]
      },
      {
       "output_type": "stream",
       "stream": "stdout",
       "text": [
        "\n",
        "iteration: 2200    loss: 0.00878280773759    accuracy: [ 0.41293693  0.00361689]"
       ]
      },
      {
       "output_type": "stream",
       "stream": "stdout",
       "text": [
        "\n",
        "iteration: 2300    loss: 0.00701718404889    accuracy: [ 0.32414204  0.00314933]"
       ]
      },
      {
       "output_type": "stream",
       "stream": "stdout",
       "text": [
        "\n",
        "iteration: 2400    loss: 0.0115657877177    accuracy: [ 0.38767356  0.00567151]"
       ]
      },
      {
       "output_type": "stream",
       "stream": "stdout",
       "text": [
        "\n",
        "iteration: 2500    loss: 0.0121367201209    accuracy: [ 0.4190616   0.00517015]"
       ]
      },
      {
       "output_type": "stream",
       "stream": "stdout",
       "text": [
        "\n",
        "iteration: 2600    loss: 0.00805505923927    accuracy: [ 0.39122227  0.00288176]"
       ]
      },
      {
       "output_type": "stream",
       "stream": "stdout",
       "text": [
        "\n",
        "iteration: 2700    loss: 0.0221686307341    accuracy: [ 0.07232112  0.23403805]"
       ]
      },
      {
       "output_type": "stream",
       "stream": "stdout",
       "text": [
        "\n",
        "iteration: 2800    loss: 0.00833615660667    accuracy: [ 0.33907571  0.00604675]"
       ]
      },
      {
       "output_type": "stream",
       "stream": "stdout",
       "text": [
        "\n",
        "iteration: 2900    loss: 0.00653617875651    accuracy: [ 0.29963475  0.00561053]"
       ]
      },
      {
       "output_type": "stream",
       "stream": "stdout",
       "text": [
        "\n",
        "iteration: 3000    loss: 0.00960247311741    accuracy: [ 0.15507147  0.05205048]"
       ]
      },
      {
       "output_type": "stream",
       "stream": "stdout",
       "text": [
        "\n",
        "iteration: 3100    loss: 0.00684818113223    accuracy: [ 0.38929302  0.00246339]"
       ]
      },
      {
       "output_type": "stream",
       "stream": "stdout",
       "text": [
        "\n",
        "iteration: 3200    loss: 0.0223991628736    accuracy: [ 0.15730594  0.08576696]"
       ]
      },
      {
       "output_type": "stream",
       "stream": "stdout",
       "text": [
        "\n",
        "iteration: 3300    loss: 0.0160264614969    accuracy: [ 0.34392262  0.00718935]"
       ]
      },
      {
       "output_type": "stream",
       "stream": "stdout",
       "text": [
        "\n",
        "iteration: 3400    loss: 0.0104096122086    accuracy: [ 0.35147768  0.0062413 ]"
       ]
      },
      {
       "output_type": "stream",
       "stream": "stdout",
       "text": [
        "\n",
        "iteration: 3500    loss: 0.024726703763    accuracy: [ 0.42831382  0.01522585]"
       ]
      },
      {
       "output_type": "stream",
       "stream": "stdout",
       "text": [
        "\n",
        "iteration: 3600    loss: 0.00714618666098    accuracy: [ 0.25209725  0.009289  ]"
       ]
      },
      {
       "output_type": "stream",
       "stream": "stdout",
       "text": [
        "\n",
        "iteration: 3700    loss: 0.00612977333367    accuracy: [ 0.27873936  0.00631645]"
       ]
      },
      {
       "output_type": "stream",
       "stream": "stdout",
       "text": [
        "\n",
        "iteration: 3800    loss: 0.0110251102597    accuracy: [ 0.4097181   0.00552883]"
       ]
      },
      {
       "output_type": "stream",
       "stream": "stdout",
       "text": [
        "\n",
        "iteration: 3900    loss: 0.00802224315703    accuracy: [ 0.37054557  0.00355729]"
       ]
      },
      {
       "output_type": "stream",
       "stream": "stdout",
       "text": [
        "\n",
        "iteration: 4000    loss: 0.0114674139768    accuracy: [ 0.32666522  0.00599616]"
       ]
      },
      {
       "output_type": "stream",
       "stream": "stdout",
       "text": [
        "\n",
        "iteration: 4100    loss: 0.0088309943676    accuracy: [ 0.34617075  0.00433794]"
       ]
      },
      {
       "output_type": "stream",
       "stream": "stdout",
       "text": [
        "\n",
        "iteration: 4200    loss: 0.011283505708    accuracy: [ 0.13245873  0.08727504]"
       ]
      },
      {
       "output_type": "stream",
       "stream": "stdout",
       "text": [
        "\n",
        "iteration: 4300    loss: 0.0137399956584    accuracy: [ 0.12657067  0.09897405]"
       ]
      },
      {
       "output_type": "stream",
       "stream": "stdout",
       "text": [
        "\n",
        "iteration: 4400    loss: 0.00866493396461    accuracy: [ 0.31289366  0.00591196]"
       ]
      },
      {
       "output_type": "stream",
       "stream": "stdout",
       "text": [
        "\n",
        "iteration: 4500    loss: 0.00732352398336    accuracy: [ 0.36942685  0.00339207]"
       ]
      },
      {
       "output_type": "stream",
       "stream": "stdout",
       "text": [
        "\n",
        "iteration: 4600    loss: 0.0100411204621    accuracy: [ 0.1382529   0.07610497]"
       ]
      },
      {
       "output_type": "stream",
       "stream": "stdout",
       "text": [
        "\n",
        "iteration: 4700    loss: 0.0179249383509    accuracy: [ 0.35809469  0.00735074]"
       ]
      },
      {
       "output_type": "stream",
       "stream": "stdout",
       "text": [
        "\n",
        "iteration: 4800    loss: 0.00637423992157    accuracy: [ 0.20136674  0.0191403 ]"
       ]
      },
      {
       "output_type": "stream",
       "stream": "stdout",
       "text": [
        "\n",
        "iteration: 4900    loss: 0.0169224217534    accuracy: [ 0.35916191  0.00986309]"
       ]
      },
      {
       "output_type": "stream",
       "stream": "stdout",
       "text": [
        "\n",
        "iteration: 5000    loss: 0.397535532713    accuracy: [ 0.34711406  0.35249212]"
       ]
      },
      {
       "output_type": "stream",
       "stream": "stdout",
       "text": [
        "\n",
        "iteration: 5100    loss: 0.00610776804388    accuracy: [ 0.30513474  0.00359451]"
       ]
      },
      {
       "output_type": "stream",
       "stream": "stdout",
       "text": [
        "\n",
        "iteration: 5200    loss: 0.00626613339409    accuracy: [ 0.26395217  0.00563344]"
       ]
      },
      {
       "output_type": "stream",
       "stream": "stdout",
       "text": [
        "\n",
        "iteration: 5300    loss: 0.0194547958672    accuracy: [ 0.39635384  0.01047211]"
       ]
      },
      {
       "output_type": "stream",
       "stream": "stdout",
       "text": [
        "\n",
        "iteration: 5400    loss: 0.00696959393099    accuracy: [ 0.36988902  0.00339792]"
       ]
      },
      {
       "output_type": "stream",
       "stream": "stdout",
       "text": [
        "\n",
        "iteration: 5500    loss: 0.00959713198245    accuracy: [ 0.40342686  0.00397818]"
       ]
      },
      {
       "output_type": "stream",
       "stream": "stdout",
       "text": [
        "\n",
        "iteration: 5600    loss: 0.00652466341853    accuracy: [ 0.34048924  0.0042736 ]"
       ]
      },
      {
       "output_type": "stream",
       "stream": "stdout",
       "text": [
        "\n",
        "iteration: 5700    loss: 0.0105391722172    accuracy: [ 0.39401013  0.0039858 ]"
       ]
      },
      {
       "output_type": "stream",
       "stream": "stdout",
       "text": [
        "\n",
        "iteration: 5800    loss: 0.0065597621724    accuracy: [ 0.34042519  0.00387101]"
       ]
      },
      {
       "output_type": "stream",
       "stream": "stdout",
       "text": [
        "\n",
        "iteration: 5900    loss: 0.0114514892921    accuracy: [ 0.13321412  0.08114387]"
       ]
      },
      {
       "output_type": "stream",
       "stream": "stdout",
       "text": [
        "\n",
        "iteration: 6000    loss: 0.0071594142355    accuracy: [ 0.33390412  0.00429258]"
       ]
      },
      {
       "output_type": "stream",
       "stream": "stdout",
       "text": [
        "\n",
        "iteration: 6100    loss: 0.0107750333846    accuracy: [ 0.34980664  0.00456017]"
       ]
      },
      {
       "output_type": "stream",
       "stream": "stdout",
       "text": [
        "\n",
        "iteration: 6200    loss: 0.00971515011042    accuracy: [ 0.34331897  0.0054786 ]"
       ]
      },
      {
       "output_type": "stream",
       "stream": "stdout",
       "text": [
        "\n",
        "iteration: 6300    loss: 0.00934089813381    accuracy: [ 0.16775949  0.04070244]"
       ]
      },
      {
       "output_type": "stream",
       "stream": "stdout",
       "text": [
        "\n",
        "iteration: 6400    loss: 0.00620866985992    accuracy: [ 0.35596827  0.00266243]"
       ]
      },
      {
       "output_type": "stream",
       "stream": "stdout",
       "text": [
        "\n",
        "iteration: 6500    loss: 0.00867831427604    accuracy: [ 0.32076654  0.00702716]"
       ]
      },
      {
       "output_type": "stream",
       "stream": "stdout",
       "text": [
        "\n",
        "iteration: 6600    loss: 0.0110837314278    accuracy: [ 0.38186947  0.00537344]"
       ]
      },
      {
       "output_type": "stream",
       "stream": "stdout",
       "text": [
        "\n",
        "iteration: 6700    loss: 0.0127671658993    accuracy: [ 0.10962044  0.1227691 ]"
       ]
      },
      {
       "output_type": "stream",
       "stream": "stdout",
       "text": [
        "\n",
        "iteration: 6800    loss: 0.00799240451306    accuracy: [ 0.39514682  0.00349975]"
       ]
      },
      {
       "output_type": "stream",
       "stream": "stdout",
       "text": [
        "\n",
        "iteration: 6900    loss: 0.0844324380159    accuracy: [ 0.22623432  0.04142681]"
       ]
      },
      {
       "output_type": "stream",
       "stream": "stdout",
       "text": [
        "\n",
        "iteration: 7000    loss: 0.00756149087101    accuracy: [ 0.24226755  0.00691462]"
       ]
      },
      {
       "output_type": "stream",
       "stream": "stdout",
       "text": [
        "\n",
        "iteration: 7100    loss: 0.00791744980961    accuracy: [ 0.20993118  0.01434038]"
       ]
      },
      {
       "output_type": "stream",
       "stream": "stdout",
       "text": [
        "\n",
        "iteration: 7200    loss: 0.0132161770016    accuracy: [ 0.29955247  0.01201837]"
       ]
      },
      {
       "output_type": "stream",
       "stream": "stdout",
       "text": [
        "\n",
        "iteration: 7300    loss: 0.00771911814809    accuracy: [ 0.36043191  0.00543432]"
       ]
      },
      {
       "output_type": "stream",
       "stream": "stdout",
       "text": [
        "\n",
        "iteration: 7400    loss: 0.00673477863893    accuracy: [ 0.33677295  0.00484215]"
       ]
      },
      {
       "output_type": "stream",
       "stream": "stdout",
       "text": [
        "\n",
        "iteration: 7500    loss: 0.00805807858706    accuracy: [ 0.23159102  0.01112799]"
       ]
      },
      {
       "output_type": "stream",
       "stream": "stdout",
       "text": [
        "\n",
        "iteration: 7600    loss: 0.00747657706961    accuracy: [ 0.33860615  0.00329497]"
       ]
      },
      {
       "output_type": "stream",
       "stream": "stdout",
       "text": [
        "\n",
        "iteration: 7700    loss: 0.0286102909595    accuracy: [ 0.20373437  0.04913858]"
       ]
      },
      {
       "output_type": "stream",
       "stream": "stdout",
       "text": [
        "\n",
        "iteration: 7800    loss: 0.0100123211741    accuracy: [ 0.33200812  0.00653986]"
       ]
      },
      {
       "output_type": "stream",
       "stream": "stdout",
       "text": [
        "\n",
        "iteration: 7900    loss: 0.00965390354395    accuracy: [ 0.32403401  0.00527695]"
       ]
      },
      {
       "output_type": "stream",
       "stream": "stdout",
       "text": [
        "\n",
        "iteration: 8000    loss: 0.0163361467421    accuracy: [ 0.38392439  0.0073178 ]"
       ]
      },
      {
       "output_type": "stream",
       "stream": "stdout",
       "text": [
        "\n",
        "iteration: 8100    loss: 0.0118656996638    accuracy: [ 0.33731529  0.0050025 ]"
       ]
      },
      {
       "output_type": "stream",
       "stream": "stdout",
       "text": [
        "\n",
        "iteration: 8200    loss: 0.00648439442739    accuracy: [ 0.32836449  0.0048153 ]"
       ]
      },
      {
       "output_type": "stream",
       "stream": "stdout",
       "text": [
        "\n",
        "iteration: 8300    loss: 0.0122360140085    accuracy: [ 0.27804726  0.01298077]"
       ]
      },
      {
       "output_type": "stream",
       "stream": "stdout",
       "text": [
        "\n",
        "iteration: 8400    loss: 0.0161119885743    accuracy: [ 0.11507314  0.11562999]"
       ]
      },
      {
       "output_type": "stream",
       "stream": "stdout",
       "text": [
        "\n",
        "iteration: 8500    loss: 0.0113744605333    accuracy: [ 0.374989    0.00290745]"
       ]
      },
      {
       "output_type": "stream",
       "stream": "stdout",
       "text": [
        "\n",
        "iteration: 8600    loss: 0.347342163324    accuracy: [ 0.06179219  0.21179578]"
       ]
      },
      {
       "output_type": "stream",
       "stream": "stdout",
       "text": [
        "\n",
        "iteration: 8700    loss: 0.00656431308016    accuracy: [ 0.22658288  0.012661  ]"
       ]
      },
      {
       "output_type": "stream",
       "stream": "stdout",
       "text": [
        "\n",
        "iteration: 8800    loss: 0.00783086754382    accuracy: [ 0.3607634   0.00330564]"
       ]
      },
      {
       "output_type": "stream",
       "stream": "stdout",
       "text": [
        "\n",
        "iteration: 8900    loss: 0.00753913493827    accuracy: [ 0.3421984   0.00360781]"
       ]
      },
      {
       "output_type": "stream",
       "stream": "stdout",
       "text": [
        "\n",
        "iteration: 9000    loss: 0.00984266586602    accuracy: [ 0.31366253  0.0069844 ]"
       ]
      },
      {
       "output_type": "stream",
       "stream": "stdout",
       "text": [
        "\n",
        "iteration: 9100    loss: 0.0104034012184    accuracy: [ 0.345649    0.00567302]"
       ]
      },
      {
       "output_type": "stream",
       "stream": "stdout",
       "text": [
        "\n",
        "iteration: 9200    loss: 0.00708833988756    accuracy: [ 0.33239579  0.00303518]"
       ]
      },
      {
       "output_type": "stream",
       "stream": "stdout",
       "text": [
        "\n",
        "iteration: 9300    loss: 0.00647484883666    accuracy: [ 0.32848662  0.00381466]"
       ]
      },
      {
       "output_type": "stream",
       "stream": "stdout",
       "text": [
        "\n",
        "iteration: 9400    loss: 0.0165850035846    accuracy: [ 0.29389864  0.01496983]"
       ]
      },
      {
       "output_type": "stream",
       "stream": "stdout",
       "text": [
        "\n",
        "iteration: 9500    loss: 0.00819391198456    accuracy: [ 0.17996307  0.03046138]"
       ]
      },
      {
       "output_type": "stream",
       "stream": "stdout",
       "text": [
        "\n",
        "iteration: 9600    loss: 0.00764975138009    accuracy: [ 0.20878011  0.01492783]"
       ]
      },
      {
       "output_type": "stream",
       "stream": "stdout",
       "text": [
        "\n",
        "iteration: 9700    loss: 0.00519821513444    accuracy: [ 0.3052313   0.00459255]"
       ]
      },
      {
       "output_type": "stream",
       "stream": "stdout",
       "text": [
        "\n",
        "iteration: 9800    loss: 0.00762136885896    accuracy: [ 0.35992557  0.00381072]"
       ]
      },
      {
       "output_type": "stream",
       "stream": "stdout",
       "text": [
        "\n",
        "iteration: 9900    loss: 0.00858232937753    accuracy: [ 0.36522716  0.00462382]"
       ]
      },
      {
       "output_type": "stream",
       "stream": "stdout",
       "text": [
        "\n",
        "iteration: 10000   loss: 0.00590874580666    accuracy: [ 0.23417504  0.01      ]"
       ]
      },
      {
       "output_type": "stream",
       "stream": "stdout",
       "text": [
        "\n",
        "snaping to: /home/qinshuo/WorkPlace/caffe_space/extract_skin/weight/seg_skin_net_fin30000.caffemodel\n",
        "iteration: 100     loss: 0.295713961124    accuracy: [ 0.06434669  0.15123813]"
       ]
      },
      {
       "output_type": "stream",
       "stream": "stdout",
       "text": [
        "\n",
        "iteration: 200     loss: 0.0147641226649    accuracy: [ 0.10043535  0.15524715]"
       ]
      },
      {
       "output_type": "stream",
       "stream": "stdout",
       "text": [
        "\n",
        "iteration: 300     loss: 0.00674263387918    accuracy: [ 0.28530785  0.00424865]"
       ]
      },
      {
       "output_type": "stream",
       "stream": "stdout",
       "text": [
        "\n",
        "iteration: 400     loss: 0.0113014280796    accuracy: [ 0.41990614  0.00444137]"
       ]
      },
      {
       "output_type": "stream",
       "stream": "stdout",
       "text": [
        "\n",
        "iteration: 500     loss: 0.0253052227199    accuracy: [ 0.04471243  0.31314257]"
       ]
      },
      {
       "output_type": "stream",
       "stream": "stdout",
       "text": [
        "\n",
        "iteration: 600     loss: 0.00739280832931    accuracy: [ 0.32573757  0.00526575]"
       ]
      },
      {
       "output_type": "stream",
       "stream": "stdout",
       "text": [
        "\n",
        "iteration: 700     loss: 0.0135822128505    accuracy: [ 0.31569776  0.01050593]"
       ]
      },
      {
       "output_type": "stream",
       "stream": "stdout",
       "text": [
        "\n",
        "iteration: 800     loss: 0.0202669296414    accuracy: [ 0.39988229  0.00789373]"
       ]
      },
      {
       "output_type": "stream",
       "stream": "stdout",
       "text": [
        "\n",
        "iteration: 900     loss: 0.00859451852739    accuracy: [ 0.16391863  0.03794809]"
       ]
      },
      {
       "output_type": "stream",
       "stream": "stdout",
       "text": [
        "\n",
        "iteration: 1000    loss: 0.0090417182073    accuracy: [ 0.34766325  0.00425406]"
       ]
      },
      {
       "output_type": "stream",
       "stream": "stdout",
       "text": [
        "\n",
        "iteration: 1100    loss: 0.00985799357295    accuracy: [ 0.32012364  0.00458847]"
       ]
      },
      {
       "output_type": "stream",
       "stream": "stdout",
       "text": [
        "\n",
        "iteration: 1200    loss: 0.122514545918    accuracy: [ 0.00613103  0.42492917]"
       ]
      },
      {
       "output_type": "stream",
       "stream": "stdout",
       "text": [
        "\n",
        "iteration: 1300    loss: 0.00639464054257    accuracy: [ 0.33074862  0.00397284]"
       ]
      },
      {
       "output_type": "stream",
       "stream": "stdout",
       "text": [
        "\n",
        "iteration: 1400    loss: 0.00821619201452    accuracy: [ 0.21639685  0.01425896]"
       ]
      },
      {
       "output_type": "stream",
       "stream": "stdout",
       "text": [
        "\n",
        "iteration: 1500    loss: 0.0136085487902    accuracy: [ 0.3998594   0.00835117]"
       ]
      },
      {
       "output_type": "stream",
       "stream": "stdout",
       "text": [
        "\n",
        "iteration: 1600    loss: 0.014036629349    accuracy: [ 0.37452742  0.0071344 ]"
       ]
      },
      {
       "output_type": "stream",
       "stream": "stdout",
       "text": [
        "\n",
        "iteration: 1700    loss: 0.00981316715479    accuracy: [ 0.36733773  0.00474308]"
       ]
      },
      {
       "output_type": "stream",
       "stream": "stdout",
       "text": [
        "\n",
        "iteration: 1800    loss: 0.302979469299    accuracy: [ 0.17544626  0.31317934]"
       ]
      },
      {
       "output_type": "stream",
       "stream": "stdout",
       "text": [
        "\n",
        "iteration: 1900    loss: 0.00752339325845    accuracy: [ 0.34306371  0.00433301]"
       ]
      },
      {
       "output_type": "stream",
       "stream": "stdout",
       "text": [
        "\n",
        "iteration: 2000    loss: 0.0059026251547    accuracy: [ 0.34825999  0.00257822]"
       ]
      },
      {
       "output_type": "stream",
       "stream": "stdout",
       "text": [
        "\n",
        "iteration: 2100    loss: 0.00824137963355    accuracy: [ 0.34499836  0.00439724]"
       ]
      },
      {
       "output_type": "stream",
       "stream": "stdout",
       "text": [
        "\n",
        "iteration: 2200    loss: 0.00893803592771    accuracy: [ 0.35455784  0.00443927]"
       ]
      },
      {
       "output_type": "stream",
       "stream": "stdout",
       "text": [
        "\n",
        "iteration: 2300    loss: 0.0120887905359    accuracy: [ 0.35029617  0.00715066]"
       ]
      },
      {
       "output_type": "stream",
       "stream": "stdout",
       "text": [
        "\n",
        "iteration: 2400    loss: 0.0549904480577    accuracy: [ 0.32895857  0.01401319]"
       ]
      },
      {
       "output_type": "stream",
       "stream": "stdout",
       "text": [
        "\n",
        "iteration: 2500    loss: 0.012258188799    accuracy: [ 0.41283983  0.00647788]"
       ]
      },
      {
       "output_type": "stream",
       "stream": "stdout",
       "text": [
        "\n",
        "iteration: 2600    loss: 0.00884855166078    accuracy: [ 0.3178339  0.0069528]"
       ]
      },
      {
       "output_type": "stream",
       "stream": "stdout",
       "text": [
        "\n",
        "iteration: 2700    loss: 0.0076100314036    accuracy: [ 0.29088658  0.00650323]"
       ]
      },
      {
       "output_type": "stream",
       "stream": "stdout",
       "text": [
        "\n",
        "iteration: 2800    loss: 0.0134565290064    accuracy: [ 0.11679961  0.09594966]"
       ]
      },
      {
       "output_type": "stream",
       "stream": "stdout",
       "text": [
        "\n",
        "iteration: 2900    loss: 0.0162551049143    accuracy: [ 0.40869701  0.00836355]"
       ]
      },
      {
       "output_type": "stream",
       "stream": "stdout",
       "text": [
        "\n",
        "iteration: 3000    loss: 0.0127459634095    accuracy: [ 0.42820314  0.00617218]"
       ]
      },
      {
       "output_type": "stream",
       "stream": "stdout",
       "text": [
        "\n",
        "iteration: 3100    loss: 0.0277011394501    accuracy: [ 0.0431706   0.31661332]"
       ]
      },
      {
       "output_type": "stream",
       "stream": "stdout",
       "text": [
        "\n",
        "iteration: 3200    loss: 0.00719451205805    accuracy: [ 0.27628267  0.00632054]"
       ]
      },
      {
       "output_type": "stream",
       "stream": "stdout",
       "text": [
        "\n",
        "iteration: 3300    loss: 0.00609861221164    accuracy: [ 0.26805362  0.00550297]"
       ]
      },
      {
       "output_type": "stream",
       "stream": "stdout",
       "text": [
        "\n",
        "iteration: 3400    loss: 0.0094381570816    accuracy: [ 0.39903221  0.00348672]"
       ]
      },
      {
       "output_type": "stream",
       "stream": "stdout",
       "text": [
        "\n",
        "iteration: 3500    loss: 0.0077952882275    accuracy: [ 0.39760283  0.00319897]"
       ]
      },
      {
       "output_type": "stream",
       "stream": "stdout",
       "text": [
        "\n",
        "iteration: 3600    loss: 0.00803011283278    accuracy: [ 0.35070938  0.00443316]"
       ]
      },
      {
       "output_type": "stream",
       "stream": "stdout",
       "text": [
        "\n",
        "iteration: 3700    loss: 0.182839393616    accuracy: [ 0.19403063  0.06360468]"
       ]
      },
      {
       "output_type": "stream",
       "stream": "stdout",
       "text": [
        "\n",
        "iteration: 3800    loss: 0.16594748199    accuracy: [ 0.3631486   0.04454599]"
       ]
      },
      {
       "output_type": "stream",
       "stream": "stdout",
       "text": [
        "\n",
        "iteration: 3900    loss: 0.0100574204698    accuracy: [ 0.36320439  0.00598418]"
       ]
      },
      {
       "output_type": "stream",
       "stream": "stdout",
       "text": [
        "\n",
        "iteration: 4000    loss: 0.00503775896505    accuracy: [ 0.30427811  0.00431684]"
       ]
      },
      {
       "output_type": "stream",
       "stream": "stdout",
       "text": [
        "\n",
        "iteration: 4100    loss: 0.00555803533643    accuracy: [ 0.29301545  0.00419883]"
       ]
      },
      {
       "output_type": "stream",
       "stream": "stdout",
       "text": [
        "\n",
        "iteration: 4200    loss: 0.00993380695581    accuracy: [ 0.36022931  0.007507  ]"
       ]
      },
      {
       "output_type": "stream",
       "stream": "stdout",
       "text": [
        "\n",
        "iteration: 4300    loss: 0.00890887342393    accuracy: [ 0.38742599  0.00480125]"
       ]
      },
      {
       "output_type": "stream",
       "stream": "stdout",
       "text": [
        "\n",
        "iteration: 4400    loss: 0.0216351579875    accuracy: [ 0.05589225  0.2754851 ]"
       ]
      },
      {
       "output_type": "stream",
       "stream": "stdout",
       "text": [
        "\n",
        "iteration: 4500    loss: 0.0272474735975    accuracy: [ 0.03103162  0.35180157]"
       ]
      },
      {
       "output_type": "stream",
       "stream": "stdout",
       "text": [
        "\n",
        "iteration: 4600    loss: 0.00824899692088    accuracy: [ 0.39402369  0.00331665]"
       ]
      },
      {
       "output_type": "stream",
       "stream": "stdout",
       "text": [
        "\n",
        "iteration: 4700    loss: 0.0153486104682    accuracy: [ 0.26726335  0.02038534]"
       ]
      },
      {
       "output_type": "stream",
       "stream": "stdout",
       "text": [
        "\n",
        "iteration: 4800    loss: 0.0071403728798    accuracy: [ 0.36414221  0.00281264]"
       ]
      },
      {
       "output_type": "stream",
       "stream": "stdout",
       "text": [
        "\n",
        "iteration: 4900    loss: 0.0312644541264    accuracy: [ 0.35013527  0.01027667]"
       ]
      },
      {
       "output_type": "stream",
       "stream": "stdout",
       "text": [
        "\n",
        "iteration: 5000    loss: 0.00832476839423    accuracy: [ 0.40246227  0.00310459]"
       ]
      },
      {
       "output_type": "stream",
       "stream": "stdout",
       "text": [
        "\n",
        "iteration: 5100    loss: 0.0102771688253    accuracy: [ 0.38956532  0.00619016]"
       ]
      },
      {
       "output_type": "stream",
       "stream": "stdout",
       "text": [
        "\n",
        "iteration: 5200    loss: 0.00866240635514    accuracy: [ 0.21225345  0.01803845]"
       ]
      },
      {
       "output_type": "stream",
       "stream": "stdout",
       "text": [
        "\n",
        "iteration: 5300    loss: 0.0128250923008    accuracy: [ 0.13126624  0.07982507]"
       ]
      },
      {
       "output_type": "stream",
       "stream": "stdout",
       "text": [
        "\n",
        "iteration: 5400    loss: 0.0105280224234    accuracy: [ 0.42298523  0.00418157]"
       ]
      },
      {
       "output_type": "stream",
       "stream": "stdout",
       "text": [
        "\n",
        "iteration: 5500    loss: 0.00971826631576    accuracy: [ 0.39525095  0.00535431]"
       ]
      },
      {
       "output_type": "stream",
       "stream": "stdout",
       "text": [
        "\n",
        "iteration: 5600    loss: 0.00687435269356    accuracy: [ 0.25442162  0.00643029]"
       ]
      },
      {
       "output_type": "stream",
       "stream": "stdout",
       "text": [
        "\n",
        "iteration: 5700    loss: 0.0210049971938    accuracy: [ 0.2334688   0.03118462]"
       ]
      },
      {
       "output_type": "stream",
       "stream": "stdout",
       "text": [
        "\n",
        "iteration: 5800    loss: 0.00927871186286    accuracy: [ 0.39726961  0.00354999]"
       ]
      },
      {
       "output_type": "stream",
       "stream": "stdout",
       "text": [
        "\n",
        "iteration: 5900    loss: 0.010915835388    accuracy: [ 0.34696579  0.00492877]"
       ]
      },
      {
       "output_type": "stream",
       "stream": "stdout",
       "text": [
        "\n",
        "iteration: 6000    loss: 0.00744481477886    accuracy: [ 0.38925645  0.00193441]"
       ]
      },
      {
       "output_type": "stream",
       "stream": "stdout",
       "text": [
        "\n",
        "iteration: 6100    loss: 0.00647379085422    accuracy: [ 0.27040458  0.00456602]"
       ]
      },
      {
       "output_type": "stream",
       "stream": "stdout",
       "text": [
        "\n",
        "iteration: 6200    loss: 0.00711220130324    accuracy: [ 0.37557581  0.00406802]"
       ]
      },
      {
       "output_type": "stream",
       "stream": "stdout",
       "text": [
        "\n",
        "iteration: 6300    loss: 0.00910350400954    accuracy: [ 0.35835043  0.0047679 ]"
       ]
      },
      {
       "output_type": "stream",
       "stream": "stdout",
       "text": [
        "\n",
        "iteration: 6400    loss: 0.00824878085405    accuracy: [ 0.3299813   0.00272407]"
       ]
      },
      {
       "output_type": "stream",
       "stream": "stdout",
       "text": [
        "\n",
        "iteration: 6500    loss: 0.0602305755019    accuracy: [ 0.1212496   0.09343918]"
       ]
      },
      {
       "output_type": "stream",
       "stream": "stdout",
       "text": [
        "\n",
        "iteration: 6600    loss: 0.00880588032305    accuracy: [ 0.35707137  0.0054764 ]"
       ]
      },
      {
       "output_type": "stream",
       "stream": "stdout",
       "text": [
        "\n",
        "iteration: 6700    loss: 0.00849472451955    accuracy: [ 0.33016711  0.00461741]"
       ]
      },
      {
       "output_type": "stream",
       "stream": "stdout",
       "text": [
        "\n",
        "iteration: 6800    loss: 0.00650318711996    accuracy: [ 0.37068748  0.00215508]"
       ]
      },
      {
       "output_type": "stream",
       "stream": "stdout",
       "text": [
        "\n",
        "iteration: 6900    loss: 0.0082673728466    accuracy: [ 0.32265735  0.00447804]"
       ]
      },
      {
       "output_type": "stream",
       "stream": "stdout",
       "text": [
        "\n",
        "iteration: 7000    loss: 0.0781414210796    accuracy: [ 0.3292383   0.02536114]"
       ]
      },
      {
       "output_type": "stream",
       "stream": "stdout",
       "text": [
        "\n",
        "iteration: 7100    loss: 0.00696461042389    accuracy: [ 0.3002879   0.00325949]"
       ]
      },
      {
       "output_type": "stream",
       "stream": "stdout",
       "text": [
        "\n",
        "iteration: 7200    loss: 0.0176276545972    accuracy: [ 0.41444525  0.00853299]"
       ]
      },
      {
       "output_type": "stream",
       "stream": "stdout",
       "text": [
        "\n",
        "iteration: 7300    loss: 0.00695038959384    accuracy: [ 0.34675613  0.00392312]"
       ]
      },
      {
       "output_type": "stream",
       "stream": "stdout",
       "text": [
        "\n",
        "iteration: 7400    loss: 0.264631450176    accuracy: [ 0.29599211  0.12273345]"
       ]
      },
      {
       "output_type": "stream",
       "stream": "stdout",
       "text": [
        "\n",
        "iteration: 7500    loss: 0.00836960691959    accuracy: [ 0.36576802  0.00428351]"
       ]
      },
      {
       "output_type": "stream",
       "stream": "stdout",
       "text": [
        "\n",
        "iteration: 7600    loss: 0.0093270521611    accuracy: [ 0.36425334  0.00442719]"
       ]
      },
      {
       "output_type": "stream",
       "stream": "stdout",
       "text": [
        "\n",
        "iteration: 7700    loss: 0.00854313280433    accuracy: [ 0.35673988  0.00578208]"
       ]
      },
      {
       "output_type": "stream",
       "stream": "stdout",
       "text": [
        "\n",
        "iteration: 7800    loss: 0.00802588090301    accuracy: [ 0.36149827  0.00431198]"
       ]
      },
      {
       "output_type": "stream",
       "stream": "stdout",
       "text": [
        "\n",
        "iteration: 7900    loss: 0.0119254589081    accuracy: [ 0.15128414  0.06117962]"
       ]
      },
      {
       "output_type": "stream",
       "stream": "stdout",
       "text": [
        "\n",
        "iteration: 8000    loss: 0.00687696877867    accuracy: [ 0.29233828  0.00409343]"
       ]
      },
      {
       "output_type": "stream",
       "stream": "stdout",
       "text": [
        "\n",
        "iteration: 8100    loss: 0.00725154392421    accuracy: [ 0.38142684  0.00300481]"
       ]
      },
      {
       "output_type": "stream",
       "stream": "stdout",
       "text": [
        "\n",
        "iteration: 8200    loss: 0.0285193603486    accuracy: [ 0.33668971  0.0264026 ]"
       ]
      },
      {
       "output_type": "stream",
       "stream": "stdout",
       "text": [
        "\n",
        "iteration: 8300    loss: 0.0251214839518    accuracy: [ 0.04742677  0.31193402]"
       ]
      },
      {
       "output_type": "stream",
       "stream": "stdout",
       "text": [
        "\n",
        "iteration: 8400    loss: 0.00663967756554    accuracy: [ 0.32380131  0.0036822 ]"
       ]
      },
      {
       "output_type": "stream",
       "stream": "stdout",
       "text": [
        "\n",
        "iteration: 8500    loss: 0.00964523199946    accuracy: [ 0.40827987  0.00453678]"
       ]
      },
      {
       "output_type": "stream",
       "stream": "stdout",
       "text": [
        "\n",
        "iteration: 8600    loss: 0.0869961604476    accuracy: [ 0.  0.]"
       ]
      },
      {
       "output_type": "stream",
       "stream": "stdout",
       "text": [
        "\n",
        "iteration: 8700    loss: 0.0115612167865    accuracy: [ 0.33308989  0.00738164]"
       ]
      },
      {
       "output_type": "stream",
       "stream": "stdout",
       "text": [
        "\n",
        "iteration: 8800    loss: 0.00684241671115    accuracy: [ 0.3716808   0.00374116]"
       ]
      },
      {
       "output_type": "stream",
       "stream": "stdout",
       "text": [
        "\n",
        "iteration: 8900    loss: 0.298376142979    accuracy: [ 0.20776798  0.34030208]"
       ]
      },
      {
       "output_type": "stream",
       "stream": "stdout",
       "text": [
        "\n",
        "iteration: 9000    loss: 0.00744289532304    accuracy: [ 0.37884846  0.0040225 ]"
       ]
      },
      {
       "output_type": "stream",
       "stream": "stdout",
       "text": [
        "\n",
        "iteration: 9100    loss: 0.00681600533426    accuracy: [ 0.33611056  0.00460311]"
       ]
      },
      {
       "output_type": "stream",
       "stream": "stdout",
       "text": [
        "\n",
        "iteration: 9200    loss: 0.0142148304731    accuracy: [ 0.43341547  0.00689351]"
       ]
      },
      {
       "output_type": "stream",
       "stream": "stdout",
       "text": [
        "\n",
        "iteration: 9300    loss: 0.0214642696083    accuracy: [ 0.06944445  0.22403528]"
       ]
      },
      {
       "output_type": "stream",
       "stream": "stdout",
       "text": [
        "\n",
        "iteration: 9400    loss: 0.0131039069965    accuracy: [ 0.38377523  0.00471491]"
       ]
      },
      {
       "output_type": "stream",
       "stream": "stdout",
       "text": [
        "\n",
        "iteration: 9500    loss: 0.0107955187559    accuracy: [ 0.34895566  0.00613121]"
       ]
      },
      {
       "output_type": "stream",
       "stream": "stdout",
       "text": [
        "\n",
        "iteration: 9600    loss: 0.00679163075984    accuracy: [ 0.36764705  0.00225572]"
       ]
      },
      {
       "output_type": "stream",
       "stream": "stdout",
       "text": [
        "\n",
        "iteration: 9700    loss: 0.0143543323502    accuracy: [ 0.37963885  0.0048009 ]"
       ]
      },
      {
       "output_type": "stream",
       "stream": "stdout",
       "text": [
        "\n",
        "iteration: 9800    loss: 0.00826090201735    accuracy: [ 0.38367113  0.00372421]"
       ]
      },
      {
       "output_type": "stream",
       "stream": "stdout",
       "text": [
        "\n",
        "iteration: 9900    loss: 0.0936636254191    accuracy: [ 0.  0.]"
       ]
      },
      {
       "output_type": "stream",
       "stream": "stdout",
       "text": [
        "\n",
        "iteration: 10000   loss: 0.0108811818063    accuracy: [ 0.33415341  0.00411075]"
       ]
      },
      {
       "output_type": "stream",
       "stream": "stdout",
       "text": [
        "\n",
        "snaping to: /home/qinshuo/WorkPlace/caffe_space/extract_skin/weight/seg_skin_net_fin40000.caffemodel\n",
        "iteration: 100     loss: 0.00647442694753    accuracy: [ 0.36660972  0.00266811]"
       ]
      },
      {
       "output_type": "stream",
       "stream": "stdout",
       "text": [
        "\n",
        "iteration: 200     loss: 0.0394934602082    accuracy: [ 0.29873502  0.02890589]"
       ]
      },
      {
       "output_type": "stream",
       "stream": "stdout",
       "text": [
        "\n",
        "iteration: 300     loss: 0.00814420264214    accuracy: [ 0.37080133  0.00439898]"
       ]
      },
      {
       "output_type": "stream",
       "stream": "stdout",
       "text": [
        "\n",
        "iteration: 400     loss: 0.00719591416419    accuracy: [ 0.40088487  0.0029164 ]"
       ]
      },
      {
       "output_type": "stream",
       "stream": "stdout",
       "text": [
        "\n",
        "iteration: 500     loss: 0.0182481463999    accuracy: [ 0.06615786  0.24099723]"
       ]
      },
      {
       "output_type": "stream",
       "stream": "stdout",
       "text": [
        "\n",
        "iteration: 600     loss: 0.0100657884032    accuracy: [ 0.34855983  0.00475835]"
       ]
      },
      {
       "output_type": "stream",
       "stream": "stdout",
       "text": [
        "\n",
        "iteration: 700     loss: 0.00866305269301    accuracy: [ 0.32872149  0.00640281]"
       ]
      },
      {
       "output_type": "stream",
       "stream": "stdout",
       "text": [
        "\n",
        "iteration: 800     loss: 0.0111215207726    accuracy: [ 0.3428672   0.00658657]"
       ]
      },
      {
       "output_type": "stream",
       "stream": "stdout",
       "text": [
        "\n",
        "iteration: 900     loss: 0.00866029597819    accuracy: [ 0.4013477   0.00408323]"
       ]
      },
      {
       "output_type": "stream",
       "stream": "stdout",
       "text": [
        "\n",
        "iteration: 1000    loss: 0.00890548713505    accuracy: [ 0.16128823  0.04987206]"
       ]
      },
      {
       "output_type": "stream",
       "stream": "stdout",
       "text": [
        "\n",
        "iteration: 1100    loss: 0.00780642637983    accuracy: [ 0.36455828  0.00232861]"
       ]
      },
      {
       "output_type": "stream",
       "stream": "stdout",
       "text": [
        "\n",
        "iteration: 1200    loss: 0.0111960284412    accuracy: [ 0.37849858  0.00520749]"
       ]
      },
      {
       "output_type": "stream",
       "stream": "stdout",
       "text": [
        "\n",
        "iteration: 1300    loss: 0.00644456967711    accuracy: [ 0.37502483  0.0031371 ]"
       ]
      },
      {
       "output_type": "stream",
       "stream": "stdout",
       "text": [
        "\n",
        "iteration: 1400    loss: 0.00830237753689    accuracy: [ 0.37472633  0.00385415]"
       ]
      },
      {
       "output_type": "stream",
       "stream": "stdout",
       "text": [
        "\n",
        "iteration: 1500    loss: 0.414705902338    accuracy: [ 0.06866312  0.04548239]"
       ]
      },
      {
       "output_type": "stream",
       "stream": "stdout",
       "text": [
        "\n",
        "iteration: 1600    loss: 0.00967649836093    accuracy: [ 0.30329806  0.00994154]"
       ]
      },
      {
       "output_type": "stream",
       "stream": "stdout",
       "text": [
        "\n",
        "iteration: 1700    loss: 0.00717110093683    accuracy: [ 0.38078281  0.00269918]"
       ]
      },
      {
       "output_type": "stream",
       "stream": "stdout",
       "text": [
        "\n",
        "iteration: 1800    loss: 0.0290148332715    accuracy: [ 0.02558159  0.37395334]"
       ]
      },
      {
       "output_type": "stream",
       "stream": "stdout",
       "text": [
        "\n",
        "iteration: 1900    loss: 0.0781989097595    accuracy: [ 0.29017141  0.03502305]"
       ]
      },
      {
       "output_type": "stream",
       "stream": "stdout",
       "text": [
        "\n",
        "iteration: 2000    loss: 0.00948604010046    accuracy: [ 0.28756133  0.01126701]"
       ]
      },
      {
       "output_type": "stream",
       "stream": "stdout",
       "text": [
        "\n",
        "iteration: 2100    loss: 0.193592041731    accuracy: [ 0.03995772  0.23167053]"
       ]
      },
      {
       "output_type": "stream",
       "stream": "stdout",
       "text": [
        "\n",
        "iteration: 2200    loss: 0.00848771911114    accuracy: [ 0.34087774  0.00416031]"
       ]
      },
      {
       "output_type": "stream",
       "stream": "stdout",
       "text": [
        "\n",
        "iteration: 2300    loss: 0.0169475488365    accuracy: [ 0.07900479  0.19886804]"
       ]
      },
      {
       "output_type": "stream",
       "stream": "stdout",
       "text": [
        "\n",
        "iteration: 2400    loss: 0.00723917456344    accuracy: [ 0.38234833  0.00255836]"
       ]
      },
      {
       "output_type": "stream",
       "stream": "stdout",
       "text": [
        "\n",
        "iteration: 2500    loss: 0.0106764733791    accuracy: [ 0.40015128  0.00514549]"
       ]
      },
      {
       "output_type": "stream",
       "stream": "stdout",
       "text": [
        "\n",
        "iteration: 2600    loss: 0.00643651373684    accuracy: [ 0.36603943  0.00289072]"
       ]
      },
      {
       "output_type": "stream",
       "stream": "stdout",
       "text": [
        "\n",
        "iteration: 2700    loss: 0.00767002347857    accuracy: [ 0.36836255  0.00356772]"
       ]
      },
      {
       "output_type": "stream",
       "stream": "stdout",
       "text": [
        "\n",
        "iteration: 2800    loss: 0.00884398445487    accuracy: [ 0.3760165   0.00323184]"
       ]
      },
      {
       "output_type": "stream",
       "stream": "stdout",
       "text": [
        "\n",
        "iteration: 2900    loss: 0.00940479710698    accuracy: [ 0.40563923  0.00469868]"
       ]
      },
      {
       "output_type": "stream",
       "stream": "stdout",
       "text": [
        "\n",
        "iteration: 3000    loss: 0.013184315525    accuracy: [ 0.11728803  0.11225088]"
       ]
      },
      {
       "output_type": "stream",
       "stream": "stdout",
       "text": [
        "\n",
        "iteration: 3100    loss: 0.01415842399    accuracy: [ 0.37508044  0.00828126]"
       ]
      },
      {
       "output_type": "stream",
       "stream": "stdout",
       "text": [
        "\n",
        "iteration: 3200    loss: 0.103671170771    accuracy: [ 0.  0.]"
       ]
      },
      {
       "output_type": "stream",
       "stream": "stdout",
       "text": [
        "\n",
        "iteration: 3300    loss: 0.00846937764436    accuracy: [ 0.33242023  0.00589601]"
       ]
      },
      {
       "output_type": "stream",
       "stream": "stdout",
       "text": [
        "\n",
        "iteration: 3400    loss: 0.0256204623729    accuracy: [ 0.24000216  0.02988156]"
       ]
      },
      {
       "output_type": "stream",
       "stream": "stdout",
       "text": [
        "\n",
        "iteration: 3500    loss: 0.0136634707451    accuracy: [ 0.39990819  0.0062653 ]"
       ]
      },
      {
       "output_type": "stream",
       "stream": "stdout",
       "text": [
        "\n",
        "iteration: 3600    loss: 0.0148809533566    accuracy: [ 0.361072    0.00808126]"
       ]
      },
      {
       "output_type": "stream",
       "stream": "stdout",
       "text": [
        "\n",
        "iteration: 3700    loss: 0.00919459201396    accuracy: [ 0.30313978  0.0027775 ]"
       ]
      },
      {
       "output_type": "stream",
       "stream": "stdout",
       "text": [
        "\n",
        "iteration: 3800    loss: 0.00948125403374    accuracy: [ 0.33892453  0.00734863]"
       ]
      },
      {
       "output_type": "stream",
       "stream": "stdout",
       "text": [
        "\n",
        "iteration: 3900    loss: 0.00943341478705    accuracy: [ 0.3546274   0.00468831]"
       ]
      },
      {
       "output_type": "stream",
       "stream": "stdout",
       "text": [
        "\n",
        "iteration: 4000    loss: 0.00902741216123    accuracy: [ 0.4111844   0.00393993]"
       ]
      },
      {
       "output_type": "stream",
       "stream": "stdout",
       "text": [
        "\n",
        "iteration: 4100    loss: 0.00715586915612    accuracy: [ 0.32871249  0.00493887]"
       ]
      },
      {
       "output_type": "stream",
       "stream": "stdout",
       "text": [
        "\n",
        "iteration: 4200    loss: 0.00621590716764    accuracy: [ 0.28074628  0.00423337]"
       ]
      },
      {
       "output_type": "stream",
       "stream": "stdout",
       "text": [
        "\n",
        "iteration: 4300    loss: 0.0195004530251    accuracy: [ 0.40468642  0.00771267]"
       ]
      },
      {
       "output_type": "stream",
       "stream": "stdout",
       "text": [
        "\n",
        "iteration: 4400    loss: 0.00799190904945    accuracy: [ 0.36993885  0.00308961]"
       ]
      },
      {
       "output_type": "stream",
       "stream": "stdout",
       "text": [
        "\n",
        "iteration: 4500    loss: 0.0756882280111    accuracy: [ 0.25580353  0.04736006]"
       ]
      },
      {
       "output_type": "stream",
       "stream": "stdout",
       "text": [
        "\n",
        "iteration: 4600    loss: 0.0184200089425    accuracy: [ 0.29557624  0.00690665]"
       ]
      },
      {
       "output_type": "stream",
       "stream": "stdout",
       "text": [
        "\n",
        "iteration: 4700    loss: 0.00671935081482    accuracy: [ 0.28165033  0.00747423]"
       ]
      },
      {
       "output_type": "stream",
       "stream": "stdout",
       "text": [
        "\n",
        "iteration: 4800    loss: 0.007792157121    accuracy: [ 0.30547568  0.00565792]"
       ]
      },
      {
       "output_type": "stream",
       "stream": "stdout",
       "text": [
        "\n",
        "iteration: 4900    loss: 0.00782140996307    accuracy: [ 0.32188526  0.00586169]"
       ]
      },
      {
       "output_type": "stream",
       "stream": "stdout",
       "text": [
        "\n",
        "iteration: 5000    loss: 0.0086389426142    accuracy: [ 0.37209871  0.00192165]"
       ]
      },
      {
       "output_type": "stream",
       "stream": "stdout",
       "text": [
        "\n",
        "iteration: 5100    loss: 0.0083978837356    accuracy: [ 0.32055008  0.00654975]"
       ]
      },
      {
       "output_type": "stream",
       "stream": "stdout",
       "text": [
        "\n",
        "iteration: 5200    loss: 0.00672695739195    accuracy: [ 0.2090029   0.01957809]"
       ]
      },
      {
       "output_type": "stream",
       "stream": "stdout",
       "text": [
        "\n",
        "iteration: 5300    loss: 0.0104494858533    accuracy: [ 0.15200636  0.06312877]"
       ]
      },
      {
       "output_type": "stream",
       "stream": "stdout",
       "text": [
        "\n",
        "iteration: 5400    loss: 0.0733447223902    accuracy: [ 0.  0.]"
       ]
      },
      {
       "output_type": "stream",
       "stream": "stdout",
       "text": [
        "\n",
        "iteration: 5500    loss: 0.0076700556092    accuracy: [ 0.36713108  0.00359091]"
       ]
      },
      {
       "output_type": "stream",
       "stream": "stdout",
       "text": [
        "\n",
        "iteration: 5600    loss: 0.00991471856833    accuracy: [ 0.3560569   0.00442459]"
       ]
      },
      {
       "output_type": "stream",
       "stream": "stdout",
       "text": [
        "\n",
        "iteration: 5700    loss: 0.00836485624313    accuracy: [ 0.32667169  0.005103  ]"
       ]
      },
      {
       "output_type": "stream",
       "stream": "stdout",
       "text": [
        "\n",
        "iteration: 5800    loss: 0.0109722781926    accuracy: [ 0.19636111  0.03112598]"
       ]
      },
      {
       "output_type": "stream",
       "stream": "stdout",
       "text": [
        "\n",
        "iteration: 5900    loss: 0.00640330091119    accuracy: [ 0.29478958  0.0057781 ]"
       ]
      },
      {
       "output_type": "stream",
       "stream": "stdout",
       "text": [
        "\n",
        "iteration: 6000    loss: 0.0755602568388    accuracy: [ 0.  0.]"
       ]
      },
      {
       "output_type": "stream",
       "stream": "stdout",
       "text": [
        "\n",
        "iteration: 6100    loss: 0.0113311391324    accuracy: [ 0.21159121  0.03853098]"
       ]
      },
      {
       "output_type": "stream",
       "stream": "stdout",
       "text": [
        "\n",
        "iteration: 6200    loss: 0.0082158157602    accuracy: [ 0.33560058  0.00374818]"
       ]
      },
      {
       "output_type": "stream",
       "stream": "stdout",
       "text": [
        "\n",
        "iteration: 6300    loss: 0.00802297983319    accuracy: [ 0.35200158  0.00349726]"
       ]
      },
      {
       "output_type": "stream",
       "stream": "stdout",
       "text": [
        "\n",
        "iteration: 6400    loss: 0.00924794841558    accuracy: [ 0.32724369  0.00822046]"
       ]
      },
      {
       "output_type": "stream",
       "stream": "stdout",
       "text": [
        "\n",
        "iteration: 6500    loss: 0.009317625314    accuracy: [ 0.36619383  0.00448833]"
       ]
      },
      {
       "output_type": "stream",
       "stream": "stdout",
       "text": [
        "\n",
        "iteration: 6600    loss: 0.0133863780648    accuracy: [ 0.40061739  0.00614152]"
       ]
      },
      {
       "output_type": "stream",
       "stream": "stdout",
       "text": [
        "\n",
        "iteration: 6700    loss: 0.0823245942593    accuracy: [ 0.  0.]"
       ]
      },
      {
       "output_type": "stream",
       "stream": "stdout",
       "text": [
        "\n",
        "iteration: 6800    loss: 0.00712619628757    accuracy: [ 0.24120234  0.01001267]"
       ]
      },
      {
       "output_type": "stream",
       "stream": "stdout",
       "text": [
        "\n",
        "iteration: 6900    loss: 0.0087847225368    accuracy: [ 0.30701178  0.01061315]"
       ]
      },
      {
       "output_type": "stream",
       "stream": "stdout",
       "text": [
        "\n",
        "iteration: 7000    loss: 0.00690289214253    accuracy: [ 0.35697663  0.00345736]"
       ]
      },
      {
       "output_type": "stream",
       "stream": "stdout",
       "text": [
        "\n",
        "iteration: 7100    loss: 0.00694291479886    accuracy: [ 0.38458541  0.00242458]"
       ]
      },
      {
       "output_type": "stream",
       "stream": "stdout",
       "text": [
        "\n",
        "iteration: 7200    loss: 0.0379196330905    accuracy: [ 0.01236571  0.47146401]"
       ]
      },
      {
       "output_type": "stream",
       "stream": "stdout",
       "text": [
        "\n",
        "iteration: 7300    loss: 0.00742925982922    accuracy: [ 0.34534913  0.00364051]"
       ]
      },
      {
       "output_type": "stream",
       "stream": "stdout",
       "text": [
        "\n",
        "iteration: 7400    loss: 0.00922932941467    accuracy: [ 0.2621465   0.00983908]"
       ]
      },
      {
       "output_type": "stream",
       "stream": "stdout",
       "text": [
        "\n",
        "iteration: 7500    loss: 0.0119662452489    accuracy: [ 0.20308562  0.02192586]"
       ]
      },
      {
       "output_type": "stream",
       "stream": "stdout",
       "text": [
        "\n",
        "iteration: 7600    loss: 0.00578145403415    accuracy: [ 0.25507757  0.00790845]"
       ]
      },
      {
       "output_type": "stream",
       "stream": "stdout",
       "text": [
        "\n",
        "iteration: 7700    loss: 0.028819270432    accuracy: [ 0.41812763  0.01501317]"
       ]
      },
      {
       "output_type": "stream",
       "stream": "stdout",
       "text": [
        "\n",
        "iteration: 7800    loss: 0.00881010945886    accuracy: [ 0.35541239  0.00201274]"
       ]
      },
      {
       "output_type": "stream",
       "stream": "stdout",
       "text": [
        "\n",
        "iteration: 7900    loss: 0.0111204255372    accuracy: [ 0.41222826  0.00521702]"
       ]
      },
      {
       "output_type": "stream",
       "stream": "stdout",
       "text": [
        "\n",
        "iteration: 8000    loss: 0.274819970131    accuracy: [ 0.06282274  0.16019955]"
       ]
      },
      {
       "output_type": "stream",
       "stream": "stdout",
       "text": [
        "\n",
        "iteration: 8100    loss: 0.00847723148763    accuracy: [ 0.20196596  0.02497917]"
       ]
      },
      {
       "output_type": "stream",
       "stream": "stdout",
       "text": [
        "\n",
        "iteration: 8200    loss: 0.00918753258884    accuracy: [ 0.37379521  0.00532458]"
       ]
      },
      {
       "output_type": "stream",
       "stream": "stdout",
       "text": [
        "\n",
        "iteration: 8300    loss: 0.00753122894093    accuracy: [ 0.19193776  0.02797244]"
       ]
      },
      {
       "output_type": "stream",
       "stream": "stdout",
       "text": [
        "\n",
        "iteration: 8400    loss: 0.285548090935    accuracy: [ 0.06824795  0.1502554 ]"
       ]
      },
      {
       "output_type": "stream",
       "stream": "stdout",
       "text": [
        "\n",
        "iteration: 8500    loss: 0.0351603478193    accuracy: [ 0.25898474  0.0415729 ]"
       ]
      },
      {
       "output_type": "stream",
       "stream": "stdout",
       "text": [
        "\n",
        "iteration: 8600    loss: 0.00756647996604    accuracy: [ 0.37913084  0.00240947]"
       ]
      },
      {
       "output_type": "stream",
       "stream": "stdout",
       "text": [
        "\n",
        "iteration: 8700    loss: 0.0101434076205    accuracy: [ 0.36790359  0.00557748]"
       ]
      },
      {
       "output_type": "stream",
       "stream": "stdout",
       "text": [
        "\n",
        "iteration: 8800    loss: 0.00721416901797    accuracy: [ 0.34375754  0.00304688]"
       ]
      },
      {
       "output_type": "stream",
       "stream": "stdout",
       "text": [
        "\n",
        "iteration: 8900    loss: 0.00762809813023    accuracy: [ 0.32774007  0.00677282]"
       ]
      },
      {
       "output_type": "stream",
       "stream": "stdout",
       "text": [
        "\n",
        "iteration: 9000    loss: 0.0102843884379    accuracy: [ 0.36409888  0.00654582]"
       ]
      },
      {
       "output_type": "stream",
       "stream": "stdout",
       "text": [
        "\n",
        "iteration: 9100    loss: 0.0282084457576    accuracy: [ 0.04096947  0.33644512]"
       ]
      },
      {
       "output_type": "stream",
       "stream": "stdout",
       "text": [
        "\n",
        "iteration: 9200    loss: 0.00957216974348    accuracy: [ 0.26339281  0.01360574]"
       ]
      },
      {
       "output_type": "stream",
       "stream": "stdout",
       "text": [
        "\n",
        "iteration: 9300    loss: 0.258459240198    accuracy: [ 0.03645604  0.13330494]"
       ]
      },
      {
       "output_type": "stream",
       "stream": "stdout",
       "text": [
        "\n",
        "iteration: 9400    loss: 0.00830291677266    accuracy: [ 0.34127384  0.00262261]"
       ]
      },
      {
       "output_type": "stream",
       "stream": "stdout",
       "text": [
        "\n",
        "iteration: 9500    loss: 0.00755209010094    accuracy: [ 0.34441882  0.00485674]"
       ]
      },
      {
       "output_type": "stream",
       "stream": "stdout",
       "text": [
        "\n",
        "iteration: 9600    loss: 0.00764083815739    accuracy: [ 0.38219267  0.00278955]"
       ]
      },
      {
       "output_type": "stream",
       "stream": "stdout",
       "text": [
        "\n",
        "iteration: 9700    loss: 0.024288546294    accuracy: [ 0.04466668  0.31393358]"
       ]
      },
      {
       "output_type": "stream",
       "stream": "stdout",
       "text": [
        "\n",
        "iteration: 9800    loss: 0.00661887228489    accuracy: [ 0.33794072  0.00275993]"
       ]
      },
      {
       "output_type": "stream",
       "stream": "stdout",
       "text": [
        "\n",
        "iteration: 9900    loss: 0.00719786109403    accuracy: [ 0.35895514  0.00344901]"
       ]
      },
      {
       "output_type": "stream",
       "stream": "stdout",
       "text": [
        "\n",
        "iteration: 10000   loss: 0.0259880963713    accuracy: [ 0.04461341  0.31108829]"
       ]
      },
      {
       "output_type": "stream",
       "stream": "stdout",
       "text": [
        "\n",
        "snaping to: /home/qinshuo/WorkPlace/caffe_space/extract_skin/weight/seg_skin_net_fin50000.caffemodel\n",
        "iteration: 100     loss: 0.0152829941362    accuracy: [ 0.37017494  0.00719931]"
       ]
      },
      {
       "output_type": "stream",
       "stream": "stdout",
       "text": [
        "\n",
        "iteration: 200     loss: 0.00596000393853    accuracy: [ 0.36453956  0.00197065]"
       ]
      },
      {
       "output_type": "stream",
       "stream": "stdout",
       "text": [
        "\n",
        "iteration: 300     loss: 0.00676927622408    accuracy: [ 0.31066313  0.00695845]"
       ]
      },
      {
       "output_type": "stream",
       "stream": "stdout",
       "text": [
        "\n",
        "iteration: 400     loss: 0.0199445895851    accuracy: [ 0.06252055  0.25354609]"
       ]
      },
      {
       "output_type": "stream",
       "stream": "stdout",
       "text": [
        "\n",
        "iteration: 500     loss: 0.00582720711827    accuracy: [ 0.35921335  0.00261613]"
       ]
      },
      {
       "output_type": "stream",
       "stream": "stdout",
       "text": [
        "\n",
        "iteration: 600     loss: 0.00840678066015    accuracy: [ 0.37944448  0.00395723]"
       ]
      },
      {
       "output_type": "stream",
       "stream": "stdout",
       "text": [
        "\n",
        "iteration: 700     loss: 0.00744739174843    accuracy: [ 0.31386486  0.00534453]"
       ]
      },
      {
       "output_type": "stream",
       "stream": "stdout",
       "text": [
        "\n",
        "iteration: 800     loss: 0.0201376006007    accuracy: [ 0.3942661   0.01083375]"
       ]
      },
      {
       "output_type": "stream",
       "stream": "stdout",
       "text": [
        "\n",
        "iteration: 900     loss: 0.00777698121965    accuracy: [ 0.28077045  0.00581554]"
       ]
      },
      {
       "output_type": "stream",
       "stream": "stdout",
       "text": [
        "\n",
        "iteration: 1000    loss: 0.00532547011971    accuracy: [ 0.33723253  0.00337471]"
       ]
      },
      {
       "output_type": "stream",
       "stream": "stdout",
       "text": [
        "\n",
        "iteration: 1100    loss: 0.00628641527146    accuracy: [ 0.31360987  0.00744033]"
       ]
      },
      {
       "output_type": "stream",
       "stream": "stdout",
       "text": [
        "\n",
        "iteration: 1200    loss: 0.00777696166188    accuracy: [ 0.40139234  0.00306515]"
       ]
      },
      {
       "output_type": "stream",
       "stream": "stdout",
       "text": [
        "\n",
        "iteration: 1300    loss: 0.00713224336505    accuracy: [ 0.2412177   0.00792343]"
       ]
      },
      {
       "output_type": "stream",
       "stream": "stdout",
       "text": [
        "\n",
        "iteration: 1400    loss: 0.00852100364864    accuracy: [ 0.36077723  0.00427821]"
       ]
      },
      {
       "output_type": "stream",
       "stream": "stdout",
       "text": [
        "\n",
        "iteration: 1500    loss: 0.0172710195184    accuracy: [ 0.38921985  0.00703907]"
       ]
      },
      {
       "output_type": "stream",
       "stream": "stdout",
       "text": [
        "\n",
        "iteration: 1600    loss: 0.0105057703331    accuracy: [ 0.15822645  0.0560786 ]"
       ]
      },
      {
       "output_type": "stream",
       "stream": "stdout",
       "text": [
        "\n",
        "iteration: 1700    loss: 0.079562060535    accuracy: [ 0.  0.]"
       ]
      },
      {
       "output_type": "stream",
       "stream": "stdout",
       "text": [
        "\n",
        "iteration: 1800    loss: 0.00662834104151    accuracy: [ 0.31216663  0.00411241]"
       ]
      },
      {
       "output_type": "stream",
       "stream": "stdout",
       "text": [
        "\n",
        "iteration: 1900    loss: 0.00924068782479    accuracy: [ 0.38245457  0.00355843]"
       ]
      },
      {
       "output_type": "stream",
       "stream": "stdout",
       "text": [
        "\n",
        "iteration: 2000    loss: 0.0198836736381    accuracy: [ 0.06344153  0.24897467]"
       ]
      },
      {
       "output_type": "stream",
       "stream": "stdout",
       "text": [
        "\n",
        "iteration: 2100    loss: 0.00874766241759    accuracy: [ 0.38817662  0.00380981]"
       ]
      },
      {
       "output_type": "stream",
       "stream": "stdout",
       "text": [
        "\n",
        "iteration: 2200    loss: 0.00871961191297    accuracy: [ 0.40307662  0.00358321]"
       ]
      },
      {
       "output_type": "stream",
       "stream": "stdout",
       "text": [
        "\n",
        "iteration: 2300    loss: 0.00650317966938    accuracy: [ 0.18926881  0.02273094]"
       ]
      },
      {
       "output_type": "stream",
       "stream": "stdout",
       "text": [
        "\n",
        "iteration: 2400    loss: 0.0073953778483    accuracy: [ 0.33943012  0.00618728]"
       ]
      },
      {
       "output_type": "stream",
       "stream": "stdout",
       "text": [
        "\n",
        "iteration: 2500    loss: 0.00973274372518    accuracy: [ 0.14725183  0.05974875]"
       ]
      },
      {
       "output_type": "stream",
       "stream": "stdout",
       "text": [
        "\n",
        "iteration: 2600    loss: 0.00630521215498    accuracy: [ 0.35280365  0.00316182]"
       ]
      },
      {
       "output_type": "stream",
       "stream": "stdout",
       "text": [
        "\n",
        "iteration: 2700    loss: 0.00798491761088    accuracy: [ 0.23967284  0.00931301]"
       ]
      },
      {
       "output_type": "stream",
       "stream": "stdout",
       "text": [
        "\n",
        "iteration: 2800    loss: 0.00913757458329    accuracy: [ 0.32024965  0.00384505]"
       ]
      },
      {
       "output_type": "stream",
       "stream": "stdout",
       "text": [
        "\n",
        "iteration: 2900    loss: 0.0103874569759    accuracy: [ 0.39130035  0.00428828]"
       ]
      },
      {
       "output_type": "stream",
       "stream": "stdout",
       "text": [
        "\n",
        "iteration: 3000    loss: 0.33443531394    accuracy: [ 0.22464754  0.03858471]"
       ]
      },
      {
       "output_type": "stream",
       "stream": "stdout",
       "text": [
        "\n",
        "iteration: 3100    loss: 0.014149915427    accuracy: [ 0.10123874  0.14854361]"
       ]
      },
      {
       "output_type": "stream",
       "stream": "stdout",
       "text": [
        "\n",
        "iteration: 3200    loss: 0.00713145639747    accuracy: [ 0.31282449  0.00515363]"
       ]
      },
      {
       "output_type": "stream",
       "stream": "stdout",
       "text": [
        "\n",
        "iteration: 3300    loss: 0.104944005609    accuracy: [ 0.  0.]"
       ]
      },
      {
       "output_type": "stream",
       "stream": "stdout",
       "text": [
        "\n",
        "iteration: 3400    loss: 0.020395282656    accuracy: [ 0.08925672  0.19554794]"
       ]
      },
      {
       "output_type": "stream",
       "stream": "stdout",
       "text": [
        "\n",
        "iteration: 3500    loss: 0.00631607882679    accuracy: [ 0.35763285  0.00253259]"
       ]
      },
      {
       "output_type": "stream",
       "stream": "stdout",
       "text": [
        "\n",
        "iteration: 3600    loss: 0.0218769740313    accuracy: [ 0.07706993  0.19334461]"
       ]
      },
      {
       "output_type": "stream",
       "stream": "stdout",
       "text": [
        "\n",
        "iteration: 3700    loss: 0.0488140769303    accuracy: [ 0.01116952  0.72267759]"
       ]
      },
      {
       "output_type": "stream",
       "stream": "stdout",
       "text": [
        "\n",
        "iteration: 3800    loss: 0.0114530446008    accuracy: [ 0.13517748  0.0816563 ]"
       ]
      },
      {
       "output_type": "stream",
       "stream": "stdout",
       "text": [
        "\n",
        "iteration: 3900    loss: 0.00647492147982    accuracy: [ 0.36572763  0.00412438]"
       ]
      },
      {
       "output_type": "stream",
       "stream": "stdout",
       "text": [
        "\n",
        "iteration: 4000    loss: 0.0100915078074    accuracy: [ 0.41354495  0.00467376]"
       ]
      },
      {
       "output_type": "stream",
       "stream": "stdout",
       "text": [
        "\n",
        "iteration: 4100    loss: 0.00660006143153    accuracy: [ 0.25331098  0.01014899]"
       ]
      },
      {
       "output_type": "stream",
       "stream": "stdout",
       "text": [
        "\n",
        "iteration: 4200    loss: 0.0057436581701    accuracy: [ 0.31798613  0.00421652]"
       ]
      },
      {
       "output_type": "stream",
       "stream": "stdout",
       "text": [
        "\n",
        "iteration: 4300    loss: 0.0216844789684    accuracy: [ 0.40275013  0.01066576]"
       ]
      },
      {
       "output_type": "stream",
       "stream": "stdout",
       "text": [
        "\n",
        "iteration: 4400    loss: 0.0110524501652    accuracy: [ 0.3545562   0.00428042]"
       ]
      },
      {
       "output_type": "stream",
       "stream": "stdout",
       "text": [
        "\n",
        "iteration: 4500    loss: 0.0113445119932    accuracy: [ 0.15278511  0.05474927]"
       ]
      },
      {
       "output_type": "stream",
       "stream": "stdout",
       "text": [
        "\n",
        "iteration: 4600    loss: 0.00705598946661    accuracy: [ 0.36211923  0.00352395]"
       ]
      },
      {
       "output_type": "stream",
       "stream": "stdout",
       "text": [
        "\n",
        "iteration: 4700    loss: 0.00996959209442    accuracy: [ 0.16200739  0.04672015]"
       ]
      },
      {
       "output_type": "stream",
       "stream": "stdout",
       "text": [
        "\n",
        "iteration: 4800    loss: 0.0133971609175    accuracy: [ 0.345296    0.00652704]"
       ]
      },
      {
       "output_type": "stream",
       "stream": "stdout",
       "text": [
        "\n",
        "iteration: 4900    loss: 0.0376377552748    accuracy: [ 0.44535163  0.0162264 ]"
       ]
      },
      {
       "output_type": "stream",
       "stream": "stdout",
       "text": [
        "\n",
        "iteration: 5000    loss: 0.00967651978135    accuracy: [ 0.16918314  0.03947131]"
       ]
      },
      {
       "output_type": "stream",
       "stream": "stdout",
       "text": [
        "\n",
        "iteration: 5100    loss: 0.00897403806448    accuracy: [ 0.17525214  0.03267888]"
       ]
      },
      {
       "output_type": "stream",
       "stream": "stdout",
       "text": [
        "\n",
        "iteration: 5200    loss: 0.00783027987927    accuracy: [ 0.3381705   0.00330003]"
       ]
      },
      {
       "output_type": "stream",
       "stream": "stdout",
       "text": [
        "\n",
        "iteration: 5300    loss: 0.00796748138964    accuracy: [ 0.3611477   0.00464236]"
       ]
      },
      {
       "output_type": "stream",
       "stream": "stdout",
       "text": [
        "\n",
        "iteration: 5400    loss: 0.00933782197535    accuracy: [ 0.26471555  0.01111368]"
       ]
      },
      {
       "output_type": "stream",
       "stream": "stdout",
       "text": [
        "\n",
        "iteration: 5500    loss: 0.00795680657029    accuracy: [ 0.30523819  0.00697052]"
       ]
      },
      {
       "output_type": "stream",
       "stream": "stdout",
       "text": [
        "\n",
        "iteration: 5600    loss: 0.00686484342441    accuracy: [ 0.35915142  0.0035734 ]"
       ]
      },
      {
       "output_type": "stream",
       "stream": "stdout",
       "text": [
        "\n",
        "iteration: 5700    loss: 0.2430460006    accuracy: [ 0.35879537  0.066819  ]"
       ]
      },
      {
       "output_type": "stream",
       "stream": "stdout",
       "text": [
        "\n",
        "iteration: 5800    loss: 0.344044804573    accuracy: [ 0.08305322  0.14823107]"
       ]
      },
      {
       "output_type": "stream",
       "stream": "stdout",
       "text": [
        "\n",
        "iteration: 5900    loss: 0.00658161472529    accuracy: [ 0.29064596  0.00477154]"
       ]
      },
      {
       "output_type": "stream",
       "stream": "stdout",
       "text": [
        "\n",
        "iteration: 6000    loss: 0.00850507803261    accuracy: [ 0.3215737   0.00833294]"
       ]
      },
      {
       "output_type": "stream",
       "stream": "stdout",
       "text": [
        "\n",
        "iteration: 6100    loss: 0.0067215654999    accuracy: [ 0.3777709   0.00240744]"
       ]
      },
      {
       "output_type": "stream",
       "stream": "stdout",
       "text": [
        "\n",
        "iteration: 6200    loss: 0.0121141038835    accuracy: [ 0.1453851   0.07116961]"
       ]
      },
      {
       "output_type": "stream",
       "stream": "stdout",
       "text": [
        "\n",
        "iteration: 6300    loss: 0.0203667655587    accuracy: [ 0.48255515  0.0081409 ]"
       ]
      },
      {
       "output_type": "stream",
       "stream": "stdout",
       "text": [
        "\n",
        "iteration: 6400    loss: 0.00936516001821    accuracy: [ 0.33596128  0.00555101]"
       ]
      },
      {
       "output_type": "stream",
       "stream": "stdout",
       "text": [
        "\n",
        "iteration: 6500    loss: 0.00876628514379    accuracy: [ 0.37665379  0.00413843]"
       ]
      },
      {
       "output_type": "stream",
       "stream": "stdout",
       "text": [
        "\n",
        "iteration: 6600    loss: 0.00771896867082    accuracy: [ 0.39885941  0.00217541]"
       ]
      },
      {
       "output_type": "stream",
       "stream": "stdout",
       "text": [
        "\n",
        "iteration: 6700    loss: 0.00811440404505    accuracy: [ 0.37155136  0.00410291]"
       ]
      },
      {
       "output_type": "stream",
       "stream": "stdout",
       "text": [
        "\n",
        "iteration: 6800    loss: 0.0121529567987    accuracy: [ 0.39211494  0.00755893]"
       ]
      },
      {
       "output_type": "stream",
       "stream": "stdout",
       "text": [
        "\n",
        "iteration: 6900    loss: 0.00873222853988    accuracy: [ 0.33035865  0.00767843]"
       ]
      },
      {
       "output_type": "stream",
       "stream": "stdout",
       "text": [
        "\n",
        "iteration: 7000    loss: 0.00880819931626    accuracy: [ 0.24977905  0.01369401]"
       ]
      },
      {
       "output_type": "stream",
       "stream": "stdout",
       "text": [
        "\n",
        "iteration: 7100    loss: 0.0147129911929    accuracy: [ 0.32823798  0.00379425]"
       ]
      },
      {
       "output_type": "stream",
       "stream": "stdout",
       "text": [
        "\n",
        "iteration: 7200    loss: 0.00799016281962    accuracy: [ 0.35316953  0.00391656]"
       ]
      },
      {
       "output_type": "stream",
       "stream": "stdout",
       "text": [
        "\n",
        "iteration: 7300    loss: 0.0119666131213    accuracy: [ 0.15298849  0.04906963]"
       ]
      },
      {
       "output_type": "stream",
       "stream": "stdout",
       "text": [
        "\n",
        "iteration: 7400    loss: 0.0106061249971    accuracy: [ 0.37072322  0.00389787]"
       ]
      },
      {
       "output_type": "stream",
       "stream": "stdout",
       "text": [
        "\n",
        "iteration: 7500    loss: 0.0160229690373    accuracy: [ 0.37231714  0.00259644]"
       ]
      },
      {
       "output_type": "stream",
       "stream": "stdout",
       "text": [
        "\n",
        "iteration: 7600    loss: 0.00777443870902    accuracy: [ 0.36105147  0.00444332]"
       ]
      },
      {
       "output_type": "stream",
       "stream": "stdout",
       "text": [
        "\n",
        "iteration: 7700    loss: 0.00929125119001    accuracy: [ 0.17270032  0.0468529 ]"
       ]
      },
      {
       "output_type": "stream",
       "stream": "stdout",
       "text": [
        "\n",
        "iteration: 7800    loss: 0.00784018728882    accuracy: [ 0.32178041  0.00623249]"
       ]
      },
      {
       "output_type": "stream",
       "stream": "stdout",
       "text": [
        "\n",
        "iteration: 7900    loss: 0.00616949424148    accuracy: [ 0.33170733  0.00363904]"
       ]
      },
      {
       "output_type": "stream",
       "stream": "stdout",
       "text": [
        "\n",
        "iteration: 8000    loss: 0.0171621702611    accuracy: [ 0.36666104  0.01081505]"
       ]
      },
      {
       "output_type": "stream",
       "stream": "stdout",
       "text": [
        "\n",
        "iteration: 8100    loss: 0.00596274761483    accuracy: [ 0.29648021  0.00505024]"
       ]
      },
      {
       "output_type": "stream",
       "stream": "stdout",
       "text": [
        "\n",
        "iteration: 8200    loss: 0.0845956876874    accuracy: [  4.13831149e-04   5.37037015e-01]"
       ]
      },
      {
       "output_type": "stream",
       "stream": "stdout",
       "text": [
        "\n",
        "iteration: 8300    loss: 0.0123173231259    accuracy: [ 0.39912388  0.00611041]"
       ]
      },
      {
       "output_type": "stream",
       "stream": "stdout",
       "text": [
        "\n",
        "iteration: 8400    loss: 0.0104055199772    accuracy: [ 0.37520295  0.00597687]"
       ]
      },
      {
       "output_type": "stream",
       "stream": "stdout",
       "text": [
        "\n",
        "iteration: 8500    loss: 0.00748625677079    accuracy: [ 0.36880776  0.00315984]"
       ]
      },
      {
       "output_type": "stream",
       "stream": "stdout",
       "text": [
        "\n",
        "iteration: 8600    loss: 0.00708737503737    accuracy: [ 0.34587777  0.00271847]"
       ]
      },
      {
       "output_type": "stream",
       "stream": "stdout",
       "text": [
        "\n",
        "iteration: 8700    loss: 0.0985609441996    accuracy: [ 0.00772793  0.50214595]"
       ]
      },
      {
       "output_type": "stream",
       "stream": "stdout",
       "text": [
        "\n",
        "iteration: 8800    loss: 0.0112773710862    accuracy: [ 0.14605241  0.07322493]"
       ]
      },
      {
       "output_type": "stream",
       "stream": "stdout",
       "text": [
        "\n",
        "iteration: 8900    loss: 0.00720674637705    accuracy: [ 0.36952835  0.00381419]"
       ]
      },
      {
       "output_type": "stream",
       "stream": "stdout",
       "text": [
        "\n",
        "iteration: 9000    loss: 0.00746095692739    accuracy: [ 0.23625071  0.00670207]"
       ]
      },
      {
       "output_type": "stream",
       "stream": "stdout",
       "text": [
        "\n",
        "iteration: 9100    loss: 0.00633988203481    accuracy: [ 0.32370684  0.00349353]"
       ]
      },
      {
       "output_type": "stream",
       "stream": "stdout",
       "text": [
        "\n",
        "iteration: 9200    loss: 0.216589465737    accuracy: [ 0.20874804  0.15575819]"
       ]
      },
      {
       "output_type": "stream",
       "stream": "stdout",
       "text": [
        "\n",
        "iteration: 9300    loss: 0.0078925890848    accuracy: [ 0.37568158  0.00377339]"
       ]
      },
      {
       "output_type": "stream",
       "stream": "stdout",
       "text": [
        "\n",
        "iteration: 9400    loss: 0.00899367965758    accuracy: [ 0.38795209  0.00314335]"
       ]
      },
      {
       "output_type": "stream",
       "stream": "stdout",
       "text": [
        "\n",
        "iteration: 9500    loss: 0.0120766246691    accuracy: [ 0.29584217  0.00607958]"
       ]
      },
      {
       "output_type": "stream",
       "stream": "stdout",
       "text": [
        "\n",
        "iteration: 9600    loss: 0.00623188726604    accuracy: [ 0.37230095  0.00210395]"
       ]
      },
      {
       "output_type": "stream",
       "stream": "stdout",
       "text": [
        "\n",
        "iteration: 9700    loss: 0.0906705260277    accuracy: [ 0.  0.]"
       ]
      },
      {
       "output_type": "stream",
       "stream": "stdout",
       "text": [
        "\n",
        "iteration: 9800    loss: 0.00583074614406    accuracy: [ 0.31644747  0.00301859]"
       ]
      },
      {
       "output_type": "stream",
       "stream": "stdout",
       "text": [
        "\n",
        "iteration: 9900    loss: 0.181371241808    accuracy: [ 0.24447122  0.08405551]"
       ]
      },
      {
       "output_type": "stream",
       "stream": "stdout",
       "text": [
        "\n",
        "iteration: 10000   loss: 0.00646212231368    accuracy: [ 0.37287164  0.00314536]"
       ]
      },
      {
       "output_type": "stream",
       "stream": "stdout",
       "text": [
        "\n",
        "snaping to: /home/qinshuo/WorkPlace/caffe_space/extract_skin/weight/seg_skin_net_fin60000.caffemodel\n",
        "iteration: 100     loss: 0.0128058344126    accuracy: [ 0.37131694  0.00315672]"
       ]
      },
      {
       "output_type": "stream",
       "stream": "stdout",
       "text": [
        "\n",
        "iteration: 200     loss: 0.00839041545987    accuracy: [ 0.21373323  0.02128458]"
       ]
      },
      {
       "output_type": "stream",
       "stream": "stdout",
       "text": [
        "\n",
        "iteration: 300     loss: 0.00745139550418    accuracy: [ 0.18409428  0.02735802]"
       ]
      },
      {
       "output_type": "stream",
       "stream": "stdout",
       "text": [
        "\n",
        "iteration: 400     loss: 0.00787105690688    accuracy: [ 0.30547157  0.00614457]"
       ]
      },
      {
       "output_type": "stream",
       "stream": "stdout",
       "text": [
        "\n",
        "iteration: 500     loss: 0.00878050178289    accuracy: [ 0.30476218  0.00519318]"
       ]
      },
      {
       "output_type": "stream",
       "stream": "stdout",
       "text": [
        "\n",
        "iteration: 600     loss: 0.0139560457319    accuracy: [ 0.11456905  0.12156575]"
       ]
      },
      {
       "output_type": "stream",
       "stream": "stdout",
       "text": [
        "\n",
        "iteration: 700     loss: 0.0119339535013    accuracy: [ 0.33456188  0.00523932]"
       ]
      },
      {
       "output_type": "stream",
       "stream": "stdout",
       "text": [
        "\n",
        "iteration: 800     loss: 0.0411563664675    accuracy: [ 0.0069053   0.53318584]"
       ]
      },
      {
       "output_type": "stream",
       "stream": "stdout",
       "text": [
        "\n",
        "iteration: 900     loss: 0.0137277599424    accuracy: [ 0.36625171  0.0060061 ]"
       ]
      },
      {
       "output_type": "stream",
       "stream": "stdout",
       "text": [
        "\n",
        "iteration: 1000    loss: 0.0115706035867    accuracy: [ 0.35782155  0.00515067]"
       ]
      },
      {
       "output_type": "stream",
       "stream": "stdout",
       "text": [
        "\n",
        "iteration: 1100    loss: 0.01366627682    accuracy: [ 0.34181854  0.00806091]"
       ]
      },
      {
       "output_type": "stream",
       "stream": "stdout",
       "text": [
        "\n",
        "iteration: 1200    loss: 0.00662715500221    accuracy: [ 0.3810164   0.00252667]"
       ]
      },
      {
       "output_type": "stream",
       "stream": "stdout",
       "text": [
        "\n",
        "iteration: 1300    loss: 0.0260900836438    accuracy: [ 0.04752775  0.30080515]"
       ]
      },
      {
       "output_type": "stream",
       "stream": "stdout",
       "text": [
        "\n",
        "iteration: 1400    loss: 0.0136137790978    accuracy: [ 0.32739577  0.00914563]"
       ]
      },
      {
       "output_type": "stream",
       "stream": "stdout",
       "text": [
        "\n",
        "iteration: 1500    loss: 0.00885486416519    accuracy: [ 0.34139007  0.00357415]"
       ]
      },
      {
       "output_type": "stream",
       "stream": "stdout",
       "text": [
        "\n",
        "iteration: 1600    loss: 0.00788912177086    accuracy: [ 0.38042468  0.00343525]"
       ]
      },
      {
       "output_type": "stream",
       "stream": "stdout",
       "text": [
        "\n",
        "iteration: 1700    loss: 0.00626611337066    accuracy: [ 0.34651661  0.00337346]"
       ]
      },
      {
       "output_type": "stream",
       "stream": "stdout",
       "text": [
        "\n",
        "iteration: 1800    loss: 0.0131021859124    accuracy: [ 0.36059785  0.00598923]"
       ]
      },
      {
       "output_type": "stream",
       "stream": "stdout",
       "text": [
        "\n",
        "iteration: 1900    loss: 0.0100742317736    accuracy: [ 0.36832413  0.00513485]"
       ]
      },
      {
       "output_type": "stream",
       "stream": "stdout",
       "text": [
        "\n",
        "iteration: 2000    loss: 0.0149350417778    accuracy: [ 0.36835322  0.00196793]"
       ]
      },
      {
       "output_type": "stream",
       "stream": "stdout",
       "text": [
        "\n",
        "iteration: 2100    loss: 0.0859356075525    accuracy: [ 0.  0.]"
       ]
      },
      {
       "output_type": "stream",
       "stream": "stdout",
       "text": [
        "\n",
        "iteration: 2200    loss: 0.183270856738    accuracy: [ 0.02100773  0.30144405]"
       ]
      },
      {
       "output_type": "stream",
       "stream": "stdout",
       "text": [
        "\n",
        "iteration: 2300    loss: 0.0110130356625    accuracy: [ 0.16403656  0.05326724]"
       ]
      },
      {
       "output_type": "stream",
       "stream": "stdout",
       "text": [
        "\n",
        "iteration: 2400    loss: 0.0141698345542    accuracy: [ 0.38642341  0.00496393]"
       ]
      },
      {
       "output_type": "stream",
       "stream": "stdout",
       "text": [
        "\n",
        "iteration: 2500    loss: 0.00658074393868    accuracy: [ 0.33911508  0.00497748]"
       ]
      },
      {
       "output_type": "stream",
       "stream": "stdout",
       "text": [
        "\n",
        "iteration: 2600    loss: 0.00989096239209    accuracy: [ 0.35394645  0.00558436]"
       ]
      },
      {
       "output_type": "stream",
       "stream": "stdout",
       "text": [
        "\n",
        "iteration: 2700    loss: 0.0103299822658    accuracy: [ 0.35065743  0.00610978]"
       ]
      },
      {
       "output_type": "stream",
       "stream": "stdout",
       "text": [
        "\n",
        "iteration: 2800    loss: 0.00923614483327    accuracy: [ 0.27906621  0.00734086]"
       ]
      },
      {
       "output_type": "stream",
       "stream": "stdout",
       "text": [
        "\n",
        "iteration: 2900    loss: 0.00820184126496    accuracy: [ 0.38503155  0.0038602 ]"
       ]
      },
      {
       "output_type": "stream",
       "stream": "stdout",
       "text": [
        "\n",
        "iteration: 3000    loss: 0.00764431944117    accuracy: [ 0.35527888  0.00524573]"
       ]
      },
      {
       "output_type": "stream",
       "stream": "stdout",
       "text": [
        "\n",
        "iteration: 3100    loss: 0.00570214446634    accuracy: [ 0.36209142  0.00252184]"
       ]
      },
      {
       "output_type": "stream",
       "stream": "stdout",
       "text": [
        "\n",
        "iteration: 3200    loss: 0.00934212189168    accuracy: [ 0.36749884  0.00485528]"
       ]
      },
      {
       "output_type": "stream",
       "stream": "stdout",
       "text": [
        "\n",
        "iteration: 3300    loss: 0.0072100777179    accuracy: [ 0.21377081  0.01235517]"
       ]
      },
      {
       "output_type": "stream",
       "stream": "stdout",
       "text": [
        "\n",
        "iteration: 3400    loss: 0.00886305700988    accuracy: [ 0.35786554  0.00533641]"
       ]
      },
      {
       "output_type": "stream",
       "stream": "stdout",
       "text": [
        "\n",
        "iteration: 3500    loss: 0.0481637641788    accuracy: [ 0.01340013  0.75996584]"
       ]
      },
      {
       "output_type": "stream",
       "stream": "stdout",
       "text": [
        "\n",
        "iteration: 3600    loss: 0.0119947269559    accuracy: [ 0.34778619  0.00588119]"
       ]
      },
      {
       "output_type": "stream",
       "stream": "stdout",
       "text": [
        "\n",
        "iteration: 3700    loss: 0.0109059512615    accuracy: [ 0.40198547  0.00530418]"
       ]
      },
      {
       "output_type": "stream",
       "stream": "stdout",
       "text": [
        "\n",
        "iteration: 3800    loss: 0.0205280259252    accuracy: [ 0.05225084  0.28516081]"
       ]
      },
      {
       "output_type": "stream",
       "stream": "stdout",
       "text": [
        "\n",
        "iteration: 3900    loss: 0.00696188863367    accuracy: [ 0.296123    0.00313694]"
       ]
      },
      {
       "output_type": "stream",
       "stream": "stdout",
       "text": [
        "\n",
        "iteration: 4000    loss: 0.00686080101877    accuracy: [ 0.32048965  0.00524534]"
       ]
      },
      {
       "output_type": "stream",
       "stream": "stdout",
       "text": [
        "\n",
        "iteration: 4100    loss: 0.0159794650972    accuracy: [ 0.3284134   0.01008421]"
       ]
      },
      {
       "output_type": "stream",
       "stream": "stdout",
       "text": [
        "\n",
        "iteration: 4200    loss: 0.00597608787939    accuracy: [ 0.37145466  0.00244816]"
       ]
      },
      {
       "output_type": "stream",
       "stream": "stdout",
       "text": [
        "\n",
        "iteration: 4300    loss: 0.00677218800411    accuracy: [ 0.33768606  0.00337241]"
       ]
      },
      {
       "output_type": "stream",
       "stream": "stdout",
       "text": [
        "\n",
        "iteration: 4400    loss: 0.0383569896221    accuracy: [ 0.41078383  0.01640276]"
       ]
      },
      {
       "output_type": "stream",
       "stream": "stdout",
       "text": [
        "\n",
        "iteration: 4500    loss: 0.00819003302604    accuracy: [ 0.37179253  0.00464218]"
       ]
      },
      {
       "output_type": "stream",
       "stream": "stdout",
       "text": [
        "\n",
        "iteration: 4600    loss: 0.0462091676891    accuracy: [ 0.27623981  0.01115511]"
       ]
      },
      {
       "output_type": "stream",
       "stream": "stdout",
       "text": [
        "\n",
        "iteration: 4700    loss: 0.0106097627431    accuracy: [ 0.20737551  0.02358421]"
       ]
      },
      {
       "output_type": "stream",
       "stream": "stdout",
       "text": [
        "\n",
        "iteration: 4800    loss: 0.00944747403264    accuracy: [ 0.37820408  0.00456145]"
       ]
      },
      {
       "output_type": "stream",
       "stream": "stdout",
       "text": [
        "\n",
        "iteration: 4900    loss: 0.00672982539982    accuracy: [ 0.33257067  0.00423807]"
       ]
      },
      {
       "output_type": "stream",
       "stream": "stdout",
       "text": [
        "\n",
        "iteration: 5000    loss: 0.007543948479    accuracy: [ 0.33017156  0.00420333]"
       ]
      },
      {
       "output_type": "stream",
       "stream": "stdout",
       "text": [
        "\n",
        "iteration: 5100    loss: 0.00676468387246    accuracy: [ 0.20207965  0.01616868]"
       ]
      },
      {
       "output_type": "stream",
       "stream": "stdout",
       "text": [
        "\n",
        "iteration: 5200    loss: 0.00636634789407    accuracy: [ 0.35455939  0.00346893]"
       ]
      },
      {
       "output_type": "stream",
       "stream": "stdout",
       "text": [
        "\n",
        "iteration: 5300    loss: 0.00669220322743    accuracy: [ 0.27159917  0.00634603]"
       ]
      },
      {
       "output_type": "stream",
       "stream": "stdout",
       "text": [
        "\n",
        "iteration: 5400    loss: 0.00552975945175    accuracy: [ 0.31263155  0.00416687]"
       ]
      },
      {
       "output_type": "stream",
       "stream": "stdout",
       "text": [
        "\n",
        "iteration: 5500    loss: 0.00773084629327    accuracy: [ 0.3541137   0.00282852]"
       ]
      },
      {
       "output_type": "stream",
       "stream": "stdout",
       "text": [
        "\n",
        "iteration: 5600    loss: 0.00868491455913    accuracy: [ 0.35703939  0.00464549]"
       ]
      },
      {
       "output_type": "stream",
       "stream": "stdout",
       "text": [
        "\n",
        "iteration: 5700    loss: 0.0101283527911    accuracy: [ 0.43061915  0.00357726]"
       ]
      },
      {
       "output_type": "stream",
       "stream": "stdout",
       "text": [
        "\n",
        "iteration: 5800    loss: 0.0138459857553    accuracy: [ 0.30383441  0.01114938]"
       ]
      },
      {
       "output_type": "stream",
       "stream": "stdout",
       "text": [
        "\n",
        "iteration: 5900    loss: 0.00693557504565    accuracy: [ 0.34161311  0.00340121]"
       ]
      },
      {
       "output_type": "stream",
       "stream": "stdout",
       "text": [
        "\n",
        "iteration: 6000    loss: 0.00832215417176    accuracy: [ 0.23809579  0.01203252]"
       ]
      },
      {
       "output_type": "stream",
       "stream": "stdout",
       "text": [
        "\n",
        "iteration: 6100    loss: 0.0944985300303    accuracy: [ 0.  0.]"
       ]
      },
      {
       "output_type": "stream",
       "stream": "stdout",
       "text": [
        "\n",
        "iteration: 6200    loss: 0.0173608697951    accuracy: [ 0.24218738  0.027101  ]"
       ]
      },
      {
       "output_type": "stream",
       "stream": "stdout",
       "text": [
        "\n",
        "iteration: 6300    loss: 0.00758918188512    accuracy: [ 0.25679767  0.01060029]"
       ]
      },
      {
       "output_type": "stream",
       "stream": "stdout",
       "text": [
        "\n",
        "iteration: 6400    loss: 0.0100049348548    accuracy: [ 0.22486052  0.0181883 ]"
       ]
      },
      {
       "output_type": "stream",
       "stream": "stdout",
       "text": [
        "\n",
        "iteration: 6500    loss: 0.0188115574419    accuracy: [ 0.48190376  0.00688233]"
       ]
      },
      {
       "output_type": "stream",
       "stream": "stdout",
       "text": [
        "\n",
        "iteration: 6600    loss: 0.00954640191048    accuracy: [ 0.34402975  0.00787297]"
       ]
      },
      {
       "output_type": "stream",
       "stream": "stdout",
       "text": [
        "\n",
        "iteration: 6700    loss: 0.00715148448944    accuracy: [ 0.28859091  0.00490066]"
       ]
      },
      {
       "output_type": "stream",
       "stream": "stdout",
       "text": [
        "\n",
        "iteration: 6800    loss: 0.00573301035911    accuracy: [ 0.31462666  0.00394571]"
       ]
      },
      {
       "output_type": "stream",
       "stream": "stdout",
       "text": [
        "\n",
        "iteration: 6900    loss: 0.0103528164327    accuracy: [ 0.14252594  0.07050595]"
       ]
      },
      {
       "output_type": "stream",
       "stream": "stdout",
       "text": [
        "\n",
        "iteration: 7000    loss: 0.00639820564538    accuracy: [ 0.36158538  0.00259976]"
       ]
      },
      {
       "output_type": "stream",
       "stream": "stdout",
       "text": [
        "\n",
        "iteration: 7100    loss: 0.00738843623549    accuracy: [ 0.31828964  0.00536357]"
       ]
      },
      {
       "output_type": "stream",
       "stream": "stdout",
       "text": [
        "\n",
        "iteration: 7200    loss: 0.00978525914252    accuracy: [ 0.16169058  0.04679523]"
       ]
      },
      {
       "output_type": "stream",
       "stream": "stdout",
       "text": [
        "\n",
        "iteration: 7300    loss: 0.0074403565377    accuracy: [ 0.31305915  0.00740352]"
       ]
      },
      {
       "output_type": "stream",
       "stream": "stdout",
       "text": [
        "\n",
        "iteration: 7400    loss: 0.00533503014594    accuracy: [ 0.2153738   0.01198922]"
       ]
      },
      {
       "output_type": "stream",
       "stream": "stdout",
       "text": [
        "\n",
        "iteration: 7500    loss: 0.00713329575956    accuracy: [ 0.19616051  0.02344419]"
       ]
      },
      {
       "output_type": "stream",
       "stream": "stdout",
       "text": [
        "\n",
        "iteration: 7600    loss: 0.0106879267842    accuracy: [ 0.37990713  0.00596483]"
       ]
      },
      {
       "output_type": "stream",
       "stream": "stdout",
       "text": [
        "\n",
        "iteration: 7700    loss: 0.00780622567981    accuracy: [ 0.32553497  0.00386404]"
       ]
      },
      {
       "output_type": "stream",
       "stream": "stdout",
       "text": [
        "\n",
        "iteration: 7800    loss: 0.00695115188137    accuracy: [ 0.38323179  0.00179519]"
       ]
      },
      {
       "output_type": "stream",
       "stream": "stdout",
       "text": [
        "\n",
        "iteration: 7900    loss: 0.00924838706851    accuracy: [ 0.34330949  0.00354231]"
       ]
      },
      {
       "output_type": "stream",
       "stream": "stdout",
       "text": [
        "\n",
        "iteration: 8000    loss: 0.0089915804565    accuracy: [ 0.18483704  0.03138949]"
       ]
      },
      {
       "output_type": "stream",
       "stream": "stdout",
       "text": [
        "\n",
        "iteration: 8100    loss: 0.0090863481164    accuracy: [ 0.34848079  0.00516561]"
       ]
      },
      {
       "output_type": "stream",
       "stream": "stdout",
       "text": [
        "\n",
        "iteration: 8200    loss: 0.148900523782    accuracy: [ 0.  0.]"
       ]
      },
      {
       "output_type": "stream",
       "stream": "stdout",
       "text": [
        "\n",
        "iteration: 8300    loss: 0.00691098067909    accuracy: [ 0.37001619  0.00373627]"
       ]
      },
      {
       "output_type": "stream",
       "stream": "stdout",
       "text": [
        "\n",
        "iteration: 8400    loss: 0.0116456858814    accuracy: [ 0.38008136  0.00393328]"
       ]
      },
      {
       "output_type": "stream",
       "stream": "stdout",
       "text": [
        "\n",
        "iteration: 8500    loss: 0.0097225792706    accuracy: [ 0.33935389  0.00415915]"
       ]
      },
      {
       "output_type": "stream",
       "stream": "stdout",
       "text": [
        "\n",
        "iteration: 8600    loss: 0.0105654224753    accuracy: [ 0.35941368  0.00577291]"
       ]
      },
      {
       "output_type": "stream",
       "stream": "stdout",
       "text": [
        "\n",
        "iteration: 8700    loss: 0.0101791620255    accuracy: [ 0.14170621  0.06127901]"
       ]
      },
      {
       "output_type": "stream",
       "stream": "stdout",
       "text": [
        "\n",
        "iteration: 8800    loss: 0.0130465785041    accuracy: [ 0.33491319  0.0048011 ]"
       ]
      },
      {
       "output_type": "stream",
       "stream": "stdout",
       "text": [
        "\n",
        "iteration: 8900    loss: 0.00906299520284    accuracy: [ 0.14906281  0.05892454]"
       ]
      },
      {
       "output_type": "stream",
       "stream": "stdout",
       "text": [
        "\n",
        "iteration: 9000    loss: 0.00638093613088    accuracy: [ 0.36998522  0.00243691]"
       ]
      },
      {
       "output_type": "stream",
       "stream": "stdout",
       "text": [
        "\n",
        "iteration: 9100    loss: 0.00883579626679    accuracy: [ 0.24171099  0.01729858]"
       ]
      },
      {
       "output_type": "stream",
       "stream": "stdout",
       "text": [
        "\n",
        "iteration: 9200    loss: 0.0055162999779    accuracy: [ 0.3137117   0.00371335]"
       ]
      },
      {
       "output_type": "stream",
       "stream": "stdout",
       "text": [
        "\n",
        "iteration: 9300    loss: 0.0131662758067    accuracy: [ 0.4336828   0.00555242]"
       ]
      },
      {
       "output_type": "stream",
       "stream": "stdout",
       "text": [
        "\n",
        "iteration: 9400    loss: 0.0075208414346    accuracy: [ 0.3283793   0.00407318]"
       ]
      },
      {
       "output_type": "stream",
       "stream": "stdout",
       "text": [
        "\n",
        "iteration: 9500    loss: 0.00636870786548    accuracy: [ 0.30716106  0.00419092]"
       ]
      },
      {
       "output_type": "stream",
       "stream": "stdout",
       "text": [
        "\n",
        "iteration: 9600    loss: 0.0133734438568    accuracy: [ 0.09923416  0.14792147]"
       ]
      },
      {
       "output_type": "stream",
       "stream": "stdout",
       "text": [
        "\n",
        "iteration: 9700    loss: 0.0248751025647    accuracy: [ 0.39797938  0.01290422]"
       ]
      },
      {
       "output_type": "stream",
       "stream": "stdout",
       "text": [
        "\n",
        "iteration: 9800    loss: 0.356673121452    accuracy: [ 0.02951081  0.2651715 ]"
       ]
      },
      {
       "output_type": "stream",
       "stream": "stdout",
       "text": [
        "\n",
        "iteration: 9900    loss: 0.00750213721767    accuracy: [ 0.38792548  0.00312205]"
       ]
      },
      {
       "output_type": "stream",
       "stream": "stdout",
       "text": [
        "\n",
        "iteration: 10000   loss: 0.00669615715742    accuracy: [ 0.2600401   0.00705136]"
       ]
      },
      {
       "output_type": "stream",
       "stream": "stdout",
       "text": [
        "\n",
        "snaping to: /home/qinshuo/WorkPlace/caffe_space/extract_skin/weight/seg_skin_net_fin70000.caffemodel\n",
        "iteration: 100     loss: 0.15020032227    accuracy: [ 0.21633013  0.02984473]"
       ]
      },
      {
       "output_type": "stream",
       "stream": "stdout",
       "text": [
        "\n",
        "iteration: 200     loss: 0.0134329628199    accuracy: [ 0.15200865  0.06205371]"
       ]
      },
      {
       "output_type": "stream",
       "stream": "stdout",
       "text": [
        "\n",
        "iteration: 300     loss: 0.0144300507382    accuracy: [ 0.10288952  0.14843403]"
       ]
      },
      {
       "output_type": "stream",
       "stream": "stdout",
       "text": [
        "\n",
        "iteration: 400     loss: 0.00702782720327    accuracy: [ 0.31232733  0.00403759]"
       ]
      },
      {
       "output_type": "stream",
       "stream": "stdout",
       "text": [
        "\n",
        "iteration: 500     loss: 0.0126284137368    accuracy: [ 0.34006977  0.00786517]"
       ]
      },
      {
       "output_type": "stream",
       "stream": "stdout",
       "text": [
        "\n",
        "iteration: 600     loss: 0.00618697050959    accuracy: [ 0.30324304  0.00593229]"
       ]
      },
      {
       "output_type": "stream",
       "stream": "stdout",
       "text": [
        "\n",
        "iteration: 700     loss: 0.0175848603249    accuracy: [ 0.32240242  0.00828356]"
       ]
      },
      {
       "output_type": "stream",
       "stream": "stdout",
       "text": [
        "\n",
        "iteration: 800     loss: 0.00716333277524    accuracy: [ 0.37118334  0.00312976]"
       ]
      },
      {
       "output_type": "stream",
       "stream": "stdout",
       "text": [
        "\n",
        "iteration: 900     loss: 0.00757983373478    accuracy: [ 0.39019695  0.00404236]"
       ]
      },
      {
       "output_type": "stream",
       "stream": "stdout",
       "text": [
        "\n",
        "iteration: 1000    loss: 0.00693631358445    accuracy: [ 0.30475375  0.00278503]"
       ]
      },
      {
       "output_type": "stream",
       "stream": "stdout",
       "text": [
        "\n",
        "iteration: 1100    loss: 0.0874707102776    accuracy: [ 0.2847456   0.04016461]"
       ]
      },
      {
       "output_type": "stream",
       "stream": "stdout",
       "text": [
        "\n",
        "iteration: 1200    loss: 0.00854267179966    accuracy: [ 0.38954449  0.00342372]"
       ]
      },
      {
       "output_type": "stream",
       "stream": "stdout",
       "text": [
        "\n",
        "iteration: 1300    loss: 0.00750809721649    accuracy: [ 0.3784647   0.00375469]"
       ]
      },
      {
       "output_type": "stream",
       "stream": "stdout",
       "text": [
        "\n",
        "iteration: 1400    loss: 0.0804101601243    accuracy: [ 0.  0.]"
       ]
      },
      {
       "output_type": "stream",
       "stream": "stdout",
       "text": [
        "\n",
        "iteration: 1500    loss: 0.00730179063976    accuracy: [ 0.40026292  0.00260635]"
       ]
      },
      {
       "output_type": "stream",
       "stream": "stdout",
       "text": [
        "\n",
        "iteration: 1600    loss: 0.00671481713653    accuracy: [ 0.34421501  0.00381798]"
       ]
      },
      {
       "output_type": "stream",
       "stream": "stdout",
       "text": [
        "\n",
        "iteration: 1700    loss: 0.0100331138819    accuracy: [ 0.31508732  0.00648674]"
       ]
      },
      {
       "output_type": "stream",
       "stream": "stdout",
       "text": [
        "\n",
        "iteration: 1800    loss: 0.0167310498655    accuracy: [ 0.11681204  0.09576771]"
       ]
      },
      {
       "output_type": "stream",
       "stream": "stdout",
       "text": [
        "\n",
        "iteration: 1900    loss: 0.00833199359477    accuracy: [ 0.20065635  0.01850934]"
       ]
      },
      {
       "output_type": "stream",
       "stream": "stdout",
       "text": [
        "\n",
        "iteration: 2000    loss: 0.00908979028463    accuracy: [ 0.28928661  0.01036605]"
       ]
      },
      {
       "output_type": "stream",
       "stream": "stdout",
       "text": [
        "\n",
        "iteration: 2100    loss: 0.0572264790535    accuracy: [ 0.02405964  0.60832274]"
       ]
      },
      {
       "output_type": "stream",
       "stream": "stdout",
       "text": [
        "\n",
        "iteration: 2200    loss: 0.00770221045241    accuracy: [ 0.34537727  0.00429033]"
       ]
      },
      {
       "output_type": "stream",
       "stream": "stdout",
       "text": [
        "\n",
        "iteration: 2300    loss: 0.018414594233    accuracy: [ 0.08116642  0.2097366 ]"
       ]
      },
      {
       "output_type": "stream",
       "stream": "stdout",
       "text": [
        "\n",
        "iteration: 2400    loss: 0.00714872870594    accuracy: [ 0.37546131  0.00344933]"
       ]
      },
      {
       "output_type": "stream",
       "stream": "stdout",
       "text": [
        "\n",
        "iteration: 2500    loss: 0.0086029432714    accuracy: [ 0.35594049  0.00440273]"
       ]
      },
      {
       "output_type": "stream",
       "stream": "stdout",
       "text": [
        "\n",
        "iteration: 2600    loss: 0.290152311325    accuracy: [ 0.07252517  0.13309307]"
       ]
      },
      {
       "output_type": "stream",
       "stream": "stdout",
       "text": [
        "\n",
        "iteration: 2700    loss: 0.005900003016    accuracy: [ 0.31981042  0.00260541]"
       ]
      },
      {
       "output_type": "stream",
       "stream": "stdout",
       "text": [
        "\n",
        "iteration: 2800    loss: 0.00548492139205    accuracy: [ 0.31910831  0.00389035]"
       ]
      },
      {
       "output_type": "stream",
       "stream": "stdout",
       "text": [
        "\n",
        "iteration: 2900    loss: 0.0114097213373    accuracy: [ 0.29173124  0.00543079]"
       ]
      },
      {
       "output_type": "stream",
       "stream": "stdout",
       "text": [
        "\n",
        "iteration: 3000    loss: 0.0175528954715    accuracy: [ 0.32880089  0.00985847]"
       ]
      },
      {
       "output_type": "stream",
       "stream": "stdout",
       "text": [
        "\n",
        "iteration: 3100    loss: 0.0142133198678    accuracy: [ 0.3538225   0.00319485]"
       ]
      },
      {
       "output_type": "stream",
       "stream": "stdout",
       "text": [
        "\n",
        "iteration: 3200    loss: 0.00810266658664    accuracy: [ 0.27323306  0.00855896]"
       ]
      },
      {
       "output_type": "stream",
       "stream": "stdout",
       "text": [
        "\n",
        "iteration: 3300    loss: 0.00737519050017    accuracy: [ 0.36435491  0.00266448]"
       ]
      },
      {
       "output_type": "stream",
       "stream": "stdout",
       "text": [
        "\n",
        "iteration: 3400    loss: 0.00731376186013    accuracy: [ 0.35991946  0.00366273]"
       ]
      },
      {
       "output_type": "stream",
       "stream": "stdout",
       "text": [
        "\n",
        "iteration: 3500    loss: 0.00749381259084    accuracy: [ 0.35946438  0.003975  ]"
       ]
      },
      {
       "output_type": "stream",
       "stream": "stdout",
       "text": [
        "\n",
        "iteration: 3600    loss: 0.0080147869885    accuracy: [ 0.29636654  0.00505728]"
       ]
      },
      {
       "output_type": "stream",
       "stream": "stdout",
       "text": [
        "\n",
        "iteration: 3700    loss: 0.0218825601041    accuracy: [ 0.05366214  0.27521369]"
       ]
      },
      {
       "output_type": "stream",
       "stream": "stdout",
       "text": [
        "\n",
        "iteration: 3800    loss: 0.0100329220295    accuracy: [ 0.41726315  0.0031598 ]"
       ]
      },
      {
       "output_type": "stream",
       "stream": "stdout",
       "text": [
        "\n",
        "iteration: 3900    loss: 0.00747114187106    accuracy: [ 0.32656896  0.00888723]"
       ]
      },
      {
       "output_type": "stream",
       "stream": "stdout",
       "text": [
        "\n",
        "iteration: 4000    loss: 0.00666438043118    accuracy: [ 0.36197042  0.00309294]"
       ]
      },
      {
       "output_type": "stream",
       "stream": "stdout",
       "text": [
        "\n",
        "iteration: 4100    loss: 0.0141564616933    accuracy: [ 0.3981843   0.00712612]"
       ]
      },
      {
       "output_type": "stream",
       "stream": "stdout",
       "text": [
        "\n",
        "iteration: 4200    loss: 0.184262245893    accuracy: [ 0.00045853  0.44      ]"
       ]
      },
      {
       "output_type": "stream",
       "stream": "stdout",
       "text": [
        "\n",
        "iteration: 4300    loss: 0.00923554599285    accuracy: [ 0.36675665  0.00382642]"
       ]
      },
      {
       "output_type": "stream",
       "stream": "stdout",
       "text": [
        "\n",
        "iteration: 4400    loss: 0.0335243493319    accuracy: [ 0.48003116  0.01367007]"
       ]
      },
      {
       "output_type": "stream",
       "stream": "stdout",
       "text": [
        "\n",
        "iteration: 4500    loss: 0.0190805736929    accuracy: [ 0.42336944  0.01022231]"
       ]
      },
      {
       "output_type": "stream",
       "stream": "stdout",
       "text": [
        "\n",
        "iteration: 4600    loss: 0.0397231429815    accuracy: [ 0.14877501  0.06065303]"
       ]
      },
      {
       "output_type": "stream",
       "stream": "stdout",
       "text": [
        "\n",
        "iteration: 4700    loss: 0.0114890448749    accuracy: [ 0.3582834   0.00482494]"
       ]
      },
      {
       "output_type": "stream",
       "stream": "stdout",
       "text": [
        "\n",
        "iteration: 4800    loss: 0.110342159867    accuracy: [ 0.23444591  0.04189888]"
       ]
      },
      {
       "output_type": "stream",
       "stream": "stdout",
       "text": [
        "\n",
        "iteration: 4900    loss: 0.00662902742624    accuracy: [ 0.32813185  0.00458673]"
       ]
      },
      {
       "output_type": "stream",
       "stream": "stdout",
       "text": [
        "\n",
        "iteration: 5000    loss: 0.00671163480729    accuracy: [ 0.34999827  0.0023587 ]"
       ]
      },
      {
       "output_type": "stream",
       "stream": "stdout",
       "text": [
        "\n",
        "iteration: 5100    loss: 0.00711563508958    accuracy: [ 0.2693668   0.01007893]"
       ]
      },
      {
       "output_type": "stream",
       "stream": "stdout",
       "text": [
        "\n",
        "iteration: 5200    loss: 0.0171189997345    accuracy: [ 0.47747335  0.00515043]"
       ]
      },
      {
       "output_type": "stream",
       "stream": "stdout",
       "text": [
        "\n",
        "iteration: 5300    loss: 0.0121066030115    accuracy: [ 0.38471109  0.00357214]"
       ]
      },
      {
       "output_type": "stream",
       "stream": "stdout",
       "text": [
        "\n",
        "iteration: 5400    loss: 0.00777654023841    accuracy: [ 0.27946565  0.01022473]"
       ]
      },
      {
       "output_type": "stream",
       "stream": "stdout",
       "text": [
        "\n",
        "iteration: 5500    loss: 0.00689522456378    accuracy: [ 0.2448989   0.01150823]"
       ]
      },
      {
       "output_type": "stream",
       "stream": "stdout",
       "text": [
        "\n",
        "iteration: 5600    loss: 0.0064897434786    accuracy: [ 0.36979118  0.0030576 ]"
       ]
      },
      {
       "output_type": "stream",
       "stream": "stdout",
       "text": [
        "\n",
        "iteration: 5700    loss: 0.0156600177288    accuracy: [ 0.39656767  0.01132948]"
       ]
      },
      {
       "output_type": "stream",
       "stream": "stdout",
       "text": [
        "\n",
        "iteration: 5800    loss: 0.0142860338092    accuracy: [ 0.26665953  0.01557574]"
       ]
      },
      {
       "output_type": "stream",
       "stream": "stdout",
       "text": [
        "\n",
        "iteration: 5900    loss: 0.00572621030733    accuracy: [ 0.26992375  0.0061994 ]"
       ]
      },
      {
       "output_type": "stream",
       "stream": "stdout",
       "text": [
        "\n",
        "iteration: 6000    loss: 0.0226096268743    accuracy: [ 0.39204958  0.0091221 ]"
       ]
      },
      {
       "output_type": "stream",
       "stream": "stdout",
       "text": [
        "\n",
        "iteration: 6100    loss: 0.00824873521924    accuracy: [ 0.30435097  0.00580023]"
       ]
      },
      {
       "output_type": "stream",
       "stream": "stdout",
       "text": [
        "\n",
        "iteration: 6200    loss: 0.0117027163506    accuracy: [ 0.32920355  0.00456913]"
       ]
      },
      {
       "output_type": "stream",
       "stream": "stdout",
       "text": [
        "\n",
        "iteration: 6300    loss: 0.00698089739308    accuracy: [ 0.36611134  0.00366174]"
       ]
      },
      {
       "output_type": "stream",
       "stream": "stdout",
       "text": [
        "\n",
        "iteration: 6400    loss: 0.00921489298344    accuracy: [ 0.39938849  0.00354067]"
       ]
      },
      {
       "output_type": "stream",
       "stream": "stdout",
       "text": [
        "\n",
        "iteration: 6500    loss: 0.0129238618538    accuracy: [ 0.13021334  0.07799459]"
       ]
      },
      {
       "output_type": "stream",
       "stream": "stdout",
       "text": [
        "\n",
        "iteration: 6600    loss: 0.00713856238872    accuracy: [ 0.3151114   0.00409816]"
       ]
      },
      {
       "output_type": "stream",
       "stream": "stdout",
       "text": [
        "\n",
        "iteration: 6700    loss: 0.00862744823098    accuracy: [ 0.33755758  0.00614392]"
       ]
      },
      {
       "output_type": "stream",
       "stream": "stdout",
       "text": [
        "\n",
        "iteration: 6800    loss: 0.00911308266222    accuracy: [ 0.31373417  0.00719643]"
       ]
      },
      {
       "output_type": "stream",
       "stream": "stdout",
       "text": [
        "\n",
        "iteration: 6900    loss: 0.00552574545145    accuracy: [ 0.34974682  0.00330844]"
       ]
      },
      {
       "output_type": "stream",
       "stream": "stdout",
       "text": [
        "\n",
        "iteration: 7000    loss: 0.0127603951842    accuracy: [ 0.3700155  0.0057921]"
       ]
      },
      {
       "output_type": "stream",
       "stream": "stdout",
       "text": [
        "\n",
        "iteration: 7100    loss: 0.0198612120003    accuracy: [ 0.08572731  0.1689612 ]"
       ]
      },
      {
       "output_type": "stream",
       "stream": "stdout",
       "text": [
        "\n",
        "iteration: 7200    loss: 0.0177355036139    accuracy: [ 0.33872706  0.01175648]"
       ]
      },
      {
       "output_type": "stream",
       "stream": "stdout",
       "text": [
        "\n",
        "iteration: 7300    loss: 0.00866619497538    accuracy: [ 0.36719668  0.00270698]"
       ]
      },
      {
       "output_type": "stream",
       "stream": "stdout",
       "text": [
        "\n",
        "iteration: 7400    loss: 0.00761484866962    accuracy: [ 0.36332229  0.00329224]"
       ]
      },
      {
       "output_type": "stream",
       "stream": "stdout",
       "text": [
        "\n",
        "iteration: 7500    loss: 0.00579320592806    accuracy: [ 0.31006697  0.00308049]"
       ]
      },
      {
       "output_type": "stream",
       "stream": "stdout",
       "text": [
        "\n",
        "iteration: 7600    loss: 0.0115788113326    accuracy: [ 0.33984548  0.00519942]"
       ]
      },
      {
       "output_type": "stream",
       "stream": "stdout",
       "text": [
        "\n",
        "iteration: 7700    loss: 0.014641883783    accuracy: [ 0.15666096  0.06963938]"
       ]
      },
      {
       "output_type": "stream",
       "stream": "stdout",
       "text": [
        "\n",
        "iteration: 7800    loss: 0.0381160229445    accuracy: [ 0.25912637  0.03090942]"
       ]
      },
      {
       "output_type": "stream",
       "stream": "stdout",
       "text": [
        "\n",
        "iteration: 7900    loss: 0.00915471091866    accuracy: [ 0.35226256  0.00546543]"
       ]
      },
      {
       "output_type": "stream",
       "stream": "stdout",
       "text": [
        "\n",
        "iteration: 8000    loss: 0.00760047044605    accuracy: [ 0.38092619  0.00359979]"
       ]
      },
      {
       "output_type": "stream",
       "stream": "stdout",
       "text": [
        "\n",
        "iteration: 8100    loss: 0.00786958448589    accuracy: [ 0.2690289   0.00714205]"
       ]
      },
      {
       "output_type": "stream",
       "stream": "stdout",
       "text": [
        "\n",
        "iteration: 8200    loss: 0.00805889442563    accuracy: [ 0.30409929  0.01220554]"
       ]
      },
      {
       "output_type": "stream",
       "stream": "stdout",
       "text": [
        "\n",
        "iteration: 8300    loss: 0.0103919953108    accuracy: [ 0.43104115  0.00334303]"
       ]
      },
      {
       "output_type": "stream",
       "stream": "stdout",
       "text": [
        "\n",
        "iteration: 8400    loss: 0.0124266687781    accuracy: [ 0.32662344  0.00380937]"
       ]
      },
      {
       "output_type": "stream",
       "stream": "stdout",
       "text": [
        "\n",
        "iteration: 8500    loss: 0.104764558375    accuracy: [ 0.  0.]"
       ]
      },
      {
       "output_type": "stream",
       "stream": "stdout",
       "text": [
        "\n",
        "iteration: 8600    loss: 0.00597807345912    accuracy: [ 0.32658207  0.00410565]"
       ]
      },
      {
       "output_type": "stream",
       "stream": "stdout",
       "text": [
        "\n",
        "iteration: 8700    loss: 0.0104729942977    accuracy: [ 0.36322621  0.00443158]"
       ]
      },
      {
       "output_type": "stream",
       "stream": "stdout",
       "text": [
        "\n",
        "iteration: 8800    loss: 0.00776513200253    accuracy: [ 0.25671628  0.00840824]"
       ]
      },
      {
       "output_type": "stream",
       "stream": "stdout",
       "text": [
        "\n",
        "iteration: 8900    loss: 0.357232809067    accuracy: [ 0.21610503  0.72762465]"
       ]
      },
      {
       "output_type": "stream",
       "stream": "stdout",
       "text": [
        "\n",
        "iteration: 9000    loss: 0.00878163985908    accuracy: [ 0.30167753  0.00901448]"
       ]
      },
      {
       "output_type": "stream",
       "stream": "stdout",
       "text": [
        "\n",
        "iteration: 9100    loss: 0.00764170475304    accuracy: [ 0.36013475  0.00448645]"
       ]
      },
      {
       "output_type": "stream",
       "stream": "stdout",
       "text": [
        "\n",
        "iteration: 9200    loss: 0.00597243988886    accuracy: [ 0.30168819  0.00465894]"
       ]
      },
      {
       "output_type": "stream",
       "stream": "stdout",
       "text": [
        "\n",
        "iteration: 9300    loss: 0.00732635334134    accuracy: [ 0.31424335  0.00469358]"
       ]
      },
      {
       "output_type": "stream",
       "stream": "stdout",
       "text": [
        "\n",
        "iteration: 9400    loss: 0.0137011976913    accuracy: [ 0.43357775  0.00667677]"
       ]
      },
      {
       "output_type": "stream",
       "stream": "stdout",
       "text": [
        "\n",
        "iteration: 9500    loss: 0.00538057973608    accuracy: [ 0.34627828  0.00293417]"
       ]
      },
      {
       "output_type": "stream",
       "stream": "stdout",
       "text": [
        "\n",
        "iteration: 9600    loss: 0.113582260907    accuracy: [ 0.  0.]"
       ]
      },
      {
       "output_type": "stream",
       "stream": "stdout",
       "text": [
        "\n",
        "iteration: 9700    loss: 0.00959787145257    accuracy: [ 0.34048826  0.00677525]"
       ]
      },
      {
       "output_type": "stream",
       "stream": "stdout",
       "text": [
        "\n",
        "iteration: 9800    loss: 0.0075444933027    accuracy: [ 0.36376837  0.00372883]"
       ]
      },
      {
       "output_type": "stream",
       "stream": "stdout",
       "text": [
        "\n",
        "iteration: 9900    loss: 0.00983588024974    accuracy: [ 0.25500068  0.00577662]"
       ]
      },
      {
       "output_type": "stream",
       "stream": "stdout",
       "text": [
        "\n",
        "iteration: 10000   loss: 0.0105847269297    accuracy: [ 0.36030185  0.00591729]"
       ]
      },
      {
       "output_type": "stream",
       "stream": "stdout",
       "text": [
        "\n",
        "snaping to: /home/qinshuo/WorkPlace/caffe_space/extract_skin/weight/seg_skin_net_fin80000.caffemodel\n",
        "iteration: 100     loss: 0.00537792313844    accuracy: [ 0.33391532  0.00306636]"
       ]
      },
      {
       "output_type": "stream",
       "stream": "stdout",
       "text": [
        "\n",
        "iteration: 200     loss: 0.00971074029803    accuracy: [ 0.39737618  0.00432626]"
       ]
      },
      {
       "output_type": "stream",
       "stream": "stdout",
       "text": [
        "\n",
        "iteration: 300     loss: 0.0209751836956    accuracy: [ 0.24814335  0.01987001]"
       ]
      },
      {
       "output_type": "stream",
       "stream": "stdout",
       "text": [
        "\n",
        "iteration: 400     loss: 0.00726562179625    accuracy: [ 0.29190433  0.00692336]"
       ]
      },
      {
       "output_type": "stream",
       "stream": "stdout",
       "text": [
        "\n",
        "iteration: 500     loss: 0.00974935013801    accuracy: [ 0.4237619   0.00344442]"
       ]
      },
      {
       "output_type": "stream",
       "stream": "stdout",
       "text": [
        "\n",
        "iteration: 600     loss: 0.00835016556084    accuracy: [ 0.36099526  0.00316617]"
       ]
      },
      {
       "output_type": "stream",
       "stream": "stdout",
       "text": [
        "\n",
        "iteration: 700     loss: 0.00652960687876    accuracy: [ 0.31819397  0.00519808]"
       ]
      },
      {
       "output_type": "stream",
       "stream": "stdout",
       "text": [
        "\n",
        "iteration: 800     loss: 0.0205639749765    accuracy: [ 0.08408988  0.18572339]"
       ]
      },
      {
       "output_type": "stream",
       "stream": "stdout",
       "text": [
        "\n",
        "iteration: 900     loss: 0.0143724540249    accuracy: [ 0.36500773  0.00790091]"
       ]
      },
      {
       "output_type": "stream",
       "stream": "stdout",
       "text": [
        "\n",
        "iteration: 1000    loss: 0.00605578487739    accuracy: [ 0.30776873  0.00392293]"
       ]
      },
      {
       "output_type": "stream",
       "stream": "stdout",
       "text": [
        "\n",
        "iteration: 1100    loss: 0.0169916674495    accuracy: [ 0.10092962  0.1352571 ]"
       ]
      },
      {
       "output_type": "stream",
       "stream": "stdout",
       "text": [
        "\n",
        "iteration: 1200    loss: 0.013230862096    accuracy: [ 0.3443476   0.00990637]"
       ]
      },
      {
       "output_type": "stream",
       "stream": "stdout",
       "text": [
        "\n",
        "iteration: 1300    loss: 0.0209042541683    accuracy: [ 0.40958992  0.00948186]"
       ]
      },
      {
       "output_type": "stream",
       "stream": "stdout",
       "text": [
        "\n",
        "iteration: 1400    loss: 0.103028148413    accuracy: [ 0.  0.]"
       ]
      },
      {
       "output_type": "stream",
       "stream": "stdout",
       "text": [
        "\n",
        "iteration: 1500    loss: 0.00712166307494    accuracy: [ 0.38302571  0.00338026]"
       ]
      },
      {
       "output_type": "stream",
       "stream": "stdout",
       "text": [
        "\n",
        "iteration: 1600    loss: 0.00688154762611    accuracy: [ 0.34947318  0.00385894]"
       ]
      },
      {
       "output_type": "stream",
       "stream": "stdout",
       "text": [
        "\n",
        "iteration: 1700    loss: 0.00592791009694    accuracy: [ 0.23295732  0.00967784]"
       ]
      },
      {
       "output_type": "stream",
       "stream": "stdout",
       "text": [
        "\n",
        "iteration: 1800    loss: 0.0137400571257    accuracy: [ 0.37211904  0.00339744]"
       ]
      },
      {
       "output_type": "stream",
       "stream": "stdout",
       "text": [
        "\n",
        "iteration: 1900    loss: 0.0104733128101    accuracy: [ 0.39034274  0.00510204]"
       ]
      },
      {
       "output_type": "stream",
       "stream": "stdout",
       "text": [
        "\n",
        "iteration: 2000    loss: 0.444697797298    accuracy: [ 0.30209753  0.61353749]"
       ]
      },
      {
       "output_type": "stream",
       "stream": "stdout",
       "text": [
        "\n",
        "iteration: 2100    loss: 0.16832524538    accuracy: [ 0.02471313  0.36137256]"
       ]
      },
      {
       "output_type": "stream",
       "stream": "stdout",
       "text": [
        "\n",
        "iteration: 2200    loss: 0.0293691977859    accuracy: [ 0.24063711  0.02543776]"
       ]
      },
      {
       "output_type": "stream",
       "stream": "stdout",
       "text": [
        "\n",
        "iteration: 2300    loss: 0.0168434437364    accuracy: [ 0.380025    0.01051891]"
       ]
      },
      {
       "output_type": "stream",
       "stream": "stdout",
       "text": [
        "\n",
        "iteration: 2400    loss: 0.00871160253882    accuracy: [ 0.28324583  0.01116023]"
       ]
      },
      {
       "output_type": "stream",
       "stream": "stdout",
       "text": [
        "\n",
        "iteration: 2500    loss: 0.00903709605336    accuracy: [ 0.33910736  0.00531771]"
       ]
      },
      {
       "output_type": "stream",
       "stream": "stdout",
       "text": [
        "\n",
        "iteration: 2600    loss: 0.401524811983    accuracy: [ 0.20760576  0.87040114]"
       ]
      },
      {
       "output_type": "stream",
       "stream": "stdout",
       "text": [
        "\n",
        "iteration: 2700    loss: 0.00891605578363    accuracy: [ 0.39017797  0.00579324]"
       ]
      },
      {
       "output_type": "stream",
       "stream": "stdout",
       "text": [
        "\n",
        "iteration: 2800    loss: 0.00707818102092    accuracy: [ 0.28679973  0.00595682]"
       ]
      },
      {
       "output_type": "stream",
       "stream": "stdout",
       "text": [
        "\n",
        "iteration: 2900    loss: 0.00560896936804    accuracy: [ 0.28015172  0.0065445 ]"
       ]
      },
      {
       "output_type": "stream",
       "stream": "stdout",
       "text": [
        "\n",
        "iteration: 3000    loss: 0.0130992680788    accuracy: [ 0.33561155  0.00441277]"
       ]
      },
      {
       "output_type": "stream",
       "stream": "stdout",
       "text": [
        "\n",
        "iteration: 3100    loss: 0.00579816289246    accuracy: [ 0.29659057  0.00611735]"
       ]
      },
      {
       "output_type": "stream",
       "stream": "stdout",
       "text": [
        "\n",
        "iteration: 3200    loss: 0.00768740009516    accuracy: [ 0.36755377  0.00315034]"
       ]
      },
      {
       "output_type": "stream",
       "stream": "stdout",
       "text": [
        "\n",
        "iteration: 3300    loss: 0.0096001168713    accuracy: [ 0.35395837  0.00547256]"
       ]
      },
      {
       "output_type": "stream",
       "stream": "stdout",
       "text": [
        "\n",
        "iteration: 3400    loss: 0.00756406504661    accuracy: [ 0.28783962  0.00667995]"
       ]
      },
      {
       "output_type": "stream",
       "stream": "stdout",
       "text": [
        "\n",
        "iteration: 3500    loss: 0.00834343489259    accuracy: [ 0.37777057  0.00388381]"
       ]
      },
      {
       "output_type": "stream",
       "stream": "stdout",
       "text": [
        "\n",
        "iteration: 3600    loss: 0.00765868136659    accuracy: [ 0.36618254  0.00213041]"
       ]
      },
      {
       "output_type": "stream",
       "stream": "stdout",
       "text": [
        "\n",
        "iteration: 3700    loss: 0.0188160799444    accuracy: [ 0.37464985  0.00352329]"
       ]
      },
      {
       "output_type": "stream",
       "stream": "stdout",
       "text": [
        "\n",
        "iteration: 3800    loss: 0.00785194523633    accuracy: [ 0.24466057  0.01172998]"
       ]
      },
      {
       "output_type": "stream",
       "stream": "stdout",
       "text": [
        "\n",
        "iteration: 3900    loss: 0.015388360247    accuracy: [ 0.38588187  0.00447509]"
       ]
      },
      {
       "output_type": "stream",
       "stream": "stdout",
       "text": [
        "\n",
        "iteration: 4000    loss: 0.00912821665406    accuracy: [ 0.40386695  0.00418968]"
       ]
      },
      {
       "output_type": "stream",
       "stream": "stdout",
       "text": [
        "\n",
        "iteration: 4100    loss: 0.00795934535563    accuracy: [ 0.33052453  0.00386342]"
       ]
      },
      {
       "output_type": "stream",
       "stream": "stdout",
       "text": [
        "\n",
        "iteration: 4200    loss: 0.009885026142    accuracy: [ 0.27758449  0.00438017]"
       ]
      },
      {
       "output_type": "stream",
       "stream": "stdout",
       "text": [
        "\n",
        "iteration: 4300    loss: 0.00774308107793    accuracy: [ 0.35561395  0.00496134]"
       ]
      },
      {
       "output_type": "stream",
       "stream": "stdout",
       "text": [
        "\n",
        "iteration: 4400    loss: 0.00681664003059    accuracy: [ 0.35589969  0.0024054 ]"
       ]
      },
      {
       "output_type": "stream",
       "stream": "stdout",
       "text": [
        "\n",
        "iteration: 4500    loss: 0.0159961916506    accuracy: [ 0.36454168  0.01053756]"
       ]
      },
      {
       "output_type": "stream",
       "stream": "stdout",
       "text": [
        "\n",
        "iteration: 4600    loss: 0.147881224751    accuracy: [ 0.01505068  0.34901598]"
       ]
      },
      {
       "output_type": "stream",
       "stream": "stdout",
       "text": [
        "\n",
        "iteration: 4700    loss: 0.00784394517541    accuracy: [ 0.35807824  0.00373501]"
       ]
      },
      {
       "output_type": "stream",
       "stream": "stdout",
       "text": [
        "\n",
        "iteration: 4800    loss: 0.00972272735089    accuracy: [ 0.21370456  0.02131423]"
       ]
      },
      {
       "output_type": "stream",
       "stream": "stdout",
       "text": [
        "\n",
        "iteration: 4900    loss: 0.00593486102298    accuracy: [ 0.31306779  0.00331918]"
       ]
      },
      {
       "output_type": "stream",
       "stream": "stdout",
       "text": [
        "\n",
        "iteration: 5000    loss: 0.0103391846642    accuracy: [ 0.38630575  0.00454401]"
       ]
      },
      {
       "output_type": "stream",
       "stream": "stdout",
       "text": [
        "\n",
        "iteration: 5100    loss: 0.00868831109256    accuracy: [ 0.33438098  0.00712654]"
       ]
      },
      {
       "output_type": "stream",
       "stream": "stdout",
       "text": [
        "\n",
        "iteration: 5200    loss: 0.00904423557222    accuracy: [ 0.33962032  0.00572682]"
       ]
      },
      {
       "output_type": "stream",
       "stream": "stdout",
       "text": [
        "\n",
        "iteration: 5300    loss: 0.00951920170337    accuracy: [ 0.41325915  0.00403181]"
       ]
      },
      {
       "output_type": "stream",
       "stream": "stdout",
       "text": [
        "\n",
        "iteration: 5400    loss: 0.0124226920307    accuracy: [ 0.14448585  0.07224103]"
       ]
      },
      {
       "output_type": "stream",
       "stream": "stdout",
       "text": [
        "\n",
        "iteration: 5500    loss: 0.0174282304943    accuracy: [ 0.10098547  0.15150598]"
       ]
      },
      {
       "output_type": "stream",
       "stream": "stdout",
       "text": [
        "\n",
        "iteration: 5600    loss: 0.00652722548693    accuracy: [ 0.37285998  0.00295106]"
       ]
      },
      {
       "output_type": "stream",
       "stream": "stdout",
       "text": [
        "\n",
        "iteration: 5700    loss: 0.00701261404902    accuracy: [ 0.24060024  0.01124166]"
       ]
      },
      {
       "output_type": "stream",
       "stream": "stdout",
       "text": [
        "\n",
        "iteration: 5800    loss: 0.0091337300837    accuracy: [ 0.3849805   0.00519759]"
       ]
      },
      {
       "output_type": "stream",
       "stream": "stdout",
       "text": [
        "\n",
        "iteration: 5900    loss: 0.263815879822    accuracy: [ 0.06062742  0.13388945]"
       ]
      },
      {
       "output_type": "stream",
       "stream": "stdout",
       "text": [
        "\n",
        "iteration: 6000    loss: 0.00621610693634    accuracy: [ 0.31664985  0.00616376]"
       ]
      },
      {
       "output_type": "stream",
       "stream": "stdout",
       "text": [
        "\n",
        "iteration: 6100    loss: 0.00678341276944    accuracy: [ 0.34988612  0.00290495]"
       ]
      },
      {
       "output_type": "stream",
       "stream": "stdout",
       "text": [
        "\n",
        "iteration: 6200    loss: 0.0061451504007    accuracy: [ 0.28710219  0.00477902]"
       ]
      },
      {
       "output_type": "stream",
       "stream": "stdout",
       "text": [
        "\n",
        "iteration: 6300    loss: 0.00919741857797    accuracy: [ 0.38829654  0.00494864]"
       ]
      },
      {
       "output_type": "stream",
       "stream": "stdout",
       "text": [
        "\n",
        "iteration: 6400    loss: 0.00702570006251    accuracy: [ 0.35390601  0.00353101]"
       ]
      },
      {
       "output_type": "stream",
       "stream": "stdout",
       "text": [
        "\n",
        "iteration: 6500    loss: 0.00617452152073    accuracy: [ 0.32877383  0.00388047]"
       ]
      },
      {
       "output_type": "stream",
       "stream": "stdout",
       "text": [
        "\n",
        "iteration: 6600    loss: 0.00955987628549    accuracy: [ 0.15537068  0.04936541]"
       ]
      },
      {
       "output_type": "stream",
       "stream": "stdout",
       "text": [
        "\n",
        "iteration: 6700    loss: 0.00874627940357    accuracy: [ 0.41068149  0.00406451]"
       ]
      },
      {
       "output_type": "stream",
       "stream": "stdout",
       "text": [
        "\n",
        "iteration: 6800    loss: 0.013169920072    accuracy: [ 0.36845556  0.0027564 ]"
       ]
      },
      {
       "output_type": "stream",
       "stream": "stdout",
       "text": [
        "\n",
        "iteration: 6900    loss: 0.0101120434701    accuracy: [ 0.33494946  0.00748278]"
       ]
      },
      {
       "output_type": "stream",
       "stream": "stdout",
       "text": [
        "\n",
        "iteration: 7000    loss: 0.012692197226    accuracy: [ 0.37129775  0.0054238 ]"
       ]
      },
      {
       "output_type": "stream",
       "stream": "stdout",
       "text": [
        "\n",
        "iteration: 7100    loss: 0.0110459495336    accuracy: [ 0.3666465   0.00297482]"
       ]
      },
      {
       "output_type": "stream",
       "stream": "stdout",
       "text": [
        "\n",
        "iteration: 7200    loss: 0.02752016671    accuracy: [ 0.39291963  0.01486065]"
       ]
      },
      {
       "output_type": "stream",
       "stream": "stdout",
       "text": [
        "\n",
        "iteration: 7300    loss: 0.00737192016095    accuracy: [ 0.33891651  0.00530716]"
       ]
      },
      {
       "output_type": "stream",
       "stream": "stdout",
       "text": [
        "\n",
        "iteration: 7400    loss: 0.0272387936711    accuracy: [ 0.04072062  0.30523145]"
       ]
      },
      {
       "output_type": "stream",
       "stream": "stdout",
       "text": [
        "\n",
        "iteration: 7500    loss: 0.106092751026    accuracy: [ 0.00892989  0.46022728]"
       ]
      },
      {
       "output_type": "stream",
       "stream": "stdout",
       "text": [
        "\n",
        "iteration: 7600    loss: 0.0173141881824    accuracy: [ 0.35102233  0.00741733]"
       ]
      },
      {
       "output_type": "stream",
       "stream": "stdout",
       "text": [
        "\n",
        "iteration: 7700    loss: 0.00821408163756    accuracy: [ 0.33494094  0.00316297]"
       ]
      },
      {
       "output_type": "stream",
       "stream": "stdout",
       "text": [
        "\n",
        "iteration: 7800    loss: 0.00591127481312    accuracy: [ 0.3205722  0.0032418]"
       ]
      },
      {
       "output_type": "stream",
       "stream": "stdout",
       "text": [
        "\n",
        "iteration: 7900    loss: 0.0061015128158    accuracy: [ 0.22324921  0.01585917]"
       ]
      },
      {
       "output_type": "stream",
       "stream": "stdout",
       "text": [
        "\n",
        "iteration: 8000    loss: 0.00796139985323    accuracy: [ 0.37481809  0.00398475]"
       ]
      },
      {
       "output_type": "stream",
       "stream": "stdout",
       "text": [
        "\n",
        "iteration: 8100    loss: 0.0118575543165    accuracy: [ 0.24836731  0.01803329]"
       ]
      },
      {
       "output_type": "stream",
       "stream": "stdout",
       "text": [
        "\n",
        "iteration: 8200    loss: 0.00759850535542    accuracy: [ 0.33220348  0.00501541]"
       ]
      },
      {
       "output_type": "stream",
       "stream": "stdout",
       "text": [
        "\n",
        "iteration: 8300    loss: 0.0108666829765    accuracy: [ 0.40083903  0.00411774]"
       ]
      },
      {
       "output_type": "stream",
       "stream": "stdout",
       "text": [
        "\n",
        "iteration: 8400    loss: 0.00743373343721    accuracy: [ 0.27449572  0.00433172]"
       ]
      },
      {
       "output_type": "stream",
       "stream": "stdout",
       "text": [
        "\n",
        "iteration: 8500    loss: 0.00665885768831    accuracy: [ 0.2938886  0.0040568]"
       ]
      },
      {
       "output_type": "stream",
       "stream": "stdout",
       "text": [
        "\n",
        "iteration: 8600    loss: 0.0137145668268    accuracy: [ 0.12262177  0.0962762 ]"
       ]
      },
      {
       "output_type": "stream",
       "stream": "stdout",
       "text": [
        "\n",
        "iteration: 8700    loss: 0.0121148573235    accuracy: [ 0.34843412  0.00740229]"
       ]
      },
      {
       "output_type": "stream",
       "stream": "stdout",
       "text": [
        "\n",
        "iteration: 8800    loss: 0.0131995789707    accuracy: [ 0.14335422  0.07777363]"
       ]
      },
      {
       "output_type": "stream",
       "stream": "stdout",
       "text": [
        "\n",
        "iteration: 8900    loss: 0.00669182650745    accuracy: [ 0.28114644  0.00686514]"
       ]
      },
      {
       "output_type": "stream",
       "stream": "stdout",
       "text": [
        "\n",
        "iteration: 9000    loss: 0.00884410459548    accuracy: [ 0.38517931  0.00476058]"
       ]
      },
      {
       "output_type": "stream",
       "stream": "stdout",
       "text": [
        "\n",
        "iteration: 9100    loss: 0.00647685490549    accuracy: [ 0.33076674  0.00433226]"
       ]
      },
      {
       "output_type": "stream",
       "stream": "stdout",
       "text": [
        "\n",
        "iteration: 9200    loss: 0.0174381099641    accuracy: [ 0.11776111  0.10386568]"
       ]
      },
      {
       "output_type": "stream",
       "stream": "stdout",
       "text": [
        "\n",
        "iteration: 9300    loss: 0.00980615057051    accuracy: [ 0.29232562  0.00490401]"
       ]
      },
      {
       "output_type": "stream",
       "stream": "stdout",
       "text": [
        "\n",
        "iteration: 9400    loss: 0.00925009325147    accuracy: [ 0.29756418  0.00313851]"
       ]
      },
      {
       "output_type": "stream",
       "stream": "stdout",
       "text": [
        "\n",
        "iteration: 9500    loss: 0.0104591790587    accuracy: [ 0.315723    0.00406002]"
       ]
      },
      {
       "output_type": "stream",
       "stream": "stdout",
       "text": [
        "\n",
        "iteration: 9600    loss: 0.0095975054428    accuracy: [ 0.27874202  0.01215964]"
       ]
      },
      {
       "output_type": "stream",
       "stream": "stdout",
       "text": [
        "\n",
        "iteration: 9700    loss: 0.00914602167904    accuracy: [ 0.40168515  0.00435494]"
       ]
      },
      {
       "output_type": "stream",
       "stream": "stdout",
       "text": [
        "\n",
        "iteration: 9800    loss: 0.00690574850887    accuracy: [ 0.32218519  0.0085467 ]"
       ]
      },
      {
       "output_type": "stream",
       "stream": "stdout",
       "text": [
        "\n",
        "iteration: 9900    loss: 0.0136898420751    accuracy: [ 0.37224376  0.00231548]"
       ]
      },
      {
       "output_type": "stream",
       "stream": "stdout",
       "text": [
        "\n",
        "iteration: 10000   loss: 0.00896529667079    accuracy: [ 0.38512766  0.00514901]"
       ]
      },
      {
       "output_type": "stream",
       "stream": "stdout",
       "text": [
        "\n",
        "snaping to: /home/qinshuo/WorkPlace/caffe_space/extract_skin/weight/seg_skin_net_fin90000.caffemodel\n",
        "iteration: 100     loss: 0.0203052647412    accuracy: [ 0.39849308  0.00757081]"
       ]
      },
      {
       "output_type": "stream",
       "stream": "stdout",
       "text": [
        "\n",
        "iteration: 200     loss: 0.00763484369963    accuracy: [ 0.37949955  0.00322217]"
       ]
      },
      {
       "output_type": "stream",
       "stream": "stdout",
       "text": [
        "\n",
        "iteration: 300     loss: 0.00844412669539    accuracy: [ 0.40730268  0.00333971]"
       ]
      },
      {
       "output_type": "stream",
       "stream": "stdout",
       "text": [
        "\n",
        "iteration: 400     loss: 0.0230791717768    accuracy: [ 0.04992271  0.28763029]"
       ]
      },
      {
       "output_type": "stream",
       "stream": "stdout",
       "text": [
        "\n",
        "iteration: 500     loss: 0.00557695422322    accuracy: [ 0.36765245  0.00277339]"
       ]
      },
      {
       "output_type": "stream",
       "stream": "stdout",
       "text": [
        "\n",
        "iteration: 600     loss: 0.00854601711035    accuracy: [ 0.313236    0.00669447]"
       ]
      },
      {
       "output_type": "stream",
       "stream": "stdout",
       "text": [
        "\n",
        "iteration: 700     loss: 0.00768749928102    accuracy: [ 0.23111989  0.00865378]"
       ]
      },
      {
       "output_type": "stream",
       "stream": "stdout",
       "text": [
        "\n",
        "iteration: 800     loss: 0.0074506290257    accuracy: [ 0.30019435  0.01021369]"
       ]
      },
      {
       "output_type": "stream",
       "stream": "stdout",
       "text": [
        "\n",
        "iteration: 900     loss: 0.00745751149952    accuracy: [ 0.33103859  0.00296753]"
       ]
      },
      {
       "output_type": "stream",
       "stream": "stdout",
       "text": [
        "\n",
        "iteration: 1000    loss: 0.00985284242779    accuracy: [ 0.35836688  0.0062292 ]"
       ]
      },
      {
       "output_type": "stream",
       "stream": "stdout",
       "text": [
        "\n",
        "iteration: 1100    loss: 0.00835629086941    accuracy: [ 0.32283279  0.00644367]"
       ]
      },
      {
       "output_type": "stream",
       "stream": "stdout",
       "text": [
        "\n",
        "iteration: 1200    loss: 0.00820913352072    accuracy: [ 0.35193133  0.00545743]"
       ]
      },
      {
       "output_type": "stream",
       "stream": "stdout",
       "text": [
        "\n",
        "iteration: 1300    loss: 0.00898865424097    accuracy: [ 0.34410608  0.00604964]"
       ]
      },
      {
       "output_type": "stream",
       "stream": "stdout",
       "text": [
        "\n",
        "iteration: 1400    loss: 0.0085221324116    accuracy: [ 0.40067407  0.00343341]"
       ]
      },
      {
       "output_type": "stream",
       "stream": "stdout",
       "text": [
        "\n",
        "iteration: 1500    loss: 0.00912627298385    accuracy: [ 0.39057383  0.00417759]"
       ]
      },
      {
       "output_type": "stream",
       "stream": "stdout",
       "text": [
        "\n",
        "iteration: 1600    loss: 0.0149641623721    accuracy: [ 0.17968687  0.05707423]"
       ]
      },
      {
       "output_type": "stream",
       "stream": "stdout",
       "text": [
        "\n",
        "iteration: 1700    loss: 0.00722043961287    accuracy: [ 0.26108226  0.00642677]"
       ]
      },
      {
       "output_type": "stream",
       "stream": "stdout",
       "text": [
        "\n",
        "iteration: 1800    loss: 0.00632568495348    accuracy: [ 0.34868357  0.0043264 ]"
       ]
      },
      {
       "output_type": "stream",
       "stream": "stdout",
       "text": [
        "\n",
        "iteration: 1900    loss: 0.0079939076677    accuracy: [ 0.38375446  0.00325593]"
       ]
      },
      {
       "output_type": "stream",
       "stream": "stdout",
       "text": [
        "\n",
        "iteration: 2000    loss: 0.00614492967725    accuracy: [ 0.3689954   0.00230916]"
       ]
      },
      {
       "output_type": "stream",
       "stream": "stdout",
       "text": [
        "\n",
        "iteration: 2100    loss: 0.00740895327181    accuracy: [ 0.35430622  0.00487237]"
       ]
      },
      {
       "output_type": "stream",
       "stream": "stdout",
       "text": [
        "\n",
        "iteration: 2200    loss: 0.00750069553033    accuracy: [ 0.26656479  0.00768305]"
       ]
      },
      {
       "output_type": "stream",
       "stream": "stdout",
       "text": [
        "\n",
        "iteration: 2300    loss: 0.00741627626121    accuracy: [ 0.34572658  0.00341557]"
       ]
      },
      {
       "output_type": "stream",
       "stream": "stdout",
       "text": [
        "\n",
        "iteration: 2400    loss: 0.00566885899752    accuracy: [ 0.26122859  0.00757399]"
       ]
      },
      {
       "output_type": "stream",
       "stream": "stdout",
       "text": [
        "\n",
        "iteration: 2500    loss: 0.00588564714417    accuracy: [ 0.27980444  0.0033745 ]"
       ]
      },
      {
       "output_type": "stream",
       "stream": "stdout",
       "text": [
        "\n",
        "iteration: 2600    loss: 0.0250975117087    accuracy: [ 0.30525851  0.01877763]"
       ]
      },
      {
       "output_type": "stream",
       "stream": "stdout",
       "text": [
        "\n",
        "iteration: 2700    loss: 0.00677336892113    accuracy: [ 0.34015107  0.00332495]"
       ]
      },
      {
       "output_type": "stream",
       "stream": "stdout",
       "text": [
        "\n",
        "iteration: 2800    loss: 0.00856772437692    accuracy: [ 0.35467649  0.00307297]"
       ]
      },
      {
       "output_type": "stream",
       "stream": "stdout",
       "text": [
        "\n",
        "iteration: 2900    loss: 0.00932144001126    accuracy: [ 0.15958223  0.0541575 ]"
       ]
      },
      {
       "output_type": "stream",
       "stream": "stdout",
       "text": [
        "\n",
        "iteration: 3000    loss: 0.00818554777652    accuracy: [ 0.35403818  0.00366996]"
       ]
      },
      {
       "output_type": "stream",
       "stream": "stdout",
       "text": [
        "\n",
        "iteration: 3100    loss: 0.00656870706007    accuracy: [ 0.3783443   0.00238374]"
       ]
      },
      {
       "output_type": "stream",
       "stream": "stdout",
       "text": [
        "\n",
        "iteration: 3200    loss: 0.0109331449494    accuracy: [ 0.40662354  0.00558811]"
       ]
      },
      {
       "output_type": "stream",
       "stream": "stdout",
       "text": [
        "\n",
        "iteration: 3300    loss: 0.00828394573182    accuracy: [ 0.3739453   0.00465781]"
       ]
      },
      {
       "output_type": "stream",
       "stream": "stdout",
       "text": [
        "\n",
        "iteration: 3400    loss: 0.0129920728505    accuracy: [ 0.38533872  0.00427079]"
       ]
      },
      {
       "output_type": "stream",
       "stream": "stdout",
       "text": [
        "\n",
        "iteration: 3500    loss: 0.0231674611568    accuracy: [ 0.06377257  0.24982005]"
       ]
      },
      {
       "output_type": "stream",
       "stream": "stdout",
       "text": [
        "\n",
        "iteration: 3600    loss: 0.00699532916769    accuracy: [ 0.32538855  0.00473294]"
       ]
      },
      {
       "output_type": "stream",
       "stream": "stdout",
       "text": [
        "\n",
        "iteration: 3700    loss: 0.00551708508283    accuracy: [ 0.35282162  0.00192758]"
       ]
      },
      {
       "output_type": "stream",
       "stream": "stdout",
       "text": [
        "\n",
        "iteration: 3800    loss: 0.0666241049767    accuracy: [ 0.00153454  0.44749999]"
       ]
      },
      {
       "output_type": "stream",
       "stream": "stdout",
       "text": [
        "\n",
        "iteration: 3900    loss: 0.00851614587009    accuracy: [ 0.1637637   0.03854235]"
       ]
      },
      {
       "output_type": "stream",
       "stream": "stdout",
       "text": [
        "\n",
        "iteration: 4000    loss: 0.0141884610057    accuracy: [ 0.41193774  0.00759543]"
       ]
      },
      {
       "output_type": "stream",
       "stream": "stdout",
       "text": [
        "\n",
        "iteration: 4100    loss: 0.0141792567447    accuracy: [ 0.11861954  0.11535986]"
       ]
      },
      {
       "output_type": "stream",
       "stream": "stdout",
       "text": [
        "\n",
        "iteration: 4200    loss: 0.00754383392632    accuracy: [ 0.38365752  0.00395261]"
       ]
      },
      {
       "output_type": "stream",
       "stream": "stdout",
       "text": [
        "\n",
        "iteration: 4300    loss: 0.0250912494957    accuracy: [ 0.35004607  0.01153644]"
       ]
      },
      {
       "output_type": "stream",
       "stream": "stdout",
       "text": [
        "\n",
        "iteration: 4400    loss: 0.00861510634422    accuracy: [ 0.28325397  0.0117019 ]"
       ]
      },
      {
       "output_type": "stream",
       "stream": "stdout",
       "text": [
        "\n",
        "iteration: 4500    loss: 0.00837069749832    accuracy: [ 0.35933003  0.00425387]"
       ]
      },
      {
       "output_type": "stream",
       "stream": "stdout",
       "text": [
        "\n",
        "iteration: 4600    loss: 0.0163837298751    accuracy: [ 0.22826241  0.0084179 ]"
       ]
      },
      {
       "output_type": "stream",
       "stream": "stdout",
       "text": [
        "\n",
        "iteration: 4700    loss: 0.291640460491    accuracy: [ 0.05823809  0.19804028]"
       ]
      },
      {
       "output_type": "stream",
       "stream": "stdout",
       "text": [
        "\n",
        "iteration: 4800    loss: 0.330344378948    accuracy: [ 0.1457165  0.0689781]"
       ]
      },
      {
       "output_type": "stream",
       "stream": "stdout",
       "text": [
        "\n",
        "iteration: 4900    loss: 0.00755344145    accuracy: [ 0.37958345  0.00349277]"
       ]
      },
      {
       "output_type": "stream",
       "stream": "stdout",
       "text": [
        "\n",
        "iteration: 5000    loss: 0.0156980268657    accuracy: [ 0.32811856  0.01345626]"
       ]
      },
      {
       "output_type": "stream",
       "stream": "stdout",
       "text": [
        "\n",
        "iteration: 5100    loss: 0.0412340424955    accuracy: [ 0.27906796  0.01245444]"
       ]
      },
      {
       "output_type": "stream",
       "stream": "stdout",
       "text": [
        "\n",
        "iteration: 5200    loss: 0.0092337243259    accuracy: [ 0.17794722  0.03699012]"
       ]
      },
      {
       "output_type": "stream",
       "stream": "stdout",
       "text": [
        "\n",
        "iteration: 5300    loss: 0.0132073704153    accuracy: [ 0.12402402  0.10051769]"
       ]
      },
      {
       "output_type": "stream",
       "stream": "stdout",
       "text": [
        "\n",
        "iteration: 5400    loss: 0.00796108040959    accuracy: [ 0.38542157  0.00325152]"
       ]
      },
      {
       "output_type": "stream",
       "stream": "stdout",
       "text": [
        "\n",
        "iteration: 5500    loss: 0.00859742611647    accuracy: [ 0.28842497  0.00688596]"
       ]
      },
      {
       "output_type": "stream",
       "stream": "stdout",
       "text": [
        "\n",
        "iteration: 5600    loss: 0.00583384931087    accuracy: [ 0.337733    0.00261371]"
       ]
      },
      {
       "output_type": "stream",
       "stream": "stdout",
       "text": [
        "\n",
        "iteration: 5700    loss: 0.00667093880475    accuracy: [ 0.38417733  0.00316141]"
       ]
      },
      {
       "output_type": "stream",
       "stream": "stdout",
       "text": [
        "\n",
        "iteration: 5800    loss: 0.0937981531024    accuracy: [ 0.  0.]"
       ]
      },
      {
       "output_type": "stream",
       "stream": "stdout",
       "text": [
        "\n",
        "iteration: 5900    loss: 0.0096473954618    accuracy: [ 0.39446199  0.00357475]"
       ]
      },
      {
       "output_type": "stream",
       "stream": "stdout",
       "text": [
        "\n",
        "iteration: 6000    loss: 0.00726203154773    accuracy: [ 0.37243038  0.0032221 ]"
       ]
      },
      {
       "output_type": "stream",
       "stream": "stdout",
       "text": [
        "\n",
        "iteration: 6100    loss: 0.00781553890556    accuracy: [ 0.31819606  0.00615758]"
       ]
      },
      {
       "output_type": "stream",
       "stream": "stdout",
       "text": [
        "\n",
        "iteration: 6200    loss: 0.00781089579687    accuracy: [ 0.3979024   0.00229578]"
       ]
      },
      {
       "output_type": "stream",
       "stream": "stdout",
       "text": [
        "\n",
        "iteration: 6300    loss: 0.0463347434998    accuracy: [ 0.38367739  0.02676363]"
       ]
      },
      {
       "output_type": "stream",
       "stream": "stdout",
       "text": [
        "\n",
        "iteration: 6400    loss: 0.0129996053874    accuracy: [ 0.11531609  0.10875332]"
       ]
      },
      {
       "output_type": "stream",
       "stream": "stdout",
       "text": [
        "\n",
        "iteration: 6500    loss: 0.0107074389234    accuracy: [ 0.4244974   0.00408685]"
       ]
      },
      {
       "output_type": "stream",
       "stream": "stdout",
       "text": [
        "\n",
        "iteration: 6600    loss: 0.0109973233193    accuracy: [ 0.40158352  0.00563316]"
       ]
      },
      {
       "output_type": "stream",
       "stream": "stdout",
       "text": [
        "\n",
        "iteration: 6700    loss: 0.00765637261793    accuracy: [ 0.3527852   0.00401811]"
       ]
      },
      {
       "output_type": "stream",
       "stream": "stdout",
       "text": [
        "\n",
        "iteration: 6800    loss: 0.00542889628559    accuracy: [ 0.32785985  0.00336689]"
       ]
      },
      {
       "output_type": "stream",
       "stream": "stdout",
       "text": [
        "\n",
        "iteration: 6900    loss: 0.00730648357421    accuracy: [ 0.20411626  0.02001273]"
       ]
      },
      {
       "output_type": "stream",
       "stream": "stdout",
       "text": [
        "\n",
        "iteration: 7000    loss: 0.0129126301035    accuracy: [ 0.43355954  0.00466474]"
       ]
      },
      {
       "output_type": "stream",
       "stream": "stdout",
       "text": [
        "\n",
        "iteration: 7100    loss: 0.00715883355588    accuracy: [ 0.3808898   0.00347974]"
       ]
      },
      {
       "output_type": "stream",
       "stream": "stdout",
       "text": [
        "\n",
        "iteration: 7200    loss: 0.00914568267763    accuracy: [ 0.37727597  0.00502676]"
       ]
      },
      {
       "output_type": "stream",
       "stream": "stdout",
       "text": [
        "\n",
        "iteration: 7300    loss: 0.0051153767854    accuracy: [ 0.27939346  0.00520862]"
       ]
      },
      {
       "output_type": "stream",
       "stream": "stdout",
       "text": [
        "\n",
        "iteration: 7400    loss: 0.00728039443493    accuracy: [ 0.36035678  0.00435677]"
       ]
      },
      {
       "output_type": "stream",
       "stream": "stdout",
       "text": [
        "\n",
        "iteration: 7500    loss: 0.00790442246944    accuracy: [ 0.36761138  0.00290081]"
       ]
      },
      {
       "output_type": "stream",
       "stream": "stdout",
       "text": [
        "\n",
        "iteration: 7600    loss: 0.00725540751591    accuracy: [ 0.3330085   0.00506105]"
       ]
      },
      {
       "output_type": "stream",
       "stream": "stdout",
       "text": [
        "\n",
        "iteration: 7700    loss: 0.0109664853662    accuracy: [ 0.32131138  0.0101176 ]"
       ]
      },
      {
       "output_type": "stream",
       "stream": "stdout",
       "text": [
        "\n",
        "iteration: 7800    loss: 0.00641681300476    accuracy: [ 0.34779021  0.00386541]"
       ]
      },
      {
       "output_type": "stream",
       "stream": "stdout",
       "text": [
        "\n",
        "iteration: 7900    loss: 0.0288883820176    accuracy: [ 0.46263656  0.0126418 ]"
       ]
      },
      {
       "output_type": "stream",
       "stream": "stdout",
       "text": [
        "\n",
        "iteration: 8000    loss: 0.00986982788891    accuracy: [ 0.20343798  0.02645115]"
       ]
      },
      {
       "output_type": "stream",
       "stream": "stdout",
       "text": [
        "\n",
        "iteration: 8100    loss: 0.00875526666641    accuracy: [ 0.40777189  0.00389732]"
       ]
      },
      {
       "output_type": "stream",
       "stream": "stdout",
       "text": [
        "\n",
        "iteration: 8200    loss: 0.00617562327534    accuracy: [ 0.36728472  0.00252777]"
       ]
      },
      {
       "output_type": "stream",
       "stream": "stdout",
       "text": [
        "\n",
        "iteration: 8300    loss: 0.00986036472023    accuracy: [ 0.32161611  0.00248727]"
       ]
      },
      {
       "output_type": "stream",
       "stream": "stdout",
       "text": [
        "\n",
        "iteration: 8400    loss: 0.0103910677135    accuracy: [ 0.15065162  0.05005584]"
       ]
      },
      {
       "output_type": "stream",
       "stream": "stdout",
       "text": [
        "\n",
        "iteration: 8500    loss: 0.145065099001    accuracy: [ 0.00142812  0.41463414]"
       ]
      },
      {
       "output_type": "stream",
       "stream": "stdout",
       "text": [
        "\n",
        "iteration: 8600    loss: 0.00843723211437    accuracy: [ 0.17622243  0.03673346]"
       ]
      },
      {
       "output_type": "stream",
       "stream": "stdout",
       "text": [
        "\n",
        "iteration: 8700    loss: 0.00815726071596    accuracy: [ 0.20395467  0.01890646]"
       ]
      },
      {
       "output_type": "stream",
       "stream": "stdout",
       "text": [
        "\n",
        "iteration: 8800    loss: 0.00752966944128    accuracy: [ 0.33226091  0.00503703]"
       ]
      },
      {
       "output_type": "stream",
       "stream": "stdout",
       "text": [
        "\n",
        "iteration: 8900    loss: 0.00850064866245    accuracy: [ 0.40130365  0.00352274]"
       ]
      },
      {
       "output_type": "stream",
       "stream": "stdout",
       "text": [
        "\n",
        "iteration: 9000    loss: 0.00729391817003    accuracy: [ 0.36290014  0.00416842]"
       ]
      },
      {
       "output_type": "stream",
       "stream": "stdout",
       "text": [
        "\n",
        "iteration: 9100    loss: 0.010637415573    accuracy: [ 0.36148903  0.00757608]"
       ]
      },
      {
       "output_type": "stream",
       "stream": "stdout",
       "text": [
        "\n",
        "iteration: 9200    loss: 0.00762878032401    accuracy: [ 0.37284264  0.0033306 ]"
       ]
      },
      {
       "output_type": "stream",
       "stream": "stdout",
       "text": [
        "\n",
        "iteration: 9300    loss: 0.00599675159901    accuracy: [ 0.3446945  0.0022949]"
       ]
      },
      {
       "output_type": "stream",
       "stream": "stdout",
       "text": [
        "\n",
        "iteration: 9400    loss: 0.0624153129756    accuracy: [ 0.28416473  0.03053682]"
       ]
      },
      {
       "output_type": "stream",
       "stream": "stdout",
       "text": [
        "\n",
        "iteration: 9500    loss: 0.306840538979    accuracy: [ 0.27608833  0.17834164]"
       ]
      },
      {
       "output_type": "stream",
       "stream": "stdout",
       "text": [
        "\n",
        "iteration: 9600    loss: 0.00810460187495    accuracy: [ 0.39256793  0.00353223]"
       ]
      },
      {
       "output_type": "stream",
       "stream": "stdout",
       "text": [
        "\n",
        "iteration: 9700    loss: 0.00804732553661    accuracy: [ 0.35000402  0.00394277]"
       ]
      },
      {
       "output_type": "stream",
       "stream": "stdout",
       "text": [
        "\n",
        "iteration: 9800    loss: 0.0117691690102    accuracy: [ 0.34171122  0.00776418]"
       ]
      },
      {
       "output_type": "stream",
       "stream": "stdout",
       "text": [
        "\n",
        "iteration: 9900    loss: 0.17356801033    accuracy: [ 0.00957985  0.34912109]"
       ]
      },
      {
       "output_type": "stream",
       "stream": "stdout",
       "text": [
        "\n",
        "iteration: 10000   loss: 0.0078847091645    accuracy: [ 0.20651646  0.02067614]"
       ]
      },
      {
       "output_type": "stream",
       "stream": "stdout",
       "text": [
        "\n",
        "snaping to: /home/qinshuo/WorkPlace/caffe_space/extract_skin/weight/seg_skin_net_fin100000.caffemodel\n",
        "iteration: 100     loss: 0.00949175842106    accuracy: [ 0.18524049  0.0336027 ]"
       ]
      },
      {
       "output_type": "stream",
       "stream": "stdout",
       "text": [
        "\n",
        "iteration: 200     loss: 0.00817840360105    accuracy: [ 0.31014058  0.00541227]"
       ]
      },
      {
       "output_type": "stream",
       "stream": "stdout",
       "text": [
        "\n",
        "iteration: 300     loss: 0.00667904503644    accuracy: [ 0.34851778  0.00326683]"
       ]
      },
      {
       "output_type": "stream",
       "stream": "stdout",
       "text": [
        "\n",
        "iteration: 400     loss: 0.00802982226014    accuracy: [ 0.38609856  0.00344336]"
       ]
      },
      {
       "output_type": "stream",
       "stream": "stdout",
       "text": [
        "\n",
        "iteration: 500     loss: 0.00800593104213    accuracy: [ 0.33045605  0.00485864]"
       ]
      },
      {
       "output_type": "stream",
       "stream": "stdout",
       "text": [
        "\n",
        "iteration: 600     loss: 0.00680344365537    accuracy: [ 0.32163116  0.00479787]"
       ]
      },
      {
       "output_type": "stream",
       "stream": "stdout",
       "text": [
        "\n",
        "iteration: 700     loss: 0.00966649968177    accuracy: [ 0.15372904  0.04832288]"
       ]
      },
      {
       "output_type": "stream",
       "stream": "stdout",
       "text": [
        "\n",
        "iteration: 800     loss: 0.0174456350505    accuracy: [ 0.12467834  0.10770363]"
       ]
      },
      {
       "output_type": "stream",
       "stream": "stdout",
       "text": [
        "\n",
        "iteration: 900     loss: 0.00873639248312    accuracy: [ 0.18194661  0.03835823]"
       ]
      },
      {
       "output_type": "stream",
       "stream": "stdout",
       "text": [
        "\n",
        "iteration: 1000    loss: 0.00693306606263    accuracy: [ 0.2022014  0.0187188]"
       ]
      },
      {
       "output_type": "stream",
       "stream": "stdout",
       "text": [
        "\n",
        "iteration: 1100    loss: 0.00920572597533    accuracy: [ 0.33380979  0.00490039]"
       ]
      },
      {
       "output_type": "stream",
       "stream": "stdout",
       "text": [
        "\n",
        "iteration: 1200    loss: 0.00982307270169    accuracy: [ 0.38951379  0.00626372]"
       ]
      },
      {
       "output_type": "stream",
       "stream": "stdout",
       "text": [
        "\n",
        "iteration: 1300    loss: 0.00665763393044    accuracy: [ 0.35581055  0.00343539]"
       ]
      },
      {
       "output_type": "stream",
       "stream": "stdout",
       "text": [
        "\n",
        "iteration: 1400    loss: 0.00647064577788    accuracy: [ 0.34779751  0.00287874]"
       ]
      },
      {
       "output_type": "stream",
       "stream": "stdout",
       "text": [
        "\n",
        "iteration: 1500    loss: 0.00581362983212    accuracy: [ 0.36709064  0.00259084]"
       ]
      },
      {
       "output_type": "stream",
       "stream": "stdout",
       "text": [
        "\n",
        "iteration: 1600    loss: 0.00725661031902    accuracy: [ 0.38661703  0.00264874]"
       ]
      },
      {
       "output_type": "stream",
       "stream": "stdout",
       "text": [
        "\n",
        "iteration: 1700    loss: 0.0110830981284    accuracy: [ 0.27876866  0.01856218]"
       ]
      },
      {
       "output_type": "stream",
       "stream": "stdout",
       "text": [
        "\n",
        "iteration: 1800    loss: 0.00694835046306    accuracy: [ 0.34959346  0.00468648]"
       ]
      },
      {
       "output_type": "stream",
       "stream": "stdout",
       "text": [
        "\n",
        "iteration: 1900    loss: 0.0107662752271    accuracy: [ 0.42269155  0.00469021]"
       ]
      },
      {
       "output_type": "stream",
       "stream": "stdout",
       "text": [
        "\n",
        "iteration: 2000    loss: 0.00803409516811    accuracy: [ 0.39827138  0.00357856]"
       ]
      },
      {
       "output_type": "stream",
       "stream": "stdout",
       "text": [
        "\n",
        "iteration: 2100    loss: 0.0070270979777    accuracy: [ 0.37294441  0.00360538]"
       ]
      },
      {
       "output_type": "stream",
       "stream": "stdout",
       "text": [
        "\n",
        "iteration: 2200    loss: 0.0056369532831    accuracy: [ 0.34360871  0.00367876]"
       ]
      },
      {
       "output_type": "stream",
       "stream": "stdout",
       "text": [
        "\n",
        "iteration: 2300    loss: 0.190343439579    accuracy: [ 0.  0.]"
       ]
      },
      {
       "output_type": "stream",
       "stream": "stdout",
       "text": [
        "\n",
        "iteration: 2400    loss: 0.00683838222176    accuracy: [ 0.29006836  0.0067564 ]"
       ]
      },
      {
       "output_type": "stream",
       "stream": "stdout",
       "text": [
        "\n",
        "iteration: 2500    loss: 0.00766510376707    accuracy: [ 0.32177269  0.0051648 ]"
       ]
      },
      {
       "output_type": "stream",
       "stream": "stdout",
       "text": [
        "\n",
        "iteration: 2600    loss: 0.30411028862    accuracy: [ 0.09132171  0.10952482]"
       ]
      },
      {
       "output_type": "stream",
       "stream": "stdout",
       "text": [
        "\n",
        "iteration: 2700    loss: 0.0236786752939    accuracy: [ 0.04939651  0.29423612]"
       ]
      },
      {
       "output_type": "stream",
       "stream": "stdout",
       "text": [
        "\n",
        "iteration: 2800    loss: 0.0116117382422    accuracy: [ 0.22183293  0.01812194]"
       ]
      },
      {
       "output_type": "stream",
       "stream": "stdout",
       "text": [
        "\n",
        "iteration: 2900    loss: 0.0703824982047    accuracy: [ 0.27705488  0.04005186]"
       ]
      },
      {
       "output_type": "stream",
       "stream": "stdout",
       "text": [
        "\n",
        "iteration: 3000    loss: 0.00767624843866    accuracy: [ 0.36757863  0.00384519]"
       ]
      },
      {
       "output_type": "stream",
       "stream": "stdout",
       "text": [
        "\n",
        "iteration: 3100    loss: 0.00606271065772    accuracy: [ 0.22733767  0.0120816 ]"
       ]
      },
      {
       "output_type": "stream",
       "stream": "stdout",
       "text": [
        "\n",
        "iteration: 3200    loss: 0.00693046208471    accuracy: [ 0.23600732  0.01021962]"
       ]
      },
      {
       "output_type": "stream",
       "stream": "stdout",
       "text": [
        "\n",
        "iteration: 3300    loss: 0.00806788355112    accuracy: [ 0.34542945  0.00418308]"
       ]
      },
      {
       "output_type": "stream",
       "stream": "stdout",
       "text": [
        "\n",
        "iteration: 3400    loss: 0.0181462261826    accuracy: [ 0.12295172  0.11719235]"
       ]
      },
      {
       "output_type": "stream",
       "stream": "stdout",
       "text": [
        "\n",
        "iteration: 3500    loss: 0.00970561150461    accuracy: [ 0.3346878   0.00667002]"
       ]
      },
      {
       "output_type": "stream",
       "stream": "stdout",
       "text": [
        "\n",
        "iteration: 3600    loss: 0.0135315116495    accuracy: [ 0.39836422  0.00705158]"
       ]
      },
      {
       "output_type": "stream",
       "stream": "stdout",
       "text": [
        "\n",
        "iteration: 3700    loss: 0.00846261531115    accuracy: [ 0.23083924  0.01171228]"
       ]
      },
      {
       "output_type": "stream",
       "stream": "stdout",
       "text": [
        "\n",
        "iteration: 3800    loss: 0.0102586923167    accuracy: [ 0.18729267  0.02521043]"
       ]
      },
      {
       "output_type": "stream",
       "stream": "stdout",
       "text": [
        "\n",
        "iteration: 3900    loss: 0.00589692266658    accuracy: [ 0.35776159  0.00211475]"
       ]
      },
      {
       "output_type": "stream",
       "stream": "stdout",
       "text": [
        "\n",
        "iteration: 4000    loss: 0.00904207024723    accuracy: [ 0.37611085  0.00333333]"
       ]
      },
      {
       "output_type": "stream",
       "stream": "stdout",
       "text": [
        "\n",
        "iteration: 4100    loss: 0.00715551897883    accuracy: [ 0.3554849   0.00285899]"
       ]
      },
      {
       "output_type": "stream",
       "stream": "stdout",
       "text": [
        "\n",
        "iteration: 4200    loss: 0.0128143029287    accuracy: [ 0.40664703  0.00607006]"
       ]
      },
      {
       "output_type": "stream",
       "stream": "stdout",
       "text": [
        "\n",
        "iteration: 4300    loss: 0.00783807598054    accuracy: [ 0.30503759  0.00532368]"
       ]
      },
      {
       "output_type": "stream",
       "stream": "stdout",
       "text": [
        "\n",
        "iteration: 4400    loss: 0.00524180103093    accuracy: [ 0.3141675  0.0027971]"
       ]
      },
      {
       "output_type": "stream",
       "stream": "stdout",
       "text": [
        "\n",
        "iteration: 4500    loss: 0.00779484817758    accuracy: [ 0.20189424  0.0203429 ]"
       ]
      },
      {
       "output_type": "stream",
       "stream": "stdout",
       "text": [
        "\n",
        "iteration: 4600    loss: 0.0065287631005    accuracy: [ 0.34004071  0.0041779 ]"
       ]
      },
      {
       "output_type": "stream",
       "stream": "stdout",
       "text": [
        "\n",
        "iteration: 4700    loss: 0.00731977913529    accuracy: [ 0.29802188  0.00685792]"
       ]
      },
      {
       "output_type": "stream",
       "stream": "stdout",
       "text": [
        "\n",
        "iteration: 4800    loss: 0.00890815258026    accuracy: [ 0.25441873  0.01031331]"
       ]
      },
      {
       "output_type": "stream",
       "stream": "stdout",
       "text": [
        "\n",
        "iteration: 4900    loss: 0.029644774273    accuracy: [ 0.45724994  0.01344886]"
       ]
      },
      {
       "output_type": "stream",
       "stream": "stdout",
       "text": [
        "\n",
        "iteration: 5000    loss: 0.00706072896719    accuracy: [ 0.23115417  0.01381544]"
       ]
      },
      {
       "output_type": "stream",
       "stream": "stdout",
       "text": [
        "\n",
        "iteration: 5100    loss: 0.00715657277033    accuracy: [ 0.38200203  0.00252101]"
       ]
      },
      {
       "output_type": "stream",
       "stream": "stdout",
       "text": [
        "\n",
        "iteration: 5200    loss: 0.00773591315374    accuracy: [ 0.37768352  0.00298474]"
       ]
      },
      {
       "output_type": "stream",
       "stream": "stdout",
       "text": [
        "\n",
        "iteration: 5300    loss: 0.00816731154919    accuracy: [ 0.21997085  0.011562  ]"
       ]
      },
      {
       "output_type": "stream",
       "stream": "stdout",
       "text": [
        "\n",
        "iteration: 5400    loss: 0.0091772582382    accuracy: [ 0.38748398  0.00256511]"
       ]
      },
      {
       "output_type": "stream",
       "stream": "stdout",
       "text": [
        "\n",
        "iteration: 5500    loss: 0.00780099909753    accuracy: [ 0.35987073  0.00456417]"
       ]
      },
      {
       "output_type": "stream",
       "stream": "stdout",
       "text": [
        "\n",
        "iteration: 5600    loss: 0.00856871344149    accuracy: [ 0.34480834  0.004335  ]"
       ]
      },
      {
       "output_type": "stream",
       "stream": "stdout",
       "text": [
        "\n",
        "iteration: 5700    loss: 0.0310649927706    accuracy: [ 0.04051291  0.32732448]"
       ]
      },
      {
       "output_type": "stream",
       "stream": "stdout",
       "text": [
        "\n",
        "iteration: 5800    loss: 0.00860372930765    accuracy: [ 0.36901525  0.00527841]"
       ]
      },
      {
       "output_type": "stream",
       "stream": "stdout",
       "text": [
        "\n",
        "iteration: 5900    loss: 0.00743964221328    accuracy: [ 0.31703597  0.00503809]"
       ]
      },
      {
       "output_type": "stream",
       "stream": "stdout",
       "text": [
        "\n",
        "iteration: 6000    loss: 0.00675903633237    accuracy: [ 0.3450875   0.00285752]"
       ]
      },
      {
       "output_type": "stream",
       "stream": "stdout",
       "text": [
        "\n",
        "iteration: 6100    loss: 0.00779697252437    accuracy: [ 0.37871107  0.00330885]"
       ]
      },
      {
       "output_type": "stream",
       "stream": "stdout",
       "text": [
        "\n",
        "iteration: 6200    loss: 0.0360272862017    accuracy: [ 0.00462917  0.44884488]"
       ]
      },
      {
       "output_type": "stream",
       "stream": "stdout",
       "text": [
        "\n",
        "iteration: 6300    loss: 0.00797152798623    accuracy: [ 0.40119261  0.0022962 ]"
       ]
      },
      {
       "output_type": "stream",
       "stream": "stdout",
       "text": [
        "\n",
        "iteration: 6400    loss: 0.00733604189008    accuracy: [ 0.37747267  0.00361307]"
       ]
      },
      {
       "output_type": "stream",
       "stream": "stdout",
       "text": [
        "\n",
        "iteration: 6500    loss: 0.00862503331155    accuracy: [ 0.33807233  0.00453435]"
       ]
      },
      {
       "output_type": "stream",
       "stream": "stdout",
       "text": [
        "\n",
        "iteration: 6600    loss: 0.00980278477073    accuracy: [ 0.36109287  0.00633701]"
       ]
      },
      {
       "output_type": "stream",
       "stream": "stdout",
       "text": [
        "\n",
        "iteration: 6700    loss: 0.00597713980824    accuracy: [ 0.25373584  0.00695699]"
       ]
      },
      {
       "output_type": "stream",
       "stream": "stdout",
       "text": [
        "\n",
        "iteration: 6800    loss: 0.198581844568    accuracy: [ 0.04920376  0.21784233]"
       ]
      },
      {
       "output_type": "stream",
       "stream": "stdout",
       "text": [
        "\n",
        "iteration: 6900    loss: 0.00964575260878    accuracy: [ 0.27261007  0.00794274]"
       ]
      },
      {
       "output_type": "stream",
       "stream": "stdout",
       "text": [
        "\n",
        "iteration: 7000    loss: 0.0102995801717    accuracy: [ 0.39415723  0.00190343]"
       ]
      },
      {
       "output_type": "stream",
       "stream": "stdout",
       "text": [
        "\n",
        "iteration: 7100    loss: 0.0096423337236    accuracy: [ 0.41019326  0.00248872]"
       ]
      },
      {
       "output_type": "stream",
       "stream": "stdout",
       "text": [
        "\n",
        "iteration: 7200    loss: 0.0222797580063    accuracy: [ 0.39646584  0.01175506]"
       ]
      },
      {
       "output_type": "stream",
       "stream": "stdout",
       "text": [
        "\n",
        "iteration: 7300    loss: 0.015802340582    accuracy: [ 0.21337761  0.01959765]"
       ]
      },
      {
       "output_type": "stream",
       "stream": "stdout",
       "text": [
        "\n",
        "iteration: 7400    loss: 0.00716365221888    accuracy: [ 0.38940811  0.00344266]"
       ]
      },
      {
       "output_type": "stream",
       "stream": "stdout",
       "text": [
        "\n",
        "iteration: 7500    loss: 0.0130124129355    accuracy: [ 0.38738921  0.00584057]"
       ]
      },
      {
       "output_type": "stream",
       "stream": "stdout",
       "text": [
        "\n",
        "iteration: 7600    loss: 0.0140400752425    accuracy: [ 0.40414366  0.00965937]"
       ]
      },
      {
       "output_type": "stream",
       "stream": "stdout",
       "text": [
        "\n",
        "iteration: 7700    loss: 0.00621872581542    accuracy: [ 0.30668843  0.00379939]"
       ]
      },
      {
       "output_type": "stream",
       "stream": "stdout",
       "text": [
        "\n",
        "iteration: 7800    loss: 0.0085008200258    accuracy: [ 0.40075082  0.00257565]"
       ]
      },
      {
       "output_type": "stream",
       "stream": "stdout",
       "text": [
        "\n",
        "iteration: 7900    loss: 0.00836784206331    accuracy: [ 0.27048284  0.00797647]"
       ]
      },
      {
       "output_type": "stream",
       "stream": "stdout",
       "text": [
        "\n",
        "iteration: 8000    loss: 0.00766209047288    accuracy: [ 0.34214377  0.00486803]"
       ]
      },
      {
       "output_type": "stream",
       "stream": "stdout",
       "text": [
        "\n",
        "iteration: 8100    loss: 0.00896470062435    accuracy: [ 0.36136949  0.00337609]"
       ]
      },
      {
       "output_type": "stream",
       "stream": "stdout",
       "text": [
        "\n",
        "iteration: 8200    loss: 0.0271564442664    accuracy: [ 0.03655402  0.33921856]"
       ]
      },
      {
       "output_type": "stream",
       "stream": "stdout",
       "text": [
        "\n",
        "iteration: 8300    loss: 0.00779786007479    accuracy: [ 0.34642383  0.00239483]"
       ]
      },
      {
       "output_type": "stream",
       "stream": "stdout",
       "text": [
        "\n",
        "iteration: 8400    loss: 0.207247287035    accuracy: [ 0.01993654  0.32464576]"
       ]
      },
      {
       "output_type": "stream",
       "stream": "stdout",
       "text": [
        "\n",
        "iteration: 8500    loss: 0.0224923938513    accuracy: [ 0.09319972  0.17055921]"
       ]
      },
      {
       "output_type": "stream",
       "stream": "stdout",
       "text": [
        "\n",
        "iteration: 8600    loss: 0.00587757024914    accuracy: [ 0.287709    0.00824351]"
       ]
      },
      {
       "output_type": "stream",
       "stream": "stdout",
       "text": [
        "\n",
        "iteration: 8700    loss: 0.00566181493923    accuracy: [ 0.35587803  0.00380934]"
       ]
      },
      {
       "output_type": "stream",
       "stream": "stdout",
       "text": [
        "\n",
        "iteration: 8800    loss: 0.0065582417883    accuracy: [ 0.24428858  0.00916886]"
       ]
      },
      {
       "output_type": "stream",
       "stream": "stdout",
       "text": [
        "\n",
        "iteration: 8900    loss: 0.0300697870553    accuracy: [ 0.02257007  0.39744899]"
       ]
      },
      {
       "output_type": "stream",
       "stream": "stdout",
       "text": [
        "\n",
        "iteration: 9000    loss: 0.00784449651837    accuracy: [ 0.38314927  0.00323057]"
       ]
      },
      {
       "output_type": "stream",
       "stream": "stdout",
       "text": [
        "\n",
        "iteration: 9100    loss: 0.0284511819482    accuracy: [ 0.02908957  0.37921497]"
       ]
      },
      {
       "output_type": "stream",
       "stream": "stdout",
       "text": [
        "\n",
        "iteration: 9200    loss: 0.092317737639    accuracy: [ 0.  0.]"
       ]
      },
      {
       "output_type": "stream",
       "stream": "stdout",
       "text": [
        "\n",
        "iteration: 9300    loss: 0.014578577131    accuracy: [ 0.42212683  0.00907462]"
       ]
      },
      {
       "output_type": "stream",
       "stream": "stdout",
       "text": [
        "\n",
        "iteration: 9400    loss: 0.00914508663118    accuracy: [ 0.18343161  0.0275993 ]"
       ]
      },
      {
       "output_type": "stream",
       "stream": "stdout",
       "text": [
        "\n",
        "iteration: 9500    loss: 0.00618245732039    accuracy: [ 0.29089409  0.00559643]"
       ]
      },
      {
       "output_type": "stream",
       "stream": "stdout",
       "text": [
        "\n",
        "iteration: 9600    loss: 0.0193422138691    accuracy: [ 0.24088813  0.01885355]"
       ]
      },
      {
       "output_type": "stream",
       "stream": "stdout",
       "text": [
        "\n",
        "iteration: 9700    loss: 0.00989249907434    accuracy: [ 0.34785935  0.00467238]"
       ]
      },
      {
       "output_type": "stream",
       "stream": "stdout",
       "text": [
        "\n",
        "iteration: 9800    loss: 0.0195170994848    accuracy: [ 0.08153098  0.20688847]"
       ]
      },
      {
       "output_type": "stream",
       "stream": "stdout",
       "text": [
        "\n",
        "iteration: 9900    loss: 0.00656639412045    accuracy: [ 0.35688242  0.00324467]"
       ]
      },
      {
       "output_type": "stream",
       "stream": "stdout",
       "text": [
        "\n",
        "iteration: 10000   loss: 0.00603403802961    accuracy: [ 0.33408201  0.00383032]"
       ]
      },
      {
       "output_type": "stream",
       "stream": "stdout",
       "text": [
        "\n",
        "snaping to: /home/qinshuo/WorkPlace/caffe_space/extract_skin/weight/seg_skin_net_fin110000.caffemodel\n",
        "iteration: 100     loss: 0.010486645624    accuracy: [ 0.33573779  0.0062167 ]"
       ]
      },
      {
       "output_type": "stream",
       "stream": "stdout",
       "text": [
        "\n",
        "iteration: 200     loss: 0.00823815818876    accuracy: [ 0.34365144  0.00285899]"
       ]
      },
      {
       "output_type": "stream",
       "stream": "stdout",
       "text": [
        "\n",
        "iteration: 300     loss: 0.00713628856465    accuracy: [ 0.35509425  0.00343306]"
       ]
      },
      {
       "output_type": "stream",
       "stream": "stdout",
       "text": [
        "\n",
        "iteration: 400     loss: 0.00776176061481    accuracy: [ 0.35803083  0.00395877]"
       ]
      },
      {
       "output_type": "stream",
       "stream": "stdout",
       "text": [
        "\n",
        "iteration: 500     loss: 0.00941530428827    accuracy: [ 0.31294495  0.00238503]"
       ]
      },
      {
       "output_type": "stream",
       "stream": "stdout",
       "text": [
        "\n",
        "iteration: 600     loss: 0.0065377978608    accuracy: [ 0.35149908  0.00301022]"
       ]
      },
      {
       "output_type": "stream",
       "stream": "stdout",
       "text": [
        "\n",
        "iteration: 700     loss: 0.00682273041457    accuracy: [ 0.36658606  0.00268907]"
       ]
      },
      {
       "output_type": "stream",
       "stream": "stdout",
       "text": [
        "\n",
        "iteration: 800     loss: 0.00628013070673    accuracy: [ 0.3251476   0.00440472]"
       ]
      },
      {
       "output_type": "stream",
       "stream": "stdout",
       "text": [
        "\n",
        "iteration: 900     loss: 0.00909740664065    accuracy: [ 0.31889716  0.00637401]"
       ]
      },
      {
       "output_type": "stream",
       "stream": "stdout",
       "text": [
        "\n",
        "iteration: 1000    loss: 0.00821483880281    accuracy: [ 0.29115298  0.0045968 ]"
       ]
      },
      {
       "output_type": "stream",
       "stream": "stdout",
       "text": [
        "\n",
        "iteration: 1100    loss: 0.00642158184201    accuracy: [ 0.33471742  0.00380033]"
       ]
      },
      {
       "output_type": "stream",
       "stream": "stdout",
       "text": [
        "\n",
        "iteration: 1200    loss: 0.00728202518076    accuracy: [ 0.38832194  0.00343261]"
       ]
      },
      {
       "output_type": "stream",
       "stream": "stdout",
       "text": [
        "\n",
        "iteration: 1300    loss: 0.00793710630387    accuracy: [ 0.31863126  0.00645115]"
       ]
      },
      {
       "output_type": "stream",
       "stream": "stdout",
       "text": [
        "\n",
        "iteration: 1400    loss: 0.00625807419419    accuracy: [ 0.32124352  0.0041512 ]"
       ]
      },
      {
       "output_type": "stream",
       "stream": "stdout",
       "text": [
        "\n",
        "iteration: 1500    loss: 0.0614335350692    accuracy: [ 0.36774486  0.02675933]"
       ]
      },
      {
       "output_type": "stream",
       "stream": "stdout",
       "text": [
        "\n",
        "iteration: 1600    loss: 0.00703460816294    accuracy: [ 0.33966991  0.00354283]"
       ]
      },
      {
       "output_type": "stream",
       "stream": "stdout",
       "text": [
        "\n",
        "iteration: 1700    loss: 0.00710228458047    accuracy: [ 0.38761947  0.00227748]"
       ]
      },
      {
       "output_type": "stream",
       "stream": "stdout",
       "text": [
        "\n",
        "iteration: 1800    loss: 0.00917884055525    accuracy: [ 0.33342376  0.00622364]"
       ]
      },
      {
       "output_type": "stream",
       "stream": "stdout",
       "text": [
        "\n",
        "iteration: 1900    loss: 0.00731154251844    accuracy: [ 0.37079686  0.00331781]"
       ]
      },
      {
       "output_type": "stream",
       "stream": "stdout",
       "text": [
        "\n",
        "iteration: 2000    loss: 0.00598393566906    accuracy: [ 0.34231585  0.00319125]"
       ]
      },
      {
       "output_type": "stream",
       "stream": "stdout",
       "text": [
        "\n",
        "iteration: 2100    loss: 0.00630039907992    accuracy: [ 0.2999022   0.00505732]"
       ]
      },
      {
       "output_type": "stream",
       "stream": "stdout",
       "text": [
        "\n",
        "iteration: 2200    loss: 0.00588804204017    accuracy: [ 0.33201516  0.00294605]"
       ]
      },
      {
       "output_type": "stream",
       "stream": "stdout",
       "text": [
        "\n",
        "iteration: 2300    loss: 0.00627883989364    accuracy: [ 0.29295203  0.00602472]"
       ]
      },
      {
       "output_type": "stream",
       "stream": "stdout",
       "text": [
        "\n",
        "iteration: 2400    loss: 0.00955963414162    accuracy: [ 0.36716312  0.00514981]"
       ]
      },
      {
       "output_type": "stream",
       "stream": "stdout",
       "text": [
        "\n",
        "iteration: 2500    loss: 0.00790450908244    accuracy: [ 0.19995645  0.0221993 ]"
       ]
      },
      {
       "output_type": "stream",
       "stream": "stdout",
       "text": [
        "\n",
        "iteration: 2600    loss: 0.00809694919735    accuracy: [ 0.35471135  0.00419127]"
       ]
      },
      {
       "output_type": "stream",
       "stream": "stdout",
       "text": [
        "\n",
        "iteration: 2700    loss: 0.0078240679577    accuracy: [ 0.31767225  0.00410428]"
       ]
      },
      {
       "output_type": "stream",
       "stream": "stdout",
       "text": [
        "\n",
        "iteration: 2800    loss: 0.00712673692033    accuracy: [ 0.37175313  0.00282736]"
       ]
      },
      {
       "output_type": "stream",
       "stream": "stdout",
       "text": [
        "\n",
        "iteration: 2900    loss: 0.00755637371913    accuracy: [ 0.34372005  0.00491111]"
       ]
      },
      {
       "output_type": "stream",
       "stream": "stdout",
       "text": [
        "\n",
        "iteration: 3000    loss: 0.00985781196505    accuracy: [ 0.33670482  0.00733693]"
       ]
      },
      {
       "output_type": "stream",
       "stream": "stdout",
       "text": [
        "\n",
        "iteration: 3100    loss: 0.00844822824001    accuracy: [ 0.38422045  0.00287551]"
       ]
      },
      {
       "output_type": "stream",
       "stream": "stdout",
       "text": [
        "\n",
        "iteration: 3200    loss: 0.00663497904316    accuracy: [ 0.31867364  0.00327417]"
       ]
      },
      {
       "output_type": "stream",
       "stream": "stdout",
       "text": [
        "\n",
        "iteration: 3300    loss: 0.00788562651724    accuracy: [ 0.35951638  0.00340122]"
       ]
      },
      {
       "output_type": "stream",
       "stream": "stdout",
       "text": [
        "\n",
        "iteration: 3400    loss: 0.0109248626977    accuracy: [ 0.32019836  0.00776769]"
       ]
      },
      {
       "output_type": "stream",
       "stream": "stdout",
       "text": [
        "\n",
        "iteration: 3500    loss: 0.00731831602752    accuracy: [ 0.35522026  0.0032814 ]"
       ]
      },
      {
       "output_type": "stream",
       "stream": "stdout",
       "text": [
        "\n",
        "iteration: 3600    loss: 0.0101701254025    accuracy: [ 0.3661336   0.00561129]"
       ]
      },
      {
       "output_type": "stream",
       "stream": "stdout",
       "text": [
        "\n",
        "iteration: 3700    loss: 0.00595237873495    accuracy: [ 0.27012435  0.01130774]"
       ]
      },
      {
       "output_type": "stream",
       "stream": "stdout",
       "text": [
        "\n",
        "iteration: 3800    loss: 0.00919533148408    accuracy: [ 0.16331644  0.04692178]"
       ]
      },
      {
       "output_type": "stream",
       "stream": "stdout",
       "text": [
        "\n",
        "iteration: 3900    loss: 0.00670646084473    accuracy: [ 0.38207322  0.0025002 ]"
       ]
      },
      {
       "output_type": "stream",
       "stream": "stdout",
       "text": [
        "\n",
        "iteration: 4000    loss: 0.0118631059304    accuracy: [ 0.32317394  0.0101476 ]"
       ]
      },
      {
       "output_type": "stream",
       "stream": "stdout",
       "text": [
        "\n",
        "iteration: 4100    loss: 0.00774803105742    accuracy: [ 0.30514365  0.00644523]"
       ]
      },
      {
       "output_type": "stream",
       "stream": "stdout",
       "text": [
        "\n",
        "iteration: 4200    loss: 0.0143194887787    accuracy: [ 0.35147518  0.00597956]"
       ]
      },
      {
       "output_type": "stream",
       "stream": "stdout",
       "text": [
        "\n",
        "iteration: 4300    loss: 0.00778289418668    accuracy: [ 0.30986562  0.00789422]"
       ]
      },
      {
       "output_type": "stream",
       "stream": "stdout",
       "text": [
        "\n",
        "iteration: 4400    loss: 0.373223304749    accuracy: [ 0.2404364   0.83073264]"
       ]
      },
      {
       "output_type": "stream",
       "stream": "stdout",
       "text": [
        "\n",
        "iteration: 4500    loss: 0.00649621989578    accuracy: [ 0.36273751  0.00292804]"
       ]
      },
      {
       "output_type": "stream",
       "stream": "stdout",
       "text": [
        "\n",
        "iteration: 4600    loss: 0.0128430724144    accuracy: [ 0.33561313  0.00964297]"
       ]
      },
      {
       "output_type": "stream",
       "stream": "stdout",
       "text": [
        "\n",
        "iteration: 4700    loss: 0.00990560464561    accuracy: [ 0.40329149  0.00440474]"
       ]
      },
      {
       "output_type": "stream",
       "stream": "stdout",
       "text": [
        "\n",
        "iteration: 4800    loss: 0.264012813568    accuracy: [ 0.22447705  0.30138525]"
       ]
      },
      {
       "output_type": "stream",
       "stream": "stdout",
       "text": [
        "\n",
        "iteration: 4900    loss: 0.00979098677635    accuracy: [ 0.18995821  0.0313254 ]"
       ]
      },
      {
       "output_type": "stream",
       "stream": "stdout",
       "text": [
        "\n",
        "iteration: 5000    loss: 0.178871169686    accuracy: [ 0.01710585  0.33286518]"
       ]
      },
      {
       "output_type": "stream",
       "stream": "stdout",
       "text": [
        "\n",
        "iteration: 5100    loss: 0.00863831676543    accuracy: [ 0.19275303  0.02457163]"
       ]
      },
      {
       "output_type": "stream",
       "stream": "stdout",
       "text": [
        "\n",
        "iteration: 5200    loss: 0.0064053107053    accuracy: [ 0.30311924  0.00390842]"
       ]
      },
      {
       "output_type": "stream",
       "stream": "stdout",
       "text": [
        "\n",
        "iteration: 5300    loss: 0.008216756396    accuracy: [ 0.35166094  0.00565886]"
       ]
      },
      {
       "output_type": "stream",
       "stream": "stdout",
       "text": [
        "\n",
        "iteration: 5400    loss: 0.00931755080819    accuracy: [ 0.38536844  0.00380907]"
       ]
      },
      {
       "output_type": "stream",
       "stream": "stdout",
       "text": [
        "\n",
        "iteration: 5500    loss: 0.0079622939229    accuracy: [ 0.27437976  0.00730375]"
       ]
      },
      {
       "output_type": "stream",
       "stream": "stdout",
       "text": [
        "\n",
        "iteration: 5600    loss: 0.00897190161049    accuracy: [ 0.39034376  0.00500939]"
       ]
      },
      {
       "output_type": "stream",
       "stream": "stdout",
       "text": [
        "\n",
        "iteration: 5700    loss: 0.0060437079519    accuracy: [ 0.3454487   0.00395825]"
       ]
      },
      {
       "output_type": "stream",
       "stream": "stdout",
       "text": [
        "\n",
        "iteration: 5800    loss: 0.00637208484113    accuracy: [ 0.34787723  0.00299776]"
       ]
      },
      {
       "output_type": "stream",
       "stream": "stdout",
       "text": [
        "\n",
        "iteration: 5900    loss: 0.00748903909698    accuracy: [ 0.30117953  0.00472249]"
       ]
      },
      {
       "output_type": "stream",
       "stream": "stdout",
       "text": [
        "\n",
        "iteration: 6000    loss: 0.00777659425512    accuracy: [ 0.23609163  0.01221999]"
       ]
      },
      {
       "output_type": "stream",
       "stream": "stdout",
       "text": [
        "\n",
        "iteration: 6100    loss: 0.00771276233718    accuracy: [ 0.18927214  0.02419029]"
       ]
      },
      {
       "output_type": "stream",
       "stream": "stdout",
       "text": [
        "\n",
        "iteration: 6200    loss: 0.00657622283325    accuracy: [ 0.35576648  0.00287838]"
       ]
      },
      {
       "output_type": "stream",
       "stream": "stdout",
       "text": [
        "\n",
        "iteration: 6300    loss: 0.00916021689773    accuracy: [ 0.24452113  0.01254923]"
       ]
      },
      {
       "output_type": "stream",
       "stream": "stdout",
       "text": [
        "\n",
        "iteration: 6400    loss: 0.0947843641043    accuracy: [ 0.  0.]"
       ]
      },
      {
       "output_type": "stream",
       "stream": "stdout",
       "text": [
        "\n",
        "iteration: 6500    loss: 0.0154563309625    accuracy: [ 0.12923525  0.10314975]"
       ]
      },
      {
       "output_type": "stream",
       "stream": "stdout",
       "text": [
        "\n",
        "iteration: 6600    loss: 0.0394189245999    accuracy: [ 0.00363427  0.54096639]"
       ]
      },
      {
       "output_type": "stream",
       "stream": "stdout",
       "text": [
        "\n",
        "iteration: 6700    loss: 0.00797482579947    accuracy: [ 0.29620066  0.00670622]"
       ]
      },
      {
       "output_type": "stream",
       "stream": "stdout",
       "text": [
        "\n",
        "iteration: 6800    loss: 0.0072164000012    accuracy: [ 0.29399517  0.00839397]"
       ]
      },
      {
       "output_type": "stream",
       "stream": "stdout",
       "text": [
        "\n",
        "iteration: 6900    loss: 0.135135397315    accuracy: [ 0.01639703  0.36027777]"
       ]
      },
      {
       "output_type": "stream",
       "stream": "stdout",
       "text": [
        "\n",
        "iteration: 7000    loss: 0.0109036546201    accuracy: [ 0.17222404  0.03232758]"
       ]
      },
      {
       "output_type": "stream",
       "stream": "stdout",
       "text": [
        "\n",
        "iteration: 7100    loss: 0.00748926680535    accuracy: [ 0.35855561  0.00263337]"
       ]
      },
      {
       "output_type": "stream",
       "stream": "stdout",
       "text": [
        "\n",
        "iteration: 7200    loss: 0.0133331334218    accuracy: [ 0.41342071  0.00786994]"
       ]
      },
      {
       "output_type": "stream",
       "stream": "stdout",
       "text": [
        "\n",
        "iteration: 7300    loss: 0.00664074905217    accuracy: [ 0.25930652  0.0078659 ]"
       ]
      },
      {
       "output_type": "stream",
       "stream": "stdout",
       "text": [
        "\n",
        "iteration: 7400    loss: 0.0213132128119    accuracy: [ 0.08812984  0.19244449]"
       ]
      },
      {
       "output_type": "stream",
       "stream": "stdout",
       "text": [
        "\n",
        "iteration: 7500    loss: 0.304913461208    accuracy: [ 0.06174472  0.20584844]"
       ]
      },
      {
       "output_type": "stream",
       "stream": "stdout",
       "text": [
        "\n",
        "iteration: 7600    loss: 0.00572620239109    accuracy: [ 0.36373913  0.00307605]"
       ]
      },
      {
       "output_type": "stream",
       "stream": "stdout",
       "text": [
        "\n",
        "iteration: 7700    loss: 0.0106892194599    accuracy: [ 0.21075058  0.02454888]"
       ]
      },
      {
       "output_type": "stream",
       "stream": "stdout",
       "text": [
        "\n",
        "iteration: 7800    loss: 0.00594320241362    accuracy: [ 0.3297869   0.00288542]"
       ]
      },
      {
       "output_type": "stream",
       "stream": "stdout",
       "text": [
        "\n",
        "iteration: 7900    loss: 0.00777458539233    accuracy: [ 0.19748425  0.02257952]"
       ]
      },
      {
       "output_type": "stream",
       "stream": "stdout",
       "text": [
        "\n",
        "iteration: 8000    loss: 0.00778242992237    accuracy: [ 0.37310982  0.0041368 ]"
       ]
      },
      {
       "output_type": "stream",
       "stream": "stdout",
       "text": [
        "\n",
        "iteration: 8100    loss: 0.218568682671    accuracy: [ 0.23673649  0.13785747]"
       ]
      },
      {
       "output_type": "stream",
       "stream": "stdout",
       "text": [
        "\n",
        "iteration: 8200    loss: 0.00972473248839    accuracy: [ 0.28439271  0.00600839]"
       ]
      },
      {
       "output_type": "stream",
       "stream": "stdout",
       "text": [
        "\n",
        "iteration: 8300    loss: 0.00843060947955    accuracy: [ 0.41349801  0.003594  ]"
       ]
      },
      {
       "output_type": "stream",
       "stream": "stdout",
       "text": [
        "\n",
        "iteration: 8400    loss: 0.00824337173253    accuracy: [ 0.36261785  0.00414138]"
       ]
      },
      {
       "output_type": "stream",
       "stream": "stdout",
       "text": [
        "\n",
        "iteration: 8500    loss: 0.00667530670762    accuracy: [ 0.35823998  0.00403054]"
       ]
      },
      {
       "output_type": "stream",
       "stream": "stdout",
       "text": [
        "\n",
        "iteration: 8600    loss: 0.0168976727873    accuracy: [ 0.14889593  0.07716588]"
       ]
      },
      {
       "output_type": "stream",
       "stream": "stdout",
       "text": [
        "\n",
        "iteration: 8700    loss: 0.0172435380518    accuracy: [ 0.10894471  0.10892203]"
       ]
      },
      {
       "output_type": "stream",
       "stream": "stdout",
       "text": [
        "\n",
        "iteration: 8800    loss: 0.00905635766685    accuracy: [ 0.33053085  0.006119  ]"
       ]
      },
      {
       "output_type": "stream",
       "stream": "stdout",
       "text": [
        "\n",
        "iteration: 8900    loss: 0.0121727194637    accuracy: [ 0.37299725  0.00404401]"
       ]
      },
      {
       "output_type": "stream",
       "stream": "stdout",
       "text": [
        "\n",
        "iteration: 9000    loss: 0.01125805825    accuracy: [ 0.29639372  0.00624419]"
       ]
      },
      {
       "output_type": "stream",
       "stream": "stdout",
       "text": [
        "\n",
        "iteration: 9100    loss: 0.0126835275441    accuracy: [ 0.37520203  0.00857469]"
       ]
      },
      {
       "output_type": "stream",
       "stream": "stdout",
       "text": [
        "\n",
        "iteration: 9200    loss: 0.014874744229    accuracy: [ 0.34003755  0.01174436]"
       ]
      },
      {
       "output_type": "stream",
       "stream": "stdout",
       "text": [
        "\n",
        "iteration: 9300    loss: 0.0065622930415    accuracy: [ 0.34092584  0.00410075]"
       ]
      },
      {
       "output_type": "stream",
       "stream": "stdout",
       "text": [
        "\n",
        "iteration: 9400    loss: 0.00783104076982    accuracy: [ 0.27109545  0.00574113]"
       ]
      },
      {
       "output_type": "stream",
       "stream": "stdout",
       "text": [
        "\n",
        "iteration: 9500    loss: 0.00833147577941    accuracy: [ 0.34058487  0.00448793]"
       ]
      },
      {
       "output_type": "stream",
       "stream": "stdout",
       "text": [
        "\n",
        "iteration: 9600    loss: 0.012280607596    accuracy: [ 0.12000352  0.09281342]"
       ]
      },
      {
       "output_type": "stream",
       "stream": "stdout",
       "text": [
        "\n",
        "iteration: 9700    loss: 0.00776664726436    accuracy: [ 0.40003362  0.00249322]"
       ]
      },
      {
       "output_type": "stream",
       "stream": "stdout",
       "text": [
        "\n",
        "iteration: 9800    loss: 0.112748384476    accuracy: [ 0.  0.]"
       ]
      },
      {
       "output_type": "stream",
       "stream": "stdout",
       "text": [
        "\n",
        "iteration: 9900    loss: 0.0116521110758    accuracy: [ 0.11525846  0.11188047]"
       ]
      },
      {
       "output_type": "stream",
       "stream": "stdout",
       "text": [
        "\n",
        "iteration: 10000   loss: 0.0170511007309    accuracy: [ 0.09104127  0.18641013]"
       ]
      },
      {
       "output_type": "stream",
       "stream": "stdout",
       "text": [
        "\n",
        "snaping to: /home/qinshuo/WorkPlace/caffe_space/extract_skin/weight/seg_skin_net_fin120000.caffemodel\n",
        "iteration: 100     loss: 0.0387151241302    accuracy: [ 0.14082591  0.06992034]"
       ]
      },
      {
       "output_type": "stream",
       "stream": "stdout",
       "text": [
        "\n",
        "iteration: 200     loss: 0.00762494234368    accuracy: [ 0.33086854  0.0032916 ]"
       ]
      },
      {
       "output_type": "stream",
       "stream": "stdout",
       "text": [
        "\n",
        "iteration: 300     loss: 0.0100491167977    accuracy: [ 0.31486142  0.00757723]"
       ]
      },
      {
       "output_type": "stream",
       "stream": "stdout",
       "text": [
        "\n",
        "iteration: 400     loss: 0.00775557290763    accuracy: [ 0.3566547   0.00434857]"
       ]
      },
      {
       "output_type": "stream",
       "stream": "stdout",
       "text": [
        "\n",
        "iteration: 500     loss: 0.00739848101512    accuracy: [ 0.24775097  0.00909708]"
       ]
      },
      {
       "output_type": "stream",
       "stream": "stdout",
       "text": [
        "\n",
        "iteration: 600     loss: 0.00604778621346    accuracy: [ 0.3562724   0.00307742]"
       ]
      },
      {
       "output_type": "stream",
       "stream": "stdout",
       "text": [
        "\n",
        "iteration: 700     loss: 0.0201196670532    accuracy: [ 0.0806986   0.21235083]"
       ]
      },
      {
       "output_type": "stream",
       "stream": "stdout",
       "text": [
        "\n",
        "iteration: 800     loss: 0.00651747360826    accuracy: [ 0.36935282  0.00255535]"
       ]
      },
      {
       "output_type": "stream",
       "stream": "stdout",
       "text": [
        "\n",
        "iteration: 900     loss: 0.0205466561019    accuracy: [ 0.38798746  0.0082358 ]"
       ]
      },
      {
       "output_type": "stream",
       "stream": "stdout",
       "text": [
        "\n",
        "iteration: 1000    loss: 0.00832133926451    accuracy: [ 0.34557921  0.00540547]"
       ]
      },
      {
       "output_type": "stream",
       "stream": "stdout",
       "text": [
        "\n",
        "iteration: 1100    loss: 0.0143209546804    accuracy: [ 0.40429056  0.0060535 ]"
       ]
      },
      {
       "output_type": "stream",
       "stream": "stdout",
       "text": [
        "\n",
        "iteration: 1200    loss: 0.00599654018879    accuracy: [ 0.35016567  0.00215009]"
       ]
      },
      {
       "output_type": "stream",
       "stream": "stdout",
       "text": [
        "\n",
        "iteration: 1300    loss: 0.00687985541299    accuracy: [ 0.30614492  0.00434392]"
       ]
      },
      {
       "output_type": "stream",
       "stream": "stdout",
       "text": [
        "\n",
        "iteration: 1400    loss: 0.00742368493229    accuracy: [ 0.36708927  0.00374735]"
       ]
      },
      {
       "output_type": "stream",
       "stream": "stdout",
       "text": [
        "\n",
        "iteration: 1500    loss: 0.0366441309452    accuracy: [ 0.02148911  0.44156539]"
       ]
      },
      {
       "output_type": "stream",
       "stream": "stdout",
       "text": [
        "\n",
        "iteration: 1600    loss: 0.300497323275    accuracy: [ 0.28106093  0.2774322 ]"
       ]
      },
      {
       "output_type": "stream",
       "stream": "stdout",
       "text": [
        "\n",
        "iteration: 1700    loss: 0.00906682014465    accuracy: [ 0.22949918  0.0173447 ]"
       ]
      },
      {
       "output_type": "stream",
       "stream": "stdout",
       "text": [
        "\n",
        "iteration: 1800    loss: 0.00801222398877    accuracy: [ 0.35423407  0.00306563]"
       ]
      },
      {
       "output_type": "stream",
       "stream": "stdout",
       "text": [
        "\n",
        "iteration: 1900    loss: 0.0119438525289    accuracy: [ 0.13824807  0.07657409]"
       ]
      },
      {
       "output_type": "stream",
       "stream": "stdout",
       "text": [
        "\n",
        "iteration: 2000    loss: 0.0442950129509    accuracy: [ 0.00212559  0.51079136]"
       ]
      },
      {
       "output_type": "stream",
       "stream": "stdout",
       "text": [
        "\n",
        "iteration: 2100    loss: 0.0102949561551    accuracy: [ 0.16498546  0.04599963]"
       ]
      },
      {
       "output_type": "stream",
       "stream": "stdout",
       "text": [
        "\n",
        "iteration: 2200    loss: 0.00948342494667    accuracy: [ 0.35660422  0.00502938]"
       ]
      },
      {
       "output_type": "stream",
       "stream": "stdout",
       "text": [
        "\n",
        "iteration: 2300    loss: 0.00868077762425    accuracy: [ 0.3576673   0.00557526]"
       ]
      },
      {
       "output_type": "stream",
       "stream": "stdout",
       "text": [
        "\n",
        "iteration: 2400    loss: 0.00800398085266    accuracy: [ 0.3467592   0.00443102]"
       ]
      },
      {
       "output_type": "stream",
       "stream": "stdout",
       "text": [
        "\n",
        "iteration: 2500    loss: 0.00768112158403    accuracy: [ 0.38903049  0.0029859 ]"
       ]
      },
      {
       "output_type": "stream",
       "stream": "stdout",
       "text": [
        "\n",
        "iteration: 2600    loss: 0.00649355351925    accuracy: [ 0.33063221  0.00276301]"
       ]
      },
      {
       "output_type": "stream",
       "stream": "stdout",
       "text": [
        "\n",
        "iteration: 2700    loss: 0.00760730821639    accuracy: [ 0.347341    0.00429024]"
       ]
      },
      {
       "output_type": "stream",
       "stream": "stdout",
       "text": [
        "\n",
        "iteration: 2800    loss: 0.0979180783033    accuracy: [ 0.  0.]"
       ]
      },
      {
       "output_type": "stream",
       "stream": "stdout",
       "text": [
        "\n",
        "iteration: 2900    loss: 0.00620069541037    accuracy: [ 0.34644225  0.00326379]"
       ]
      },
      {
       "output_type": "stream",
       "stream": "stdout",
       "text": [
        "\n",
        "iteration: 3000    loss: 0.0064421473071    accuracy: [ 0.34574071  0.00306145]"
       ]
      },
      {
       "output_type": "stream",
       "stream": "stdout",
       "text": [
        "\n",
        "iteration: 3100    loss: 0.0100575629622    accuracy: [ 0.31025147  0.0074344 ]"
       ]
      },
      {
       "output_type": "stream",
       "stream": "stdout",
       "text": [
        "\n",
        "iteration: 3200    loss: 0.00990423187613    accuracy: [ 0.39227596  0.00323688]"
       ]
      },
      {
       "output_type": "stream",
       "stream": "stdout",
       "text": [
        "\n",
        "iteration: 3300    loss: 0.0103027904406    accuracy: [ 0.37138599  0.00452731]"
       ]
      },
      {
       "output_type": "stream",
       "stream": "stdout",
       "text": [
        "\n",
        "iteration: 3400    loss: 0.00730224233121    accuracy: [ 0.38666493  0.00310252]"
       ]
      },
      {
       "output_type": "stream",
       "stream": "stdout",
       "text": [
        "\n",
        "iteration: 3500    loss: 0.00624132622033    accuracy: [ 0.3299982   0.00412132]"
       ]
      },
      {
       "output_type": "stream",
       "stream": "stdout",
       "text": [
        "\n",
        "iteration: 3600    loss: 0.0053620794788    accuracy: [ 0.30763     0.00394913]"
       ]
      },
      {
       "output_type": "stream",
       "stream": "stdout",
       "text": [
        "\n",
        "iteration: 3700    loss: 0.00990995205939    accuracy: [ 0.28414431  0.01369016]"
       ]
      },
      {
       "output_type": "stream",
       "stream": "stdout",
       "text": [
        "\n",
        "iteration: 3800    loss: 0.00773319602013    accuracy: [ 0.36944482  0.00309344]"
       ]
      },
      {
       "output_type": "stream",
       "stream": "stdout",
       "text": [
        "\n",
        "iteration: 3900    loss: 0.00725974701345    accuracy: [ 0.38738072  0.00306706]"
       ]
      },
      {
       "output_type": "stream",
       "stream": "stdout",
       "text": [
        "\n",
        "iteration: 4000    loss: 0.00820534862578    accuracy: [ 0.32614782  0.00466742]"
       ]
      },
      {
       "output_type": "stream",
       "stream": "stdout",
       "text": [
        "\n",
        "iteration: 4100    loss: 0.0165693610907    accuracy: [ 0.33055073  0.01386322]"
       ]
      },
      {
       "output_type": "stream",
       "stream": "stdout",
       "text": [
        "\n",
        "iteration: 4200    loss: 0.0331975631416    accuracy: [ 0.4484351   0.01178471]"
       ]
      },
      {
       "output_type": "stream",
       "stream": "stdout",
       "text": [
        "\n",
        "iteration: 4300    loss: 0.011680261232    accuracy: [ 0.40086761  0.00737311]"
       ]
      },
      {
       "output_type": "stream",
       "stream": "stdout",
       "text": [
        "\n",
        "iteration: 4400    loss: 0.00595913268626    accuracy: [ 0.33721444  0.00301328]"
       ]
      },
      {
       "output_type": "stream",
       "stream": "stdout",
       "text": [
        "\n",
        "iteration: 4500    loss: 0.351267039776    accuracy: [ 0.02369257  0.26594862]"
       ]
      },
      {
       "output_type": "stream",
       "stream": "stdout",
       "text": [
        "\n",
        "iteration: 4600    loss: 0.010645782575    accuracy: [ 0.38070849  0.00555199]"
       ]
      },
      {
       "output_type": "stream",
       "stream": "stdout",
       "text": [
        "\n",
        "iteration: 4700    loss: 0.00791667401791    accuracy: [ 0.37062427  0.00385599]"
       ]
      },
      {
       "output_type": "stream",
       "stream": "stdout",
       "text": [
        "\n",
        "iteration: 4800    loss: 0.00673925410956    accuracy: [ 0.21062358  0.02434559]"
       ]
      },
      {
       "output_type": "stream",
       "stream": "stdout",
       "text": [
        "\n",
        "iteration: 4900    loss: 0.023409716785    accuracy: [ 0.14956166  0.09539843]"
       ]
      },
      {
       "output_type": "stream",
       "stream": "stdout",
       "text": [
        "\n",
        "iteration: 5000    loss: 0.00960626453161    accuracy: [ 0.314724    0.00742754]"
       ]
      },
      {
       "output_type": "stream",
       "stream": "stdout",
       "text": [
        "\n",
        "iteration: 5100    loss: 0.0131779462099    accuracy: [ 0.10417916  0.1425744 ]"
       ]
      },
      {
       "output_type": "stream",
       "stream": "stdout",
       "text": [
        "\n",
        "iteration: 5200    loss: 0.00753508741036    accuracy: [ 0.31798926  0.00601816]"
       ]
      },
      {
       "output_type": "stream",
       "stream": "stdout",
       "text": [
        "\n",
        "iteration: 5300    loss: 0.0143544124439    accuracy: [ 0.15037432  0.05442316]"
       ]
      },
      {
       "output_type": "stream",
       "stream": "stdout",
       "text": [
        "\n",
        "iteration: 5400    loss: 0.00539057701826    accuracy: [ 0.28778815  0.00561514]"
       ]
      },
      {
       "output_type": "stream",
       "stream": "stdout",
       "text": [
        "\n",
        "iteration: 5500    loss: 0.0306183844805    accuracy: [ 0.33719128  0.01187236]"
       ]
      },
      {
       "output_type": "stream",
       "stream": "stdout",
       "text": [
        "\n",
        "iteration: 5600    loss: 0.00730252405629    accuracy: [ 0.33597353  0.00417368]"
       ]
      },
      {
       "output_type": "stream",
       "stream": "stdout",
       "text": [
        "\n",
        "iteration: 5700    loss: 0.00592339597642    accuracy: [ 0.32375109  0.00357531]"
       ]
      },
      {
       "output_type": "stream",
       "stream": "stdout",
       "text": [
        "\n",
        "iteration: 5800    loss: 0.00817668437958    accuracy: [ 0.1903235   0.03694344]"
       ]
      },
      {
       "output_type": "stream",
       "stream": "stdout",
       "text": [
        "\n",
        "iteration: 5900    loss: 0.00706015806645    accuracy: [ 0.28955612  0.00616095]"
       ]
      },
      {
       "output_type": "stream",
       "stream": "stdout",
       "text": [
        "\n",
        "iteration: 6000    loss: 0.00657655857503    accuracy: [ 0.35540411  0.00333219]"
       ]
      },
      {
       "output_type": "stream",
       "stream": "stdout",
       "text": [
        "\n",
        "iteration: 6100    loss: 0.00833706557751    accuracy: [ 0.32522875  0.00483188]"
       ]
      },
      {
       "output_type": "stream",
       "stream": "stdout",
       "text": [
        "\n",
        "iteration: 6200    loss: 0.10337202251    accuracy: [ 0.00095022  0.51229507]"
       ]
      },
      {
       "output_type": "stream",
       "stream": "stdout",
       "text": [
        "\n",
        "iteration: 6300    loss: 0.0102143473923    accuracy: [ 0.34724548  0.0044161 ]"
       ]
      },
      {
       "output_type": "stream",
       "stream": "stdout",
       "text": [
        "\n",
        "iteration: 6400    loss: 0.00889188610017    accuracy: [ 0.40231976  0.00411175]"
       ]
      },
      {
       "output_type": "stream",
       "stream": "stdout",
       "text": [
        "\n",
        "iteration: 6500    loss: 0.0068967086263    accuracy: [ 0.27614895  0.00638221]"
       ]
      },
      {
       "output_type": "stream",
       "stream": "stdout",
       "text": [
        "\n",
        "iteration: 6600    loss: 0.0114106442779    accuracy: [ 0.43330914  0.00541274]"
       ]
      },
      {
       "output_type": "stream",
       "stream": "stdout",
       "text": [
        "\n",
        "iteration: 6700    loss: 0.0107492376119    accuracy: [ 0.36482534  0.00644945]"
       ]
      },
      {
       "output_type": "stream",
       "stream": "stdout",
       "text": [
        "\n",
        "iteration: 6800    loss: 0.00878864713013    accuracy: [ 0.39187232  0.00253649]"
       ]
      },
      {
       "output_type": "stream",
       "stream": "stdout",
       "text": [
        "\n",
        "iteration: 6900    loss: 0.00636798515916    accuracy: [ 0.2165015  0.0162986]"
       ]
      },
      {
       "output_type": "stream",
       "stream": "stdout",
       "text": [
        "\n",
        "iteration: 7000    loss: 0.0101281311363    accuracy: [ 0.15633452  0.05590851]"
       ]
      },
      {
       "output_type": "stream",
       "stream": "stdout",
       "text": [
        "\n",
        "iteration: 7100    loss: 0.00672632502392    accuracy: [ 0.32362098  0.00420247]"
       ]
      },
      {
       "output_type": "stream",
       "stream": "stdout",
       "text": [
        "\n",
        "iteration: 7200    loss: 0.0095469802618    accuracy: [ 0.36191249  0.00357052]"
       ]
      },
      {
       "output_type": "stream",
       "stream": "stdout",
       "text": [
        "\n",
        "iteration: 7300    loss: 0.0124803548679    accuracy: [ 0.36866626  0.00509463]"
       ]
      },
      {
       "output_type": "stream",
       "stream": "stdout",
       "text": [
        "\n",
        "iteration: 7400    loss: 0.00695691909641    accuracy: [ 0.35188612  0.00254204]"
       ]
      },
      {
       "output_type": "stream",
       "stream": "stdout",
       "text": [
        "\n",
        "iteration: 7500    loss: 0.00579478871077    accuracy: [ 0.34345317  0.00246963]"
       ]
      },
      {
       "output_type": "stream",
       "stream": "stdout",
       "text": [
        "\n",
        "iteration: 7600    loss: 0.0162177085876    accuracy: [ 0.31412765  0.00752895]"
       ]
      },
      {
       "output_type": "stream",
       "stream": "stdout",
       "text": [
        "\n",
        "iteration: 7700    loss: 0.00669179670513    accuracy: [ 0.3596859   0.00241161]"
       ]
      },
      {
       "output_type": "stream",
       "stream": "stdout",
       "text": [
        "\n",
        "iteration: 7800    loss: 0.00862740539014    accuracy: [ 0.17960687  0.03626116]"
       ]
      },
      {
       "output_type": "stream",
       "stream": "stdout",
       "text": [
        "\n",
        "iteration: 7900    loss: 0.00554240355268    accuracy: [ 0.35278752  0.00287954]"
       ]
      },
      {
       "output_type": "stream",
       "stream": "stdout",
       "text": [
        "\n",
        "iteration: 8000    loss: 0.00590461026877    accuracy: [ 0.33327729  0.00335901]"
       ]
      },
      {
       "output_type": "stream",
       "stream": "stdout",
       "text": [
        "\n",
        "iteration: 8100    loss: 0.00704403873533    accuracy: [ 0.32917517  0.0041926 ]"
       ]
      },
      {
       "output_type": "stream",
       "stream": "stdout",
       "text": [
        "\n",
        "iteration: 8200    loss: 0.00548962876201    accuracy: [ 0.33561477  0.00327749]"
       ]
      },
      {
       "output_type": "stream",
       "stream": "stdout",
       "text": [
        "\n",
        "iteration: 8300    loss: 0.0102540347725    accuracy: [ 0.30879706  0.00490877]"
       ]
      },
      {
       "output_type": "stream",
       "stream": "stdout",
       "text": [
        "\n",
        "iteration: 8400    loss: 0.00697038974613    accuracy: [ 0.31978166  0.0040043 ]"
       ]
      },
      {
       "output_type": "stream",
       "stream": "stdout",
       "text": [
        "\n",
        "iteration: 8500    loss: 0.00942944921553    accuracy: [ 0.36039025  0.00357491]"
       ]
      },
      {
       "output_type": "stream",
       "stream": "stdout",
       "text": [
        "\n",
        "iteration: 8600    loss: 0.0485728383064    accuracy: [ 0.00174459  0.50877196]"
       ]
      },
      {
       "output_type": "stream",
       "stream": "stdout",
       "text": [
        "\n",
        "iteration: 8700    loss: 0.0146580561996    accuracy: [ 0.43874103  0.00543516]"
       ]
      },
      {
       "output_type": "stream",
       "stream": "stdout",
       "text": [
        "\n",
        "iteration: 8800    loss: 0.00983726233244    accuracy: [ 0.33154246  0.00398199]"
       ]
      },
      {
       "output_type": "stream",
       "stream": "stdout",
       "text": [
        "\n",
        "iteration: 8900    loss: 0.0104492735118    accuracy: [ 0.19705103  0.03415872]"
       ]
      },
      {
       "output_type": "stream",
       "stream": "stdout",
       "text": [
        "\n",
        "iteration: 9000    loss: 0.00714831566438    accuracy: [ 0.24194361  0.01162056]"
       ]
      },
      {
       "output_type": "stream",
       "stream": "stdout",
       "text": [
        "\n",
        "iteration: 9100    loss: 0.0074896402657    accuracy: [ 0.38141081  0.00370593]"
       ]
      },
      {
       "output_type": "stream",
       "stream": "stdout",
       "text": [
        "\n",
        "iteration: 9200    loss: 0.0234870351851    accuracy: [ 0.48281792  0.00824863]"
       ]
      },
      {
       "output_type": "stream",
       "stream": "stdout",
       "text": [
        "\n",
        "iteration: 9300    loss: 0.0159096010029    accuracy: [ 0.25714636  0.01747929]"
       ]
      },
      {
       "output_type": "stream",
       "stream": "stdout",
       "text": [
        "\n",
        "iteration: 9400    loss: 0.0165036506951    accuracy: [ 0.09498305  0.15369743]"
       ]
      },
      {
       "output_type": "stream",
       "stream": "stdout",
       "text": [
        "\n",
        "iteration: 9500    loss: 0.00689543783665    accuracy: [ 0.25971663  0.00694608]"
       ]
      },
      {
       "output_type": "stream",
       "stream": "stdout",
       "text": [
        "\n",
        "iteration: 9600    loss: 0.00820827111602    accuracy: [ 0.29282716  0.01001879]"
       ]
      },
      {
       "output_type": "stream",
       "stream": "stdout",
       "text": [
        "\n",
        "iteration: 9700    loss: 0.0101835718378    accuracy: [ 0.4255355   0.00414826]"
       ]
      },
      {
       "output_type": "stream",
       "stream": "stdout",
       "text": [
        "\n",
        "iteration: 9800    loss: 0.00962791033089    accuracy: [ 0.40502208  0.00439606]"
       ]
      },
      {
       "output_type": "stream",
       "stream": "stdout",
       "text": [
        "\n",
        "iteration: 9900    loss: 0.00800221227109    accuracy: [ 0.34049901  0.00410719]"
       ]
      },
      {
       "output_type": "stream",
       "stream": "stdout",
       "text": [
        "\n",
        "iteration: 10000   loss: 0.00785402860492    accuracy: [ 0.20644422  0.01834777]"
       ]
      },
      {
       "output_type": "stream",
       "stream": "stdout",
       "text": [
        "\n",
        "snaping to: /home/qinshuo/WorkPlace/caffe_space/extract_skin/weight/seg_skin_net_fin130000.caffemodel\n",
        "iteration: 100     loss: 0.107002697885    accuracy: [ 0.36545494  0.0337818 ]"
       ]
      },
      {
       "output_type": "stream",
       "stream": "stdout",
       "text": [
        "\n",
        "iteration: 200     loss: 0.0058206031099    accuracy: [ 0.34514982  0.0030882 ]"
       ]
      },
      {
       "output_type": "stream",
       "stream": "stdout",
       "text": [
        "\n",
        "iteration: 300     loss: 0.0259796455503    accuracy: [ 0.03719978  0.3369967 ]"
       ]
      },
      {
       "output_type": "stream",
       "stream": "stdout",
       "text": [
        "\n",
        "iteration: 400     loss: 0.00977093167603    accuracy: [ 0.22125411  0.02107061]"
       ]
      },
      {
       "output_type": "stream",
       "stream": "stdout",
       "text": [
        "\n",
        "iteration: 500     loss: 0.0078509869054    accuracy: [ 0.20795214  0.0208119 ]"
       ]
      },
      {
       "output_type": "stream",
       "stream": "stdout",
       "text": [
        "\n",
        "iteration: 600     loss: 0.273893594742    accuracy: [ 0.03103073  0.25718102]"
       ]
      },
      {
       "output_type": "stream",
       "stream": "stdout",
       "text": [
        "\n",
        "iteration: 700     loss: 0.0055921562016    accuracy: [ 0.32471883  0.00309499]"
       ]
      },
      {
       "output_type": "stream",
       "stream": "stdout",
       "text": [
        "\n",
        "iteration: 800     loss: 0.0122055923566    accuracy: [ 0.16586192  0.03596823]"
       ]
      },
      {
       "output_type": "stream",
       "stream": "stdout",
       "text": [
        "\n",
        "iteration: 900     loss: 0.0111529352143    accuracy: [ 0.41378942  0.00316058]"
       ]
      },
      {
       "output_type": "stream",
       "stream": "stdout",
       "text": [
        "\n",
        "iteration: 1000    loss: 0.0100176222622    accuracy: [ 0.33027762  0.00653693]"
       ]
      },
      {
       "output_type": "stream",
       "stream": "stdout",
       "text": [
        "\n",
        "iteration: 1100    loss: 0.0283824205399    accuracy: [ 0.0364674  0.3555181]"
       ]
      },
      {
       "output_type": "stream",
       "stream": "stdout",
       "text": [
        "\n",
        "iteration: 1200    loss: 0.00941516086459    accuracy: [ 0.37568715  0.00411087]"
       ]
      },
      {
       "output_type": "stream",
       "stream": "stdout",
       "text": [
        "\n",
        "iteration: 1300    loss: 0.00623944681138    accuracy: [ 0.3180823   0.00413203]"
       ]
      },
      {
       "output_type": "stream",
       "stream": "stdout",
       "text": [
        "\n",
        "iteration: 1400    loss: 0.00726613774896    accuracy: [ 0.35381106  0.00392043]"
       ]
      },
      {
       "output_type": "stream",
       "stream": "stdout",
       "text": [
        "\n",
        "iteration: 1500    loss: 0.0080089122057    accuracy: [ 0.3307336   0.00380312]"
       ]
      },
      {
       "output_type": "stream",
       "stream": "stdout",
       "text": [
        "\n",
        "iteration: 1600    loss: 0.00641991291195    accuracy: [ 0.28477257  0.00714822]"
       ]
      },
      {
       "output_type": "stream",
       "stream": "stdout",
       "text": [
        "\n",
        "iteration: 1700    loss: 0.00893684942275    accuracy: [ 0.31553721  0.00569283]"
       ]
      },
      {
       "output_type": "stream",
       "stream": "stdout",
       "text": [
        "\n",
        "iteration: 1800    loss: 0.011495763436    accuracy: [ 0.35519829  0.00550149]"
       ]
      },
      {
       "output_type": "stream",
       "stream": "stdout",
       "text": [
        "\n",
        "iteration: 1900    loss: 0.00679760798812    accuracy: [ 0.3676922   0.00246372]"
       ]
      },
      {
       "output_type": "stream",
       "stream": "stdout",
       "text": [
        "\n",
        "iteration: 2000    loss: 0.00677781179547    accuracy: [ 0.36613864  0.00297408]"
       ]
      },
      {
       "output_type": "stream",
       "stream": "stdout",
       "text": [
        "\n",
        "iteration: 2100    loss: 0.00657135527581    accuracy: [ 0.32719535  0.00342178]"
       ]
      },
      {
       "output_type": "stream",
       "stream": "stdout",
       "text": [
        "\n",
        "iteration: 2200    loss: 0.00682412227616    accuracy: [ 0.26681957  0.0083959 ]"
       ]
      },
      {
       "output_type": "stream",
       "stream": "stdout",
       "text": [
        "\n",
        "iteration: 2300    loss: 0.103394336998    accuracy: [ 0.  0.]"
       ]
      },
      {
       "output_type": "stream",
       "stream": "stdout",
       "text": [
        "\n",
        "iteration: 2400    loss: 0.00711274240166    accuracy: [ 0.28598949  0.00446405]"
       ]
      },
      {
       "output_type": "stream",
       "stream": "stdout",
       "text": [
        "\n",
        "iteration: 2500    loss: 0.00616854801774    accuracy: [ 0.25448623  0.00545307]"
       ]
      },
      {
       "output_type": "stream",
       "stream": "stdout",
       "text": [
        "\n",
        "iteration: 2600    loss: 0.00655056955293    accuracy: [ 0.23116316  0.00968787]"
       ]
      },
      {
       "output_type": "stream",
       "stream": "stdout",
       "text": [
        "\n",
        "iteration: 2700    loss: 0.0435810983181    accuracy: [ 0.00616841  0.67883664]"
       ]
      },
      {
       "output_type": "stream",
       "stream": "stdout",
       "text": [
        "\n",
        "iteration: 2800    loss: 0.00859087798744    accuracy: [ 0.40263656  0.003388  ]"
       ]
      },
      {
       "output_type": "stream",
       "stream": "stdout",
       "text": [
        "\n",
        "iteration: 2900    loss: 0.0223564580083    accuracy: [ 0.10446787  0.12016758]"
       ]
      },
      {
       "output_type": "stream",
       "stream": "stdout",
       "text": [
        "\n",
        "iteration: 3000    loss: 0.0334286764264    accuracy: [ 0.33680314  0.01402888]"
       ]
      },
      {
       "output_type": "stream",
       "stream": "stdout",
       "text": [
        "\n",
        "iteration: 3100    loss: 0.00751376803964    accuracy: [ 0.38217971  0.0043374 ]"
       ]
      },
      {
       "output_type": "stream",
       "stream": "stdout",
       "text": [
        "\n",
        "iteration: 3200    loss: 0.0147690363228    accuracy: [ 0.47275409  0.00498092]"
       ]
      },
      {
       "output_type": "stream",
       "stream": "stdout",
       "text": [
        "\n",
        "iteration: 3300    loss: 0.00711595732719    accuracy: [ 0.38444138  0.00290212]"
       ]
      },
      {
       "output_type": "stream",
       "stream": "stdout",
       "text": [
        "\n",
        "iteration: 3400    loss: 0.00634248740971    accuracy: [ 0.35728994  0.00287651]"
       ]
      },
      {
       "output_type": "stream",
       "stream": "stdout",
       "text": [
        "\n",
        "iteration: 3500    loss: 0.00998377799988    accuracy: [ 0.24799581  0.01475126]"
       ]
      },
      {
       "output_type": "stream",
       "stream": "stdout",
       "text": [
        "\n",
        "iteration: 3600    loss: 0.0114709846675    accuracy: [ 0.12308022  0.10166336]"
       ]
      },
      {
       "output_type": "stream",
       "stream": "stdout",
       "text": [
        "\n",
        "iteration: 3700    loss: 0.00619722902775    accuracy: [ 0.34774104  0.00305414]"
       ]
      },
      {
       "output_type": "stream",
       "stream": "stdout",
       "text": [
        "\n",
        "iteration: 3800    loss: 0.00900030694902    accuracy: [ 0.25977325  0.00893804]"
       ]
      },
      {
       "output_type": "stream",
       "stream": "stdout",
       "text": [
        "\n",
        "iteration: 3900    loss: 0.01398518309    accuracy: [ 0.28911915  0.00609272]"
       ]
      },
      {
       "output_type": "stream",
       "stream": "stdout",
       "text": [
        "\n",
        "iteration: 4000    loss: 0.0249788518995    accuracy: [ 0.03741575  0.32087418]"
       ]
      },
      {
       "output_type": "stream",
       "stream": "stdout",
       "text": [
        "\n",
        "iteration: 4100    loss: 0.0101131172851    accuracy: [ 0.34862167  0.0045604 ]"
       ]
      },
      {
       "output_type": "stream",
       "stream": "stdout",
       "text": [
        "\n",
        "iteration: 4200    loss: 0.0113342180848    accuracy: [ 0.35467693  0.00425266]"
       ]
      },
      {
       "output_type": "stream",
       "stream": "stdout",
       "text": [
        "\n",
        "iteration: 4300    loss: 0.00910436362028    accuracy: [ 0.34337917  0.00355392]"
       ]
      },
      {
       "output_type": "stream",
       "stream": "stdout",
       "text": [
        "\n",
        "iteration: 4400    loss: 0.00610016519204    accuracy: [ 0.26519346  0.0064254 ]"
       ]
      },
      {
       "output_type": "stream",
       "stream": "stdout",
       "text": [
        "\n",
        "iteration: 4500    loss: 0.0124040879309    accuracy: [ 0.14273469  0.06369973]"
       ]
      },
      {
       "output_type": "stream",
       "stream": "stdout",
       "text": [
        "\n",
        "iteration: 4600    loss: 0.00906566902995    accuracy: [ 0.14707915  0.06458312]"
       ]
      },
      {
       "output_type": "stream",
       "stream": "stdout",
       "text": [
        "\n",
        "iteration: 4700    loss: 0.00828084070235    accuracy: [ 0.40136188  0.00316082]"
       ]
      },
      {
       "output_type": "stream",
       "stream": "stdout",
       "text": [
        "\n",
        "iteration: 4800    loss: 0.0157586783171    accuracy: [ 0.10580371  0.14816687]"
       ]
      },
      {
       "output_type": "stream",
       "stream": "stdout",
       "text": [
        "\n",
        "iteration: 4900    loss: 0.00865367427468    accuracy: [ 0.40554228  0.00430369]"
       ]
      },
      {
       "output_type": "stream",
       "stream": "stdout",
       "text": [
        "\n",
        "iteration: 5000    loss: 0.00662515405566    accuracy: [ 0.3173002  0.0044316]"
       ]
      },
      {
       "output_type": "stream",
       "stream": "stdout",
       "text": [
        "\n",
        "iteration: 5100    loss: 0.0103482082486    accuracy: [ 0.376259    0.00382409]"
       ]
      },
      {
       "output_type": "stream",
       "stream": "stdout",
       "text": [
        "\n",
        "iteration: 5200    loss: 0.0121576841921    accuracy: [ 0.36702475  0.00284755]"
       ]
      },
      {
       "output_type": "stream",
       "stream": "stdout",
       "text": [
        "\n",
        "iteration: 5300    loss: 0.0119729405269    accuracy: [ 0.37579089  0.00359119]"
       ]
      },
      {
       "output_type": "stream",
       "stream": "stdout",
       "text": [
        "\n",
        "iteration: 5400    loss: 0.00675762770697    accuracy: [ 0.27219817  0.00716011]"
       ]
      },
      {
       "output_type": "stream",
       "stream": "stdout",
       "text": [
        "\n",
        "iteration: 5500    loss: 0.00973986275494    accuracy: [ 0.37437761  0.00259459]"
       ]
      },
      {
       "output_type": "stream",
       "stream": "stdout",
       "text": [
        "\n",
        "iteration: 5600    loss: 0.00951560027897    accuracy: [ 0.19670528  0.02525449]"
       ]
      },
      {
       "output_type": "stream",
       "stream": "stdout",
       "text": [
        "\n",
        "iteration: 5700    loss: 0.00905637349933    accuracy: [ 0.39214489  0.00538462]"
       ]
      },
      {
       "output_type": "stream",
       "stream": "stdout",
       "text": [
        "\n",
        "iteration: 5800    loss: 0.00495800003409    accuracy: [ 0.31600183  0.00269636]"
       ]
      },
      {
       "output_type": "stream",
       "stream": "stdout",
       "text": [
        "\n",
        "iteration: 5900    loss: 0.0144673371688    accuracy: [ 0.37482983  0.00562176]"
       ]
      },
      {
       "output_type": "stream",
       "stream": "stdout",
       "text": [
        "\n",
        "iteration: 6000    loss: 0.0182308051735    accuracy: [ 0.0675159   0.23715773]"
       ]
      },
      {
       "output_type": "stream",
       "stream": "stdout",
       "text": [
        "\n",
        "iteration: 6100    loss: 0.00919381342828    accuracy: [ 0.35921183  0.00256547]"
       ]
      },
      {
       "output_type": "stream",
       "stream": "stdout",
       "text": [
        "\n",
        "iteration: 6200    loss: 0.0191402900964    accuracy: [ 0.39751115  0.00914517]"
       ]
      },
      {
       "output_type": "stream",
       "stream": "stdout",
       "text": [
        "\n",
        "iteration: 6300    loss: 0.0515544489026    accuracy: [ 0.00084136  0.44545454]"
       ]
      },
      {
       "output_type": "stream",
       "stream": "stdout",
       "text": [
        "\n",
        "iteration: 6400    loss: 0.0125149898231    accuracy: [ 0.3750774   0.00603245]"
       ]
      },
      {
       "output_type": "stream",
       "stream": "stdout",
       "text": [
        "\n",
        "iteration: 6500    loss: 0.0143648721278    accuracy: [ 0.37638697  0.00323486]"
       ]
      },
      {
       "output_type": "stream",
       "stream": "stdout",
       "text": [
        "\n",
        "iteration: 6600    loss: 0.00699960999191    accuracy: [ 0.377096    0.00230083]"
       ]
      },
      {
       "output_type": "stream",
       "stream": "stdout",
       "text": [
        "\n",
        "iteration: 6700    loss: 0.0122265601531    accuracy: [ 0.3692244   0.00190927]"
       ]
      },
      {
       "output_type": "stream",
       "stream": "stdout",
       "text": [
        "\n",
        "iteration: 6800    loss: 0.010113818571    accuracy: [ 0.34047335  0.00300975]"
       ]
      },
      {
       "output_type": "stream",
       "stream": "stdout",
       "text": [
        "\n",
        "iteration: 6900    loss: 0.00669622980058    accuracy: [ 0.37805539  0.00288007]"
       ]
      },
      {
       "output_type": "stream",
       "stream": "stdout",
       "text": [
        "\n",
        "iteration: 7000    loss: 0.00680925603956    accuracy: [ 0.31839427  0.00360092]"
       ]
      },
      {
       "output_type": "stream",
       "stream": "stdout",
       "text": [
        "\n",
        "iteration: 7100    loss: 0.0327280759811    accuracy: [ 0.01892619  0.46869951]"
       ]
      },
      {
       "output_type": "stream",
       "stream": "stdout",
       "text": [
        "\n",
        "iteration: 7200    loss: 0.0155509114265    accuracy: [ 0.40200198  0.00764325]"
       ]
      },
      {
       "output_type": "stream",
       "stream": "stdout",
       "text": [
        "\n",
        "iteration: 7300    loss: 0.0130879748613    accuracy: [ 0.32209972  0.00873487]"
       ]
      },
      {
       "output_type": "stream",
       "stream": "stdout",
       "text": [
        "\n",
        "iteration: 7400    loss: 0.00594015792012    accuracy: [ 0.34253526  0.00240975]"
       ]
      },
      {
       "output_type": "stream",
       "stream": "stdout",
       "text": [
        "\n",
        "iteration: 7500    loss: 0.00710309809074    accuracy: [ 0.18460315  0.02918288]"
       ]
      },
      {
       "output_type": "stream",
       "stream": "stdout",
       "text": [
        "\n",
        "iteration: 7600    loss: 0.00835369247943    accuracy: [ 0.2926158   0.00548589]"
       ]
      },
      {
       "output_type": "stream",
       "stream": "stdout",
       "text": [
        "\n",
        "iteration: 7700    loss: 0.0114631801844    accuracy: [ 0.38954583  0.00462399]"
       ]
      },
      {
       "output_type": "stream",
       "stream": "stdout",
       "text": [
        "\n",
        "iteration: 7800    loss: 0.0115421153605    accuracy: [ 0.36311007  0.0020879 ]"
       ]
      },
      {
       "output_type": "stream",
       "stream": "stdout",
       "text": [
        "\n",
        "iteration: 7900    loss: 0.0105094797909    accuracy: [ 0.26694298  0.00931019]"
       ]
      },
      {
       "output_type": "stream",
       "stream": "stdout",
       "text": [
        "\n",
        "iteration: 8000    loss: 0.00925838761032    accuracy: [ 0.35988939  0.00313523]"
       ]
      },
      {
       "output_type": "stream",
       "stream": "stdout",
       "text": [
        "\n",
        "iteration: 8100    loss: 0.107540950179    accuracy: [ 0.  0.]"
       ]
      },
      {
       "output_type": "stream",
       "stream": "stdout",
       "text": [
        "\n",
        "iteration: 8200    loss: 0.0079336091876    accuracy: [ 0.33563963  0.00395198]"
       ]
      },
      {
       "output_type": "stream",
       "stream": "stdout",
       "text": [
        "\n",
        "iteration: 8300    loss: 0.010306596756    accuracy: [ 0.28097177  0.0143203 ]"
       ]
      },
      {
       "output_type": "stream",
       "stream": "stdout",
       "text": [
        "\n",
        "iteration: 8400    loss: 0.00726933032274    accuracy: [ 0.32534686  0.00818382]"
       ]
      },
      {
       "output_type": "stream",
       "stream": "stdout",
       "text": [
        "\n",
        "iteration: 8500    loss: 0.0062745702453    accuracy: [ 0.27215677  0.00685278]"
       ]
      },
      {
       "output_type": "stream",
       "stream": "stdout",
       "text": [
        "\n",
        "iteration: 8600    loss: 0.011887001805    accuracy: [ 0.37619832  0.00599715]"
       ]
      },
      {
       "output_type": "stream",
       "stream": "stdout",
       "text": [
        "\n",
        "iteration: 8700    loss: 0.00644069630653    accuracy: [ 0.27315605  0.00683687]"
       ]
      },
      {
       "output_type": "stream",
       "stream": "stdout",
       "text": [
        "\n",
        "iteration: 8800    loss: 0.0110082663596    accuracy: [ 0.43029994  0.00491885]"
       ]
      },
      {
       "output_type": "stream",
       "stream": "stdout",
       "text": [
        "\n",
        "iteration: 8900    loss: 0.00980101525784    accuracy: [ 0.35976306  0.00582803]"
       ]
      },
      {
       "output_type": "stream",
       "stream": "stdout",
       "text": [
        "\n",
        "iteration: 9000    loss: 0.00862587150186    accuracy: [ 0.31835908  0.00592696]"
       ]
      },
      {
       "output_type": "stream",
       "stream": "stdout",
       "text": [
        "\n",
        "iteration: 9100    loss: 0.00627151178196    accuracy: [ 0.3713195  0.0024082]"
       ]
      },
      {
       "output_type": "stream",
       "stream": "stdout",
       "text": [
        "\n",
        "iteration: 9200    loss: 0.00742641510442    accuracy: [ 0.35683456  0.00446371]"
       ]
      },
      {
       "output_type": "stream",
       "stream": "stdout",
       "text": [
        "\n",
        "iteration: 9300    loss: 0.00988566596061    accuracy: [ 0.30212706  0.01048721]"
       ]
      },
      {
       "output_type": "stream",
       "stream": "stdout",
       "text": [
        "\n",
        "iteration: 9400    loss: 0.0136025454849    accuracy: [ 0.12626587  0.09177369]"
       ]
      },
      {
       "output_type": "stream",
       "stream": "stdout",
       "text": [
        "\n",
        "iteration: 9500    loss: 0.00866771861911    accuracy: [ 0.3419897   0.00516293]"
       ]
      },
      {
       "output_type": "stream",
       "stream": "stdout",
       "text": [
        "\n",
        "iteration: 9600    loss: 0.00678542908281    accuracy: [ 0.34293965  0.00461045]"
       ]
      },
      {
       "output_type": "stream",
       "stream": "stdout",
       "text": [
        "\n",
        "iteration: 9700    loss: 0.00740064075217    accuracy: [ 0.32890826  0.00654104]"
       ]
      },
      {
       "output_type": "stream",
       "stream": "stdout",
       "text": [
        "\n",
        "iteration: 9800    loss: 0.00860601942986    accuracy: [ 0.34423769  0.00496071]"
       ]
      },
      {
       "output_type": "stream",
       "stream": "stdout",
       "text": [
        "\n",
        "iteration: 9900    loss: 0.0342920720577    accuracy: [ 0.40800607  0.01398116]"
       ]
      },
      {
       "output_type": "stream",
       "stream": "stdout",
       "text": [
        "\n",
        "iteration: 10000   loss: 0.0187119878829    accuracy: [ 0.07907194  0.20343328]"
       ]
      },
      {
       "output_type": "stream",
       "stream": "stdout",
       "text": [
        "\n",
        "snaping to: /home/qinshuo/WorkPlace/caffe_space/extract_skin/weight/seg_skin_net_fin140000.caffemodel\n",
        "iteration: 100     loss: 0.00578714860603    accuracy: [ 0.3410252   0.00245384]"
       ]
      },
      {
       "output_type": "stream",
       "stream": "stdout",
       "text": [
        "\n",
        "iteration: 200     loss: 0.00878642685711    accuracy: [ 0.40278557  0.00414454]"
       ]
      },
      {
       "output_type": "stream",
       "stream": "stdout",
       "text": [
        "\n",
        "iteration: 300     loss: 0.00667335372418    accuracy: [ 0.21976392  0.01050581]"
       ]
      },
      {
       "output_type": "stream",
       "stream": "stdout",
       "text": [
        "\n",
        "iteration: 400     loss: 0.00852204859257    accuracy: [ 0.36445215  0.00386955]"
       ]
      },
      {
       "output_type": "stream",
       "stream": "stdout",
       "text": [
        "\n",
        "iteration: 500     loss: 0.00674989633262    accuracy: [ 0.36118761  0.00374365]"
       ]
      },
      {
       "output_type": "stream",
       "stream": "stdout",
       "text": [
        "\n",
        "iteration: 600     loss: 0.00920300930738    accuracy: [ 0.33972645  0.00574674]"
       ]
      },
      {
       "output_type": "stream",
       "stream": "stdout",
       "text": [
        "\n",
        "iteration: 700     loss: 0.00973098259419    accuracy: [ 0.40256089  0.0044409 ]"
       ]
      },
      {
       "output_type": "stream",
       "stream": "stdout",
       "text": [
        "\n",
        "iteration: 800     loss: 0.00848666671664    accuracy: [ 0.25830555  0.00986395]"
       ]
      },
      {
       "output_type": "stream",
       "stream": "stdout",
       "text": [
        "\n",
        "iteration: 900     loss: 0.00663036527112    accuracy: [ 0.29581881  0.00655789]"
       ]
      },
      {
       "output_type": "stream",
       "stream": "stdout",
       "text": [
        "\n",
        "iteration: 1000    loss: 0.0168650690466    accuracy: [ 0.24512547  0.0166406 ]"
       ]
      },
      {
       "output_type": "stream",
       "stream": "stdout",
       "text": [
        "\n",
        "iteration: 1100    loss: 0.0070090116933    accuracy: [ 0.29384723  0.00639825]"
       ]
      },
      {
       "output_type": "stream",
       "stream": "stdout",
       "text": [
        "\n",
        "iteration: 1200    loss: 0.00999438390136    accuracy: [ 0.32896638  0.00609104]"
       ]
      },
      {
       "output_type": "stream",
       "stream": "stdout",
       "text": [
        "\n",
        "iteration: 1300    loss: 0.153530269861    accuracy: [ 0.00490117  0.3829588 ]"
       ]
      },
      {
       "output_type": "stream",
       "stream": "stdout",
       "text": [
        "\n",
        "iteration: 1400    loss: 0.00794985331595    accuracy: [ 0.34490484  0.00340264]"
       ]
      },
      {
       "output_type": "stream",
       "stream": "stdout",
       "text": [
        "\n",
        "iteration: 1500    loss: 0.00592237338424    accuracy: [ 0.3493742   0.00266818]"
       ]
      },
      {
       "output_type": "stream",
       "stream": "stdout",
       "text": [
        "\n",
        "iteration: 1600    loss: 0.00790613889694    accuracy: [ 0.33296373  0.00359423]"
       ]
      },
      {
       "output_type": "stream",
       "stream": "stdout",
       "text": [
        "\n",
        "iteration: 1700    loss: 0.0132045773789    accuracy: [ 0.35618785  0.00756535]"
       ]
      },
      {
       "output_type": "stream",
       "stream": "stdout",
       "text": [
        "\n",
        "iteration: 1800    loss: 0.00865575391799    accuracy: [ 0.30358043  0.00724857]"
       ]
      },
      {
       "output_type": "stream",
       "stream": "stdout",
       "text": [
        "\n",
        "iteration: 1900    loss: 0.0239700954407    accuracy: [ 0.04663728  0.29389563]"
       ]
      },
      {
       "output_type": "stream",
       "stream": "stdout",
       "text": [
        "\n",
        "iteration: 2000    loss: 0.00745660625398    accuracy: [ 0.36390185  0.00267868]"
       ]
      },
      {
       "output_type": "stream",
       "stream": "stdout",
       "text": [
        "\n",
        "iteration: 2100    loss: 0.00795060396194    accuracy: [ 0.38518417  0.0028869 ]"
       ]
      },
      {
       "output_type": "stream",
       "stream": "stdout",
       "text": [
        "\n",
        "iteration: 2200    loss: 0.00664307456464    accuracy: [ 0.32060274  0.00440938]"
       ]
      },
      {
       "output_type": "stream",
       "stream": "stdout",
       "text": [
        "\n",
        "iteration: 2300    loss: 0.00949736498296    accuracy: [ 0.33550408  0.00672814]"
       ]
      },
      {
       "output_type": "stream",
       "stream": "stdout",
       "text": [
        "\n",
        "iteration: 2400    loss: 0.0221535414457    accuracy: [ 0.04645398  0.29767787]"
       ]
      },
      {
       "output_type": "stream",
       "stream": "stdout",
       "text": [
        "\n",
        "iteration: 2500    loss: 0.00905953347683    accuracy: [ 0.35815695  0.00435339]"
       ]
      },
      {
       "output_type": "stream",
       "stream": "stdout",
       "text": [
        "\n",
        "iteration: 2600    loss: 0.0080263549462    accuracy: [ 0.35791951  0.00294821]"
       ]
      },
      {
       "output_type": "stream",
       "stream": "stdout",
       "text": [
        "\n",
        "iteration: 2700    loss: 0.014408679679    accuracy: [ 0.10861134  0.1230455 ]"
       ]
      },
      {
       "output_type": "stream",
       "stream": "stdout",
       "text": [
        "\n",
        "iteration: 2800    loss: 0.013754202053    accuracy: [ 0.09805733  0.15495096]"
       ]
      },
      {
       "output_type": "stream",
       "stream": "stdout",
       "text": [
        "\n",
        "iteration: 2900    loss: 0.00795185007155    accuracy: [ 0.25462624  0.01236033]"
       ]
      },
      {
       "output_type": "stream",
       "stream": "stdout",
       "text": [
        "\n",
        "iteration: 3000    loss: 0.00682310946286    accuracy: [ 0.35241726  0.00402072]"
       ]
      },
      {
       "output_type": "stream",
       "stream": "stdout",
       "text": [
        "\n",
        "iteration: 3100    loss: 0.0154363755137    accuracy: [ 0.09989069  0.14673248]"
       ]
      },
      {
       "output_type": "stream",
       "stream": "stdout",
       "text": [
        "\n",
        "iteration: 3200    loss: 0.00950300134718    accuracy: [ 0.39795306  0.0037742 ]"
       ]
      },
      {
       "output_type": "stream",
       "stream": "stdout",
       "text": [
        "\n",
        "iteration: 3300    loss: 0.00972928665578    accuracy: [ 0.3856937   0.00422451]"
       ]
      },
      {
       "output_type": "stream",
       "stream": "stdout",
       "text": [
        "\n",
        "iteration: 3400    loss: 0.00739581277594    accuracy: [ 0.33138302  0.00403635]"
       ]
      },
      {
       "output_type": "stream",
       "stream": "stdout",
       "text": [
        "\n",
        "iteration: 3500    loss: 0.00743715511635    accuracy: [ 0.29076314  0.00665194]"
       ]
      },
      {
       "output_type": "stream",
       "stream": "stdout",
       "text": [
        "\n",
        "iteration: 3600    loss: 0.0480995774269    accuracy: [ 0.01228273  0.6197139 ]"
       ]
      },
      {
       "output_type": "stream",
       "stream": "stdout",
       "text": [
        "\n",
        "iteration: 3700    loss: 0.00754259480163    accuracy: [ 0.31268674  0.00602454]"
       ]
      },
      {
       "output_type": "stream",
       "stream": "stdout",
       "text": [
        "\n",
        "iteration: 3800    loss: 0.00822141114622    accuracy: [ 0.36289412  0.00346535]"
       ]
      },
      {
       "output_type": "stream",
       "stream": "stdout",
       "text": [
        "\n",
        "iteration: 3900    loss: 0.00665491819382    accuracy: [ 0.36464199  0.00291209]"
       ]
      },
      {
       "output_type": "stream",
       "stream": "stdout",
       "text": [
        "\n",
        "iteration: 4000    loss: 0.0174148883671    accuracy: [ 0.4529354   0.00705805]"
       ]
      },
      {
       "output_type": "stream",
       "stream": "stdout",
       "text": [
        "\n",
        "iteration: 4100    loss: 0.00726028485224    accuracy: [ 0.348046    0.00350165]"
       ]
      },
      {
       "output_type": "stream",
       "stream": "stdout",
       "text": [
        "\n",
        "iteration: 4200    loss: 0.00804520398378    accuracy: [ 0.39466092  0.00311774]"
       ]
      },
      {
       "output_type": "stream",
       "stream": "stdout",
       "text": [
        "\n",
        "iteration: 4300    loss: 0.00611115945503    accuracy: [ 0.35462517  0.00317778]"
       ]
      },
      {
       "output_type": "stream",
       "stream": "stdout",
       "text": [
        "\n",
        "iteration: 4400    loss: 0.00711015891284    accuracy: [ 0.33902243  0.00370779]"
       ]
      },
      {
       "output_type": "stream",
       "stream": "stdout",
       "text": [
        "\n",
        "iteration: 4500    loss: 0.0114965438843    accuracy: [ 0.35983127  0.00480422]"
       ]
      },
      {
       "output_type": "stream",
       "stream": "stdout",
       "text": [
        "\n",
        "iteration: 4600    loss: 0.0148079060018    accuracy: [ 0.1035799   0.14449608]"
       ]
      },
      {
       "output_type": "stream",
       "stream": "stdout",
       "text": [
        "\n",
        "iteration: 4700    loss: 0.0071375137195    accuracy: [ 0.38224933  0.002489  ]"
       ]
      },
      {
       "output_type": "stream",
       "stream": "stdout",
       "text": [
        "\n",
        "iteration: 4800    loss: 0.00579040450975    accuracy: [ 0.36287785  0.0025478 ]"
       ]
      },
      {
       "output_type": "stream",
       "stream": "stdout",
       "text": [
        "\n",
        "iteration: 4900    loss: 0.00751510215923    accuracy: [ 0.32521319  0.00531015]"
       ]
      },
      {
       "output_type": "stream",
       "stream": "stdout",
       "text": [
        "\n",
        "iteration: 5000    loss: 0.0867238640785    accuracy: [ 0.  0.]"
       ]
      },
      {
       "output_type": "stream",
       "stream": "stdout",
       "text": [
        "\n",
        "iteration: 5100    loss: 0.00967117678374    accuracy: [ 0.27550536  0.00750097]"
       ]
      },
      {
       "output_type": "stream",
       "stream": "stdout",
       "text": [
        "\n",
        "iteration: 5200    loss: 0.00628194678575    accuracy: [ 0.35492694  0.00301399]"
       ]
      },
      {
       "output_type": "stream",
       "stream": "stdout",
       "text": [
        "\n",
        "iteration: 5300    loss: 0.0251990351826    accuracy: [ 0.03907052  0.33316988]"
       ]
      },
      {
       "output_type": "stream",
       "stream": "stdout",
       "text": [
        "\n",
        "iteration: 5400    loss: 0.0194899663329    accuracy: [ 0.09859182  0.17171288]"
       ]
      },
      {
       "output_type": "stream",
       "stream": "stdout",
       "text": [
        "\n",
        "iteration: 5500    loss: 0.00622702250257    accuracy: [ 0.34624889  0.00353045]"
       ]
      },
      {
       "output_type": "stream",
       "stream": "stdout",
       "text": [
        "\n",
        "iteration: 5600    loss: 0.00596014549956    accuracy: [ 0.35821533  0.00347607]"
       ]
      },
      {
       "output_type": "stream",
       "stream": "stdout",
       "text": [
        "\n",
        "iteration: 5700    loss: 0.00983074679971    accuracy: [ 0.34895274  0.00440558]"
       ]
      },
      {
       "output_type": "stream",
       "stream": "stdout",
       "text": [
        "\n",
        "iteration: 5800    loss: 0.00794258713722    accuracy: [ 0.26446143  0.01112236]"
       ]
      },
      {
       "output_type": "stream",
       "stream": "stdout",
       "text": [
        "\n",
        "iteration: 5900    loss: 0.0170483309776    accuracy: [ 0.28325826  0.01799503]"
       ]
      },
      {
       "output_type": "stream",
       "stream": "stdout",
       "text": [
        "\n",
        "iteration: 6000    loss: 0.00730468705297    accuracy: [ 0.39654091  0.00294752]"
       ]
      },
      {
       "output_type": "stream",
       "stream": "stdout",
       "text": [
        "\n",
        "iteration: 6100    loss: 0.00723665487021    accuracy: [ 0.29377902  0.00426794]"
       ]
      },
      {
       "output_type": "stream",
       "stream": "stdout",
       "text": [
        "\n",
        "iteration: 6200    loss: 0.0072386553511    accuracy: [ 0.34311241  0.00543019]"
       ]
      },
      {
       "output_type": "stream",
       "stream": "stdout",
       "text": [
        "\n",
        "iteration: 6300    loss: 0.00653468305245    accuracy: [ 0.34953579  0.00353067]"
       ]
      },
      {
       "output_type": "stream",
       "stream": "stdout",
       "text": [
        "\n",
        "iteration: 6400    loss: 0.00623270589858    accuracy: [ 0.26918831  0.00783468]"
       ]
      },
      {
       "output_type": "stream",
       "stream": "stdout",
       "text": [
        "\n",
        "iteration: 6500    loss: 0.00625494215637    accuracy: [ 0.31911975  0.00482473]"
       ]
      },
      {
       "output_type": "stream",
       "stream": "stdout",
       "text": [
        "\n",
        "iteration: 6600    loss: 0.00798081979156    accuracy: [ 0.38608345  0.00315754]"
       ]
      },
      {
       "output_type": "stream",
       "stream": "stdout",
       "text": [
        "\n",
        "iteration: 6700    loss: 0.017357006669    accuracy: [ 0.30192697  0.00767182]"
       ]
      },
      {
       "output_type": "stream",
       "stream": "stdout",
       "text": [
        "\n",
        "iteration: 6800    loss: 0.00806001760066    accuracy: [ 0.35808739  0.00340361]"
       ]
      },
      {
       "output_type": "stream",
       "stream": "stdout",
       "text": [
        "\n",
        "iteration: 6900    loss: 0.00741901248693    accuracy: [ 0.19505897  0.02209166]"
       ]
      },
      {
       "output_type": "stream",
       "stream": "stdout",
       "text": [
        "\n",
        "iteration: 7000    loss: 0.0167344473302    accuracy: [ 0.07512246  0.22326693]"
       ]
      },
      {
       "output_type": "stream",
       "stream": "stdout",
       "text": [
        "\n",
        "iteration: 7100    loss: 0.00596433784813    accuracy: [ 0.28292945  0.00317482]"
       ]
      },
      {
       "output_type": "stream",
       "stream": "stdout",
       "text": [
        "\n",
        "iteration: 7200    loss: 0.0119259115309    accuracy: [ 0.33863121  0.00779804]"
       ]
      },
      {
       "output_type": "stream",
       "stream": "stdout",
       "text": [
        "\n",
        "iteration: 7300    loss: 0.00542821642011    accuracy: [ 0.31648499  0.00398243]"
       ]
      },
      {
       "output_type": "stream",
       "stream": "stdout",
       "text": [
        "\n",
        "iteration: 7400    loss: 0.00626761233434    accuracy: [ 0.2510542   0.00864168]"
       ]
      },
      {
       "output_type": "stream",
       "stream": "stdout",
       "text": [
        "\n",
        "iteration: 7500    loss: 0.0201788302511    accuracy: [ 0.06516804  0.24818203]"
       ]
      },
      {
       "output_type": "stream",
       "stream": "stdout",
       "text": [
        "\n",
        "iteration: 7600    loss: 0.00661949627101    accuracy: [ 0.32474598  0.00448172]"
       ]
      },
      {
       "output_type": "stream",
       "stream": "stdout",
       "text": [
        "\n",
        "iteration: 7700    loss: 0.00666890572757    accuracy: [ 0.30194446  0.00570597]"
       ]
      },
      {
       "output_type": "stream",
       "stream": "stdout",
       "text": [
        "\n",
        "iteration: 7800    loss: 0.034089718014    accuracy: [ 0.13305622  0.07685645]"
       ]
      },
      {
       "output_type": "stream",
       "stream": "stdout",
       "text": [
        "\n",
        "iteration: 7900    loss: 0.00664358679205    accuracy: [ 0.33704269  0.00422768]"
       ]
      },
      {
       "output_type": "stream",
       "stream": "stdout",
       "text": [
        "\n",
        "iteration: 8000    loss: 0.0117272995412    accuracy: [ 0.3745535   0.00432936]"
       ]
      },
      {
       "output_type": "stream",
       "stream": "stdout",
       "text": [
        "\n",
        "iteration: 8100    loss: 0.118718884885    accuracy: [ 0.00750806  0.41920376]"
       ]
      },
      {
       "output_type": "stream",
       "stream": "stdout",
       "text": [
        "\n",
        "iteration: 8200    loss: 0.00661120656878    accuracy: [ 0.31886372  0.00614607]"
       ]
      },
      {
       "output_type": "stream",
       "stream": "stdout",
       "text": [
        "\n",
        "iteration: 8300    loss: 0.00654606055468    accuracy: [ 0.34536156  0.00377146]"
       ]
      },
      {
       "output_type": "stream",
       "stream": "stdout",
       "text": [
        "\n",
        "iteration: 8400    loss: 0.00694669410586    accuracy: [ 0.33675894  0.00400463]"
       ]
      },
      {
       "output_type": "stream",
       "stream": "stdout",
       "text": [
        "\n",
        "iteration: 8500    loss: 0.0110579989851    accuracy: [ 0.37057713  0.00571605]"
       ]
      },
      {
       "output_type": "stream",
       "stream": "stdout",
       "text": [
        "\n",
        "iteration: 8600    loss: 0.00714182807133    accuracy: [ 0.30987972  0.00541174]"
       ]
      },
      {
       "output_type": "stream",
       "stream": "stdout",
       "text": [
        "\n",
        "iteration: 8700    loss: 0.0229785107076    accuracy: [ 0.05927014  0.26840135]"
       ]
      },
      {
       "output_type": "stream",
       "stream": "stdout",
       "text": [
        "\n",
        "iteration: 8800    loss: 0.0088581815362    accuracy: [ 0.33037558  0.00542247]"
       ]
      },
      {
       "output_type": "stream",
       "stream": "stdout",
       "text": [
        "\n",
        "iteration: 8900    loss: 0.00737832207233    accuracy: [ 0.19641232  0.02023504]"
       ]
      },
      {
       "output_type": "stream",
       "stream": "stdout",
       "text": [
        "\n",
        "iteration: 9000    loss: 0.00889256410301    accuracy: [ 0.28707424  0.00478106]"
       ]
      },
      {
       "output_type": "stream",
       "stream": "stdout",
       "text": [
        "\n",
        "iteration: 9100    loss: 0.0113735534251    accuracy: [ 0.41665012  0.00530784]"
       ]
      },
      {
       "output_type": "stream",
       "stream": "stdout",
       "text": [
        "\n",
        "iteration: 9200    loss: 0.00853768922389    accuracy: [ 0.38133892  0.00378833]"
       ]
      },
      {
       "output_type": "stream",
       "stream": "stdout",
       "text": [
        "\n",
        "iteration: 9300    loss: 0.011890838854    accuracy: [ 0.13507316  0.08104131]"
       ]
      },
      {
       "output_type": "stream",
       "stream": "stdout",
       "text": [
        "\n",
        "iteration: 9400    loss: 0.00880407355726    accuracy: [ 0.39270815  0.00428988]"
       ]
      },
      {
       "output_type": "stream",
       "stream": "stdout",
       "text": [
        "\n",
        "iteration: 9500    loss: 0.00617543887347    accuracy: [ 0.36551797  0.00325964]"
       ]
      },
      {
       "output_type": "stream",
       "stream": "stdout",
       "text": [
        "\n",
        "iteration: 9600    loss: 0.00622247625142    accuracy: [ 0.26769236  0.00633525]"
       ]
      },
      {
       "output_type": "stream",
       "stream": "stdout",
       "text": [
        "\n",
        "iteration: 9700    loss: 0.014506447129    accuracy: [ 0.12624075  0.1103688 ]"
       ]
      },
      {
       "output_type": "stream",
       "stream": "stdout",
       "text": [
        "\n",
        "iteration: 9800    loss: 0.00556123256683    accuracy: [ 0.34977886  0.00302455]"
       ]
      },
      {
       "output_type": "stream",
       "stream": "stdout",
       "text": [
        "\n",
        "iteration: 9900    loss: 0.00929820071906    accuracy: [ 0.37123922  0.00297717]"
       ]
      },
      {
       "output_type": "stream",
       "stream": "stdout",
       "text": [
        "\n",
        "iteration: 10000   loss: 0.00956987962127    accuracy: [ 0.25262514  0.01364821]"
       ]
      },
      {
       "output_type": "stream",
       "stream": "stdout",
       "text": [
        "\n",
        "snaping to: /home/qinshuo/WorkPlace/caffe_space/extract_skin/weight/seg_skin_net_fin150000.caffemodel\n",
        "iteration: 100     loss: 0.22530734539    accuracy: [ 0.06370632  0.19062863]"
       ]
      },
      {
       "output_type": "stream",
       "stream": "stdout",
       "text": [
        "\n",
        "iteration: 200     loss: 0.00622390303761    accuracy: [ 0.36362386  0.0028889 ]"
       ]
      },
      {
       "output_type": "stream",
       "stream": "stdout",
       "text": [
        "\n",
        "iteration: 300     loss: 0.0242450796068    accuracy: [ 0.44437817  0.01231285]"
       ]
      },
      {
       "output_type": "stream",
       "stream": "stdout",
       "text": [
        "\n",
        "iteration: 400     loss: 0.0116098569706    accuracy: [ 0.36818641  0.00598628]"
       ]
      },
      {
       "output_type": "stream",
       "stream": "stdout",
       "text": [
        "\n",
        "iteration: 500     loss: 0.0122154355049    accuracy: [ 0.14510848  0.07093526]"
       ]
      },
      {
       "output_type": "stream",
       "stream": "stdout",
       "text": [
        "\n",
        "iteration: 600     loss: 0.00804713834077    accuracy: [ 0.34156838  0.00461077]"
       ]
      },
      {
       "output_type": "stream",
       "stream": "stdout",
       "text": [
        "\n",
        "iteration: 700     loss: 0.00638965098187    accuracy: [ 0.34975317  0.00289504]"
       ]
      },
      {
       "output_type": "stream",
       "stream": "stdout",
       "text": [
        "\n",
        "iteration: 800     loss: 0.00989135727286    accuracy: [ 0.14059633  0.06718325]"
       ]
      },
      {
       "output_type": "stream",
       "stream": "stdout",
       "text": [
        "\n",
        "iteration: 900     loss: 0.00711218640208    accuracy: [ 0.24885339  0.01190842]"
       ]
      },
      {
       "output_type": "stream",
       "stream": "stdout",
       "text": [
        "\n",
        "iteration: 1000    loss: 0.00759082380682    accuracy: [ 0.2702837   0.00629064]"
       ]
      },
      {
       "output_type": "stream",
       "stream": "stdout",
       "text": [
        "\n",
        "iteration: 1100    loss: 0.0067086503841    accuracy: [ 0.28933328  0.00472919]"
       ]
      },
      {
       "output_type": "stream",
       "stream": "stdout",
       "text": [
        "\n",
        "iteration: 1200    loss: 0.00614295806736    accuracy: [ 0.36539444  0.00343855]"
       ]
      },
      {
       "output_type": "stream",
       "stream": "stdout",
       "text": [
        "\n",
        "iteration: 1300    loss: 0.00649020262063    accuracy: [ 0.31429663  0.00590781]"
       ]
      },
      {
       "output_type": "stream",
       "stream": "stdout",
       "text": [
        "\n",
        "iteration: 1400    loss: 0.00595196150243    accuracy: [ 0.3154968   0.00513292]"
       ]
      },
      {
       "output_type": "stream",
       "stream": "stdout",
       "text": [
        "\n",
        "iteration: 1500    loss: 0.00600973796099    accuracy: [ 0.34845266  0.00268629]"
       ]
      },
      {
       "output_type": "stream",
       "stream": "stdout",
       "text": [
        "\n",
        "iteration: 1600    loss: 0.0169186424464    accuracy: [ 0.43531042  0.00719576]"
       ]
      },
      {
       "output_type": "stream",
       "stream": "stdout",
       "text": [
        "\n",
        "iteration: 1700    loss: 0.306347370148    accuracy: [ 0.13631187  0.08475292]"
       ]
      },
      {
       "output_type": "stream",
       "stream": "stdout",
       "text": [
        "\n",
        "iteration: 1800    loss: 0.00906225480139    accuracy: [ 0.34040213  0.00521956]"
       ]
      },
      {
       "output_type": "stream",
       "stream": "stdout",
       "text": [
        "\n",
        "iteration: 1900    loss: 0.00650292634964    accuracy: [ 0.23834895  0.00888333]"
       ]
      },
      {
       "output_type": "stream",
       "stream": "stdout",
       "text": [
        "\n",
        "iteration: 2000    loss: 0.00546939298511    accuracy: [ 0.27396885  0.0055915 ]"
       ]
      },
      {
       "output_type": "stream",
       "stream": "stdout",
       "text": [
        "\n",
        "iteration: 2100    loss: 0.0163881145418    accuracy: [ 0.09146726  0.17380953]"
       ]
      },
      {
       "output_type": "stream",
       "stream": "stdout",
       "text": [
        "\n",
        "iteration: 2200    loss: 0.00903182290494    accuracy: [ 0.36365443  0.00487436]"
       ]
      },
      {
       "output_type": "stream",
       "stream": "stdout",
       "text": [
        "\n",
        "iteration: 2300    loss: 0.0157593339682    accuracy: [ 0.09329811  0.15990658]"
       ]
      },
      {
       "output_type": "stream",
       "stream": "stdout",
       "text": [
        "\n",
        "iteration: 2400    loss: 0.0258211567998    accuracy: [ 0.04090318  0.33145857]"
       ]
      },
      {
       "output_type": "stream",
       "stream": "stdout",
       "text": [
        "\n",
        "iteration: 2500    loss: 0.00568683817983    accuracy: [ 0.32681471  0.00338991]"
       ]
      },
      {
       "output_type": "stream",
       "stream": "stdout",
       "text": [
        "\n",
        "iteration: 2600    loss: 0.0313733257353    accuracy: [ 0.02556473  0.38016775]"
       ]
      },
      {
       "output_type": "stream",
       "stream": "stdout",
       "text": [
        "\n",
        "iteration: 2700    loss: 0.00853249803185    accuracy: [ 0.3706167   0.00332096]"
       ]
      },
      {
       "output_type": "stream",
       "stream": "stdout",
       "text": [
        "\n",
        "iteration: 2800    loss: 0.0258242636919    accuracy: [ 0.48086947  0.01051402]"
       ]
      },
      {
       "output_type": "stream",
       "stream": "stdout",
       "text": [
        "\n",
        "iteration: 2900    loss: 0.0100209200755    accuracy: [ 0.27805239  0.00945887]"
       ]
      },
      {
       "output_type": "stream",
       "stream": "stdout",
       "text": [
        "\n",
        "iteration: 3000    loss: 0.00590574927628    accuracy: [ 0.33093554  0.00365932]"
       ]
      },
      {
       "output_type": "stream",
       "stream": "stdout",
       "text": [
        "\n",
        "iteration: 3100    loss: 0.0120364502072    accuracy: [ 0.14425285  0.05496284]"
       ]
      },
      {
       "output_type": "stream",
       "stream": "stdout",
       "text": [
        "\n",
        "iteration: 3200    loss: 0.0421940237284    accuracy: [ 0.02528905  0.38726386]"
       ]
      },
      {
       "output_type": "stream",
       "stream": "stdout",
       "text": [
        "\n",
        "iteration: 3300    loss: 0.0127114094794    accuracy: [ 0.38202119  0.00648363]"
       ]
      },
      {
       "output_type": "stream",
       "stream": "stdout",
       "text": [
        "\n",
        "iteration: 3400    loss: 0.0127084907144    accuracy: [ 0.40244094  0.00698823]"
       ]
      },
      {
       "output_type": "stream",
       "stream": "stdout",
       "text": [
        "\n",
        "iteration: 3500    loss: 0.194686740637    accuracy: [ 0.2736558   0.06223521]"
       ]
      },
      {
       "output_type": "stream",
       "stream": "stdout",
       "text": [
        "\n",
        "iteration: 3600    loss: 0.0367675274611    accuracy: [ 0.0136424   0.66051453]"
       ]
      },
      {
       "output_type": "stream",
       "stream": "stdout",
       "text": [
        "\n",
        "iteration: 3700    loss: 0.00899778865278    accuracy: [ 0.40682548  0.00453419]"
       ]
      },
      {
       "output_type": "stream",
       "stream": "stdout",
       "text": [
        "\n",
        "iteration: 3800    loss: 0.00815569981933    accuracy: [ 0.24654365  0.01348882]"
       ]
      },
      {
       "output_type": "stream",
       "stream": "stdout",
       "text": [
        "\n",
        "iteration: 3900    loss: 0.00588779477403    accuracy: [ 0.34274188  0.00287587]"
       ]
      },
      {
       "output_type": "stream",
       "stream": "stdout",
       "text": [
        "\n",
        "iteration: 4000    loss: 0.00909223407507    accuracy: [ 0.38209447  0.00310248]"
       ]
      },
      {
       "output_type": "stream",
       "stream": "stdout",
       "text": [
        "\n",
        "iteration: 4100    loss: 0.00746594835073    accuracy: [ 0.33293873  0.00581502]"
       ]
      },
      {
       "output_type": "stream",
       "stream": "stdout",
       "text": [
        "\n",
        "iteration: 4200    loss: 0.0391337797046    accuracy: [ 0.00632399  0.52596617]"
       ]
      },
      {
       "output_type": "stream",
       "stream": "stdout",
       "text": [
        "\n",
        "iteration: 4300    loss: 0.00640983134508    accuracy: [ 0.24969321  0.0063078 ]"
       ]
      },
      {
       "output_type": "stream",
       "stream": "stdout",
       "text": [
        "\n",
        "iteration: 4400    loss: 0.00694260932505    accuracy: [ 0.3389051   0.00500428]"
       ]
      },
      {
       "output_type": "stream",
       "stream": "stdout",
       "text": [
        "\n",
        "iteration: 4500    loss: 0.00673548411578    accuracy: [ 0.3131744   0.00700307]"
       ]
      },
      {
       "output_type": "stream",
       "stream": "stdout",
       "text": [
        "\n",
        "iteration: 4600    loss: 0.00781610608101    accuracy: [ 0.35891894  0.00458589]"
       ]
      },
      {
       "output_type": "stream",
       "stream": "stdout",
       "text": [
        "\n",
        "iteration: 4700    loss: 0.0107561377808    accuracy: [ 0.31887949  0.00931476]"
       ]
      },
      {
       "output_type": "stream",
       "stream": "stdout",
       "text": [
        "\n",
        "iteration: 4800    loss: 0.00710181938484    accuracy: [ 0.3442353   0.00331986]"
       ]
      },
      {
       "output_type": "stream",
       "stream": "stdout",
       "text": [
        "\n",
        "iteration: 4900    loss: 0.00602202303708    accuracy: [ 0.3695226   0.00171665]"
       ]
      },
      {
       "output_type": "stream",
       "stream": "stdout",
       "text": [
        "\n",
        "iteration: 5000    loss: 0.0103137465194    accuracy: [ 0.3676635   0.00690723]"
       ]
      },
      {
       "output_type": "stream",
       "stream": "stdout",
       "text": [
        "\n",
        "iteration: 5100    loss: 0.0106896245852    accuracy: [ 0.42446548  0.00450158]"
       ]
      },
      {
       "output_type": "stream",
       "stream": "stdout",
       "text": [
        "\n",
        "iteration: 5200    loss: 0.00695029413328    accuracy: [ 0.38246307  0.00279687]"
       ]
      },
      {
       "output_type": "stream",
       "stream": "stdout",
       "text": [
        "\n",
        "iteration: 5300    loss: 0.0121445134282    accuracy: [ 0.370226    0.00691577]"
       ]
      },
      {
       "output_type": "stream",
       "stream": "stdout",
       "text": [
        "\n",
        "iteration: 5400    loss: 0.0105871120468    accuracy: [ 0.28754532  0.01352932]"
       ]
      },
      {
       "output_type": "stream",
       "stream": "stdout",
       "text": [
        "\n",
        "iteration: 5500    loss: 0.00558546278626    accuracy: [ 0.35891169  0.00297948]"
       ]
      },
      {
       "output_type": "stream",
       "stream": "stdout",
       "text": [
        "\n",
        "iteration: 5600    loss: 0.0110370088369    accuracy: [ 0.36397582  0.00529768]"
       ]
      },
      {
       "output_type": "stream",
       "stream": "stdout",
       "text": [
        "\n",
        "iteration: 5700    loss: 0.00886475853622    accuracy: [ 0.34805271  0.00439155]"
       ]
      },
      {
       "output_type": "stream",
       "stream": "stdout",
       "text": [
        "\n",
        "iteration: 5800    loss: 0.0122830700129    accuracy: [ 0.33823612  0.00891405]"
       ]
      },
      {
       "output_type": "stream",
       "stream": "stdout",
       "text": [
        "\n",
        "iteration: 5900    loss: 0.00615497585386    accuracy: [ 0.33107466  0.0024357 ]"
       ]
      },
      {
       "output_type": "stream",
       "stream": "stdout",
       "text": [
        "\n",
        "iteration: 6000    loss: 0.0146052883938    accuracy: [ 0.10020308  0.14408398]"
       ]
      },
      {
       "output_type": "stream",
       "stream": "stdout",
       "text": [
        "\n",
        "iteration: 6100    loss: 0.00783332809806    accuracy: [ 0.34664619  0.00318661]"
       ]
      },
      {
       "output_type": "stream",
       "stream": "stdout",
       "text": [
        "\n",
        "iteration: 6200    loss: 0.0167325846851    accuracy: [ 0.40139797  0.00559459]"
       ]
      },
      {
       "output_type": "stream",
       "stream": "stdout",
       "text": [
        "\n",
        "iteration: 6300    loss: 0.00921319425106    accuracy: [ 0.42983326  0.00307534]"
       ]
      },
      {
       "output_type": "stream",
       "stream": "stdout",
       "text": [
        "\n",
        "iteration: 6400    loss: 0.0337066315114    accuracy: [ 0.44613463  0.01308689]"
       ]
      },
      {
       "output_type": "stream",
       "stream": "stdout",
       "text": [
        "\n",
        "iteration: 6500    loss: 0.0187624581158    accuracy: [ 0.42154238  0.00913408]"
       ]
      },
      {
       "output_type": "stream",
       "stream": "stdout",
       "text": [
        "\n",
        "iteration: 6600    loss: 0.0124311912805    accuracy: [ 0.1288119   0.09393167]"
       ]
      },
      {
       "output_type": "stream",
       "stream": "stdout",
       "text": [
        "\n",
        "iteration: 6700    loss: 0.0061336052604    accuracy: [ 0.2996209   0.00302296]"
       ]
      },
      {
       "output_type": "stream",
       "stream": "stdout",
       "text": [
        "\n",
        "iteration: 6800    loss: 0.00669279647991    accuracy: [ 0.37931457  0.00270896]"
       ]
      },
      {
       "output_type": "stream",
       "stream": "stdout",
       "text": [
        "\n",
        "iteration: 6900    loss: 0.0189812555909    accuracy: [ 0.35089004  0.01332739]"
       ]
      },
      {
       "output_type": "stream",
       "stream": "stdout",
       "text": [
        "\n",
        "iteration: 7000    loss: 0.0175999030471    accuracy: [ 0.11097125  0.12215556]"
       ]
      },
      {
       "output_type": "stream",
       "stream": "stdout",
       "text": [
        "\n",
        "iteration: 7100    loss: 0.008963663131    accuracy: [ 0.19363168  0.02805176]"
       ]
      },
      {
       "output_type": "stream",
       "stream": "stdout",
       "text": [
        "\n",
        "iteration: 7200    loss: 0.00720458151773    accuracy: [ 0.19774316  0.02328592]"
       ]
      },
      {
       "output_type": "stream",
       "stream": "stdout",
       "text": [
        "\n",
        "iteration: 7300    loss: 0.0117288026959    accuracy: [ 0.39700791  0.00754426]"
       ]
      },
      {
       "output_type": "stream",
       "stream": "stdout",
       "text": [
        "\n",
        "iteration: 7400    loss: 0.012567397207    accuracy: [ 0.31875059  0.01230906]"
       ]
      },
      {
       "output_type": "stream",
       "stream": "stdout",
       "text": [
        "\n",
        "iteration: 7500    loss: 0.00990821234882    accuracy: [ 0.35919997  0.00565014]"
       ]
      },
      {
       "output_type": "stream",
       "stream": "stdout",
       "text": [
        "\n",
        "iteration: 7600    loss: 0.00599119532853    accuracy: [ 0.32271451  0.00281804]"
       ]
      },
      {
       "output_type": "stream",
       "stream": "stdout",
       "text": [
        "\n",
        "iteration: 7700    loss: 0.00572168687358    accuracy: [ 0.35186735  0.00237795]"
       ]
      },
      {
       "output_type": "stream",
       "stream": "stdout",
       "text": [
        "\n",
        "iteration: 7800    loss: 0.00620447937399    accuracy: [ 0.28504524  0.00727687]"
       ]
      },
      {
       "output_type": "stream",
       "stream": "stdout",
       "text": [
        "\n",
        "iteration: 7900    loss: 0.0192357450724    accuracy: [ 0.39080179  0.00820618]"
       ]
      },
      {
       "output_type": "stream",
       "stream": "stdout",
       "text": [
        "\n",
        "iteration: 8000    loss: 0.0379015952349    accuracy: [ 0.00997072  0.56202143]"
       ]
      },
      {
       "output_type": "stream",
       "stream": "stdout",
       "text": [
        "\n",
        "iteration: 8100    loss: 0.0144708249718    accuracy: [ 0.31335172  0.00894688]"
       ]
      },
      {
       "output_type": "stream",
       "stream": "stdout",
       "text": [
        "\n",
        "iteration: 8200    loss: 0.00731810182333    accuracy: [ 0.29108882  0.00621949]"
       ]
      },
      {
       "output_type": "stream",
       "stream": "stdout",
       "text": [
        "\n",
        "iteration: 8300    loss: 0.00756932236254    accuracy: [ 0.35391834  0.00379982]"
       ]
      },
      {
       "output_type": "stream",
       "stream": "stdout",
       "text": [
        "\n",
        "iteration: 8400    loss: 0.00617896579206    accuracy: [ 0.34924272  0.00373967]"
       ]
      },
      {
       "output_type": "stream",
       "stream": "stdout",
       "text": [
        "\n",
        "iteration: 8500    loss: 0.00740019977093    accuracy: [ 0.26251021  0.00971891]"
       ]
      },
      {
       "output_type": "stream",
       "stream": "stdout",
       "text": [
        "\n",
        "iteration: 8600    loss: 0.0108237955719    accuracy: [ 0.29944447  0.00939734]"
       ]
      },
      {
       "output_type": "stream",
       "stream": "stdout",
       "text": [
        "\n",
        "iteration: 8700    loss: 0.0122286360711    accuracy: [ 0.40353638  0.00624882]"
       ]
      },
      {
       "output_type": "stream",
       "stream": "stdout",
       "text": [
        "\n",
        "iteration: 8800    loss: 0.00786955654621    accuracy: [ 0.36735895  0.00320499]"
       ]
      },
      {
       "output_type": "stream",
       "stream": "stdout",
       "text": [
        "\n",
        "iteration: 8900    loss: 0.0165157262236    accuracy: [ 0.37678033  0.00874985]"
       ]
      },
      {
       "output_type": "stream",
       "stream": "stdout",
       "text": [
        "\n",
        "iteration: 9000    loss: 0.00653984211385    accuracy: [ 0.35014498  0.00310972]"
       ]
      },
      {
       "output_type": "stream",
       "stream": "stdout",
       "text": [
        "\n",
        "iteration: 9100    loss: 0.00720083806664    accuracy: [ 0.29464     0.00741778]"
       ]
      },
      {
       "output_type": "stream",
       "stream": "stdout",
       "text": [
        "\n",
        "iteration: 9200    loss: 0.0122512560338    accuracy: [ 0.37670219  0.0066289 ]"
       ]
      },
      {
       "output_type": "stream",
       "stream": "stdout",
       "text": [
        "\n",
        "iteration: 9300    loss: 0.0101314820349    accuracy: [ 0.35467333  0.00519173]"
       ]
      },
      {
       "output_type": "stream",
       "stream": "stdout",
       "text": [
        "\n",
        "iteration: 9400    loss: 0.00965181738138    accuracy: [ 0.40927964  0.00433078]"
       ]
      },
      {
       "output_type": "stream",
       "stream": "stdout",
       "text": [
        "\n",
        "iteration: 9500    loss: 0.0111742215231    accuracy: [ 0.43187004  0.0036287 ]"
       ]
      },
      {
       "output_type": "stream",
       "stream": "stdout",
       "text": [
        "\n",
        "iteration: 9600    loss: 0.00825162511319    accuracy: [ 0.36226773  0.00429289]"
       ]
      },
      {
       "output_type": "stream",
       "stream": "stdout",
       "text": [
        "\n",
        "iteration: 9700    loss: 0.00885864812881    accuracy: [ 0.36669418  0.00529277]"
       ]
      },
      {
       "output_type": "stream",
       "stream": "stdout",
       "text": [
        "\n",
        "iteration: 9800    loss: 0.0109970718622    accuracy: [ 0.3160865   0.00730633]"
       ]
      },
      {
       "output_type": "stream",
       "stream": "stdout",
       "text": [
        "\n",
        "iteration: 9900    loss: 0.010634245351    accuracy: [ 0.387081    0.00585984]"
       ]
      },
      {
       "output_type": "stream",
       "stream": "stdout",
       "text": [
        "\n",
        "iteration: 10000   loss: 0.00785520672798    accuracy: [ 0.37730575  0.0054152 ]"
       ]
      },
      {
       "output_type": "stream",
       "stream": "stdout",
       "text": [
        "\n",
        "snaping to: /home/qinshuo/WorkPlace/caffe_space/extract_skin/weight/seg_skin_net_fin160000.caffemodel\n",
        "iteration: 100     loss: 0.00931222178042    accuracy: [ 0.34741673  0.0057963 ]"
       ]
      },
      {
       "output_type": "stream",
       "stream": "stdout",
       "text": [
        "\n",
        "iteration: 200     loss: 0.0881342664361    accuracy: [ 0.  0.]"
       ]
      },
      {
       "output_type": "stream",
       "stream": "stdout",
       "text": [
        "\n",
        "iteration: 300     loss: 0.0101323481649    accuracy: [ 0.36905727  0.0039388 ]"
       ]
      },
      {
       "output_type": "stream",
       "stream": "stdout",
       "text": [
        "\n",
        "iteration: 400     loss: 0.00840843841434    accuracy: [ 0.34681797  0.00352796]"
       ]
      },
      {
       "output_type": "stream",
       "stream": "stdout",
       "text": [
        "\n",
        "iteration: 500     loss: 0.0141590610147    accuracy: [ 0.27247745  0.01404731]"
       ]
      },
      {
       "output_type": "stream",
       "stream": "stdout",
       "text": [
        "\n",
        "iteration: 600     loss: 0.00813485123217    accuracy: [ 0.38433468  0.00303241]"
       ]
      },
      {
       "output_type": "stream",
       "stream": "stdout",
       "text": [
        "\n",
        "iteration: 700     loss: 0.0168201588094    accuracy: [ 0.36364889  0.00409957]"
       ]
      },
      {
       "output_type": "stream",
       "stream": "stdout",
       "text": [
        "\n",
        "iteration: 800     loss: 0.0167219378054    accuracy: [ 0.33647677  0.01259263]"
       ]
      },
      {
       "output_type": "stream",
       "stream": "stdout",
       "text": [
        "\n",
        "iteration: 900     loss: 0.0305761732161    accuracy: [ 0.03338219  0.34206897]"
       ]
      },
      {
       "output_type": "stream",
       "stream": "stdout",
       "text": [
        "\n",
        "iteration: 1000    loss: 0.0974182635546    accuracy: [ 0.  0.]"
       ]
      },
      {
       "output_type": "stream",
       "stream": "stdout",
       "text": [
        "\n",
        "iteration: 1100    loss: 0.00857840105891    accuracy: [ 0.3491731   0.00439038]"
       ]
      },
      {
       "output_type": "stream",
       "stream": "stdout",
       "text": [
        "\n",
        "iteration: 1200    loss: 0.00935231428593    accuracy: [ 0.40231115  0.00397036]"
       ]
      },
      {
       "output_type": "stream",
       "stream": "stdout",
       "text": [
        "\n",
        "iteration: 1300    loss: 0.00905748829246    accuracy: [ 0.35370135  0.00367313]"
       ]
      },
      {
       "output_type": "stream",
       "stream": "stdout",
       "text": [
        "\n",
        "iteration: 1400    loss: 0.265935003757    accuracy: [ 0.00962873  0.32822084]"
       ]
      },
      {
       "output_type": "stream",
       "stream": "stdout",
       "text": [
        "\n",
        "iteration: 1500    loss: 0.0204248987138    accuracy: [ 0.07216889  0.23554331]"
       ]
      },
      {
       "output_type": "stream",
       "stream": "stdout",
       "text": [
        "\n",
        "iteration: 1600    loss: 0.0116358213127    accuracy: [ 0.16958885  0.04106095]"
       ]
      },
      {
       "output_type": "stream",
       "stream": "stdout",
       "text": [
        "\n",
        "iteration: 1700    loss: 0.0113321449608    accuracy: [ 0.40030709  0.00582971]"
       ]
      },
      {
       "output_type": "stream",
       "stream": "stdout",
       "text": [
        "\n",
        "iteration: 1800    loss: 0.117918349802    accuracy: [ 0.27534673  0.05899373]"
       ]
      },
      {
       "output_type": "stream",
       "stream": "stdout",
       "text": [
        "\n",
        "iteration: 1900    loss: 0.00696967309341    accuracy: [ 0.3411718   0.00312584]"
       ]
      },
      {
       "output_type": "stream",
       "stream": "stdout",
       "text": [
        "\n",
        "iteration: 2000    loss: 0.0118617080152    accuracy: [ 0.34283793  0.00696705]"
       ]
      },
      {
       "output_type": "stream",
       "stream": "stdout",
       "text": [
        "\n",
        "iteration: 2100    loss: 0.0126098822802    accuracy: [ 0.31302419  0.01078355]"
       ]
      },
      {
       "output_type": "stream",
       "stream": "stdout",
       "text": [
        "\n",
        "iteration: 2200    loss: 0.00708924140781    accuracy: [ 0.3445999  0.0035925]"
       ]
      },
      {
       "output_type": "stream",
       "stream": "stdout",
       "text": [
        "\n",
        "iteration: 2300    loss: 0.00873736757785    accuracy: [ 0.34128389  0.00492721]"
       ]
      },
      {
       "output_type": "stream",
       "stream": "stdout",
       "text": [
        "\n",
        "iteration: 2400    loss: 0.00652326084673    accuracy: [ 0.38005883  0.00270384]"
       ]
      },
      {
       "output_type": "stream",
       "stream": "stdout",
       "text": [
        "\n",
        "iteration: 2500    loss: 0.0134721146896    accuracy: [ 0.41430122  0.00685323]"
       ]
      },
      {
       "output_type": "stream",
       "stream": "stdout",
       "text": [
        "\n",
        "iteration: 2600    loss: 0.00925219990313    accuracy: [ 0.30460879  0.00659743]"
       ]
      },
      {
       "output_type": "stream",
       "stream": "stdout",
       "text": [
        "\n",
        "iteration: 2700    loss: 0.00915311463177    accuracy: [ 0.27364203  0.01462781]"
       ]
      },
      {
       "output_type": "stream",
       "stream": "stdout",
       "text": [
        "\n",
        "iteration: 2800    loss: 0.00963609851897    accuracy: [ 0.36508882  0.00615011]"
       ]
      },
      {
       "output_type": "stream",
       "stream": "stdout",
       "text": [
        "\n",
        "iteration: 2900    loss: 0.00671231560409    accuracy: [ 0.36023772  0.00420925]"
       ]
      },
      {
       "output_type": "stream",
       "stream": "stdout",
       "text": [
        "\n",
        "iteration: 3000    loss: 0.0156733095646    accuracy: [ 0.28848305  0.00691752]"
       ]
      },
      {
       "output_type": "stream",
       "stream": "stdout",
       "text": [
        "\n",
        "iteration: 3100    loss: 0.00803076289594    accuracy: [ 0.19045727  0.02589458]"
       ]
      },
      {
       "output_type": "stream",
       "stream": "stdout",
       "text": [
        "\n",
        "iteration: 3200    loss: 0.0155439916998    accuracy: [ 0.24128209  0.02898459]"
       ]
      },
      {
       "output_type": "stream",
       "stream": "stdout",
       "text": [
        "\n",
        "iteration: 3300    loss: 0.00864040199667    accuracy: [ 0.31826368  0.00451749]"
       ]
      },
      {
       "output_type": "stream",
       "stream": "stdout",
       "text": [
        "\n",
        "iteration: 3400    loss: 0.00587890669703    accuracy: [ 0.35528421  0.00270979]"
       ]
      },
      {
       "output_type": "stream",
       "stream": "stdout",
       "text": [
        "\n",
        "iteration: 3500    loss: 0.108100779355    accuracy: [ 0.  0.]"
       ]
      },
      {
       "output_type": "stream",
       "stream": "stdout",
       "text": [
        "\n",
        "iteration: 3600    loss: 0.00946052931249    accuracy: [ 0.39922485  0.00352328]"
       ]
      },
      {
       "output_type": "stream",
       "stream": "stdout",
       "text": [
        "\n",
        "iteration: 3700    loss: 0.00633778888732    accuracy: [ 0.29046863  0.00443304]"
       ]
      },
      {
       "output_type": "stream",
       "stream": "stdout",
       "text": [
        "\n",
        "iteration: 3800    loss: 0.00810430198908    accuracy: [ 0.34666902  0.00461881]"
       ]
      },
      {
       "output_type": "stream",
       "stream": "stdout",
       "text": [
        "\n",
        "iteration: 3900    loss: 0.00741281732917    accuracy: [ 0.32329145  0.00374722]"
       ]
      },
      {
       "output_type": "stream",
       "stream": "stdout",
       "text": [
        "\n",
        "iteration: 4000    loss: 0.00863743666559    accuracy: [ 0.33519578  0.00513066]"
       ]
      },
      {
       "output_type": "stream",
       "stream": "stdout",
       "text": [
        "\n",
        "iteration: 4100    loss: 0.00998421013355    accuracy: [ 0.29604441  0.01059574]"
       ]
      },
      {
       "output_type": "stream",
       "stream": "stdout",
       "text": [
        "\n",
        "iteration: 4200    loss: 0.0118010612205    accuracy: [ 0.38724276  0.00693896]"
       ]
      },
      {
       "output_type": "stream",
       "stream": "stdout",
       "text": [
        "\n",
        "iteration: 4300    loss: 0.0344986058772    accuracy: [ 0.02217091  0.4217993 ]"
       ]
      },
      {
       "output_type": "stream",
       "stream": "stdout",
       "text": [
        "\n",
        "iteration: 4400    loss: 0.00771982083097    accuracy: [ 0.37232342  0.00287451]"
       ]
      },
      {
       "output_type": "stream",
       "stream": "stdout",
       "text": [
        "\n",
        "iteration: 4500    loss: 0.00986724812537    accuracy: [ 0.38654691  0.00612023]"
       ]
      },
      {
       "output_type": "stream",
       "stream": "stdout",
       "text": [
        "\n",
        "iteration: 4600    loss: 0.00730656459928    accuracy: [ 0.33114487  0.00405069]"
       ]
      },
      {
       "output_type": "stream",
       "stream": "stdout",
       "text": [
        "\n",
        "iteration: 4700    loss: 0.00592206558213    accuracy: [ 0.34445295  0.00295018]"
       ]
      },
      {
       "output_type": "stream",
       "stream": "stdout",
       "text": [
        "\n",
        "iteration: 4800    loss: 0.00753323361278    accuracy: [ 0.22044572  0.0156705 ]"
       ]
      },
      {
       "output_type": "stream",
       "stream": "stdout",
       "text": [
        "\n",
        "iteration: 4900    loss: 0.00864820368588    accuracy: [ 0.18303998  0.04015436]"
       ]
      },
      {
       "output_type": "stream",
       "stream": "stdout",
       "text": [
        "\n",
        "iteration: 5000    loss: 0.00603503128514    accuracy: [ 0.29837558  0.00322812]"
       ]
      },
      {
       "output_type": "stream",
       "stream": "stdout",
       "text": [
        "\n",
        "iteration: 5100    loss: 0.00811985321343    accuracy: [ 0.28039742  0.0097245 ]"
       ]
      },
      {
       "output_type": "stream",
       "stream": "stdout",
       "text": [
        "\n",
        "iteration: 5200    loss: 0.0104461349547    accuracy: [ 0.34375358  0.00525121]"
       ]
      },
      {
       "output_type": "stream",
       "stream": "stdout",
       "text": [
        "\n",
        "iteration: 5300    loss: 0.0119632435963    accuracy: [ 0.37423894  0.0049256 ]"
       ]
      },
      {
       "output_type": "stream",
       "stream": "stdout",
       "text": [
        "\n",
        "iteration: 5400    loss: 0.0362483412027    accuracy: [ 0.00235235  0.49837664]"
       ]
      },
      {
       "output_type": "stream",
       "stream": "stdout",
       "text": [
        "\n",
        "iteration: 5500    loss: 0.167200833559    accuracy: [ 0.32756487  0.04248029]"
       ]
      },
      {
       "output_type": "stream",
       "stream": "stdout",
       "text": [
        "\n",
        "iteration: 5600    loss: 0.0096050016582    accuracy: [ 0.16661125  0.04321497]"
       ]
      },
      {
       "output_type": "stream",
       "stream": "stdout",
       "text": [
        "\n",
        "iteration: 5700    loss: 0.0151426391676    accuracy: [ 0.34204718  0.01070693]"
       ]
      },
      {
       "output_type": "stream",
       "stream": "stdout",
       "text": [
        "\n",
        "iteration: 5800    loss: 0.014717169106    accuracy: [ 0.37687013  0.00737741]"
       ]
      },
      {
       "output_type": "stream",
       "stream": "stdout",
       "text": [
        "\n",
        "iteration: 5900    loss: 0.00670129060745    accuracy: [ 0.28605825  0.00492973]"
       ]
      },
      {
       "output_type": "stream",
       "stream": "stdout",
       "text": [
        "\n",
        "iteration: 6000    loss: 0.00816254131496    accuracy: [ 0.37324628  0.00276537]"
       ]
      },
      {
       "output_type": "stream",
       "stream": "stdout",
       "text": [
        "\n",
        "iteration: 6100    loss: 0.00849831756204    accuracy: [ 0.17908326  0.03997012]"
       ]
      },
      {
       "output_type": "stream",
       "stream": "stdout",
       "text": [
        "\n",
        "iteration: 6200    loss: 0.00743595696986    accuracy: [ 0.37830094  0.00379675]"
       ]
      },
      {
       "output_type": "stream",
       "stream": "stdout",
       "text": [
        "\n",
        "iteration: 6300    loss: 0.0149210970849    accuracy: [ 0.09838674  0.14305706]"
       ]
      },
      {
       "output_type": "stream",
       "stream": "stdout",
       "text": [
        "\n",
        "iteration: 6400    loss: 0.0178273059428    accuracy: [ 0.181878    0.03523349]"
       ]
      },
      {
       "output_type": "stream",
       "stream": "stdout",
       "text": [
        "\n",
        "iteration: 6500    loss: 0.0111666629091    accuracy: [ 0.29926908  0.00666803]"
       ]
      },
      {
       "output_type": "stream",
       "stream": "stdout",
       "text": [
        "\n",
        "iteration: 6600    loss: 0.00988279934973    accuracy: [ 0.32565919  0.00195101]"
       ]
      },
      {
       "output_type": "stream",
       "stream": "stdout",
       "text": [
        "\n",
        "iteration: 6700    loss: 0.00740899657831    accuracy: [ 0.37330237  0.0033055 ]"
       ]
      },
      {
       "output_type": "stream",
       "stream": "stdout",
       "text": [
        "\n",
        "iteration: 6800    loss: 0.0098249912262    accuracy: [ 0.16319482  0.04764469]"
       ]
      },
      {
       "output_type": "stream",
       "stream": "stdout",
       "text": [
        "\n",
        "iteration: 6900    loss: 0.0283818244934    accuracy: [ 0.04156836  0.33573273]"
       ]
      },
      {
       "output_type": "stream",
       "stream": "stdout",
       "text": [
        "\n",
        "iteration: 7000    loss: 0.007783299312    accuracy: [ 0.19111177  0.023     ]"
       ]
      },
      {
       "output_type": "stream",
       "stream": "stdout",
       "text": [
        "\n",
        "iteration: 7100    loss: 0.0122826835141    accuracy: [ 0.14752354  0.05175994]"
       ]
      },
      {
       "output_type": "stream",
       "stream": "stdout",
       "text": [
        "\n",
        "iteration: 7200    loss: 0.0100750280544    accuracy: [ 0.41602519  0.00418733]"
       ]
      },
      {
       "output_type": "stream",
       "stream": "stdout",
       "text": [
        "\n",
        "iteration: 7300    loss: 0.0135933049023    accuracy: [ 0.14636864  0.08175182]"
       ]
      },
      {
       "output_type": "stream",
       "stream": "stdout",
       "text": [
        "\n",
        "iteration: 7400    loss: 0.017203386873    accuracy: [ 0.34202772  0.00900599]"
       ]
      },
      {
       "output_type": "stream",
       "stream": "stdout",
       "text": [
        "\n",
        "iteration: 7500    loss: 0.0153744164854    accuracy: [ 0.10843051  0.14421046]"
       ]
      },
      {
       "output_type": "stream",
       "stream": "stdout",
       "text": [
        "\n",
        "iteration: 7600    loss: 0.00785470567644    accuracy: [ 0.18467277  0.02651076]"
       ]
      },
      {
       "output_type": "stream",
       "stream": "stdout",
       "text": [
        "\n",
        "iteration: 7700    loss: 0.0092734945938    accuracy: [ 0.40137747  0.0015348 ]"
       ]
      },
      {
       "output_type": "stream",
       "stream": "stdout",
       "text": [
        "\n",
        "iteration: 7800    loss: 0.00998247228563    accuracy: [ 0.14917322  0.06072636]"
       ]
      },
      {
       "output_type": "stream",
       "stream": "stdout",
       "text": [
        "\n",
        "iteration: 7900    loss: 0.101666495204    accuracy: [ 0.  0.]"
       ]
      },
      {
       "output_type": "stream",
       "stream": "stdout",
       "text": [
        "\n",
        "iteration: 8000    loss: 0.0263927355409    accuracy: [ 0.07588849  0.2127552 ]"
       ]
      },
      {
       "output_type": "stream",
       "stream": "stdout",
       "text": [
        "\n",
        "iteration: 8100    loss: 0.369016081095    accuracy: [ 0.21350448  0.04625934]"
       ]
      },
      {
       "output_type": "stream",
       "stream": "stdout",
       "text": [
        "\n",
        "iteration: 8200    loss: 0.0174995809793    accuracy: [ 0.39533728  0.00857099]"
       ]
      },
      {
       "output_type": "stream",
       "stream": "stdout",
       "text": [
        "\n",
        "iteration: 8300    loss: 0.018442152068    accuracy: [ 0.07480464  0.21500817]"
       ]
      },
      {
       "output_type": "stream",
       "stream": "stdout",
       "text": [
        "\n",
        "iteration: 8400    loss: 0.0321494154632    accuracy: [ 0.25469249  0.04555442]"
       ]
      },
      {
       "output_type": "stream",
       "stream": "stdout",
       "text": [
        "\n",
        "iteration: 8500    loss: 0.0102090211585    accuracy: [ 0.43244812  0.00401972]"
       ]
      },
      {
       "output_type": "stream",
       "stream": "stdout",
       "text": [
        "\n",
        "iteration: 8600    loss: 0.0058473078534    accuracy: [ 0.34520823  0.00344103]"
       ]
      },
      {
       "output_type": "stream",
       "stream": "stdout",
       "text": [
        "\n",
        "iteration: 8700    loss: 0.00901791639626    accuracy: [ 0.34836778  0.00180141]"
       ]
      },
      {
       "output_type": "stream",
       "stream": "stdout",
       "text": [
        "\n",
        "iteration: 8800    loss: 0.00874902587384    accuracy: [ 0.35230047  0.0055975 ]"
       ]
      },
      {
       "output_type": "stream",
       "stream": "stdout",
       "text": [
        "\n",
        "iteration: 8900    loss: 0.0109310271218    accuracy: [ 0.38485271  0.00401335]"
       ]
      },
      {
       "output_type": "stream",
       "stream": "stdout",
       "text": [
        "\n",
        "iteration: 9000    loss: 0.0320468395948    accuracy: [ 0.30720571  0.02889266]"
       ]
      },
      {
       "output_type": "stream",
       "stream": "stdout",
       "text": [
        "\n",
        "iteration: 9100    loss: 0.0320433452725    accuracy: [ 0.08357818  0.18709737]"
       ]
      },
      {
       "output_type": "stream",
       "stream": "stdout",
       "text": [
        "\n",
        "iteration: 9200    loss: 0.00871362257749    accuracy: [ 0.33943018  0.00452805]"
       ]
      },
      {
       "output_type": "stream",
       "stream": "stdout",
       "text": [
        "\n",
        "iteration: 9300    loss: 0.013141175732    accuracy: [ 0.26345372  0.02374456]"
       ]
      },
      {
       "output_type": "stream",
       "stream": "stdout",
       "text": [
        "\n",
        "iteration: 9400    loss: 0.0137966712937    accuracy: [ 0.43457618  0.00558605]"
       ]
      },
      {
       "output_type": "stream",
       "stream": "stdout",
       "text": [
        "\n",
        "iteration: 9500    loss: 0.0233746916056    accuracy: [ 0.42580792  0.00949378]"
       ]
      },
      {
       "output_type": "stream",
       "stream": "stdout",
       "text": [
        "\n",
        "iteration: 9600    loss: 0.00749742425978    accuracy: [ 0.37898645  0.00416264]"
       ]
      },
      {
       "output_type": "stream",
       "stream": "stdout",
       "text": [
        "\n",
        "iteration: 9700    loss: 0.00761629501358    accuracy: [ 0.3672671   0.00445129]"
       ]
      },
      {
       "output_type": "stream",
       "stream": "stdout",
       "text": [
        "\n",
        "iteration: 9800    loss: 0.0076256217435    accuracy: [ 0.36873069  0.00372995]"
       ]
      },
      {
       "output_type": "stream",
       "stream": "stdout",
       "text": [
        "\n",
        "iteration: 9900    loss: 0.00764437764883    accuracy: [ 0.35132945  0.00404735]"
       ]
      },
      {
       "output_type": "stream",
       "stream": "stdout",
       "text": [
        "\n",
        "iteration: 10000   loss: 0.0117671107873    accuracy: [ 0.33931816  0.00472421]"
       ]
      },
      {
       "output_type": "stream",
       "stream": "stdout",
       "text": [
        "\n",
        "snaping to: /home/qinshuo/WorkPlace/caffe_space/extract_skin/weight/seg_skin_net_fin170000.caffemodel\n",
        "iteration: 100     loss: 0.00669968733564    accuracy: [ 0.37150261  0.00240691]"
       ]
      },
      {
       "output_type": "stream",
       "stream": "stdout",
       "text": [
        "\n",
        "iteration: 200     loss: 0.00771771697327    accuracy: [ 0.36292762  0.00367508]"
       ]
      },
      {
       "output_type": "stream",
       "stream": "stdout",
       "text": [
        "\n",
        "iteration: 300     loss: 0.00744306528941    accuracy: [ 0.38964432  0.00332314]"
       ]
      },
      {
       "output_type": "stream",
       "stream": "stdout",
       "text": [
        "\n",
        "iteration: 400     loss: 0.00609212787822    accuracy: [ 0.33781636  0.00350615]"
       ]
      },
      {
       "output_type": "stream",
       "stream": "stdout",
       "text": [
        "\n",
        "iteration: 500     loss: 0.00699037779123    accuracy: [ 0.34224975  0.00432035]"
       ]
      },
      {
       "output_type": "stream",
       "stream": "stdout",
       "text": [
        "\n",
        "iteration: 600     loss: 0.0109923826531    accuracy: [ 0.42667747  0.00462946]"
       ]
      },
      {
       "output_type": "stream",
       "stream": "stdout",
       "text": [
        "\n",
        "iteration: 700     loss: 0.0129602458328    accuracy: [ 0.38676935  0.00479951]"
       ]
      },
      {
       "output_type": "stream",
       "stream": "stdout",
       "text": [
        "\n",
        "iteration: 800     loss: 0.00866465363652    accuracy: [ 0.35364941  0.00448242]"
       ]
      },
      {
       "output_type": "stream",
       "stream": "stdout",
       "text": [
        "\n",
        "iteration: 900     loss: 0.00738754402846    accuracy: [ 0.33468279  0.00528346]"
       ]
      },
      {
       "output_type": "stream",
       "stream": "stdout",
       "text": [
        "\n",
        "iteration: 1000    loss: 0.0130050126463    accuracy: [ 0.20878693  0.02967435]"
       ]
      },
      {
       "output_type": "stream",
       "stream": "stdout",
       "text": [
        "\n",
        "iteration: 1100    loss: 0.12341594696    accuracy: [ 0.03957204  0.6803115 ]"
       ]
      },
      {
       "output_type": "stream",
       "stream": "stdout",
       "text": [
        "\n",
        "iteration: 1200    loss: 0.0189122371376    accuracy: [ 0.42449179  0.00917093]"
       ]
      },
      {
       "output_type": "stream",
       "stream": "stdout",
       "text": [
        "\n",
        "iteration: 1300    loss: 0.0113386381418    accuracy: [ 0.38127112  0.00632315]"
       ]
      },
      {
       "output_type": "stream",
       "stream": "stdout",
       "text": [
        "\n",
        "iteration: 1400    loss: 0.00567776151001    accuracy: [ 0.30674013  0.00391092]"
       ]
      },
      {
       "output_type": "stream",
       "stream": "stdout",
       "text": [
        "\n",
        "iteration: 1500    loss: 0.00782290566713    accuracy: [ 0.30759001  0.00628634]"
       ]
      },
      {
       "output_type": "stream",
       "stream": "stdout",
       "text": [
        "\n",
        "iteration: 1600    loss: 0.00746583659202    accuracy: [ 0.35349634  0.00361019]"
       ]
      },
      {
       "output_type": "stream",
       "stream": "stdout",
       "text": [
        "\n",
        "iteration: 1700    loss: 0.00803604908288    accuracy: [ 0.33775643  0.0019932 ]"
       ]
      },
      {
       "output_type": "stream",
       "stream": "stdout",
       "text": [
        "\n",
        "iteration: 1800    loss: 0.00704594887793    accuracy: [ 0.36207449  0.00311339]"
       ]
      },
      {
       "output_type": "stream",
       "stream": "stdout",
       "text": [
        "\n",
        "iteration: 1900    loss: 0.00642580213025    accuracy: [ 0.27672005  0.00492931]"
       ]
      },
      {
       "output_type": "stream",
       "stream": "stdout",
       "text": [
        "\n",
        "iteration: 2000    loss: 0.00642870925367    accuracy: [ 0.33668056  0.00343881]"
       ]
      },
      {
       "output_type": "stream",
       "stream": "stdout",
       "text": [
        "\n",
        "iteration: 2100    loss: 0.214616239071    accuracy: [ 0.03735287  0.21114683]"
       ]
      },
      {
       "output_type": "stream",
       "stream": "stdout",
       "text": [
        "\n",
        "iteration: 2200    loss: 0.0125008728355    accuracy: [ 0.30274591  0.01548695]"
       ]
      },
      {
       "output_type": "stream",
       "stream": "stdout",
       "text": [
        "\n",
        "iteration: 2300    loss: 0.0218922719359    accuracy: [ 0.05410928  0.28104669]"
       ]
      },
      {
       "output_type": "stream",
       "stream": "stdout",
       "text": [
        "\n",
        "iteration: 2400    loss: 0.0145614743233    accuracy: [ 0.33979988  0.01054705]"
       ]
      },
      {
       "output_type": "stream",
       "stream": "stdout",
       "text": [
        "\n",
        "iteration: 2500    loss: 0.548884153366    accuracy: [ 0.17848706  0.99269271]"
       ]
      },
      {
       "output_type": "stream",
       "stream": "stdout",
       "text": [
        "\n",
        "iteration: 2600    loss: 0.0108133684844    accuracy: [ 0.36166579  0.00505093]"
       ]
      },
      {
       "output_type": "stream",
       "stream": "stdout",
       "text": [
        "\n",
        "iteration: 2700    loss: 0.010194381699    accuracy: [ 0.42727792  0.00434549]"
       ]
      },
      {
       "output_type": "stream",
       "stream": "stdout",
       "text": [
        "\n",
        "iteration: 2800    loss: 0.0064512277022    accuracy: [ 0.25834757  0.00892012]"
       ]
      },
      {
       "output_type": "stream",
       "stream": "stdout",
       "text": [
        "\n",
        "iteration: 2900    loss: 0.0132861249149    accuracy: [ 0.4000459   0.00482865]"
       ]
      },
      {
       "output_type": "stream",
       "stream": "stdout",
       "text": [
        "\n",
        "iteration: 3000    loss: 0.00838702358305    accuracy: [ 0.26806355  0.00791049]"
       ]
      },
      {
       "output_type": "stream",
       "stream": "stdout",
       "text": [
        "\n",
        "iteration: 3100    loss: 0.00754654733464    accuracy: [ 0.28464517  0.00404179]"
       ]
      },
      {
       "output_type": "stream",
       "stream": "stdout",
       "text": [
        "\n",
        "iteration: 3200    loss: 0.00649135001004    accuracy: [ 0.28160661  0.00499403]"
       ]
      },
      {
       "output_type": "stream",
       "stream": "stdout",
       "text": [
        "\n",
        "iteration: 3300    loss: 0.0078843832016    accuracy: [ 0.37464318  0.00308038]"
       ]
      },
      {
       "output_type": "stream",
       "stream": "stdout",
       "text": [
        "\n",
        "iteration: 3400    loss: 0.0126364063472    accuracy: [ 0.28514379  0.01379051]"
       ]
      },
      {
       "output_type": "stream",
       "stream": "stdout",
       "text": [
        "\n",
        "iteration: 3500    loss: 0.0100709050894    accuracy: [ 0.35217088  0.003853  ]"
       ]
      },
      {
       "output_type": "stream",
       "stream": "stdout",
       "text": [
        "\n",
        "iteration: 3600    loss: 0.00745345745236    accuracy: [ 0.20154695  0.01638225]"
       ]
      },
      {
       "output_type": "stream",
       "stream": "stdout",
       "text": [
        "\n",
        "iteration: 3700    loss: 0.0157903265208    accuracy: [ 0.09251004  0.1667631 ]"
       ]
      },
      {
       "output_type": "stream",
       "stream": "stdout",
       "text": [
        "\n",
        "iteration: 3800    loss: 0.0072870478034    accuracy: [ 0.22563639  0.01153768]"
       ]
      },
      {
       "output_type": "stream",
       "stream": "stdout",
       "text": [
        "\n",
        "iteration: 3900    loss: 0.0122215226293    accuracy: [ 0.11648794  0.10891382]"
       ]
      },
      {
       "output_type": "stream",
       "stream": "stdout",
       "text": [
        "\n",
        "iteration: 4000    loss: 0.272251397371    accuracy: [ 0.31802425  0.13722748]"
       ]
      },
      {
       "output_type": "stream",
       "stream": "stdout",
       "text": [
        "\n",
        "iteration: 4100    loss: 0.00660508684814    accuracy: [ 0.33367592  0.00374433]"
       ]
      },
      {
       "output_type": "stream",
       "stream": "stdout",
       "text": [
        "\n",
        "iteration: 4200    loss: 0.0105746379122    accuracy: [ 0.36475906  0.00514352]"
       ]
      },
      {
       "output_type": "stream",
       "stream": "stdout",
       "text": [
        "\n",
        "iteration: 4300    loss: 0.0087539665401    accuracy: [ 0.36573935  0.00405501]"
       ]
      },
      {
       "output_type": "stream",
       "stream": "stdout",
       "text": [
        "\n",
        "iteration: 4400    loss: 0.0090266354382    accuracy: [ 0.3898612  0.0048791]"
       ]
      },
      {
       "output_type": "stream",
       "stream": "stdout",
       "text": [
        "\n",
        "iteration: 4500    loss: 0.00890616048127    accuracy: [ 0.15031075  0.0539111 ]"
       ]
      },
      {
       "output_type": "stream",
       "stream": "stdout",
       "text": [
        "\n",
        "iteration: 4600    loss: 0.00800234358758    accuracy: [ 0.35962161  0.00493798]"
       ]
      },
      {
       "output_type": "stream",
       "stream": "stdout",
       "text": [
        "\n",
        "iteration: 4700    loss: 0.00665485532954    accuracy: [ 0.35578206  0.0030387 ]"
       ]
      },
      {
       "output_type": "stream",
       "stream": "stdout",
       "text": [
        "\n",
        "iteration: 4800    loss: 0.00578567525372    accuracy: [ 0.28352666  0.00439306]"
       ]
      },
      {
       "output_type": "stream",
       "stream": "stdout",
       "text": [
        "\n",
        "iteration: 4900    loss: 0.00792795140296    accuracy: [ 0.36528948  0.00442376]"
       ]
      },
      {
       "output_type": "stream",
       "stream": "stdout",
       "text": [
        "\n",
        "iteration: 5000    loss: 0.0145911145955    accuracy: [ 0.27758572  0.00928225]"
       ]
      },
      {
       "output_type": "stream",
       "stream": "stdout",
       "text": [
        "\n",
        "iteration: 5100    loss: 0.0805299729109    accuracy: [ 0.  0.]"
       ]
      },
      {
       "output_type": "stream",
       "stream": "stdout",
       "text": [
        "\n",
        "iteration: 5200    loss: 0.00648350687698    accuracy: [ 0.35762167  0.00201975]"
       ]
      },
      {
       "output_type": "stream",
       "stream": "stdout",
       "text": [
        "\n",
        "iteration: 5300    loss: 0.00731821358204    accuracy: [ 0.30664256  0.00641633]"
       ]
      },
      {
       "output_type": "stream",
       "stream": "stdout",
       "text": [
        "\n",
        "iteration: 5400    loss: 0.00612475117669    accuracy: [ 0.29462934  0.0031263 ]"
       ]
      },
      {
       "output_type": "stream",
       "stream": "stdout",
       "text": [
        "\n",
        "iteration: 5500    loss: 0.00726367719471    accuracy: [ 0.40120754  0.00223827]"
       ]
      },
      {
       "output_type": "stream",
       "stream": "stdout",
       "text": [
        "\n",
        "iteration: 5600    loss: 0.00846992991865    accuracy: [ 0.31232479  0.00471398]"
       ]
      },
      {
       "output_type": "stream",
       "stream": "stdout",
       "text": [
        "\n",
        "iteration: 5700    loss: 0.24203056097    accuracy: [  1.55789778e-04   5.00000000e-01]"
       ]
      },
      {
       "output_type": "stream",
       "stream": "stdout",
       "text": [
        "\n",
        "iteration: 5800    loss: 0.22310462594    accuracy: [ 0.1905432   0.03987691]"
       ]
      },
      {
       "output_type": "stream",
       "stream": "stdout",
       "text": [
        "\n",
        "iteration: 5900    loss: 0.00936346221715    accuracy: [ 0.34004146  0.00328415]"
       ]
      },
      {
       "output_type": "stream",
       "stream": "stdout",
       "text": [
        "\n",
        "iteration: 6000    loss: 0.0112809175625    accuracy: [ 0.35965276  0.00627895]"
       ]
      },
      {
       "output_type": "stream",
       "stream": "stdout",
       "text": [
        "\n",
        "iteration: 6100    loss: 0.218264222145    accuracy: [ 0.04438543  0.18846154]"
       ]
      },
      {
       "output_type": "stream",
       "stream": "stdout",
       "text": [
        "\n",
        "iteration: 6200    loss: 0.00725109968334    accuracy: [ 0.36784139  0.0036557 ]"
       ]
      },
      {
       "output_type": "stream",
       "stream": "stdout",
       "text": [
        "\n",
        "iteration: 6300    loss: 0.00709964800626    accuracy: [ 0.33620229  0.00347854]"
       ]
      },
      {
       "output_type": "stream",
       "stream": "stdout",
       "text": [
        "\n",
        "iteration: 6400    loss: 0.106381811202    accuracy: [ 0.  0.]"
       ]
      },
      {
       "output_type": "stream",
       "stream": "stdout",
       "text": [
        "\n",
        "iteration: 6500    loss: 0.0201790072024    accuracy: [ 0.29864961  0.0198785 ]"
       ]
      },
      {
       "output_type": "stream",
       "stream": "stdout",
       "text": [
        "\n",
        "iteration: 6600    loss: 0.00572810089216    accuracy: [ 0.33057433  0.00241596]"
       ]
      },
      {
       "output_type": "stream",
       "stream": "stdout",
       "text": [
        "\n",
        "iteration: 6700    loss: 0.00897372700274    accuracy: [ 0.29419887  0.00517501]"
       ]
      },
      {
       "output_type": "stream",
       "stream": "stdout",
       "text": [
        "\n",
        "iteration: 6800    loss: 0.0158404000103    accuracy: [ 0.23054919  0.0246334 ]"
       ]
      },
      {
       "output_type": "stream",
       "stream": "stdout",
       "text": [
        "\n",
        "iteration: 6900    loss: 0.00552314054221    accuracy: [ 0.2782844   0.00565592]"
       ]
      },
      {
       "output_type": "stream",
       "stream": "stdout",
       "text": [
        "\n",
        "iteration: 7000    loss: 0.00642614345998    accuracy: [ 0.30177891  0.0045968 ]"
       ]
      },
      {
       "output_type": "stream",
       "stream": "stdout",
       "text": [
        "\n",
        "iteration: 7100    loss: 0.00976993888617    accuracy: [ 0.15825601  0.04936244]"
       ]
      },
      {
       "output_type": "stream",
       "stream": "stdout",
       "text": [
        "\n",
        "iteration: 7200    loss: 0.00678884191439    accuracy: [ 0.32588676  0.00442073]"
       ]
      },
      {
       "output_type": "stream",
       "stream": "stdout",
       "text": [
        "\n",
        "iteration: 7300    loss: 0.00689161475748    accuracy: [ 0.34097254  0.00426728]"
       ]
      },
      {
       "output_type": "stream",
       "stream": "stdout",
       "text": [
        "\n",
        "iteration: 7400    loss: 0.0103250090033    accuracy: [ 0.25429904  0.01302271]"
       ]
      },
      {
       "output_type": "stream",
       "stream": "stdout",
       "text": [
        "\n",
        "iteration: 7500    loss: 0.0113692395389    accuracy: [ 0.16878708  0.04675054]"
       ]
      },
      {
       "output_type": "stream",
       "stream": "stdout",
       "text": [
        "\n",
        "iteration: 7600    loss: 0.00587021326646    accuracy: [ 0.30980998  0.0042655 ]"
       ]
      },
      {
       "output_type": "stream",
       "stream": "stdout",
       "text": [
        "\n",
        "iteration: 7700    loss: 0.0258518271148    accuracy: [ 0.05262493  0.29490539]"
       ]
      },
      {
       "output_type": "stream",
       "stream": "stdout",
       "text": [
        "\n",
        "iteration: 7800    loss: 0.0978729724884    accuracy: [ 0.  0.]"
       ]
      },
      {
       "output_type": "stream",
       "stream": "stdout",
       "text": [
        "\n",
        "iteration: 7900    loss: 0.0152877867222    accuracy: [ 0.3155854   0.01519337]"
       ]
      },
      {
       "output_type": "stream",
       "stream": "stdout",
       "text": [
        "\n",
        "iteration: 8000    loss: 0.0064598955214    accuracy: [ 0.31167817  0.0029924 ]"
       ]
      },
      {
       "output_type": "stream",
       "stream": "stdout",
       "text": [
        "\n",
        "iteration: 8100    loss: 0.0110593792051    accuracy: [ 0.38385805  0.00623034]"
       ]
      },
      {
       "output_type": "stream",
       "stream": "stdout",
       "text": [
        "\n",
        "iteration: 8200    loss: 0.00778777571395    accuracy: [ 0.38613418  0.00359093]"
       ]
      },
      {
       "output_type": "stream",
       "stream": "stdout",
       "text": [
        "\n",
        "iteration: 8300    loss: 0.0146024432033    accuracy: [ 0.1223423   0.10441654]"
       ]
      },
      {
       "output_type": "stream",
       "stream": "stdout",
       "text": [
        "\n",
        "iteration: 8400    loss: 0.00927795376629    accuracy: [ 0.36514029  0.00516079]"
       ]
      },
      {
       "output_type": "stream",
       "stream": "stdout",
       "text": [
        "\n",
        "iteration: 8500    loss: 0.123582705855    accuracy: [ 0.23393302  0.02219445]"
       ]
      },
      {
       "output_type": "stream",
       "stream": "stdout",
       "text": [
        "\n",
        "iteration: 8600    loss: 0.448283582926    accuracy: [ 0.27575448  0.77071315]"
       ]
      },
      {
       "output_type": "stream",
       "stream": "stdout",
       "text": [
        "\n",
        "iteration: 8700    loss: 0.00707170180976    accuracy: [ 0.32526216  0.00575712]"
       ]
      },
      {
       "output_type": "stream",
       "stream": "stdout",
       "text": [
        "\n",
        "iteration: 8800    loss: 0.0389359816909    accuracy: [ 0.14378527  0.06784377]"
       ]
      },
      {
       "output_type": "stream",
       "stream": "stdout",
       "text": [
        "\n",
        "iteration: 8900    loss: 0.0086676273495    accuracy: [ 0.25523812  0.01107017]"
       ]
      },
      {
       "output_type": "stream",
       "stream": "stdout",
       "text": [
        "\n",
        "iteration: 9000    loss: 0.0960515961051    accuracy: [ 0.  0.]"
       ]
      },
      {
       "output_type": "stream",
       "stream": "stdout",
       "text": [
        "\n",
        "iteration: 9100    loss: 0.211758494377    accuracy: [ 0.03792288  0.21543778]"
       ]
      },
      {
       "output_type": "stream",
       "stream": "stdout",
       "text": [
        "\n",
        "iteration: 9200    loss: 0.00679376581684    accuracy: [ 0.38956523  0.00282408]"
       ]
      },
      {
       "output_type": "stream",
       "stream": "stdout",
       "text": [
        "\n",
        "iteration: 9300    loss: 0.00792656652629    accuracy: [ 0.21489061  0.01859357]"
       ]
      },
      {
       "output_type": "stream",
       "stream": "stdout",
       "text": [
        "\n",
        "iteration: 9400    loss: 0.365344524384    accuracy: [ 0.20226228  0.56680864]"
       ]
      },
      {
       "output_type": "stream",
       "stream": "stdout",
       "text": [
        "\n",
        "iteration: 9500    loss: 0.00793206878006    accuracy: [ 0.35811728  0.00519367]"
       ]
      },
      {
       "output_type": "stream",
       "stream": "stdout",
       "text": [
        "\n",
        "iteration: 9600    loss: 0.00774132320657    accuracy: [ 0.38206041  0.00421882]"
       ]
      },
      {
       "output_type": "stream",
       "stream": "stdout",
       "text": [
        "\n",
        "iteration: 9700    loss: 0.0113458391279    accuracy: [ 0.41014472  0.00563588]"
       ]
      },
      {
       "output_type": "stream",
       "stream": "stdout",
       "text": [
        "\n",
        "iteration: 9800    loss: 0.0245309267193    accuracy: [ 0.04991425  0.31634527]"
       ]
      },
      {
       "output_type": "stream",
       "stream": "stdout",
       "text": [
        "\n",
        "iteration: 9900    loss: 0.0083586871624    accuracy: [ 0.3452836   0.00484835]"
       ]
      },
      {
       "output_type": "stream",
       "stream": "stdout",
       "text": [
        "\n",
        "iteration: 10000   loss: 0.0279282107949    accuracy: [ 0.41899446  0.01408001]"
       ]
      },
      {
       "output_type": "stream",
       "stream": "stdout",
       "text": [
        "\n",
        "snaping to: /home/qinshuo/WorkPlace/caffe_space/extract_skin/weight/seg_skin_net_fin180000.caffemodel\n",
        "iteration: 100     loss: 0.00897895824164    accuracy: [ 0.39130917  0.00327187]"
       ]
      },
      {
       "output_type": "stream",
       "stream": "stdout",
       "text": [
        "\n",
        "iteration: 200     loss: 0.00712058926001    accuracy: [ 0.38248393  0.00341549]"
       ]
      },
      {
       "output_type": "stream",
       "stream": "stdout",
       "text": [
        "\n",
        "iteration: 300     loss: 0.00813652575016    accuracy: [ 0.40753603  0.00349696]"
       ]
      },
      {
       "output_type": "stream",
       "stream": "stdout",
       "text": [
        "\n",
        "iteration: 400     loss: 0.00786795560271    accuracy: [ 0.35416275  0.00416523]"
       ]
      },
      {
       "output_type": "stream",
       "stream": "stdout",
       "text": [
        "\n",
        "iteration: 500     loss: 0.00737820379436    accuracy: [ 0.35978124  0.0031655 ]"
       ]
      },
      {
       "output_type": "stream",
       "stream": "stdout",
       "text": [
        "\n",
        "iteration: 600     loss: 0.00846749264747    accuracy: [ 0.31788263  0.0071106 ]"
       ]
      },
      {
       "output_type": "stream",
       "stream": "stdout",
       "text": [
        "\n",
        "iteration: 700     loss: 0.0114991031587    accuracy: [ 0.18330649  0.03878915]"
       ]
      },
      {
       "output_type": "stream",
       "stream": "stdout",
       "text": [
        "\n",
        "iteration: 800     loss: 0.00714821275324    accuracy: [ 0.37974316  0.00332944]"
       ]
      },
      {
       "output_type": "stream",
       "stream": "stdout",
       "text": [
        "\n",
        "iteration: 900     loss: 0.0072114886716    accuracy: [ 0.34127936  0.00519225]"
       ]
      },
      {
       "output_type": "stream",
       "stream": "stdout",
       "text": [
        "\n",
        "iteration: 1000    loss: 0.010757740587    accuracy: [ 0.33160964  0.00682311]"
       ]
      },
      {
       "output_type": "stream",
       "stream": "stdout",
       "text": [
        "\n",
        "iteration: 1100    loss: 0.0159047618508    accuracy: [ 0.34713459  0.00520833]"
       ]
      },
      {
       "output_type": "stream",
       "stream": "stdout",
       "text": [
        "\n",
        "iteration: 1200    loss: 0.00854287482798    accuracy: [ 0.34212306  0.00552529]"
       ]
      },
      {
       "output_type": "stream",
       "stream": "stdout",
       "text": [
        "\n",
        "iteration: 1300    loss: 0.00671105179936    accuracy: [ 0.318784    0.00339215]"
       ]
      },
      {
       "output_type": "stream",
       "stream": "stdout",
       "text": [
        "\n",
        "iteration: 1400    loss: 0.0711104497313    accuracy: [ 0.00340048  0.47511312]"
       ]
      },
      {
       "output_type": "stream",
       "stream": "stdout",
       "text": [
        "\n",
        "iteration: 1500    loss: 0.00963553972542    accuracy: [ 0.30647859  0.00494357]"
       ]
      },
      {
       "output_type": "stream",
       "stream": "stdout",
       "text": [
        "\n",
        "iteration: 1600    loss: 0.00714795198292    accuracy: [ 0.39272749  0.00247139]"
       ]
      },
      {
       "output_type": "stream",
       "stream": "stdout",
       "text": [
        "\n",
        "iteration: 1700    loss: 0.0140077117831    accuracy: [ 0.43201584  0.00563677]"
       ]
      },
      {
       "output_type": "stream",
       "stream": "stdout",
       "text": [
        "\n",
        "iteration: 1800    loss: 0.028257638216    accuracy: [ 0.03602653  0.31547114]"
       ]
      },
      {
       "output_type": "stream",
       "stream": "stdout",
       "text": [
        "\n",
        "iteration: 1900    loss: 0.00979897007346    accuracy: [ 0.36496708  0.00558905]"
       ]
      },
      {
       "output_type": "stream",
       "stream": "stdout",
       "text": [
        "\n",
        "iteration: 2000    loss: 0.0057119615376    accuracy: [ 0.35708609  0.00267471]"
       ]
      },
      {
       "output_type": "stream",
       "stream": "stdout",
       "text": [
        "\n",
        "iteration: 2100    loss: 0.00879294518381    accuracy: [ 0.31828368  0.01062143]"
       ]
      },
      {
       "output_type": "stream",
       "stream": "stdout",
       "text": [
        "\n",
        "iteration: 2200    loss: 0.00711701530963    accuracy: [ 0.36435896  0.00326174]"
       ]
      },
      {
       "output_type": "stream",
       "stream": "stdout",
       "text": [
        "\n",
        "iteration: 2300    loss: 0.0143473055214    accuracy: [ 0.40215683  0.00783952]"
       ]
      },
      {
       "output_type": "stream",
       "stream": "stdout",
       "text": [
        "\n",
        "iteration: 2400    loss: 0.00725978286937    accuracy: [ 0.2946282   0.00429379]"
       ]
      },
      {
       "output_type": "stream",
       "stream": "stdout",
       "text": [
        "\n",
        "iteration: 2500    loss: 0.0150367878377    accuracy: [ 0.10624275  0.12546803]"
       ]
      },
      {
       "output_type": "stream",
       "stream": "stdout",
       "text": [
        "\n",
        "iteration: 2600    loss: 0.128098636866    accuracy: [ 0.36416107  0.04114816]"
       ]
      },
      {
       "output_type": "stream",
       "stream": "stdout",
       "text": [
        "\n",
        "iteration: 2700    loss: 0.00884877797216    accuracy: [ 0.35112554  0.00475662]"
       ]
      },
      {
       "output_type": "stream",
       "stream": "stdout",
       "text": [
        "\n",
        "iteration: 2800    loss: 0.00772062689066    accuracy: [ 0.18885025  0.02569602]"
       ]
      },
      {
       "output_type": "stream",
       "stream": "stdout",
       "text": [
        "\n",
        "iteration: 2900    loss: 0.00595149490982    accuracy: [ 0.34000123  0.00319115]"
       ]
      },
      {
       "output_type": "stream",
       "stream": "stdout",
       "text": [
        "\n",
        "iteration: 3000    loss: 0.00774358212948    accuracy: [ 0.36059698  0.00422687]"
       ]
      },
      {
       "output_type": "stream",
       "stream": "stdout",
       "text": [
        "\n",
        "iteration: 3100    loss: 0.00843711290509    accuracy: [ 0.31227562  0.00689309]"
       ]
      },
      {
       "output_type": "stream",
       "stream": "stdout",
       "text": [
        "\n",
        "iteration: 3200    loss: 0.157825857401    accuracy: [ 0.23039116  0.07447853]"
       ]
      },
      {
       "output_type": "stream",
       "stream": "stdout",
       "text": [
        "\n",
        "iteration: 3300    loss: 0.00555763905868    accuracy: [ 0.35526693  0.00278495]"
       ]
      },
      {
       "output_type": "stream",
       "stream": "stdout",
       "text": [
        "\n",
        "iteration: 3400    loss: 0.0182037074119    accuracy: [ 0.31977329  0.00969853]"
       ]
      },
      {
       "output_type": "stream",
       "stream": "stdout",
       "text": [
        "\n",
        "iteration: 3500    loss: 0.00725698377937    accuracy: [ 0.36894971  0.00232047]"
       ]
      },
      {
       "output_type": "stream",
       "stream": "stdout",
       "text": [
        "\n",
        "iteration: 3600    loss: 0.0137669909745    accuracy: [ 0.11327915  0.12405635]"
       ]
      },
      {
       "output_type": "stream",
       "stream": "stdout",
       "text": [
        "\n",
        "iteration: 3700    loss: 0.00600413233042    accuracy: [ 0.3638975   0.00283411]"
       ]
      },
      {
       "output_type": "stream",
       "stream": "stdout",
       "text": [
        "\n",
        "iteration: 3800    loss: 0.00748088769615    accuracy: [ 0.31443831  0.00600185]"
       ]
      },
      {
       "output_type": "stream",
       "stream": "stdout",
       "text": [
        "\n",
        "iteration: 3900    loss: 0.00773355271667    accuracy: [ 0.38024569  0.00352707]"
       ]
      },
      {
       "output_type": "stream",
       "stream": "stdout",
       "text": [
        "\n",
        "iteration: 4000    loss: 0.00608691107482    accuracy: [ 0.35335118  0.00286573]"
       ]
      },
      {
       "output_type": "stream",
       "stream": "stdout",
       "text": [
        "\n",
        "iteration: 4100    loss: 0.0213370546699    accuracy: [ 0.24296373  0.01644281]"
       ]
      },
      {
       "output_type": "stream",
       "stream": "stdout",
       "text": [
        "\n",
        "iteration: 4200    loss: 0.00909753143787    accuracy: [ 0.30351484  0.01234506]"
       ]
      },
      {
       "output_type": "stream",
       "stream": "stdout",
       "text": [
        "\n",
        "iteration: 4300    loss: 0.0845161676407    accuracy: [ 0.  0.]"
       ]
      },
      {
       "output_type": "stream",
       "stream": "stdout",
       "text": [
        "\n",
        "iteration: 4400    loss: 0.011694163084    accuracy: [ 0.37348795  0.00721999]"
       ]
      },
      {
       "output_type": "stream",
       "stream": "stdout",
       "text": [
        "\n",
        "iteration: 4500    loss: 0.00994403846562    accuracy: [ 0.16549934  0.05085332]"
       ]
      },
      {
       "output_type": "stream",
       "stream": "stdout",
       "text": [
        "\n",
        "iteration: 4600    loss: 0.0102039761841    accuracy: [ 0.42181912  0.0038945 ]"
       ]
      },
      {
       "output_type": "stream",
       "stream": "stdout",
       "text": [
        "\n",
        "iteration: 4700    loss: 0.00605316367    accuracy: [ 0.29564095  0.00432861]"
       ]
      },
      {
       "output_type": "stream",
       "stream": "stdout",
       "text": [
        "\n",
        "iteration: 4800    loss: 0.0113123934716    accuracy: [ 0.15935139  0.04924642]"
       ]
      },
      {
       "output_type": "stream",
       "stream": "stdout",
       "text": [
        "\n",
        "iteration: 4900    loss: 0.00747446622699    accuracy: [ 0.38364562  0.0029086 ]"
       ]
      },
      {
       "output_type": "stream",
       "stream": "stdout",
       "text": [
        "\n",
        "iteration: 5000    loss: 0.0150131508708    accuracy: [ 0.39960557  0.00862729]"
       ]
      },
      {
       "output_type": "stream",
       "stream": "stdout",
       "text": [
        "\n",
        "iteration: 5100    loss: 0.087831504643    accuracy: [ 0.00244389  0.44339624]"
       ]
      },
      {
       "output_type": "stream",
       "stream": "stdout",
       "text": [
        "\n",
        "iteration: 5200    loss: 0.00558307487518    accuracy: [ 0.36272794  0.00253791]"
       ]
      },
      {
       "output_type": "stream",
       "stream": "stdout",
       "text": [
        "\n",
        "iteration: 5300    loss: 0.008166779764    accuracy: [ 0.3211005   0.00587871]"
       ]
      },
      {
       "output_type": "stream",
       "stream": "stdout",
       "text": [
        "\n",
        "iteration: 5400    loss: 0.00893484521657    accuracy: [ 0.40504685  0.00448904]"
       ]
      },
      {
       "output_type": "stream",
       "stream": "stdout",
       "text": [
        "\n",
        "iteration: 5500    loss: 0.00696457084268    accuracy: [ 0.33415222  0.00442488]"
       ]
      },
      {
       "output_type": "stream",
       "stream": "stdout",
       "text": [
        "\n",
        "iteration: 5600    loss: 0.0103499265388    accuracy: [ 0.28865868  0.01242524]"
       ]
      },
      {
       "output_type": "stream",
       "stream": "stdout",
       "text": [
        "\n",
        "iteration: 5700    loss: 0.0112943593413    accuracy: [ 0.33924749  0.00572098]"
       ]
      },
      {
       "output_type": "stream",
       "stream": "stdout",
       "text": [
        "\n",
        "iteration: 5800    loss: 0.00577847938985    accuracy: [ 0.30202526  0.00322687]"
       ]
      },
      {
       "output_type": "stream",
       "stream": "stdout",
       "text": [
        "\n",
        "iteration: 5900    loss: 0.00773253757507    accuracy: [ 0.25055796  0.01386432]"
       ]
      },
      {
       "output_type": "stream",
       "stream": "stdout",
       "text": [
        "\n",
        "iteration: 6000    loss: 0.00792098231614    accuracy: [ 0.33631706  0.0050777 ]"
       ]
      },
      {
       "output_type": "stream",
       "stream": "stdout",
       "text": [
        "\n",
        "iteration: 6100    loss: 0.0059516094625    accuracy: [ 0.35782331  0.00276485]"
       ]
      },
      {
       "output_type": "stream",
       "stream": "stdout",
       "text": [
        "\n",
        "iteration: 6200    loss: 0.00681806262583    accuracy: [ 0.23655774  0.00862849]"
       ]
      },
      {
       "output_type": "stream",
       "stream": "stdout",
       "text": [
        "\n",
        "iteration: 6300    loss: 0.00672426773235    accuracy: [ 0.33925501  0.0039527 ]"
       ]
      },
      {
       "output_type": "stream",
       "stream": "stdout",
       "text": [
        "\n",
        "iteration: 6400    loss: 0.0151484804228    accuracy: [ 0.32265368  0.0086166 ]"
       ]
      },
      {
       "output_type": "stream",
       "stream": "stdout",
       "text": [
        "\n",
        "iteration: 6500    loss: 0.00754739716649    accuracy: [ 0.3117429   0.00524638]"
       ]
      },
      {
       "output_type": "stream",
       "stream": "stdout",
       "text": [
        "\n",
        "iteration: 6600    loss: 0.00613139942288    accuracy: [ 0.37621424  0.00245715]"
       ]
      },
      {
       "output_type": "stream",
       "stream": "stdout",
       "text": [
        "\n",
        "iteration: 6700    loss: 0.0115061970428    accuracy: [ 0.33728725  0.00490085]"
       ]
      },
      {
       "output_type": "stream",
       "stream": "stdout",
       "text": [
        "\n",
        "iteration: 6800    loss: 0.00637611560524    accuracy: [ 0.31027305  0.00434536]"
       ]
      },
      {
       "output_type": "stream",
       "stream": "stdout",
       "text": [
        "\n",
        "iteration: 6900    loss: 0.00914466287941    accuracy: [ 0.35317141  0.00469717]"
       ]
      },
      {
       "output_type": "stream",
       "stream": "stdout",
       "text": [
        "\n",
        "iteration: 7000    loss: 0.00951336696744    accuracy: [ 0.35135609  0.00668449]"
       ]
      },
      {
       "output_type": "stream",
       "stream": "stdout",
       "text": [
        "\n",
        "iteration: 7100    loss: 0.0058810878545    accuracy: [ 0.36014527  0.00364762]"
       ]
      },
      {
       "output_type": "stream",
       "stream": "stdout",
       "text": [
        "\n",
        "iteration: 7200    loss: 0.00877046026289    accuracy: [ 0.39588618  0.00388906]"
       ]
      },
      {
       "output_type": "stream",
       "stream": "stdout",
       "text": [
        "\n",
        "iteration: 7300    loss: 0.35672044754    accuracy: [ 0.31312552  0.24622113]"
       ]
      },
      {
       "output_type": "stream",
       "stream": "stdout",
       "text": [
        "\n",
        "iteration: 7400    loss: 0.0179629772902    accuracy: [ 0.08800089  0.18946363]"
       ]
      },
      {
       "output_type": "stream",
       "stream": "stdout",
       "text": [
        "\n",
        "iteration: 7500    loss: 0.0180332548916    accuracy: [ 0.09345465  0.1523111 ]"
       ]
      },
      {
       "output_type": "stream",
       "stream": "stdout",
       "text": [
        "\n",
        "iteration: 7600    loss: 0.00669702375308    accuracy: [ 0.2755726   0.00409199]"
       ]
      },
      {
       "output_type": "stream",
       "stream": "stdout",
       "text": [
        "\n",
        "iteration: 7700    loss: 0.00940500572324    accuracy: [ 0.39064649  0.00488067]"
       ]
      },
      {
       "output_type": "stream",
       "stream": "stdout",
       "text": [
        "\n",
        "iteration: 7800    loss: 0.0100301122293    accuracy: [ 0.28792194  0.00784777]"
       ]
      },
      {
       "output_type": "stream",
       "stream": "stdout",
       "text": [
        "\n",
        "iteration: 7900    loss: 0.0354193672538    accuracy: [ 0.01767785  0.49956709]"
       ]
      },
      {
       "output_type": "stream",
       "stream": "stdout",
       "text": [
        "\n",
        "iteration: 8000    loss: 0.0101231578737    accuracy: [ 0.30598986  0.008335  ]"
       ]
      },
      {
       "output_type": "stream",
       "stream": "stdout",
       "text": [
        "\n",
        "iteration: 8100    loss: 0.0100530479103    accuracy: [ 0.37765405  0.00335183]"
       ]
      },
      {
       "output_type": "stream",
       "stream": "stdout",
       "text": [
        "\n",
        "iteration: 8200    loss: 0.0110056428239    accuracy: [ 0.39803079  0.00423485]"
       ]
      },
      {
       "output_type": "stream",
       "stream": "stdout",
       "text": [
        "\n",
        "iteration: 8300    loss: 0.00739203765988    accuracy: [ 0.33713281  0.00599175]"
       ]
      },
      {
       "output_type": "stream",
       "stream": "stdout",
       "text": [
        "\n",
        "iteration: 8400    loss: 0.00609438912943    accuracy: [ 0.33832914  0.00435646]"
       ]
      },
      {
       "output_type": "stream",
       "stream": "stdout",
       "text": [
        "\n",
        "iteration: 8500    loss: 0.00663085188717    accuracy: [ 0.24038781  0.01106026]"
       ]
      },
      {
       "output_type": "stream",
       "stream": "stdout",
       "text": [
        "\n",
        "iteration: 8600    loss: 0.00884879101068    accuracy: [ 0.35814735  0.00435339]"
       ]
      },
      {
       "output_type": "stream",
       "stream": "stdout",
       "text": [
        "\n",
        "iteration: 8700    loss: 0.00676554720849    accuracy: [ 0.36725411  0.00238323]"
       ]
      },
      {
       "output_type": "stream",
       "stream": "stdout",
       "text": [
        "\n",
        "iteration: 8800    loss: 0.00637625576928    accuracy: [ 0.26800454  0.00567437]"
       ]
      },
      {
       "output_type": "stream",
       "stream": "stdout",
       "text": [
        "\n",
        "iteration: 8900    loss: 0.00632309820503    accuracy: [ 0.35592934  0.00341246]"
       ]
      },
      {
       "output_type": "stream",
       "stream": "stdout",
       "text": [
        "\n",
        "iteration: 9000    loss: 0.00779095245525    accuracy: [ 0.39492914  0.00370421]"
       ]
      },
      {
       "output_type": "stream",
       "stream": "stdout",
       "text": [
        "\n",
        "iteration: 9100    loss: 0.208668008447    accuracy: [ 0.42811045  0.10263769]"
       ]
      },
      {
       "output_type": "stream",
       "stream": "stdout",
       "text": [
        "\n",
        "iteration: 9200    loss: 0.233652919531    accuracy: [ 0.20128131  0.04183855]"
       ]
      },
      {
       "output_type": "stream",
       "stream": "stdout",
       "text": [
        "\n",
        "iteration: 9300    loss: 0.00751877948642    accuracy: [ 0.30568194  0.00572815]"
       ]
      },
      {
       "output_type": "stream",
       "stream": "stdout",
       "text": [
        "\n",
        "iteration: 9400    loss: 0.0154557302594    accuracy: [ 0.47680166  0.00472152]"
       ]
      },
      {
       "output_type": "stream",
       "stream": "stdout",
       "text": [
        "\n",
        "iteration: 9500    loss: 0.00736606214195    accuracy: [ 0.2078186  0.019539 ]"
       ]
      },
      {
       "output_type": "stream",
       "stream": "stdout",
       "text": [
        "\n",
        "iteration: 9600    loss: 0.00701540522277    accuracy: [ 0.350705    0.00255024]"
       ]
      },
      {
       "output_type": "stream",
       "stream": "stdout",
       "text": [
        "\n",
        "iteration: 9700    loss: 0.0156425777823    accuracy: [ 0.29842618  0.00809966]"
       ]
      },
      {
       "output_type": "stream",
       "stream": "stdout",
       "text": [
        "\n",
        "iteration: 9800    loss: 0.00636606942862    accuracy: [ 0.36417264  0.00247597]"
       ]
      },
      {
       "output_type": "stream",
       "stream": "stdout",
       "text": [
        "\n",
        "iteration: 9900    loss: 0.0100573878735    accuracy: [ 0.32451385  0.00773305]"
       ]
      },
      {
       "output_type": "stream",
       "stream": "stdout",
       "text": [
        "\n",
        "iteration: 10000   loss: 0.0143635980785    accuracy: [ 0.3496401   0.00715753]"
       ]
      },
      {
       "output_type": "stream",
       "stream": "stdout",
       "text": [
        "\n",
        "snaping to: /home/qinshuo/WorkPlace/caffe_space/extract_skin/weight/seg_skin_net_fin190000.caffemodel\n"
       ]
      }
     ],
     "prompt_number": 8
    },
    {
     "cell_type": "code",
     "collapsed": false,
     "input": [],
     "language": "python",
     "metadata": {},
     "outputs": []
    }
   ],
   "metadata": {}
  }
 ]
}