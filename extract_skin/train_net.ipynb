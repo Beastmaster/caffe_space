{
 "metadata": {
  "name": "",
  "signature": "sha256:fd921635662bf894f0faa6248b6305422d7f8e452d85f084d5d9fa674f64ea57"
 },
 "nbformat": 3,
 "nbformat_minor": 0,
 "worksheets": [
  {
   "cells": [
    {
     "cell_type": "code",
     "collapsed": false,
     "input": [
      "import numpy as np\n",
      "import matplotlib.pyplot as plt\n",
      "%matplotlib inline\n",
      "\n",
      "\n",
      "import sys\n",
      "# add self-defined python script path\n",
      "sys.path.append('/home/qinshuo/WorkPlace/caffe_space/my_scripts/')\n",
      "import numpy as np\n",
      "caffe_root = '/home/qinshuo/WorkPlace/caffe/'\n",
      "sys.path.insert(0,caffe_root+'python')\n",
      "import caffe\n",
      "\n",
      "\n",
      "# define layer model\n",
      "solver_file = '/home/qinshuo/WorkPlace/caffe_space/extract_skin/config/seg_skin_solver.prototxt'\n",
      "\n",
      "# setup GPU/CPU mode and device number\n",
      "caffe.set_mode_gpu() \n",
      "caffe.set_device(0)\n",
      "\n",
      "solver = caffe.SGDSolver(solver_file)\n",
      "\n",
      "#solver.net.forward()\n",
      "solver.step(1)\n",
      "print \"First forward done..\"\n"
     ],
     "language": "python",
     "metadata": {},
     "outputs": [
      {
       "output_type": "stream",
       "stream": "stdout",
       "text": [
        "/home/qinshuo/WorkPlace/caffe_space/extract_skin/data_list/head_train.txt\n",
        "\n",
        "\n",
        "32\n",
        "1\n",
        "False\n",
        "Train\n",
        "First forward done.."
       ]
      },
      {
       "output_type": "stream",
       "stream": "stdout",
       "text": [
        "\n"
       ]
      }
     ],
     "prompt_number": 1
    },
    {
     "cell_type": "code",
     "collapsed": false,
     "input": [
      "def net_blobs_overview(net):\n",
      "    print \"Net blobs:\"\n",
      "    for k, v in net.blobs.items():\n",
      "        print '{: <15} \\t weights: {:<20} biases :{} '.format(k, net.blobs[k].data.shape,net.blobs[k].data.shape)\n",
      "def net_params_overview(net):\n",
      "    print \"Net params:\"\n",
      "    for k, v in net.params.items():\n",
      "        print '{: <15} \\t weights: {:<20} biases :{} '.format(k, v[0].data.shape,v[1].data.shape)\n",
      "def check_layer_size(net,layer_name):\n",
      "    if layer_name in net.params.keys():\n",
      "        layer = net.params[layer_name]\n",
      "        print \"Layer \\\"{}\\\" size is: {},{}\".format(layer_name,layer[0].data.shape,layer[1].data.shape)\n",
      "    elif layer_name in net.blobs.keys():\n",
      "        layer = net.blobs[layer_name]\n",
      "        print \"Layer \\\"{}\\\" size is: {}\".format(layer_name,layer.data.shape)\n",
      "    else:\n",
      "        print \"Layer \\\"{}\\\" does not exists\".format(layer_name)"
     ],
     "language": "python",
     "metadata": {},
     "outputs": [],
     "prompt_number": 2
    },
    {
     "cell_type": "code",
     "collapsed": false,
     "input": [
      "net_blobs_overview(solver.net)"
     ],
     "language": "python",
     "metadata": {},
     "outputs": [
      {
       "output_type": "stream",
       "stream": "stdout",
       "text": [
        "Net blobs:\n",
        "data            \t weights: (1, 1, 512, 512)     biases :(1, 1, 512, 512) \n",
        "label           \t weights: (1, 1, 512, 512)     biases :(1, 1, 512, 512) \n",
        "label_data_1_split_0 \t weights: (1, 1, 512, 512)     biases :(1, 1, 512, 512) \n",
        "label_data_1_split_1 \t weights: (1, 1, 512, 512)     biases :(1, 1, 512, 512) \n",
        "conv1_1         \t weights: (1, 128, 512, 512)   biases :(1, 128, 512, 512) "
       ]
      },
      {
       "output_type": "stream",
       "stream": "stdout",
       "text": [
        "\n",
        "conv1_2         \t weights: (1, 64, 512, 512)    biases :(1, 64, 512, 512) "
       ]
      },
      {
       "output_type": "stream",
       "stream": "stdout",
       "text": [
        "\n",
        "pool1           \t weights: (1, 64, 256, 256)    biases :(1, 64, 256, 256) \n",
        "conv2_1         \t weights: (1, 128, 256, 256)   biases :(1, 128, 256, 256) \n",
        "conv2_2         \t weights: (1, 128, 256, 256)   biases :(1, 128, 256, 256) "
       ]
      },
      {
       "output_type": "stream",
       "stream": "stdout",
       "text": [
        "\n",
        "pool2           \t weights: (1, 128, 128, 128)   biases :(1, 128, 128, 128) \n",
        "conv3_1         \t weights: (1, 256, 128, 128)   biases :(1, 256, 128, 128) \n",
        "conv3_2         \t weights: (1, 256, 128, 128)   biases :(1, 256, 128, 128) \n",
        "conv3_3         \t weights: (1, 256, 128, 128)   biases :(1, 256, 128, 128) \n",
        "pool3           \t weights: (1, 256, 64, 64)     biases :(1, 256, 64, 64) \n",
        "conv4_1         \t weights: (1, 512, 64, 64)     biases :(1, 512, 64, 64) \n",
        "conv4_2         \t weights: (1, 512, 64, 64)     biases :(1, 512, 64, 64) \n",
        "conv4_3         \t weights: (1, 512, 64, 64)     biases :(1, 512, 64, 64) "
       ]
      },
      {
       "output_type": "stream",
       "stream": "stdout",
       "text": [
        "\n",
        "deconv4_2       \t weights: (1, 512, 64, 64)     biases :(1, 512, 64, 64) \n",
        "deconv4_3       \t weights: (1, 256, 64, 64)     biases :(1, 256, 64, 64) \n",
        "deconv3_1       \t weights: (1, 256, 128, 128)   biases :(1, 256, 128, 128) \n",
        "deconv3_2       \t weights: (1, 256, 128, 128)   biases :(1, 256, 128, 128) \n",
        "deconv3_3       \t weights: (1, 128, 128, 128)   biases :(1, 128, 128, 128) \n",
        "deconv2_1       \t weights: (1, 128, 256, 256)   biases :(1, 128, 256, 256) "
       ]
      },
      {
       "output_type": "stream",
       "stream": "stdout",
       "text": [
        "\n",
        "deconv2_2       \t weights: (1, 64, 256, 256)    biases :(1, 64, 256, 256) \n",
        "deconv1_1       \t weights: (1, 64, 512, 512)    biases :(1, 64, 512, 512) "
       ]
      },
      {
       "output_type": "stream",
       "stream": "stdout",
       "text": [
        "\n",
        "deconv1_2       \t weights: (1, 64, 512, 512)    biases :(1, 64, 512, 512) \n",
        "deconv1_3       \t weights: (1, 64, 512, 512)    biases :(1, 64, 512, 512) "
       ]
      },
      {
       "output_type": "stream",
       "stream": "stdout",
       "text": [
        "\n",
        "seg-score       \t weights: (1, 2, 512, 512)     biases :(1, 2, 512, 512) \n",
        "seg-score_seg-score_0_split_0 \t weights: (1, 2, 512, 512)     biases :(1, 2, 512, 512) \n",
        "seg-score_seg-score_0_split_1 \t weights: (1, 2, 512, 512)     biases :(1, 2, 512, 512) \n",
        "accuracy        \t weights: (2,)                 biases :(2,) \n",
        "loss            \t weights: ()                   biases :() \n"
       ]
      }
     ],
     "prompt_number": 3
    },
    {
     "cell_type": "code",
     "collapsed": false,
     "input": [
      "# helper show filter outputs\n",
      "def show_filters(net,layer_name):\n",
      "    import datetime\n",
      "    print datetime.datetime.now().time()\n",
      "    \n",
      "    net.forward()\n",
      "    # check layer name\n",
      "    try:\n",
      "        layer = net.blobs[layer_name]\n",
      "    except:\n",
      "        print 'Layer name: ',layer_name,' not exists'\n",
      "        return\n",
      "    try:\n",
      "        print 'Layer \\\"{}\\\" size is: {},{},{},{}'.format(layer_name, layer.shape[0], layer.shape[1], layer.shape[2], layer.shape[3])\n",
      "    except:\n",
      "        print 'Net \\\"{}\\\" have no 4 dimensions'.format(layer_name)\n",
      "        return\n",
      "    \n",
      "    plt.figure()\n",
      "    filt_min, filt_max = layer.data.min(), layer.data.max()\n",
      "    for i in range(6):\n",
      "        plt.subplot(2,3,i+1)\n",
      "        try:\n",
      "            plt.title(\"filter #{} output\".format(i))\n",
      "            plt.imshow(net.blobs[layer_name].data[0, i], vmin=filt_min, vmax=filt_max,cmap='gray')\n",
      "            plt.tight_layout()\n",
      "            plt.axis('off')\n",
      "        except:\n",
      "            pass"
     ],
     "language": "python",
     "metadata": {},
     "outputs": [],
     "prompt_number": 4
    },
    {
     "cell_type": "code",
     "collapsed": false,
     "input": [
      "solver.step(1)\n",
      "show_filters(solver.net,'seg-score')\n"
     ],
     "language": "python",
     "metadata": {},
     "outputs": [
      {
       "output_type": "stream",
       "stream": "stdout",
       "text": [
        "21:14:29.586250\n",
        "Layer \"seg-score\" size is: 1,2,512,512"
       ]
      },
      {
       "output_type": "stream",
       "stream": "stdout",
       "text": [
        "\n"
       ]
      },
      {
       "metadata": {},
       "output_type": "display_data",
       "png": "[encoded data removed]",
       "text": [
        "<matplotlib.figure.Figure at 0x7f3489ceca50>"
       ]
      }
     ],
     "prompt_number": 5
    },
    {
     "cell_type": "code",
     "collapsed": false,
     "input": [
      "def forward_steps(solver,step):\n",
      "    for i in range(step):\n",
      "        solver.step(1)\n",
      "        p_step = 200\n",
      "        if (i+1)%p_step == 0:\n",
      "            train_loss = solver.net.blobs['loss'].data\n",
      "            train_acc  = solver.net.blobs['accuracy'].data\n",
      "            print \"iteration: {}   loss: {}    accuracy: {}\".format(str(i),str(train_loss),train_acc)\n",
      "    import datetime\n",
      "    print datetime.datetime.now().time()\n",
      "    print \"Iteration {} done!\".format(step)"
     ],
     "language": "python",
     "metadata": {},
     "outputs": [],
     "prompt_number": 6
    },
    {
     "cell_type": "code",
     "collapsed": false,
     "input": [
      "forward_steps(solver,5000)\n",
      "# save pre-trained model\n",
      "solver.net.save('/home/qinshuo/WorkPlace/caffe_space/extract_skin/weight/seg_skin1.caffemodel')\n",
      "\n",
      "forward_steps(solver,10000)\n",
      "# save pre-trained model\n",
      "solver.net.save('/home/qinshuo/WorkPlace/caffe_space/extract_skin/weight/seg_skin2.caffemodel')\n",
      "\n",
      "forward_steps(solver,10000)\n",
      "# save pre-trained model\n",
      "solver.net.save('/home/qinshuo/WorkPlace/caffe_space/extract_skin/weight/seg_skin3.caffemodel')\n",
      "\n",
      "forward_steps(solver,10000)\n",
      "# save pre-trained model\n",
      "solver.net.save('/home/qinshuo/WorkPlace/caffe_space/extract_skin/weight/seg_skin4.caffemodel')"
     ],
     "language": "python",
     "metadata": {},
     "outputs": []
    },
    {
     "cell_type": "code",
     "collapsed": false,
     "input": [
      "forward_steps(solver,10000)\n",
      "# save pre-trained model\n",
      "solver.net.save('/home/qinshuo/WorkPlace/caffe_space/extract_skin/weight/seg_skin4.caffemodel')"
     ],
     "language": "python",
     "metadata": {},
     "outputs": []
    },
    {
     "cell_type": "code",
     "collapsed": false,
     "input": [],
     "language": "python",
     "metadata": {},
     "outputs": []
    }
   ],
   "metadata": {}
  }
 ]
}