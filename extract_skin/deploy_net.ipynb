{
 "metadata": {
  "name": "",
  "signature": "sha256:246d7ceb5a4b1952e7a3065b2606387e21e5e11081cb388a98e76cb89e405e04"
 },
 "nbformat": 3,
 "nbformat_minor": 0,
 "worksheets": [
  {
   "cells": [
    {
     "cell_type": "code",
     "collapsed": false,
     "input": [
      "import numpy as np\n",
      "import matplotlib.pyplot as plt\n",
      "%matplotlib inline\n",
      "\n",
      "import sys\n",
      "# add self-defined python script path\n",
      "sys.path.append('/home/qinshuo/WorkPlace/caffe_space/my_scripts/')\n",
      "import numpy as np\n",
      "caffe_root = '/home/qinshuo/WorkPlace/caffe/'\n",
      "sys.path.insert(0,caffe_root+'python')\n",
      "import caffe\n",
      "\n",
      "# setup GPU/CPU mode and device number\n",
      "caffe.set_mode_gpu() \n",
      "caffe.set_device(0)\n",
      "\n",
      "net_def = '/home/qinshuo/WorkPlace/caffe_space/extract_skin/config/seg_skin_deploy.prototxt'\n",
      "weight = '/home/qinshuo/WorkPlace/caffe_space/extract_skin/weight/seg_skin3.caffemodel'"
     ],
     "language": "python",
     "metadata": {},
     "outputs": [],
     "prompt_number": 1
    },
    {
     "cell_type": "code",
     "collapsed": false,
     "input": [
      "# Load the fully convolutional network to transplant the parameters.\n",
      "net = caffe.Net(net_def, weight,caffe.TEST)\n",
      "#[(k, v.data.shape) for k, v in net.blobs.items()]\n",
      "#[(k, v[0].data.shape,v[1].data.shape) for k, v in net.params.items()]"
     ],
     "language": "python",
     "metadata": {},
     "outputs": [],
     "prompt_number": 2
    },
    {
     "cell_type": "code",
     "collapsed": false,
     "input": [
      "# show image\n",
      "def show_image(*img_arrays):\n",
      "    num = len(img_arrays)\n",
      "    plt.figure(figsize=[20,5])\n",
      "    for i in range(num):\n",
      "        plt.subplot(num/4 + 1,4,i+1)\n",
      "        data = img_arrays[i]\n",
      "        filt_min, filt_max = data.min(), data.max()\n",
      "        try:\n",
      "            plt.title(\"filter #{} output\".format(i))\n",
      "            plt.imshow(data, vmin=filt_min, vmax=filt_max,cmap=\"gray\")\n",
      "            plt.tight_layout()\n",
      "            plt.axis('off')\n",
      "        except:\n",
      "            print \"index {} cannot display\".format(i)\n",
      "            pass\n",
      "\n",
      "# read a image, convert to gray image\n",
      "def load_img(name,size=[512,512]):\n",
      "    from PIL import Image\n",
      "    test_img = Image.open(name)\n",
      "    test_img = test_img.convert('L')\n",
      "    test_img = test_img.resize(size,Image.NEAREST)\n",
      "    return np.array(test_img, dtype=np.float32)\n",
      "    "
     ],
     "language": "python",
     "metadata": {},
     "outputs": [],
     "prompt_number": 3
    },
    {
     "cell_type": "code",
     "collapsed": false,
     "input": [
      "def load_and_forward(ff):\n",
      "    global net\n",
      "    # expand dimension\n",
      "    test_img_array = np.expand_dims(load_img(ff),axis = 0) \n",
      "    # forward this the net\n",
      "    out = net.forward_all(data=test_img_array)\n",
      "    data = net.blobs['data'].data\n",
      "    conv1_1 = net.blobs['deconv4_3'].data\n",
      "    output = out['prob']\n",
      "    output[output>=0.1]=1\n",
      "    return output[0][1]"
     ],
     "language": "python",
     "metadata": {},
     "outputs": [],
     "prompt_number": 4
    },
    {
     "cell_type": "code",
     "collapsed": false,
     "input": [
      "import os\n",
      "test_dir = '/media/D/GE_qinshuo/train/test'\n",
      "test_truth_dir = '/media/D/GE_qinshuo/train/test_truth'\n",
      "\n",
      "import glob\n",
      "test_list = sorted(glob.glob(test_dir+'/*.png'))\n",
      "truth_list = sorted(glob.glob(test_truth_dir+'/*.png'))\n",
      "\n",
      "for test,truth in zip(test_list,truth_list):\n",
      "    test_img = load_img(test)\n",
      "    test_truth = load_img(truth)\n",
      "    test_result = load_and_forward(test)\n",
      "    show_image(test_img,test_truth,test_result)\n"
     ],
     "language": "python",
     "metadata": {},
     "outputs": []
    },
    {
     "cell_type": "code",
     "collapsed": false,
     "input": [
      "\n"
     ],
     "language": "python",
     "metadata": {},
     "outputs": [],
     "prompt_number": 7
    },
    {
     "cell_type": "code",
     "collapsed": false,
     "input": [],
     "language": "python",
     "metadata": {},
     "outputs": []
    }
   ],
   "metadata": {}
  }
 ]
}