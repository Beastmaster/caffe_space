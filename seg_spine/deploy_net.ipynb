{
 "metadata": {
  "name": "",
  "signature": "sha256:f5d16045b294cc7922b2d9864fbef0ce2e19f0470cdf891b780b625bd8cb1e66"
 },
 "nbformat": 3,
 "nbformat_minor": 0,
 "worksheets": [
  {
   "cells": [
    {
     "cell_type": "code",
     "collapsed": false,
     "input": [
      "import numpy as np\n",
      "import matplotlib.pyplot as plt\n",
      "%matplotlib inline\n",
      "\n",
      "import sys\n",
      "# add self-defined python script path\n",
      "sys.path.append('/home/qinshuo/WorkPlace/caffe_space/my_scripts/')\n",
      "import numpy as np\n",
      "caffe_root = '/home/qinshuo/WorkPlace/caffe/'\n",
      "sys.path.insert(0,caffe_root+'python')\n",
      "import caffe\n",
      "\n",
      "# setup GPU/CPU mode and device number\n",
      "caffe.set_mode_gpu() \n",
      "caffe.set_device(0)\n",
      "\n",
      "net_def = '/home/qinshuo/WorkPlace/seg_spine/config_py/seg_spine_deploy.1.prototxt'\n",
      "weight = 'seg_spine_net4.caffemodel'"
     ],
     "language": "python",
     "metadata": {},
     "outputs": [],
     "prompt_number": 1
    },
    {
     "cell_type": "code",
     "collapsed": false,
     "input": [
      "# Load the fully convolutional network to transplant the parameters.\n",
      "net = caffe.Net(net_def, weight,caffe.TEST)\n",
      "#[(k, v.data.shape) for k, v in net.blobs.items()]\n",
      "#[(k, v[0].data.shape,v[1].data.shape) for k, v in net.params.items()]"
     ],
     "language": "python",
     "metadata": {},
     "outputs": [],
     "prompt_number": 2
    },
    {
     "cell_type": "code",
     "collapsed": false,
     "input": [
      "# show image\n",
      "def show_image(*img_arrays):\n",
      "    num = len(img_arrays)\n",
      "    plt.figure()\n",
      "    for i in range(num):\n",
      "        plt.subplot(num/4 + 1,4,i+1)\n",
      "        data = img_arrays[i]\n",
      "        filt_min, filt_max = data.min(), data.max()\n",
      "        try:\n",
      "            plt.title(\"filter #{} output\".format(i))\n",
      "            plt.imshow(data, vmin=filt_min, vmax=filt_max,cmap=\"gray\")\n",
      "            plt.tight_layout()\n",
      "            plt.axis('off')\n",
      "        except:\n",
      "            print \"index {} cannot display\".format(i)\n",
      "            pass\n",
      "\n",
      "# read a image, convert to gray image\n",
      "def load_img(name,size=[512,512]):\n",
      "    from PIL import Image\n",
      "    test_img = Image.open(name)\n",
      "    test_img = test_img.convert('L')\n",
      "    test_img = test_img.resize(size,Image.NEAREST)\n",
      "    return np.array(test_img, dtype=np.float32)\n",
      "    "
     ],
     "language": "python",
     "metadata": {},
     "outputs": [],
     "prompt_number": 3
    },
    {
     "cell_type": "code",
     "collapsed": false,
     "input": [
      "# expand dimension\n",
      "test_name = '/media/D/SpineDataset/spine_seg/test/St116.jpg'\n",
      "test_truth = '/media/D/SpineDataset/spine_seg/test_truth/St1_mask16.png'\n",
      "\n",
      "test_img_array = np.expand_dims(load_img(test_name),axis = 0) "
     ],
     "language": "python",
     "metadata": {},
     "outputs": [],
     "prompt_number": 19
    },
    {
     "cell_type": "code",
     "collapsed": false,
     "input": [
      "# forward this the net\n",
      "out = net.forward_all(data=test_img_array)\n",
      "print 'forward done'"
     ],
     "language": "python",
     "metadata": {},
     "outputs": [
      {
       "output_type": "stream",
       "stream": "stdout",
       "text": [
        "forward done\n"
       ]
      }
     ],
     "prompt_number": 20
    },
    {
     "cell_type": "code",
     "collapsed": false,
     "input": [
      "data = net.blobs['data'].data\n",
      "conv1_1 = net.blobs['deconv4_3'].data\n",
      "output = out['prob']\n",
      "\n",
      "output[output>=0.1]=1\n",
      "\n",
      "show_image(load_img(test_name),load_img(test_truth),output[0][1])"
     ],
     "language": "python",
     "metadata": {},
     "outputs": [
      {
       "metadata": {},
       "output_type": "display_data",
       "png": "[encoded data removed]",
       "text": [
        "<matplotlib.figure.Figure at 0x7f9a024f1490>"
       ]
      }
     ],
     "prompt_number": 21
    },
    {
     "cell_type": "code",
     "collapsed": false,
     "input": [
      "\n"
     ],
     "language": "python",
     "metadata": {},
     "outputs": [],
     "prompt_number": 47
    }
   ],
   "metadata": {}
  }
 ]
}