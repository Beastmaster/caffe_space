{
 "metadata": {
  "name": "",
  "signature": "sha256:bab76e9f8c2f96da49f075e5249f3dd6623959e3a0215ff002aa5b1d884b5322"
 },
 "nbformat": 3,
 "nbformat_minor": 0,
 "worksheets": [
  {
   "cells": [
    {
     "cell_type": "code",
     "collapsed": false,
     "input": [
      "import numpy as np\n",
      "import matplotlib.pyplot as plt\n",
      "%matplotlib inline\n",
      "\n",
      "\n",
      "import sys\n",
      "# add self-defined python script path\n",
      "sys.path.append('/home/qinshuo/WorkPlace/caffe_space/my_scripts/')\n",
      "import numpy as np\n",
      "caffe_root = '/home/qinshuo/WorkPlace/caffe/'\n",
      "sys.path.insert(0,caffe_root+'python')\n",
      "import caffe\n",
      "\n",
      "\n",
      "# define layer model\n",
      "solver_file = '/home/qinshuo/WorkPlace/caffe_space/seg_spine/config/seg_spine_solver.prototxt'\n",
      "# net defination file is configured in solver.prototxt\n",
      "#model_def = '/home/qinshuo/WorkPlace/seg_spine/config_py/corresponding.prototxt'\n",
      "#model_def = '/home/qinshuo/WorkPlace/seg_spine/config_py/seg_spine.prototxt'\n",
      "\n",
      "# setup GPU/CPU mode and device number\n",
      "caffe.set_mode_gpu() \n",
      "caffe.set_device(0)\n",
      "\n",
      "solver = caffe.SGDSolver(solver_file)\n",
      "\n",
      "# check net layers\n",
      "print(\"blobs {}\\nparams {}\".format(solver.net.blobs.keys(), solver.net.params.keys()))\n"
     ],
     "language": "python",
     "metadata": {},
     "outputs": [
      {
       "output_type": "stream",
       "stream": "stdout",
       "text": [
        "/home/qinshuo/WorkPlace/seg_spine/list/train_list.txt\n",
        "/media/D/SpineDataset/spine_seg\n",
        "/media/D/SpineDataset/spine_seg\n",
        "10\n",
        "1\n",
        "False\n",
        "Train\n",
        "blobs ['data', 'label', 'label_data_1_split_0', 'label_data_1_split_1', 'conv1_1', 'conv1_2', 'pool1', 'conv2_1', 'conv2_2', 'pool2', 'conv3_1', 'conv3_2', 'conv3_3', 'pool3', 'conv4_1', 'conv4_2', 'conv4_3', 'pool4', 'conv5_1', 'conv5_2', 'conv5_3', 'deconv5_2', 'deconv5_3', 'deconv4_1', 'deconv4_2', 'deconv4_3', 'deconv3_1', 'deconv3_2', 'deconv3_3', 'deconv2_1', 'deconv2_2', 'deconv1_1', 'deconv1_2', 'seg-score', 'seg-score_seg-score_0_split_0', 'seg-score_seg-score_0_split_1', 'accuracy', 'loss']\n",
        "params ['conv1_1', 'conv1_1-bn', 'conv1_2', 'conv1_2-bn', 'conv2_1', 'conv2_1-bn', 'conv2_2', 'conv3_1', 'conv3_1-bn', 'conv3_2', 'conv3_2-bn', 'conv3_3', 'conv3_3-bn', 'conv4_1', 'conv4_1-bn', 'conv4_2', 'conv4_2-bn', 'conv4_3', 'conv4_3-bn', 'conv5_1', 'conv5_1-bn', 'conv5_2', 'conv5_2-bn', 'conv5_3', 'conv5_3-bn', 'deconv5_2', 'deconv5_2-bn', 'deconv5_3', 'deconv5_3-bn', 'deconv4_1', 'deconv4_2', 'deconv4_2-bn', 'deconv4_3', 'deconv4_3-bn', 'deconv3_1', 'deconv3_1-bn', 'deconv3_2', 'deconv3_2-bn', 'deconv3_3', 'deconv2_1', 'deconv2_2', 'deconv2_2-bn', 'deconv1_1', 'deconv1_2', 'deconv1_2-bn', 'seg-score']"
       ]
      },
      {
       "output_type": "stream",
       "stream": "stdout",
       "text": [
        "\n"
       ]
      }
     ],
     "prompt_number": 1
    },
    {
     "cell_type": "code",
     "collapsed": false,
     "input": [
      "#solver.net.forward()\n",
      "solver.step(1)\n",
      "print \"First forward done..\"\n"
     ],
     "language": "python",
     "metadata": {},
     "outputs": [
      {
       "output_type": "stream",
       "stream": "stdout",
       "text": [
        "First forward done..\n"
       ]
      }
     ],
     "prompt_number": 2
    },
    {
     "cell_type": "code",
     "collapsed": false,
     "input": [
      "def net_blobs_overview(net):\n",
      "    print \"Net blobs:\"\n",
      "    for k, v in net.blobs.items():\n",
      "        print '{: <15} \\t weights: {:<20} biases :{} '.format(k, net.blobs[k].data.shape,net.blobs[k].data.shape)\n",
      "def net_params_overview(net):\n",
      "    print \"Net params:\"\n",
      "    for k, v in net.params.items():\n",
      "        print '{: <15} \\t weights: {:<20} biases :{} '.format(k, v[0].data.shape,v[1].data.shape)\n",
      "def check_layer_size(net,layer_name):\n",
      "    if layer_name in net.params.keys():\n",
      "        layer = net.params[layer_name]\n",
      "        print \"Layer \\\"{}\\\" size is: {},{}\".format(layer_name,layer[0].data.shape,layer[1].data.shape)\n",
      "    elif layer_name in net.blobs.keys():\n",
      "        layer = net.blobs[layer_name]\n",
      "        print \"Layer \\\"{}\\\" size is: {}\".format(layer_name,layer.data.shape)\n",
      "    else:\n",
      "        print \"Layer \\\"{}\\\" does not exists\".format(layer_name)"
     ],
     "language": "python",
     "metadata": {},
     "outputs": [],
     "prompt_number": 3
    },
    {
     "cell_type": "code",
     "collapsed": false,
     "input": [
      "net_blobs_overview(solver.net)"
     ],
     "language": "python",
     "metadata": {},
     "outputs": [
      {
       "output_type": "stream",
       "stream": "stdout",
       "text": [
        "Net blobs:\n",
        "data            \t weights: (1, 1, 512, 512)     biases :(1, 1, 512, 512) \n",
        "label           \t weights: (1, 1, 512, 512)     biases :(1, 1, 512, 512) \n",
        "label_data_1_split_0 \t weights: (1, 1, 512, 512)     biases :(1, 1, 512, 512) \n",
        "label_data_1_split_1 \t weights: (1, 1, 512, 512)     biases :(1, 1, 512, 512) \n",
        "conv1_1         \t weights: (1, 128, 512, 512)   biases :(1, 128, 512, 512) "
       ]
      },
      {
       "output_type": "stream",
       "stream": "stdout",
       "text": [
        "\n",
        "conv1_2         \t weights: (1, 64, 512, 512)    biases :(1, 64, 512, 512) "
       ]
      },
      {
       "output_type": "stream",
       "stream": "stdout",
       "text": [
        "\n",
        "pool1           \t weights: (1, 64, 256, 256)    biases :(1, 64, 256, 256) \n",
        "conv2_1         \t weights: (1, 128, 256, 256)   biases :(1, 128, 256, 256) \n",
        "conv2_2         \t weights: (1, 128, 256, 256)   biases :(1, 128, 256, 256) "
       ]
      },
      {
       "output_type": "stream",
       "stream": "stdout",
       "text": [
        "\n",
        "pool2           \t weights: (1, 128, 128, 128)   biases :(1, 128, 128, 128) \n",
        "conv3_1         \t weights: (1, 256, 128, 128)   biases :(1, 256, 128, 128) \n",
        "conv3_2         \t weights: (1, 256, 128, 128)   biases :(1, 256, 128, 128) \n",
        "conv3_3         \t weights: (1, 256, 128, 128)   biases :(1, 256, 128, 128) \n",
        "pool3           \t weights: (1, 256, 64, 64)     biases :(1, 256, 64, 64) \n",
        "conv4_1         \t weights: (1, 512, 64, 64)     biases :(1, 512, 64, 64) "
       ]
      },
      {
       "output_type": "stream",
       "stream": "stdout",
       "text": [
        "\n",
        "conv4_2         \t weights: (1, 512, 64, 64)     biases :(1, 512, 64, 64) \n",
        "conv4_3         \t weights: (1, 512, 64, 64)     biases :(1, 512, 64, 64) \n",
        "pool4           \t weights: (1, 512, 32, 32)     biases :(1, 512, 32, 32) \n",
        "conv5_1         \t weights: (1, 512, 32, 32)     biases :(1, 512, 32, 32) \n",
        "conv5_2         \t weights: (1, 512, 32, 32)     biases :(1, 512, 32, 32) \n",
        "conv5_3         \t weights: (1, 512, 32, 32)     biases :(1, 512, 32, 32) \n",
        "deconv5_2       \t weights: (1, 512, 32, 32)     biases :(1, 512, 32, 32) \n",
        "deconv5_3       \t weights: (1, 512, 32, 32)     biases :(1, 512, 32, 32) \n",
        "deconv4_1       \t weights: (1, 512, 64, 64)     biases :(1, 512, 64, 64) \n",
        "deconv4_2       \t weights: (1, 512, 64, 64)     biases :(1, 512, 64, 64) \n",
        "deconv4_3       \t weights: (1, 256, 64, 64)     biases :(1, 256, 64, 64) \n",
        "deconv3_1       \t weights: (1, 256, 128, 128)   biases :(1, 256, 128, 128) \n",
        "deconv3_2       \t weights: (1, 256, 128, 128)   biases :(1, 256, 128, 128) "
       ]
      },
      {
       "output_type": "stream",
       "stream": "stdout",
       "text": [
        "\n",
        "deconv3_3       \t weights: (1, 128, 128, 128)   biases :(1, 128, 128, 128) \n",
        "deconv2_1       \t weights: (1, 128, 256, 256)   biases :(1, 128, 256, 256) \n",
        "deconv2_2       \t weights: (1, 64, 256, 256)    biases :(1, 64, 256, 256) \n",
        "deconv1_1       \t weights: (1, 64, 512, 512)    biases :(1, 64, 512, 512) "
       ]
      },
      {
       "output_type": "stream",
       "stream": "stdout",
       "text": [
        "\n",
        "deconv1_2       \t weights: (1, 64, 512, 512)    biases :(1, 64, 512, 512) \n",
        "seg-score       \t weights: (1, 2, 512, 512)     biases :(1, 2, 512, 512) \n",
        "seg-score_seg-score_0_split_0 \t weights: (1, 2, 512, 512)     biases :(1, 2, 512, 512) \n",
        "seg-score_seg-score_0_split_1 \t weights: (1, 2, 512, 512)     biases :(1, 2, 512, 512) \n",
        "accuracy        \t weights: (2,)                 biases :(2,) \n",
        "loss            \t weights: ()                   biases :() \n"
       ]
      }
     ],
     "prompt_number": 4
    },
    {
     "cell_type": "code",
     "collapsed": false,
     "input": [
      "# helper show filter outputs\n",
      "def show_filters(net,layer_name):\n",
      "    import datetime\n",
      "    print datetime.datetime.now().time()\n",
      "    \n",
      "    net.forward()\n",
      "    # check layer name\n",
      "    try:\n",
      "        layer = net.blobs[layer_name]\n",
      "    except:\n",
      "        print 'Layer name: ',layer_name,' not exists'\n",
      "        return\n",
      "    try:\n",
      "        print 'Layer \\\"{}\\\" size is: {},{},{},{}'.format(layer_name, layer.shape[0], layer.shape[1], layer.shape[2], layer.shape[3])\n",
      "    except:\n",
      "        print 'Net \\\"{}\\\" have no 4 dimensions'.format(layer_name)\n",
      "        return\n",
      "    \n",
      "    plt.figure()\n",
      "    filt_min, filt_max = layer.data.min(), layer.data.max()\n",
      "    for i in range(6):\n",
      "        plt.subplot(2,3,i+1)\n",
      "        try:\n",
      "            plt.title(\"filter #{} output\".format(i))\n",
      "            plt.imshow(net.blobs[layer_name].data[0, i], vmin=filt_min, vmax=filt_max)\n",
      "            plt.tight_layout()\n",
      "            plt.axis('off')\n",
      "        except:\n",
      "            pass"
     ],
     "language": "python",
     "metadata": {},
     "outputs": [],
     "prompt_number": 5
    },
    {
     "cell_type": "code",
     "collapsed": false,
     "input": [
      "solver.step(1)\n",
      "show_filters(solver.net,'seg-score')\n"
     ],
     "language": "python",
     "metadata": {},
     "outputs": [
      {
       "output_type": "stream",
       "stream": "stdout",
       "text": [
        "16:13:27.845358\n",
        "Layer \"seg-score\" size is: 1,2,512,512"
       ]
      },
      {
       "output_type": "stream",
       "stream": "stdout",
       "text": [
        "\n"
       ]
      },
      {
       "metadata": {},
       "output_type": "display_data",
       "png": "[encoded data removed]",
       "text": [
        "<matplotlib.figure.Figure at 0x7fdecde66810>"
       ]
      }
     ],
     "prompt_number": 6
    },
    {
     "cell_type": "code",
     "collapsed": false,
     "input": [
      "def forward_steps(solver,step):\n",
      "    for i in range(step):\n",
      "        solver.step(1)\n",
      "        p_step = 200\n",
      "        if (i+1)%p_step == 0:\n",
      "            train_loss = solver.net.blobs['loss'].data\n",
      "            train_acc  = solver.net.blobs['accuracy'].data\n",
      "            print \"iteration: {}   loss: {}    accuracy: {}\".format(str(i),str(train_loss),train_acc)\n",
      "    import datetime\n",
      "    print datetime.datetime.now().time()\n",
      "    print \"Iteration {} done!\".format(step)"
     ],
     "language": "python",
     "metadata": {},
     "outputs": [],
     "prompt_number": 7
    },
    {
     "cell_type": "code",
     "collapsed": false,
     "input": [
      "forward_steps(solver,5000)\n",
      "# save pre-trained model\n",
      "solver.net.save('/home/qinshuo/WorkPlace/caffe_space/seg_spine/weight/seg_spine_net1.caffemodel')\n",
      "\n",
      "forward_steps(solver,10000)\n",
      "# save pre-trained model\n",
      "solver.net.save('/home/qinshuo/WorkPlace/caffe_space/seg_spine/weight/seg_spine_net1.caffemodel')\n",
      "\n",
      "forward_steps(solver,10000)\n",
      "# save pre-trained model\n",
      "solver.net.save('/home/qinshuo/WorkPlace/caffe_space/seg_spine/weight/seg_spine_net1.caffemodel')\n",
      "\n",
      "forward_steps(solver,10000)\n",
      "# save pre-trained model\n",
      "solver.net.save('/home/qinshuo/WorkPlace/caffe_space/seg_spine/weight/seg_spine_net1.caffemodel')"
     ],
     "language": "python",
     "metadata": {},
     "outputs": [
      {
       "output_type": "stream",
       "stream": "stdout",
       "text": [
        "iteration: 199   loss: 0.0575500801206    accuracy: [ 1.          0.00590313]\n",
        "iteration: 399   loss: 0.00903396774083    accuracy: [  1.00000000e+00   4.33424022e-04]"
       ]
      },
      {
       "output_type": "stream",
       "stream": "stdout",
       "text": [
        "\n",
        "iteration: 599   loss: 0.0210411176085    accuracy: [ 1.          0.00159106]"
       ]
      },
      {
       "output_type": "stream",
       "stream": "stdout",
       "text": [
        "\n",
        "iteration: 799   loss: 0.017876425758    accuracy: [  1.00000000e+00   7.37494789e-04]"
       ]
      },
      {
       "output_type": "stream",
       "stream": "stdout",
       "text": [
        "\n",
        "iteration: 999   loss: 0.0338116176426    accuracy: [ 1.          0.00319879]"
       ]
      },
      {
       "output_type": "stream",
       "stream": "stdout",
       "text": [
        "\n",
        "iteration: 1199   loss: 0.0206104815006    accuracy: [  1.00000000e+00   6.10326242e-04]"
       ]
      },
      {
       "output_type": "stream",
       "stream": "stdout",
       "text": [
        "\n",
        "iteration: 1399   loss: 0.0147747630253    accuracy: [  1.00000000e+00   6.36705256e-04]"
       ]
      },
      {
       "output_type": "stream",
       "stream": "stdout",
       "text": [
        "\n",
        "iteration: 1599   loss: 0.000787258904893    accuracy: [ 1.  0.]"
       ]
      },
      {
       "output_type": "stream",
       "stream": "stdout",
       "text": [
        "\n",
        "iteration: 1799   loss: 0.0142111303285    accuracy: [  1.00000000e+00   4.19585296e-04]"
       ]
      },
      {
       "output_type": "stream",
       "stream": "stdout",
       "text": [
        "\n",
        "iteration: 1999   loss: 0.0099275065586    accuracy: [  1.00000000e+00   4.05369414e-04]"
       ]
      },
      {
       "output_type": "stream",
       "stream": "stdout",
       "text": [
        "\n",
        "iteration: 2199   loss: 0.0109962150455    accuracy: [  1.00000000e+00   6.74527138e-04]"
       ]
      },
      {
       "output_type": "stream",
       "stream": "stdout",
       "text": [
        "\n",
        "iteration: 2399   loss: 0.00841691158712    accuracy: [  1.00000000e+00   4.42803284e-04]"
       ]
      },
      {
       "output_type": "stream",
       "stream": "stdout",
       "text": [
        "\n",
        "iteration: 2599   loss: 0.000890531460755    accuracy: [ 1.  0.]"
       ]
      },
      {
       "output_type": "stream",
       "stream": "stdout",
       "text": [
        "\n",
        "iteration: 2799   loss: 0.00802012905478    accuracy: [  1.00000000e+00   4.42164834e-04]"
       ]
      },
      {
       "output_type": "stream",
       "stream": "stdout",
       "text": [
        "\n",
        "iteration: 2999   loss: 0.00914250779897    accuracy: [  1.00000000e+00   1.62412369e-04]"
       ]
      },
      {
       "output_type": "stream",
       "stream": "stdout",
       "text": [
        "\n",
        "iteration: 3199   loss: 0.00275290152058    accuracy: [ 1.  0.]"
       ]
      },
      {
       "output_type": "stream",
       "stream": "stdout",
       "text": [
        "\n",
        "iteration: 3399   loss: 0.00683876127005    accuracy: [  1.00000000e+00   3.15308222e-04]"
       ]
      },
      {
       "output_type": "stream",
       "stream": "stdout",
       "text": [
        "\n",
        "iteration: 3599   loss: 0.0066293021664    accuracy: [  1.00000000e+00   2.65245879e-04]"
       ]
      },
      {
       "output_type": "stream",
       "stream": "stdout",
       "text": [
        "\n",
        "iteration: 3799   loss: 0.000357823591912    accuracy: [ 1.  0.]"
       ]
      },
      {
       "output_type": "stream",
       "stream": "stdout",
       "text": [
        "\n",
        "iteration: 3999   loss: 0.00619513122365    accuracy: [  1.00000000e+00   2.99579435e-04]"
       ]
      },
      {
       "output_type": "stream",
       "stream": "stdout",
       "text": [
        "\n",
        "iteration: 4199   loss: 0.006497643888    accuracy: [  1.00000000e+00   3.30268755e-04]"
       ]
      },
      {
       "output_type": "stream",
       "stream": "stdout",
       "text": [
        "\n",
        "iteration: 4399   loss: 0.000942598329857    accuracy: [  1.00000000e+00   1.52945540e-05]"
       ]
      },
      {
       "output_type": "stream",
       "stream": "stdout",
       "text": [
        "\n",
        "iteration: 4599   loss: 0.00523140514269    accuracy: [  1.00000000e+00   3.33346106e-04]"
       ]
      },
      {
       "output_type": "stream",
       "stream": "stdout",
       "text": [
        "\n",
        "iteration: 4799   loss: 0.00483764475212    accuracy: [  1.00000000e+00   1.45837490e-04]"
       ]
      },
      {
       "output_type": "stream",
       "stream": "stdout",
       "text": [
        "\n",
        "iteration: 4999   loss: 0.00713707692921    accuracy: [  1.00000000e+00   1.99820934e-04]"
       ]
      },
      {
       "output_type": "stream",
       "stream": "stdout",
       "text": [
        "\n",
        "18:05:37.366645\n",
        "Iteration 5000 done!\n",
        "iteration: 199   loss: 0.000315156416036    accuracy: [ 1.  0.]"
       ]
      },
      {
       "output_type": "stream",
       "stream": "stdout",
       "text": [
        "\n",
        "iteration: 399   loss: 0.00615960499272    accuracy: [  1.00000000e+00   4.02271107e-04]"
       ]
      },
      {
       "output_type": "stream",
       "stream": "stdout",
       "text": [
        "\n",
        "iteration: 599   loss: 0.00584596209228    accuracy: [  1.00000000e+00   1.61248827e-04]"
       ]
      },
      {
       "output_type": "stream",
       "stream": "stdout",
       "text": [
        "\n",
        "iteration: 799   loss: 0.000300049083307    accuracy: [ 1.  0.]"
       ]
      },
      {
       "output_type": "stream",
       "stream": "stdout",
       "text": [
        "\n",
        "iteration: 999   loss: 0.00474519934505    accuracy: [  1.00000000e+00   1.95561151e-04]"
       ]
      },
      {
       "output_type": "stream",
       "stream": "stdout",
       "text": [
        "\n",
        "iteration: 1199   loss: 0.00565347261727    accuracy: [  1.00000000e+00   6.14621094e-05]"
       ]
      },
      {
       "output_type": "stream",
       "stream": "stdout",
       "text": [
        "\n",
        "iteration: 1399   loss: 0.00352868065238    accuracy: [  1.00000000e+00   7.28036321e-05]"
       ]
      },
      {
       "output_type": "stream",
       "stream": "stdout",
       "text": [
        "\n",
        "iteration: 1599   loss: 0.00526188127697    accuracy: [  1.00000000e+00   1.03657978e-04]"
       ]
      },
      {
       "output_type": "stream",
       "stream": "stdout",
       "text": [
        "\n",
        "iteration: 1799   loss: 0.000347599096131    accuracy: [ 1.  0.]"
       ]
      },
      {
       "output_type": "stream",
       "stream": "stdout",
       "text": [
        "\n",
        "iteration: 1999   loss: 0.00376341957599    accuracy: [  1.00000000e+00   6.89615554e-05]"
       ]
      },
      {
       "output_type": "stream",
       "stream": "stdout",
       "text": [
        "\n",
        "iteration: 2199   loss: 0.00165659503546    accuracy: [  1.00000000e+00   9.93348367e-05]"
       ]
      },
      {
       "output_type": "stream",
       "stream": "stdout",
       "text": [
        "\n",
        "iteration: 2399   loss: 0.00395226525143    accuracy: [  1.00000000e+00   2.68506828e-05]"
       ]
      },
      {
       "output_type": "stream",
       "stream": "stdout",
       "text": [
        "\n",
        "iteration: 2599   loss: 0.00541612738743    accuracy: [  1.00000000e+00   1.87840938e-04]"
       ]
      },
      {
       "output_type": "stream",
       "stream": "stdout",
       "text": [
        "\n",
        "iteration: 2799   loss: 0.00402344111353    accuracy: [  1.00000000e+00   9.96344170e-05]"
       ]
      },
      {
       "output_type": "stream",
       "stream": "stdout",
       "text": [
        "\n",
        "iteration: 2999   loss: 0.000317777536111    accuracy: [ 1.  0.]"
       ]
      },
      {
       "output_type": "stream",
       "stream": "stdout",
       "text": [
        "\n",
        "iteration: 3199   loss: 0.00115223787725    accuracy: [  1.00000000e+00   7.25539794e-05]"
       ]
      },
      {
       "output_type": "stream",
       "stream": "stdout",
       "text": [
        "\n",
        "iteration: 3399   loss: 0.00248947436921    accuracy: [  1.00000000e+00   3.82791222e-05]"
       ]
      },
      {
       "output_type": "stream",
       "stream": "stdout",
       "text": [
        "\n",
        "iteration: 3599   loss: 0.000255533028394    accuracy: [ 1.  0.]"
       ]
      },
      {
       "output_type": "stream",
       "stream": "stdout",
       "text": [
        "\n",
        "iteration: 3799   loss: 0.00993457343429    accuracy: [  1.00000000e+00   5.59790176e-04]"
       ]
      },
      {
       "output_type": "stream",
       "stream": "stdout",
       "text": [
        "\n",
        "iteration: 3999   loss: 0.00185541564133    accuracy: [  1.00000000e+00   5.35027066e-05]"
       ]
      },
      {
       "output_type": "stream",
       "stream": "stdout",
       "text": [
        "\n",
        "iteration: 4199   loss: 0.00446751760319    accuracy: [  1.00000000e+00   1.45553713e-04]"
       ]
      },
      {
       "output_type": "stream",
       "stream": "stdout",
       "text": [
        "\n",
        "iteration: 4399   loss: 0.0010056499159    accuracy: [  1.00000000e+00   7.63586140e-05]"
       ]
      },
      {
       "output_type": "stream",
       "stream": "stdout",
       "text": [
        "\n",
        "iteration: 4599   loss: 0.00865800213069    accuracy: [  1.00000000e+00   4.98256122e-04]"
       ]
      },
      {
       "output_type": "stream",
       "stream": "stdout",
       "text": [
        "\n",
        "iteration: 4799   loss: 0.00023065082496    accuracy: [ 1.  0.]"
       ]
      },
      {
       "output_type": "stream",
       "stream": "stdout",
       "text": [
        "\n",
        "iteration: 4999   loss: 0.00354347471148    accuracy: [  1.00000000e+00   1.26324492e-04]"
       ]
      },
      {
       "output_type": "stream",
       "stream": "stdout",
       "text": [
        "\n",
        "iteration: 5199   loss: 0.00341432075948    accuracy: [  1.00000000e+00   8.42018271e-05]"
       ]
      },
      {
       "output_type": "stream",
       "stream": "stdout",
       "text": [
        "\n",
        "iteration: 5399   loss: 0.00351640721783    accuracy: [  1.00000000e+00   9.95619266e-05]"
       ]
      },
      {
       "output_type": "stream",
       "stream": "stdout",
       "text": [
        "\n",
        "iteration: 5599   loss: 0.00254830275662    accuracy: [  1.00000000e+00   1.18516931e-04]"
       ]
      },
      {
       "output_type": "stream",
       "stream": "stdout",
       "text": [
        "\n",
        "iteration: 5799   loss: 0.00116168241948    accuracy: [  1.00000000e+00   3.82011831e-06]"
       ]
      },
      {
       "output_type": "stream",
       "stream": "stdout",
       "text": [
        "\n",
        "iteration: 5999   loss: 0.00334422616288    accuracy: [  1.00000000e+00   6.12843651e-05]"
       ]
      },
      {
       "output_type": "stream",
       "stream": "stdout",
       "text": [
        "\n",
        "iteration: 6199   loss: 0.00184153986629    accuracy: [  1.00000000e+00   4.96911489e-05]"
       ]
      },
      {
       "output_type": "stream",
       "stream": "stdout",
       "text": [
        "\n",
        "iteration: 6399   loss: 0.000246786570642    accuracy: [ 1.  0.]"
       ]
      },
      {
       "output_type": "stream",
       "stream": "stdout",
       "text": [
        "\n",
        "iteration: 6599   loss: 0.00293813738972    accuracy: [  1.00000000e+00   8.03249713e-05]"
       ]
      },
      {
       "output_type": "stream",
       "stream": "stdout",
       "text": [
        "\n",
        "iteration: 6799   loss: 0.00263101933524    accuracy: [  1.00000000e+00   7.26630242e-05]"
       ]
      },
      {
       "output_type": "stream",
       "stream": "stdout",
       "text": [
        "\n",
        "iteration: 6999   loss: 0.00329415267333    accuracy: [  1.00000000e+00   5.36039042e-05]"
       ]
      },
      {
       "output_type": "stream",
       "stream": "stdout",
       "text": [
        "\n",
        "iteration: 7199   loss: 0.00197922950611    accuracy: [  1.00000000e+00   4.96930516e-05]"
       ]
      },
      {
       "output_type": "stream",
       "stream": "stdout",
       "text": [
        "\n",
        "iteration: 7399   loss: 0.0002412628819    accuracy: [ 1.  0.]"
       ]
      },
      {
       "output_type": "stream",
       "stream": "stdout",
       "text": [
        "\n",
        "iteration: 7599   loss: 0.00128857069649    accuracy: [  1.00000000e+00   1.90987666e-05]"
       ]
      },
      {
       "output_type": "stream",
       "stream": "stdout",
       "text": [
        "\n",
        "iteration: 7799   loss: 0.0023587634787    accuracy: [  1.00000000e+00   1.53094225e-05]"
       ]
      },
      {
       "output_type": "stream",
       "stream": "stdout",
       "text": [
        "\n",
        "iteration: 7999   loss: 0.00344399758615    accuracy: [  1.00000000e+00   1.11002235e-04]"
       ]
      },
      {
       "output_type": "stream",
       "stream": "stdout",
       "text": [
        "\n",
        "iteration: 8199   loss: 0.000246059673373    accuracy: [ 1.  0.]"
       ]
      },
      {
       "output_type": "stream",
       "stream": "stdout",
       "text": [
        "\n",
        "iteration: 8399   loss: 0.00346339354292    accuracy: [  1.00000000e+00   1.18624870e-04]"
       ]
      },
      {
       "output_type": "stream",
       "stream": "stdout",
       "text": [
        "\n",
        "iteration: 8599   loss: 0.000393740279833    accuracy: [ 1.  0.]"
       ]
      },
      {
       "output_type": "stream",
       "stream": "stdout",
       "text": [
        "\n",
        "iteration: 8799   loss: 0.00185373355635    accuracy: [  1.00000000e+00   5.34980063e-05]"
       ]
      },
      {
       "output_type": "stream",
       "stream": "stdout",
       "text": [
        "\n",
        "iteration: 8999   loss: 0.0014668693766    accuracy: [  1.00000000e+00   2.29345533e-05]"
       ]
      },
      {
       "output_type": "stream",
       "stream": "stdout",
       "text": [
        "\n",
        "iteration: 9199   loss: 0.00306131830439    accuracy: [  1.00000000e+00   7.65131408e-05]"
       ]
      },
      {
       "output_type": "stream",
       "stream": "stdout",
       "text": [
        "\n",
        "iteration: 9399   loss: 0.000518103770446    accuracy: [ 1.  0.]"
       ]
      },
      {
       "output_type": "stream",
       "stream": "stdout",
       "text": [
        "\n",
        "iteration: 9599   loss: 0.00343163427897    accuracy: [  1.00000000e+00   5.74303376e-05]"
       ]
      },
      {
       "output_type": "stream",
       "stream": "stdout",
       "text": [
        "\n",
        "iteration: 9799   loss: 0.00336835626513    accuracy: [  1.00000000e+00   6.12505828e-05]"
       ]
      },
      {
       "output_type": "stream",
       "stream": "stdout",
       "text": [
        "\n",
        "iteration: 9999   loss: 0.00241178367287    accuracy: [  1.00000000e+00   3.82602302e-05]"
       ]
      },
      {
       "output_type": "stream",
       "stream": "stdout",
       "text": [
        "\n",
        "21:49:46.150303\n",
        "Iteration 10000 done!\n",
        "iteration: 199   loss: 0.00273464922793    accuracy: [  1.00000000e+00   1.10872374e-04]"
       ]
      },
      {
       "output_type": "stream",
       "stream": "stdout",
       "text": [
        "\n",
        "iteration: 399   loss: 0.00370935536921    accuracy: [  1.00000000e+00   9.56366712e-05]"
       ]
      },
      {
       "output_type": "stream",
       "stream": "stdout",
       "text": [
        "\n",
        "iteration: 599   loss: 0.000243995018536    accuracy: [ 1.  0.]"
       ]
      },
      {
       "output_type": "stream",
       "stream": "stdout",
       "text": [
        "\n",
        "iteration: 799   loss: 0.00217322469689    accuracy: [  1.00000000e+00   1.53059664e-05]"
       ]
      },
      {
       "output_type": "stream",
       "stream": "stdout",
       "text": [
        "\n",
        "iteration: 999   loss: 0.00328515446745    accuracy: [  1.00000000e+00   1.26202271e-04]"
       ]
      },
      {
       "output_type": "stream",
       "stream": "stdout",
       "text": [
        "\n",
        "iteration: 1199   loss: 0.00129657157231    accuracy: [  1.00000000e+00   3.82006001e-05]"
       ]
      },
      {
       "output_type": "stream",
       "stream": "stdout",
       "text": [
        "\n",
        "iteration: 1399   loss: 0.000263638910837    accuracy: [ 1.  0.]"
       ]
      },
      {
       "output_type": "stream",
       "stream": "stdout",
       "text": [
        "\n",
        "iteration: 1599   loss: 0.00361764640547    accuracy: [  1.00000000e+00   8.41831352e-05]"
       ]
      },
      {
       "output_type": "stream",
       "stream": "stdout",
       "text": [
        "\n",
        "iteration: 1799   loss: 0.00220840028487    accuracy: [  1.00000000e+00   2.67709966e-05]"
       ]
      },
      {
       "output_type": "stream",
       "stream": "stdout",
       "text": [
        "\n",
        "iteration: 1999   loss: 0.00200636591762    accuracy: [  1.00000000e+00   1.14762252e-05]"
       ]
      },
      {
       "output_type": "stream",
       "stream": "stdout",
       "text": [
        "\n",
        "iteration: 2199   loss: 0.00204245583154    accuracy: [  1.00000000e+00   3.05926187e-05]"
       ]
      },
      {
       "output_type": "stream",
       "stream": "stdout",
       "text": [
        "\n",
        "iteration: 2399   loss: 0.00202787201852    accuracy: [  1.00000000e+00   2.67643445e-05]"
       ]
      },
      {
       "output_type": "stream",
       "stream": "stdout",
       "text": [
        "\n",
        "iteration: 2599   loss: 0.000738469359931    accuracy: [  1.00000000e+00   7.63484059e-06]"
       ]
      },
      {
       "output_type": "stream",
       "stream": "stdout",
       "text": [
        "\n",
        "iteration: 2799   loss: 0.00138668809086    accuracy: [  1.00000000e+00   2.29277157e-05]"
       ]
      },
      {
       "output_type": "stream",
       "stream": "stdout",
       "text": [
        "\n",
        "iteration: 2999   loss: 0.00113656558096    accuracy: [  1.00000000e+00   3.05425128e-05]"
       ]
      },
      {
       "output_type": "stream",
       "stream": "stdout",
       "text": [
        "\n",
        "iteration: 3199   loss: 0.000222409958951    accuracy: [ 1.  0.]"
       ]
      },
      {
       "output_type": "stream",
       "stream": "stdout",
       "text": [
        "\n",
        "iteration: 3399   loss: 0.00066741858609    accuracy: [  1.00000000e+00   3.43444590e-05]"
       ]
      },
      {
       "output_type": "stream",
       "stream": "stdout",
       "text": [
        "\n",
        "iteration: 3599   loss: 0.000221191847231    accuracy: [ 1.  0.]"
       ]
      },
      {
       "output_type": "stream",
       "stream": "stdout",
       "text": [
        "\n",
        "iteration: 3799   loss: 0.00143839803059    accuracy: [  1.00000000e+00   7.63994467e-06]"
       ]
      },
      {
       "output_type": "stream",
       "stream": "stdout",
       "text": [
        "\n",
        "iteration: 3999   loss: 0.000215220017708    accuracy: [ 1.  0.]"
       ]
      },
      {
       "output_type": "stream",
       "stream": "stdout",
       "text": [
        "\n",
        "iteration: 4199   loss: 0.000234115519561    accuracy: [ 1.  0.]"
       ]
      },
      {
       "output_type": "stream",
       "stream": "stdout",
       "text": [
        "\n",
        "iteration: 4399   loss: 0.0016956689069    accuracy: [  1.00000000e+00   7.64604920e-06]"
       ]
      },
      {
       "output_type": "stream",
       "stream": "stdout",
       "text": [
        "\n",
        "iteration: 4599   loss: 0.00170434138272    accuracy: [  1.00000000e+00   1.52850280e-05]"
       ]
      },
      {
       "output_type": "stream",
       "stream": "stdout",
       "text": [
        "\n",
        "iteration: 4799   loss: 0.00170564837754    accuracy: [ 1.  0.]"
       ]
      },
      {
       "output_type": "stream",
       "stream": "stdout",
       "text": [
        "\n",
        "iteration: 4999   loss: 0.00167140830308    accuracy: [  1.00000000e+00   2.29282414e-05]"
       ]
      },
      {
       "output_type": "stream",
       "stream": "stdout",
       "text": [
        "\n",
        "iteration: 5199   loss: 0.00178498553578    accuracy: [  1.00000000e+00   2.67517626e-05]"
       ]
      },
      {
       "output_type": "stream",
       "stream": "stdout",
       "text": [
        "\n",
        "iteration: 5399   loss: 0.00071012089029    accuracy: [  1.00000000e+00   2.67155174e-05]"
       ]
      },
      {
       "output_type": "stream",
       "stream": "stdout",
       "text": [
        "\n",
        "iteration: 5599   loss: 0.0002237316221    accuracy: [ 1.  0.]"
       ]
      },
      {
       "output_type": "stream",
       "stream": "stdout",
       "text": [
        "\n",
        "iteration: 5799   loss: 0.0023481734097    accuracy: [  1.00000000e+00   4.58778741e-05]"
       ]
      },
      {
       "output_type": "stream",
       "stream": "stdout",
       "text": [
        "\n",
        "iteration: 5999   loss: 0.000217770022573    accuracy: [ 1.  0.]"
       ]
      },
      {
       "output_type": "stream",
       "stream": "stdout",
       "text": [
        "\n",
        "iteration: 6199   loss: 0.00188298604917    accuracy: [ 1.  0.]"
       ]
      },
      {
       "output_type": "stream",
       "stream": "stdout",
       "text": [
        "\n",
        "iteration: 6399   loss: 0.000277613813523    accuracy: [ 1.  0.]"
       ]
      },
      {
       "output_type": "stream",
       "stream": "stdout",
       "text": [
        "\n",
        "iteration: 6599   loss: 0.00207947194576    accuracy: [  1.00000000e+00   7.25955615e-05]"
       ]
      },
      {
       "output_type": "stream",
       "stream": "stdout",
       "text": [
        "\n",
        "iteration: 6799   loss: 0.000211088685319    accuracy: [ 1.  0.]"
       ]
      },
      {
       "output_type": "stream",
       "stream": "stdout",
       "text": [
        "\n",
        "iteration: 6999   loss: 0.00253489008173    accuracy: [  1.00000000e+00   5.73521647e-05]"
       ]
      },
      {
       "output_type": "stream",
       "stream": "stdout",
       "text": [
        "\n",
        "iteration: 7199   loss: 0.000246970215812    accuracy: [ 1.  0.]"
       ]
      },
      {
       "output_type": "stream",
       "stream": "stdout",
       "text": [
        "\n",
        "iteration: 7399   loss: 0.00153126649093    accuracy: [  1.00000000e+00   3.82413555e-06]"
       ]
      },
      {
       "output_type": "stream",
       "stream": "stdout",
       "text": [
        "\n",
        "iteration: 7599   loss: 0.000749707221985    accuracy: [ 1.  0.]"
       ]
      },
      {
       "output_type": "stream",
       "stream": "stdout",
       "text": [
        "\n",
        "iteration: 7799   loss: 0.00022244725551    accuracy: [ 1.  0.]"
       ]
      },
      {
       "output_type": "stream",
       "stream": "stdout",
       "text": [
        "\n",
        "iteration: 7999   loss: 0.00144283880945    accuracy: [  1.00000000e+00   1.90983301e-05]"
       ]
      },
      {
       "output_type": "stream",
       "stream": "stdout",
       "text": [
        "\n",
        "iteration: 8199   loss: 0.000221261565457    accuracy: [ 1.  0.]"
       ]
      },
      {
       "output_type": "stream",
       "stream": "stdout",
       "text": [
        "\n",
        "iteration: 8399   loss: 0.00158668716904    accuracy: [  1.00000000e+00   2.67464475e-05]"
       ]
      },
      {
       "output_type": "stream",
       "stream": "stdout",
       "text": [
        "\n",
        "iteration: 8599   loss: 0.00312326615676    accuracy: [  1.00000000e+00   1.94871449e-04]"
       ]
      },
      {
       "output_type": "stream",
       "stream": "stdout",
       "text": [
        "\n",
        "iteration: 8799   loss: 0.00067526276689    accuracy: [  1.00000000e+00   3.81842619e-06]"
       ]
      },
      {
       "output_type": "stream",
       "stream": "stdout",
       "text": [
        "\n",
        "iteration: 8999   loss: 0.000860920583364    accuracy: [  1.00000000e+00   2.28979661e-05]"
       ]
      },
      {
       "output_type": "stream",
       "stream": "stdout",
       "text": [
        "\n",
        "iteration: 9199   loss: 0.000310709176119    accuracy: [ 1.  0.]"
       ]
      },
      {
       "output_type": "stream",
       "stream": "stdout",
       "text": [
        "\n",
        "iteration: 9399   loss: 0.000218844375922    accuracy: [ 1.  0.]"
       ]
      },
      {
       "output_type": "stream",
       "stream": "stdout",
       "text": [
        "\n",
        "iteration: 9599   loss: 0.00024327688152    accuracy: [ 1.  0.]"
       ]
      },
      {
       "output_type": "stream",
       "stream": "stdout",
       "text": [
        "\n",
        "iteration: 9799   loss: 0.000993002206087    accuracy: [ 1.  0.]"
       ]
      },
      {
       "output_type": "stream",
       "stream": "stdout",
       "text": [
        "\n",
        "iteration: 9999   loss: 0.00465804804116    accuracy: [  1.00000000e+00   2.21920374e-04]"
       ]
      },
      {
       "output_type": "stream",
       "stream": "stdout",
       "text": [
        "\n",
        "01:33:55.961100\n",
        "Iteration 10000 done!\n",
        "iteration: 199   loss: 0.000973350484855    accuracy: [  1.00000000e+00   4.19889002e-05]"
       ]
      },
      {
       "output_type": "stream",
       "stream": "stdout",
       "text": [
        "\n",
        "iteration: 399   loss: 0.00201787403785    accuracy: [  1.00000000e+00   1.14735913e-05]"
       ]
      },
      {
       "output_type": "stream",
       "stream": "stdout",
       "text": [
        "\n",
        "iteration: 599   loss: 0.00142636324745    accuracy: [  1.00000000e+00   7.64473407e-06]"
       ]
      },
      {
       "output_type": "stream",
       "stream": "stdout",
       "text": [
        "\n",
        "iteration: 799   loss: 0.00211407337338    accuracy: [  1.00000000e+00   7.26008293e-05]"
       ]
      },
      {
       "output_type": "stream",
       "stream": "stdout",
       "text": [
        "\n",
        "iteration: 999   loss: 0.00152840977535    accuracy: [  1.00000000e+00   2.29234247e-05]"
       ]
      },
      {
       "output_type": "stream",
       "stream": "stdout",
       "text": [
        "\n",
        "iteration: 1199   loss: 0.00117456889711    accuracy: [  1.00000000e+00   3.81962218e-06]"
       ]
      },
      {
       "output_type": "stream",
       "stream": "stdout",
       "text": [
        "\n",
        "iteration: 1399   loss: 0.00111792329699    accuracy: [  1.00000000e+00   2.29133566e-05]"
       ]
      },
      {
       "output_type": "stream",
       "stream": "stdout",
       "text": [
        "\n",
        "iteration: 1599   loss: 0.00175080122426    accuracy: [  1.00000000e+00   3.43953870e-05]"
       ]
      },
      {
       "output_type": "stream",
       "stream": "stdout",
       "text": [
        "\n",
        "iteration: 1799   loss: 0.00130091502797    accuracy: [  1.00000000e+00   7.64356537e-06]"
       ]
      },
      {
       "output_type": "stream",
       "stream": "stdout",
       "text": [
        "\n",
        "iteration: 1999   loss: 0.00145537732169    accuracy: [  1.00000000e+00   2.67401119e-05]"
       ]
      },
      {
       "output_type": "stream",
       "stream": "stdout",
       "text": [
        "\n",
        "iteration: 2199   loss: 0.00232500233687    accuracy: [  1.00000000e+00   6.87876163e-05]"
       ]
      },
      {
       "output_type": "stream",
       "stream": "stdout",
       "text": [
        "\n",
        "iteration: 2399   loss: 0.000248845375609    accuracy: [ 1.  0.]"
       ]
      },
      {
       "output_type": "stream",
       "stream": "stdout",
       "text": [
        "\n",
        "iteration: 2599   loss: 0.00121037603822    accuracy: [  1.00000000e+00   5.72530007e-05]"
       ]
      },
      {
       "output_type": "stream",
       "stream": "stdout",
       "text": [
        "\n",
        "iteration: 2799   loss: 0.000240172827034    accuracy: [ 1.  0.]"
       ]
      },
      {
       "output_type": "stream",
       "stream": "stdout",
       "text": [
        "\n",
        "iteration: 2999   loss: 0.00094809778966    accuracy: [  1.00000000e+00   1.52738794e-05]"
       ]
      },
      {
       "output_type": "stream",
       "stream": "stdout",
       "text": [
        "\n",
        "iteration: 3199   loss: 0.000895759207197    accuracy: [  1.00000000e+00   2.67268406e-05]"
       ]
      },
      {
       "output_type": "stream",
       "stream": "stdout",
       "text": [
        "\n",
        "iteration: 3399   loss: 0.000329050526489    accuracy: [ 1.  0.]"
       ]
      },
      {
       "output_type": "stream",
       "stream": "stdout",
       "text": [
        "\n",
        "iteration: 3599   loss: 0.00134813552722    accuracy: [  1.00000000e+00   1.14630702e-05]"
       ]
      },
      {
       "output_type": "stream",
       "stream": "stdout",
       "text": [
        "\n",
        "iteration: 3799   loss: 0.00114673876669    accuracy: [  1.00000000e+00   1.52781977e-05]"
       ]
      },
      {
       "output_type": "stream",
       "stream": "stdout",
       "text": [
        "\n",
        "iteration: 3999   loss: 0.00144595722668    accuracy: [  1.00000000e+00   3.05635149e-05]"
       ]
      },
      {
       "output_type": "stream",
       "stream": "stdout",
       "text": [
        "\n",
        "iteration: 4199   loss: 0.000463983684313    accuracy: [  1.00000000e+00   3.81538121e-05]"
       ]
      },
      {
       "output_type": "stream",
       "stream": "stdout",
       "text": [
        "\n",
        "iteration: 4399   loss: 0.00196233647875    accuracy: [  1.00000000e+00   8.02065479e-05]"
       ]
      },
      {
       "output_type": "stream",
       "stream": "stdout",
       "text": [
        "\n",
        "iteration: 4599   loss: 0.00128729850985    accuracy: [ 1.  0.]"
       ]
      },
      {
       "output_type": "stream",
       "stream": "stdout",
       "text": [
        "\n",
        "iteration: 4799   loss: 0.000975318369456    accuracy: [  1.00000000e+00   7.63927346e-06]"
       ]
      },
      {
       "output_type": "stream",
       "stream": "stdout",
       "text": [
        "\n",
        "iteration: 4999   loss: 0.000359222030966    accuracy: [ 1.  0.]"
       ]
      },
      {
       "output_type": "stream",
       "stream": "stdout",
       "text": [
        "\n",
        "iteration: 5199   loss: 0.00119835010264    accuracy: [ 1.  0.]"
       ]
      },
      {
       "output_type": "stream",
       "stream": "stdout",
       "text": [
        "\n",
        "iteration: 5399   loss: 0.00178323732689    accuracy: [  1.00000000e+00   1.91013933e-05]"
       ]
      },
      {
       "output_type": "stream",
       "stream": "stdout",
       "text": [
        "\n",
        "iteration: 5599   loss: 0.00079697201727    accuracy: [ 1.  0.]"
       ]
      },
      {
       "output_type": "stream",
       "stream": "stdout",
       "text": [
        "\n",
        "iteration: 5799   loss: 0.00027148774825    accuracy: [ 1.  0.]"
       ]
      },
      {
       "output_type": "stream",
       "stream": "stdout",
       "text": [
        "\n",
        "iteration: 5999   loss: 0.000442294694949    accuracy: [  1.00000000e+00   3.81705604e-06]"
       ]
      },
      {
       "output_type": "stream",
       "stream": "stdout",
       "text": [
        "\n",
        "iteration: 6199   loss: 0.00110708933789    accuracy: [ 1.  0.]"
       ]
      },
      {
       "output_type": "stream",
       "stream": "stdout",
       "text": [
        "\n",
        "iteration: 6399   loss: 0.00109025719576    accuracy: [ 1.  0.]"
       ]
      },
      {
       "output_type": "stream",
       "stream": "stdout",
       "text": [
        "\n",
        "iteration: 6599   loss: 0.000267292722128    accuracy: [ 1.  0.]"
       ]
      },
      {
       "output_type": "stream",
       "stream": "stdout",
       "text": [
        "\n",
        "iteration: 6799   loss: 0.00111926277168    accuracy: [  1.00000000e+00   3.81994323e-06]"
       ]
      },
      {
       "output_type": "stream",
       "stream": "stdout",
       "text": [
        "\n",
        "iteration: 6999   loss: 0.000844982103445    accuracy: [ 1.  0.]"
       ]
      },
      {
       "output_type": "stream",
       "stream": "stdout",
       "text": [
        "\n",
        "iteration: 7199   loss: 0.000925080967136    accuracy: [ 1.  0.]"
       ]
      },
      {
       "output_type": "stream",
       "stream": "stdout",
       "text": [
        "\n",
        "iteration: 7399   loss: 0.000370766618289    accuracy: [ 1.  0.]"
       ]
      },
      {
       "output_type": "stream",
       "stream": "stdout",
       "text": [
        "\n",
        "iteration: 7599   loss: 0.00103389390279    accuracy: [  1.00000000e+00   7.63682328e-06]"
       ]
      },
      {
       "output_type": "stream",
       "stream": "stdout",
       "text": [
        "\n",
        "iteration: 7799   loss: 0.00105480884667    accuracy: [  1.00000000e+00   7.63688149e-06]"
       ]
      },
      {
       "output_type": "stream",
       "stream": "stdout",
       "text": [
        "\n",
        "iteration: 7999   loss: 0.000933436735068    accuracy: [  1.00000000e+00   7.64079141e-06]"
       ]
      },
      {
       "output_type": "stream",
       "stream": "stdout",
       "text": [
        "\n",
        "iteration: 8199   loss: 0.000602184911259    accuracy: [ 1.  0.]"
       ]
      },
      {
       "output_type": "stream",
       "stream": "stdout",
       "text": [
        "\n",
        "iteration: 8399   loss: 0.000710761873052    accuracy: [ 1.  0.]"
       ]
      },
      {
       "output_type": "stream",
       "stream": "stdout",
       "text": [
        "\n",
        "iteration: 8599   loss: 0.00107238814235    accuracy: [ 1.  0.]"
       ]
      },
      {
       "output_type": "stream",
       "stream": "stdout",
       "text": [
        "\n",
        "iteration: 8799   loss: 0.000655128969811    accuracy: [ 1.  0.]"
       ]
      },
      {
       "output_type": "stream",
       "stream": "stdout",
       "text": [
        "\n",
        "iteration: 8999   loss: 0.000298921193462    accuracy: [ 1.  0.]"
       ]
      },
      {
       "output_type": "stream",
       "stream": "stdout",
       "text": [
        "\n",
        "iteration: 9199   loss: 0.000857690349221    accuracy: [ 1.  0.]"
       ]
      },
      {
       "output_type": "stream",
       "stream": "stdout",
       "text": [
        "\n",
        "iteration: 9399   loss: 0.000465260440251    accuracy: [ 1.  0.]"
       ]
      },
      {
       "output_type": "stream",
       "stream": "stdout",
       "text": [
        "\n",
        "iteration: 9599   loss: 0.000853103236295    accuracy: [  1.00000000e+00   1.14532231e-05]"
       ]
      },
      {
       "output_type": "stream",
       "stream": "stdout",
       "text": [
        "\n",
        "iteration: 9799   loss: 0.000923629617319    accuracy: [ 1.  0.]"
       ]
      },
      {
       "output_type": "stream",
       "stream": "stdout",
       "text": [
        "\n",
        "iteration: 9999   loss: 0.000230532197747    accuracy: [ 1.  0.]"
       ]
      },
      {
       "output_type": "stream",
       "stream": "stdout",
       "text": [
        "\n",
        "05:18:07.854394\n",
        "Iteration 10000 done!\n"
       ]
      }
     ],
     "prompt_number": 8
    },
    {
     "cell_type": "code",
     "collapsed": false,
     "input": [],
     "language": "python",
     "metadata": {},
     "outputs": [],
     "prompt_number": 9
    },
    {
     "cell_type": "code",
     "collapsed": false,
     "input": [],
     "language": "python",
     "metadata": {},
     "outputs": []
    }
   ],
   "metadata": {}
  }
 ]
}