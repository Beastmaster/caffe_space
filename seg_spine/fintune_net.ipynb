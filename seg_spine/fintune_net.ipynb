{
 "metadata": {
  "name": "",
  "signature": "sha256:484b3e206651f9d64aafc95a13e2351a88d49205c46168b7c029b9e69ff1dcfd"
 },
 "nbformat": 3,
 "nbformat_minor": 0,
 "worksheets": [
  {
   "cells": [
    {
     "cell_type": "code",
     "collapsed": false,
     "input": [
      "import numpy as np\n",
      "import matplotlib.pyplot as plt\n",
      "%matplotlib inline\n",
      "import sys\n",
      "# add self-defined python script path\n",
      "sys.path.append('/home/qinshuo/WorkPlace/caffe_space/my_scripts/')\n",
      "import numpy as np\n",
      "caffe_root = '/home/qinshuo/WorkPlace/caffe/'\n",
      "sys.path.insert(0,caffe_root+'python')\n",
      "import caffe\n",
      "\n",
      "\n",
      "# setup GPU/CPU mode and device number\n",
      "caffe.set_mode_gpu() \n",
      "caffe.set_device(0)"
     ],
     "language": "python",
     "metadata": {},
     "outputs": [],
     "prompt_number": 1
    },
    {
     "cell_type": "code",
     "collapsed": false,
     "input": [
      "net_def = '/home/qinshuo/WorkPlace/caffe_space/seg_spine/config/seg_spine.prototxt'\n",
      "init_weight = '/home/qinshuo/WorkPlace/caffe_space/seg_spine/weight/seg_spine_net1.caffemodel'"
     ],
     "language": "python",
     "metadata": {},
     "outputs": [],
     "prompt_number": 2
    },
    {
     "cell_type": "code",
     "collapsed": false,
     "input": [
      "# Load the fully convolutional network to transplant the parameters.\n",
      "fine_net = caffe.Net(net_def, init_weight,caffe.TRAIN)"
     ],
     "language": "python",
     "metadata": {},
     "outputs": [],
     "prompt_number": 3
    },
    {
     "cell_type": "code",
     "collapsed": false,
     "input": [
      "fine_net.forward()"
     ],
     "language": "python",
     "metadata": {},
     "outputs": [
      {
       "metadata": {},
       "output_type": "pyout",
       "prompt_number": 4,
       "text": [
        "{'accuracy': array([ 0.,  0.], dtype=float32),\n",
        " 'loss': array(0.00106528727337718, dtype=float32)}"
       ]
      }
     ],
     "prompt_number": 4
    },
    {
     "cell_type": "code",
     "collapsed": false,
     "input": [
      "def forward_steps(net,step):\n",
      "    for i in range(step):\n",
      "        net.forward()\n",
      "        p_step = 100\n",
      "        if (i+1)%p_step == 0:\n",
      "            train_loss = net.blobs['loss'].data\n",
      "            train_acc  = net.blobs['accuracy'].data\n",
      "            print \"iteration: {:<5}   loss: {}    accuracy: {}\".format(str(i+1),str(train_loss),train_acc)"
     ],
     "language": "python",
     "metadata": {},
     "outputs": [],
     "prompt_number": 5
    },
    {
     "cell_type": "code",
     "collapsed": false,
     "input": [
      "for iter in range(10):\n",
      "    forward_steps(fine_net,10000)\n",
      "    snap_shot_weight = '/home/qinshuo/WorkPlace/caffe_space/seg_spine/weight/seg_spine_net_fin{}.caffemodel'.format(iter*10000)\n",
      "    print \"snaping to: \"+snap_shot_weight\n",
      "    fine_net.save(snap_shot_weight)"
     ],
     "language": "python",
     "metadata": {},
     "outputs": [
      {
       "output_type": "stream",
       "stream": "stdout",
       "text": [
        "iteration: 100     loss: 0.00746997259557    accuracy: [ 0.01993187  0.10959954]\n",
        "iteration: 200     loss: 0.0110472431406    accuracy: [ 0.02549934  0.09688062]"
       ]
      },
      {
       "output_type": "stream",
       "stream": "stdout",
       "text": [
        "\n",
        "iteration: 300     loss: 0.0155933583155    accuracy: [ 0.03303373  0.14368415]"
       ]
      },
      {
       "output_type": "stream",
       "stream": "stdout",
       "text": [
        "\n",
        "iteration: 400     loss: 0.0028631594032    accuracy: [ 0.0016519   0.69053119]"
       ]
      },
      {
       "output_type": "stream",
       "stream": "stdout",
       "text": [
        "\n",
        "iteration: 500     loss: 0.0116196908057    accuracy: [ 0.04329365  0.08818856]"
       ]
      },
      {
       "output_type": "stream",
       "stream": "stdout",
       "text": [
        "\n",
        "iteration: 600     loss: 0.00058717711363    accuracy: [  9.53674316e-05   1.00000000e+00]"
       ]
      },
      {
       "output_type": "stream",
       "stream": "stdout",
       "text": [
        "\n",
        "iteration: 700     loss: 0.00974156614393    accuracy: [ 0.01950591  0.09229865]"
       ]
      },
      {
       "output_type": "stream",
       "stream": "stdout",
       "text": [
        "\n",
        "iteration: 800     loss: 0.0105161871761    accuracy: [ 0.03149733  0.10058238]"
       ]
      },
      {
       "output_type": "stream",
       "stream": "stdout",
       "text": [
        "\n",
        "iteration: 900     loss: 0.00964510068297    accuracy: [ 0.03193916  0.10525057]"
       ]
      },
      {
       "output_type": "stream",
       "stream": "stdout",
       "text": [
        "\n",
        "iteration: 1000    loss: 0.0153003549203    accuracy: [ 0.07072247  0.08304517]"
       ]
      },
      {
       "output_type": "stream",
       "stream": "stdout",
       "text": [
        "\n",
        "iteration: 1100    loss: 0.0112191867083    accuracy: [ 0.01377185  0.18378678]"
       ]
      },
      {
       "output_type": "stream",
       "stream": "stdout",
       "text": [
        "\n",
        "iteration: 1200    loss: 0.0102461883798    accuracy: [ 0.0291333   0.12708196]"
       ]
      },
      {
       "output_type": "stream",
       "stream": "stdout",
       "text": [
        "\n",
        "iteration: 1300    loss: 0.0122031569481    accuracy: [ 0.03129817  0.08810949]"
       ]
      },
      {
       "output_type": "stream",
       "stream": "stdout",
       "text": [
        "\n",
        "iteration: 1400    loss: 0.00815889332443    accuracy: [ 0.01257518  0.21500152]"
       ]
      },
      {
       "output_type": "stream",
       "stream": "stdout",
       "text": [
        "\n",
        "iteration: 1500    loss: 0.00248579424806    accuracy: [ 0.00304182  0.06273526]"
       ]
      },
      {
       "output_type": "stream",
       "stream": "stdout",
       "text": [
        "\n",
        "iteration: 1600    loss: 0.0204215720296    accuracy: [ 0.05402135  0.10666195]"
       ]
      },
      {
       "output_type": "stream",
       "stream": "stdout",
       "text": [
        "\n",
        "iteration: 1700    loss: 0.0108140930533    accuracy: [ 0.05023157  0.06679346]"
       ]
      },
      {
       "output_type": "stream",
       "stream": "stdout",
       "text": [
        "\n",
        "iteration: 1800    loss: 0.000260306987911    accuracy: [ 0.  0.]"
       ]
      },
      {
       "output_type": "stream",
       "stream": "stdout",
       "text": [
        "\n",
        "iteration: 1900    loss: 0.000232673904975    accuracy: [ 0.  0.]"
       ]
      },
      {
       "output_type": "stream",
       "stream": "stdout",
       "text": [
        "\n",
        "iteration: 2000    loss: 0.000550571829081    accuracy: [ 0.  0.]"
       ]
      },
      {
       "output_type": "stream",
       "stream": "stdout",
       "text": [
        "\n",
        "iteration: 2100    loss: 0.0089955823496    accuracy: [ 0.03794233  0.06495468]"
       ]
      },
      {
       "output_type": "stream",
       "stream": "stdout",
       "text": [
        "\n",
        "iteration: 2200    loss: 0.0126267326996    accuracy: [ 0.0481199   0.07985063]"
       ]
      },
      {
       "output_type": "stream",
       "stream": "stdout",
       "text": [
        "\n",
        "iteration: 2300    loss: 0.00092371169012    accuracy: [ 0.  0.]"
       ]
      },
      {
       "output_type": "stream",
       "stream": "stdout",
       "text": [
        "\n",
        "iteration: 2400    loss: 0.0102016301826    accuracy: [ 0.02554001  0.12417714]"
       ]
      },
      {
       "output_type": "stream",
       "stream": "stdout",
       "text": [
        "\n",
        "iteration: 2500    loss: 0.00245780241676    accuracy: [ 0.00164798  0.79166669]"
       ]
      },
      {
       "output_type": "stream",
       "stream": "stdout",
       "text": [
        "\n",
        "iteration: 2600    loss: 0.000422722194344    accuracy: [ 0.  0.]"
       ]
      },
      {
       "output_type": "stream",
       "stream": "stdout",
       "text": [
        "\n",
        "iteration: 2700    loss: 0.00205480866134    accuracy: [ 0.00405237  0.14689265]"
       ]
      },
      {
       "output_type": "stream",
       "stream": "stdout",
       "text": [
        "\n",
        "iteration: 2800    loss: 0.000259708293015    accuracy: [ 0.  0.]"
       ]
      },
      {
       "output_type": "stream",
       "stream": "stdout",
       "text": [
        "\n",
        "iteration: 2900    loss: 0.0111006163061    accuracy: [ 0.06447313  0.06783577]"
       ]
      },
      {
       "output_type": "stream",
       "stream": "stdout",
       "text": [
        "\n",
        "iteration: 3000    loss: 0.0148359760642    accuracy: [ 0.07072607  0.07066393]"
       ]
      },
      {
       "output_type": "stream",
       "stream": "stdout",
       "text": [
        "\n",
        "iteration: 3100    loss: 0.00437392434105    accuracy: [ 0.00381336  0.33033034]"
       ]
      },
      {
       "output_type": "stream",
       "stream": "stdout",
       "text": [
        "\n",
        "iteration: 3200    loss: 0.00501562282443    accuracy: [ 0.00907605  0.14934792]"
       ]
      },
      {
       "output_type": "stream",
       "stream": "stdout",
       "text": [
        "\n",
        "iteration: 3300    loss: 0.0129481852055    accuracy: [ 0.02703281  0.13143747]"
       ]
      },
      {
       "output_type": "stream",
       "stream": "stdout",
       "text": [
        "\n",
        "iteration: 3400    loss: 0.0105734877288    accuracy: [ 0.04435139  0.08106478]"
       ]
      },
      {
       "output_type": "stream",
       "stream": "stdout",
       "text": [
        "\n",
        "iteration: 3500    loss: 0.00135211576708    accuracy: [  2.74658203e-04   1.00000000e+00]"
       ]
      },
      {
       "output_type": "stream",
       "stream": "stdout",
       "text": [
        "\n",
        "iteration: 3600    loss: 0.00472247321159    accuracy: [ 0.0049171   0.26397514]"
       ]
      },
      {
       "output_type": "stream",
       "stream": "stdout",
       "text": [
        "\n",
        "iteration: 3700    loss: 0.0102205341682    accuracy: [ 0.01976186  0.15009671]"
       ]
      },
      {
       "output_type": "stream",
       "stream": "stdout",
       "text": [
        "\n",
        "iteration: 3800    loss: 0.0120739955455    accuracy: [ 0.04814904  0.09220759]"
       ]
      },
      {
       "output_type": "stream",
       "stream": "stdout",
       "text": [
        "\n",
        "iteration: 3900    loss: 0.011676132679    accuracy: [ 0.02430698  0.10978295]"
       ]
      },
      {
       "output_type": "stream",
       "stream": "stdout",
       "text": [
        "\n",
        "iteration: 4000    loss: 0.0177384205163    accuracy: [ 0.05110763  0.10480611]"
       ]
      },
      {
       "output_type": "stream",
       "stream": "stdout",
       "text": [
        "\n",
        "iteration: 4100    loss: 0.0131602138281    accuracy: [ 0.04181878  0.05847365]"
       ]
      },
      {
       "output_type": "stream",
       "stream": "stdout",
       "text": [
        "\n",
        "iteration: 4200    loss: 0.000501907779835    accuracy: [ 0.  0.]"
       ]
      },
      {
       "output_type": "stream",
       "stream": "stdout",
       "text": [
        "\n",
        "iteration: 4300    loss: 0.000370224996004    accuracy: [ 0.  0.]"
       ]
      },
      {
       "output_type": "stream",
       "stream": "stdout",
       "text": [
        "\n",
        "iteration: 4400    loss: 0.0100120687857    accuracy: [ 0.04940823  0.07368746]"
       ]
      },
      {
       "output_type": "stream",
       "stream": "stdout",
       "text": [
        "\n",
        "iteration: 4500    loss: 0.00885278079659    accuracy: [ 0.00912042  0.11572327]"
       ]
      },
      {
       "output_type": "stream",
       "stream": "stdout",
       "text": [
        "\n",
        "iteration: 4600    loss: 0.0173477455974    accuracy: [ 0.05395616  0.10321117]"
       ]
      },
      {
       "output_type": "stream",
       "stream": "stdout",
       "text": [
        "\n",
        "iteration: 4700    loss: 0.00551073625684    accuracy: [ 0.00835039  0.17695473]"
       ]
      },
      {
       "output_type": "stream",
       "stream": "stdout",
       "text": [
        "\n",
        "iteration: 4800    loss: 0.00953284557909    accuracy: [ 0.01270521  0.21220319]"
       ]
      },
      {
       "output_type": "stream",
       "stream": "stdout",
       "text": [
        "\n",
        "iteration: 4900    loss: 0.0120148994029    accuracy: [ 0.05866573  0.0738666 ]"
       ]
      },
      {
       "output_type": "stream",
       "stream": "stdout",
       "text": [
        "\n",
        "iteration: 5000    loss: 0.00791263021529    accuracy: [ 0.01946951  0.11889347]"
       ]
      },
      {
       "output_type": "stream",
       "stream": "stdout",
       "text": [
        "\n",
        "iteration: 5100    loss: 0.000467272911919    accuracy: [ 0.  0.]"
       ]
      },
      {
       "output_type": "stream",
       "stream": "stdout",
       "text": [
        "\n",
        "iteration: 5200    loss: 0.00824254844338    accuracy: [ 0.00494497  0.23570324]"
       ]
      },
      {
       "output_type": "stream",
       "stream": "stdout",
       "text": [
        "\n",
        "iteration: 5300    loss: 0.0090047987178    accuracy: [ 0.03326457  0.09612955]"
       ]
      },
      {
       "output_type": "stream",
       "stream": "stdout",
       "text": [
        "\n",
        "iteration: 5400    loss: 0.00994558632374    accuracy: [ 0.02823817  0.16779341]"
       ]
      },
      {
       "output_type": "stream",
       "stream": "stdout",
       "text": [
        "\n",
        "iteration: 5500    loss: 0.0184886343777    accuracy: [ 0.06446334  0.06390821]"
       ]
      },
      {
       "output_type": "stream",
       "stream": "stdout",
       "text": [
        "\n",
        "iteration: 5600    loss: 0.0132905486971    accuracy: [ 0.06677713  0.09062321]"
       ]
      },
      {
       "output_type": "stream",
       "stream": "stdout",
       "text": [
        "\n",
        "iteration: 5700    loss: 0.000265811337158    accuracy: [ 0.  0.]"
       ]
      },
      {
       "output_type": "stream",
       "stream": "stdout",
       "text": [
        "\n",
        "iteration: 5800    loss: 0.0101539660245    accuracy: [ 0.03733474  0.0772932 ]"
       ]
      },
      {
       "output_type": "stream",
       "stream": "stdout",
       "text": [
        "\n",
        "iteration: 5900    loss: 0.0112404702231    accuracy: [ 0.03736704  0.10623722]"
       ]
      },
      {
       "output_type": "stream",
       "stream": "stdout",
       "text": [
        "\n",
        "iteration: 6000    loss: 0.0121701611206    accuracy: [ 0.04628263  0.08168153]"
       ]
      },
      {
       "output_type": "stream",
       "stream": "stdout",
       "text": [
        "\n",
        "iteration: 6100    loss: 0.00159312784672    accuracy: [ 0.00122105  0.296875  ]"
       ]
      },
      {
       "output_type": "stream",
       "stream": "stdout",
       "text": [
        "\n",
        "iteration: 6200    loss: 0.0133981239051    accuracy: [ 0.03984306  0.09933775]"
       ]
      },
      {
       "output_type": "stream",
       "stream": "stdout",
       "text": [
        "\n",
        "iteration: 6300    loss: 0.0106558166444    accuracy: [ 0.05018989  0.07041717]"
       ]
      },
      {
       "output_type": "stream",
       "stream": "stdout",
       "text": [
        "\n",
        "iteration: 6400    loss: 0.0104711381719    accuracy: [ 0.04828803  0.08622053]"
       ]
      },
      {
       "output_type": "stream",
       "stream": "stdout",
       "text": [
        "\n",
        "iteration: 6500    loss: 0.0105868503451    accuracy: [ 0.04293505  0.07094534]"
       ]
      },
      {
       "output_type": "stream",
       "stream": "stdout",
       "text": [
        "\n",
        "iteration: 6600    loss: 0.00918520987034    accuracy: [ 0.03378613  0.10523342]"
       ]
      },
      {
       "output_type": "stream",
       "stream": "stdout",
       "text": [
        "\n",
        "iteration: 6700    loss: 0.0120759131387    accuracy: [ 0.04912399  0.07361868]"
       ]
      },
      {
       "output_type": "stream",
       "stream": "stdout",
       "text": [
        "\n",
        "iteration: 6800    loss: 0.015175181441    accuracy: [ 0.04712018  0.11140864]"
       ]
      },
      {
       "output_type": "stream",
       "stream": "stdout",
       "text": [
        "\n",
        "iteration: 6900    loss: 0.00383801339194    accuracy: [ 0.00132852  0.47413793]"
       ]
      },
      {
       "output_type": "stream",
       "stream": "stdout",
       "text": [
        "\n",
        "iteration: 7000    loss: 0.00728600239381    accuracy: [ 0.02595141  0.09152443]"
       ]
      },
      {
       "output_type": "stream",
       "stream": "stdout",
       "text": [
        "\n",
        "iteration: 7100    loss: 0.0112601015717    accuracy: [ 0.04705028  0.08762384]"
       ]
      },
      {
       "output_type": "stream",
       "stream": "stdout",
       "text": [
        "\n",
        "iteration: 7200    loss: 0.0164894517511    accuracy: [ 0.07184757  0.07562936]"
       ]
      },
      {
       "output_type": "stream",
       "stream": "stdout",
       "text": [
        "\n",
        "iteration: 7300    loss: 0.00467888917774    accuracy: [ 0.00670708  0.1741605 ]"
       ]
      },
      {
       "output_type": "stream",
       "stream": "stdout",
       "text": [
        "\n",
        "iteration: 7400    loss: 0.0126293301582    accuracy: [ 0.04680073  0.07843778]"
       ]
      },
      {
       "output_type": "stream",
       "stream": "stdout",
       "text": [
        "\n",
        "iteration: 7500    loss: 0.0075687202625    accuracy: [ 0.01976153  0.05801586]"
       ]
      },
      {
       "output_type": "stream",
       "stream": "stdout",
       "text": [
        "\n",
        "iteration: 7600    loss: 0.0122387371957    accuracy: [ 0.047943    0.06397065]"
       ]
      },
      {
       "output_type": "stream",
       "stream": "stdout",
       "text": [
        "\n",
        "iteration: 7700    loss: 0.0134488949552    accuracy: [ 0.0270134  0.2078326]"
       ]
      },
      {
       "output_type": "stream",
       "stream": "stdout",
       "text": [
        "\n",
        "iteration: 7800    loss: 0.00292452494614    accuracy: [ 0.  0.]"
       ]
      },
      {
       "output_type": "stream",
       "stream": "stdout",
       "text": [
        "\n",
        "iteration: 7900    loss: 0.00246501155198    accuracy: [ 0.0043424   0.20123023]"
       ]
      },
      {
       "output_type": "stream",
       "stream": "stdout",
       "text": [
        "\n",
        "iteration: 8000    loss: 0.0124139599502    accuracy: [ 0.04167734  0.08275989]"
       ]
      },
      {
       "output_type": "stream",
       "stream": "stdout",
       "text": [
        "\n",
        "iteration: 8100    loss: 0.0113687533885    accuracy: [ 0.05024103  0.08804075]"
       ]
      },
      {
       "output_type": "stream",
       "stream": "stdout",
       "text": [
        "\n",
        "iteration: 8200    loss: 0.0110832965001    accuracy: [ 0.04718503  0.06392805]"
       ]
      },
      {
       "output_type": "stream",
       "stream": "stdout",
       "text": [
        "\n",
        "iteration: 8300    loss: 0.0180236361921    accuracy: [ 0.02040934  0.17245261]"
       ]
      },
      {
       "output_type": "stream",
       "stream": "stdout",
       "text": [
        "\n",
        "iteration: 8400    loss: 0.00670510111377    accuracy: [ 0.00813908  0.31739333]"
       ]
      },
      {
       "output_type": "stream",
       "stream": "stdout",
       "text": [
        "\n",
        "iteration: 8500    loss: 0.00575499702245    accuracy: [ 0.01043529  0.06295754]"
       ]
      },
      {
       "output_type": "stream",
       "stream": "stdout",
       "text": [
        "\n",
        "iteration: 8600    loss: 0.0100934049115    accuracy: [ 0.01374442  0.21567537]"
       ]
      },
      {
       "output_type": "stream",
       "stream": "stdout",
       "text": [
        "\n",
        "iteration: 8700    loss: 0.000244177819695    accuracy: [ 0.  0.]"
       ]
      },
      {
       "output_type": "stream",
       "stream": "stdout",
       "text": [
        "\n",
        "iteration: 8800    loss: 0.0135220391676    accuracy: [ 0.07071672  0.06281421]"
       ]
      },
      {
       "output_type": "stream",
       "stream": "stdout",
       "text": [
        "\n",
        "iteration: 8900    loss: 0.00980371423066    accuracy: [ 0.02913304  0.12180412]"
       ]
      },
      {
       "output_type": "stream",
       "stream": "stdout",
       "text": [
        "\n",
        "iteration: 9000    loss: 0.000281755259493    accuracy: [ 0.  0.]"
       ]
      },
      {
       "output_type": "stream",
       "stream": "stdout",
       "text": [
        "\n",
        "iteration: 9100    loss: 0.0106151001528    accuracy: [ 0.048085    0.08943606]"
       ]
      },
      {
       "output_type": "stream",
       "stream": "stdout",
       "text": [
        "\n",
        "iteration: 9200    loss: 0.00988907925785    accuracy: [ 0.0360403   0.10449343]"
       ]
      },
      {
       "output_type": "stream",
       "stream": "stdout",
       "text": [
        "\n",
        "iteration: 9300    loss: 0.000269453448709    accuracy: [ 0.  0.]"
       ]
      },
      {
       "output_type": "stream",
       "stream": "stdout",
       "text": [
        "\n",
        "iteration: 9400    loss: 0.0125192962587    accuracy: [ 0.0494586   0.06472817]"
       ]
      },
      {
       "output_type": "stream",
       "stream": "stdout",
       "text": [
        "\n",
        "iteration: 9500    loss: 0.00960794929415    accuracy: [ 0.02555591  0.14424515]"
       ]
      },
      {
       "output_type": "stream",
       "stream": "stdout",
       "text": [
        "\n",
        "iteration: 9600    loss: 0.0139687247574    accuracy: [ 0.06559093  0.080741  ]"
       ]
      },
      {
       "output_type": "stream",
       "stream": "stdout",
       "text": [
        "\n",
        "iteration: 9700    loss: 0.000315455661621    accuracy: [ 0.  0.]"
       ]
      },
      {
       "output_type": "stream",
       "stream": "stdout",
       "text": [
        "\n",
        "iteration: 9800    loss: 0.00337475119159    accuracy: [ 0.00668692  0.15296803]"
       ]
      },
      {
       "output_type": "stream",
       "stream": "stdout",
       "text": [
        "\n",
        "iteration: 9900    loss: 0.00245961500332    accuracy: [ 0.00404863  0.17342129]"
       ]
      },
      {
       "output_type": "stream",
       "stream": "stdout",
       "text": [
        "\n",
        "iteration: 10000   loss: 0.0104578752071    accuracy: [ 0.04800064  0.07196879]"
       ]
      },
      {
       "output_type": "stream",
       "stream": "stdout",
       "text": [
        "\n",
        "snaping to: /home/qinshuo/WorkPlace/caffe_space/seg_spine/weight/seg_spine_net_fin0.caffemodel\n",
        "iteration: 100     loss: 0.0127207301557    accuracy: [ 0.02158964  0.17953257]"
       ]
      },
      {
       "output_type": "stream",
       "stream": "stdout",
       "text": [
        "\n",
        "iteration: 200     loss: 0.0131968790665    accuracy: [ 0.02847324  0.08884408]"
       ]
      },
      {
       "output_type": "stream",
       "stream": "stdout",
       "text": [
        "\n",
        "iteration: 300     loss: 0.0133426003158    accuracy: [ 0.04171147  0.06844037]"
       ]
      },
      {
       "output_type": "stream",
       "stream": "stdout",
       "text": [
        "\n",
        "iteration: 400     loss: 0.000248231808655    accuracy: [ 0.  0.]"
       ]
      },
      {
       "output_type": "stream",
       "stream": "stdout",
       "text": [
        "\n",
        "iteration: 500     loss: 0.00991167593747    accuracy: [ 0.04821339  0.08388783]"
       ]
      },
      {
       "output_type": "stream",
       "stream": "stdout",
       "text": [
        "\n",
        "iteration: 600     loss: 0.000306264788378    accuracy: [ 0.  0.]"
       ]
      },
      {
       "output_type": "stream",
       "stream": "stdout",
       "text": [
        "\n",
        "iteration: 700     loss: 0.0202702768147    accuracy: [ 0.05117991  0.07641022]"
       ]
      },
      {
       "output_type": "stream",
       "stream": "stdout",
       "text": [
        "\n",
        "iteration: 800     loss: 0.000505958101712    accuracy: [ 0.  0.]"
       ]
      },
      {
       "output_type": "stream",
       "stream": "stdout",
       "text": [
        "\n",
        "iteration: 900     loss: 0.0150449154899    accuracy: [ 0.07173746  0.06518495]"
       ]
      },
      {
       "output_type": "stream",
       "stream": "stdout",
       "text": [
        "\n",
        "iteration: 1000    loss: 0.00888308137655    accuracy: [ 0.03644086  0.09088051]"
       ]
      },
      {
       "output_type": "stream",
       "stream": "stdout",
       "text": [
        "\n",
        "iteration: 1100    loss: 0.00570046808571    accuracy: [ 0.00910199  0.10323122]"
       ]
      },
      {
       "output_type": "stream",
       "stream": "stdout",
       "text": [
        "\n",
        "iteration: 1200    loss: 0.0117261726409    accuracy: [ 0.05063489  0.06967615]"
       ]
      },
      {
       "output_type": "stream",
       "stream": "stdout",
       "text": [
        "\n",
        "iteration: 1300    loss: 0.000256460800301    accuracy: [ 0.  0.]"
       ]
      },
      {
       "output_type": "stream",
       "stream": "stdout",
       "text": [
        "\n",
        "iteration: 1400    loss: 0.0159275643528    accuracy: [ 0.07059944  0.06928869]"
       ]
      },
      {
       "output_type": "stream",
       "stream": "stdout",
       "text": [
        "\n",
        "iteration: 1500    loss: 0.0133819272742    accuracy: [ 0.04819144  0.08552162]"
       ]
      },
      {
       "output_type": "stream",
       "stream": "stdout",
       "text": [
        "\n",
        "iteration: 1600    loss: 0.0031777638942    accuracy: [ 0.00681461  0.1612542 ]"
       ]
      },
      {
       "output_type": "stream",
       "stream": "stdout",
       "text": [
        "\n",
        "iteration: 1700    loss: 0.0120417298749    accuracy: [ 0.06680902  0.06975415]"
       ]
      },
      {
       "output_type": "stream",
       "stream": "stdout",
       "text": [
        "\n",
        "iteration: 1800    loss: 0.0120052471757    accuracy: [ 0.0658283   0.06027174]"
       ]
      },
      {
       "output_type": "stream",
       "stream": "stdout",
       "text": [
        "\n",
        "iteration: 1900    loss: 0.00796744134277    accuracy: [ 0.02104025  0.11002178]"
       ]
      },
      {
       "output_type": "stream",
       "stream": "stdout",
       "text": [
        "\n",
        "iteration: 2000    loss: 0.0106014022604    accuracy: [ 0.05768672  0.06371705]"
       ]
      },
      {
       "output_type": "stream",
       "stream": "stdout",
       "text": [
        "\n",
        "iteration: 2100    loss: 0.0104722902179    accuracy: [ 0.01529537  0.10875   ]"
       ]
      },
      {
       "output_type": "stream",
       "stream": "stdout",
       "text": [
        "\n",
        "iteration: 2200    loss: 0.0129948705435    accuracy: [ 0.04845933  0.0965936 ]"
       ]
      },
      {
       "output_type": "stream",
       "stream": "stdout",
       "text": [
        "\n",
        "iteration: 2300    loss: 0.00952790118754    accuracy: [ 0.02160068  0.14909798]"
       ]
      },
      {
       "output_type": "stream",
       "stream": "stdout",
       "text": [
        "\n",
        "iteration: 2400    loss: 0.0118179386482    accuracy: [ 0.02198572  0.07986776]"
       ]
      },
      {
       "output_type": "stream",
       "stream": "stdout",
       "text": [
        "\n",
        "iteration: 2500    loss: 0.00736760580912    accuracy: [ 0.01944155  0.08999804]"
       ]
      },
      {
       "output_type": "stream",
       "stream": "stdout",
       "text": [
        "\n",
        "iteration: 2600    loss: 0.0131374076009    accuracy: [ 0.02844328  0.17501679]"
       ]
      },
      {
       "output_type": "stream",
       "stream": "stdout",
       "text": [
        "\n",
        "iteration: 2700    loss: 0.000295592442853    accuracy: [ 0.  0.]"
       ]
      },
      {
       "output_type": "stream",
       "stream": "stdout",
       "text": [
        "\n",
        "iteration: 2800    loss: 0.011072088033    accuracy: [ 0.0480519   0.07768766]"
       ]
      },
      {
       "output_type": "stream",
       "stream": "stdout",
       "text": [
        "\n",
        "iteration: 2900    loss: 0.0107142236084    accuracy: [ 0.04626955  0.0753221 ]"
       ]
      },
      {
       "output_type": "stream",
       "stream": "stdout",
       "text": [
        "\n",
        "iteration: 3000    loss: 0.00403389101848    accuracy: [ 0.00471912  0.15291262]"
       ]
      },
      {
       "output_type": "stream",
       "stream": "stdout",
       "text": [
        "\n",
        "iteration: 3100    loss: 0.0094954771921    accuracy: [ 0.03606292  0.08411908]"
       ]
      },
      {
       "output_type": "stream",
       "stream": "stdout",
       "text": [
        "\n",
        "iteration: 3200    loss: 0.000361607177183    accuracy: [ 0.  0.]"
       ]
      },
      {
       "output_type": "stream",
       "stream": "stdout",
       "text": [
        "\n",
        "iteration: 3300    loss: 0.0109994504601    accuracy: [ 0.04801094  0.08435461]"
       ]
      },
      {
       "output_type": "stream",
       "stream": "stdout",
       "text": [
        "\n",
        "iteration: 3400    loss: 0.0138010913506    accuracy: [ 0.04838593  0.10030803]"
       ]
      },
      {
       "output_type": "stream",
       "stream": "stdout",
       "text": [
        "\n",
        "iteration: 3500    loss: 0.0149832358584    accuracy: [ 0.07547725  0.08506654]"
       ]
      },
      {
       "output_type": "stream",
       "stream": "stdout",
       "text": [
        "\n",
        "iteration: 3600    loss: 0.0103435795754    accuracy: [ 0.03203428  0.08220976]"
       ]
      },
      {
       "output_type": "stream",
       "stream": "stdout",
       "text": [
        "\n",
        "iteration: 3700    loss: 0.000300933636026    accuracy: [ 0.  0.]"
       ]
      },
      {
       "output_type": "stream",
       "stream": "stdout",
       "text": [
        "\n",
        "iteration: 3800    loss: 0.010102910921    accuracy: [ 0.04967595  0.08203276]"
       ]
      },
      {
       "output_type": "stream",
       "stream": "stdout",
       "text": [
        "\n",
        "iteration: 3900    loss: 0.0002455386566    accuracy: [ 0.  0.]"
       ]
      },
      {
       "output_type": "stream",
       "stream": "stdout",
       "text": [
        "\n",
        "iteration: 4000    loss: 0.0121464012191    accuracy: [ 0.04916461  0.093954  ]"
       ]
      },
      {
       "output_type": "stream",
       "stream": "stdout",
       "text": [
        "\n",
        "iteration: 4100    loss: 0.00190031400416    accuracy: [ 0.  0.]"
       ]
      },
      {
       "output_type": "stream",
       "stream": "stdout",
       "text": [
        "\n",
        "iteration: 4200    loss: 0.00871419813484    accuracy: [ 0.02829922  0.07778528]"
       ]
      },
      {
       "output_type": "stream",
       "stream": "stdout",
       "text": [
        "\n",
        "iteration: 4300    loss: 0.00222754175775    accuracy: [ 0.00289296  0.13192612]"
       ]
      },
      {
       "output_type": "stream",
       "stream": "stdout",
       "text": [
        "\n",
        "iteration: 4400    loss: 0.000526926945895    accuracy: [ 0.  0.]"
       ]
      },
      {
       "output_type": "stream",
       "stream": "stdout",
       "text": [
        "\n",
        "iteration: 4500    loss: 0.0119625115767    accuracy: [ 0.03728321  0.07877731]"
       ]
      },
      {
       "output_type": "stream",
       "stream": "stdout",
       "text": [
        "\n",
        "iteration: 4600    loss: 0.000812884361949    accuracy: [ 0.  0.]"
       ]
      },
      {
       "output_type": "stream",
       "stream": "stdout",
       "text": [
        "\n",
        "iteration: 4700    loss: 0.00873233098537    accuracy: [ 0.02597884  0.07559935]"
       ]
      },
      {
       "output_type": "stream",
       "stream": "stdout",
       "text": [
        "\n",
        "iteration: 4800    loss: 0.00328897009604    accuracy: [ 0.  0.]"
       ]
      },
      {
       "output_type": "stream",
       "stream": "stdout",
       "text": [
        "\n",
        "iteration: 4900    loss: 0.0144722405821    accuracy: [ 0.04248985  0.11538807]"
       ]
      },
      {
       "output_type": "stream",
       "stream": "stdout",
       "text": [
        "\n",
        "iteration: 5000    loss: 0.00938867777586    accuracy: [ 0.02648493  0.1018612 ]"
       ]
      },
      {
       "output_type": "stream",
       "stream": "stdout",
       "text": [
        "\n",
        "iteration: 5100    loss: 0.0119136767462    accuracy: [ 0.02971742  0.15068141]"
       ]
      },
      {
       "output_type": "stream",
       "stream": "stdout",
       "text": [
        "\n",
        "iteration: 5200    loss: 0.0124824298546    accuracy: [ 0.07069977  0.05848332]"
       ]
      },
      {
       "output_type": "stream",
       "stream": "stdout",
       "text": [
        "\n",
        "iteration: 5300    loss: 0.00142347114161    accuracy: [  2.86179798e-04   4.93333340e-01]"
       ]
      },
      {
       "output_type": "stream",
       "stream": "stdout",
       "text": [
        "\n",
        "iteration: 5400    loss: 0.0143189821392    accuracy: [ 0.04256224  0.05945849]"
       ]
      },
      {
       "output_type": "stream",
       "stream": "stdout",
       "text": [
        "\n",
        "iteration: 5500    loss: 0.00210363790393    accuracy: [ 0.00302244  0.11868687]"
       ]
      },
      {
       "output_type": "stream",
       "stream": "stdout",
       "text": [
        "\n",
        "iteration: 5600    loss: 0.00337778055109    accuracy: [ 0.00145079  0.19473684]"
       ]
      },
      {
       "output_type": "stream",
       "stream": "stdout",
       "text": [
        "\n",
        "iteration: 5700    loss: 0.0105660576373    accuracy: [ 0.05769539  0.06278562]"
       ]
      },
      {
       "output_type": "stream",
       "stream": "stdout",
       "text": [
        "\n",
        "iteration: 5800    loss: 0.00947962701321    accuracy: [ 0.03605032  0.08837555]"
       ]
      },
      {
       "output_type": "stream",
       "stream": "stdout",
       "text": [
        "\n",
        "iteration: 5900    loss: 0.0108665153384    accuracy: [ 0.0296951   0.15114485]"
       ]
      },
      {
       "output_type": "stream",
       "stream": "stdout",
       "text": [
        "\n",
        "iteration: 6000    loss: 0.0132864732295    accuracy: [ 0.04815723  0.09917486]"
       ]
      },
      {
       "output_type": "stream",
       "stream": "stdout",
       "text": [
        "\n",
        "iteration: 6100    loss: 0.0124858990312    accuracy: [ 0.04413687  0.09569585]"
       ]
      },
      {
       "output_type": "stream",
       "stream": "stdout",
       "text": [
        "\n",
        "iteration: 6200    loss: 0.0148063432425    accuracy: [ 0.02916579  0.07493439]"
       ]
      },
      {
       "output_type": "stream",
       "stream": "stdout",
       "text": [
        "\n",
        "iteration: 6300    loss: 0.00336375460029    accuracy: [ 0.00742256  0.15167095]"
       ]
      },
      {
       "output_type": "stream",
       "stream": "stdout",
       "text": [
        "\n",
        "iteration: 6400    loss: 0.00445756874979    accuracy: [ 0.01047964  0.04919825]"
       ]
      },
      {
       "output_type": "stream",
       "stream": "stdout",
       "text": [
        "\n",
        "iteration: 6500    loss: 0.012431319803    accuracy: [ 0.04246102  0.08473661]"
       ]
      },
      {
       "output_type": "stream",
       "stream": "stdout",
       "text": [
        "\n",
        "iteration: 6600    loss: 0.00443909177557    accuracy: [ 0.00599052  0.11727215]"
       ]
      },
      {
       "output_type": "stream",
       "stream": "stdout",
       "text": [
        "\n",
        "iteration: 6700    loss: 0.000407684914535    accuracy: [ 0.  0.]"
       ]
      },
      {
       "output_type": "stream",
       "stream": "stdout",
       "text": [
        "\n",
        "iteration: 6800    loss: 0.00200412073173    accuracy: [ 0.0036857   0.19047619]"
       ]
      },
      {
       "output_type": "stream",
       "stream": "stdout",
       "text": [
        "\n",
        "iteration: 6900    loss: 0.0114409923553    accuracy: [ 0.05015266  0.07817143]"
       ]
      },
      {
       "output_type": "stream",
       "stream": "stdout",
       "text": [
        "\n",
        "iteration: 7000    loss: 0.0134565420449    accuracy: [ 0.06563493  0.06959003]"
       ]
      },
      {
       "output_type": "stream",
       "stream": "stdout",
       "text": [
        "\n",
        "iteration: 7100    loss: 0.000391296605812    accuracy: [ 0.  0.]"
       ]
      },
      {
       "output_type": "stream",
       "stream": "stdout",
       "text": [
        "\n",
        "iteration: 7200    loss: 0.01271655038    accuracy: [ 0.04673915  0.09100572]"
       ]
      },
      {
       "output_type": "stream",
       "stream": "stdout",
       "text": [
        "\n",
        "iteration: 7300    loss: 0.0169020742178    accuracy: [ 0.01866494  0.10102669]"
       ]
      },
      {
       "output_type": "stream",
       "stream": "stdout",
       "text": [
        "\n",
        "iteration: 7400    loss: 0.0034503643401    accuracy: [ 0.00909105  0.1099916 ]"
       ]
      },
      {
       "output_type": "stream",
       "stream": "stdout",
       "text": [
        "\n",
        "iteration: 7500    loss: 0.000303001346765    accuracy: [ 0.  0.]"
       ]
      },
      {
       "output_type": "stream",
       "stream": "stdout",
       "text": [
        "\n",
        "iteration: 7600    loss: 0.00239305151626    accuracy: [ 0.0038991   0.27299413]"
       ]
      },
      {
       "output_type": "stream",
       "stream": "stdout",
       "text": [
        "\n",
        "iteration: 7700    loss: 0.00640045711771    accuracy: [ 0.0194306   0.12986247]"
       ]
      },
      {
       "output_type": "stream",
       "stream": "stdout",
       "text": [
        "\n",
        "iteration: 7800    loss: 0.000406125560403    accuracy: [ 0.  0.]"
       ]
      },
      {
       "output_type": "stream",
       "stream": "stdout",
       "text": [
        "\n",
        "iteration: 7900    loss: 0.0132999233902    accuracy: [ 0.0485023   0.08521876]"
       ]
      },
      {
       "output_type": "stream",
       "stream": "stdout",
       "text": [
        "\n",
        "iteration: 8000    loss: 0.0113475248218    accuracy: [ 0.02098391  0.23689957]"
       ]
      },
      {
       "output_type": "stream",
       "stream": "stdout",
       "text": [
        "\n",
        "iteration: 8100    loss: 0.0111876828596    accuracy: [ 0.04891275  0.07672475]"
       ]
      },
      {
       "output_type": "stream",
       "stream": "stdout",
       "text": [
        "\n",
        "iteration: 8200    loss: 0.0148251857609    accuracy: [ 0.06553436  0.08007231]"
       ]
      },
      {
       "output_type": "stream",
       "stream": "stdout",
       "text": [
        "\n",
        "iteration: 8300    loss: 0.0016058444744    accuracy: [ 0.  0.]"
       ]
      },
      {
       "output_type": "stream",
       "stream": "stdout",
       "text": [
        "\n",
        "iteration: 8400    loss: 0.011579291895    accuracy: [ 0.04716401  0.08554763]"
       ]
      },
      {
       "output_type": "stream",
       "stream": "stdout",
       "text": [
        "\n",
        "iteration: 8500    loss: 0.0118458652869    accuracy: [ 0.04325287  0.10015898]"
       ]
      },
      {
       "output_type": "stream",
       "stream": "stdout",
       "text": [
        "\n",
        "iteration: 8600    loss: 0.00952524598688    accuracy: [ 0.034546    0.09146207]"
       ]
      },
      {
       "output_type": "stream",
       "stream": "stdout",
       "text": [
        "\n",
        "iteration: 8700    loss: 0.000285317335511    accuracy: [ 0.  0.]"
       ]
      },
      {
       "output_type": "stream",
       "stream": "stdout",
       "text": [
        "\n",
        "iteration: 8800    loss: 0.0116733517498    accuracy: [ 0.0373277  0.0664959]"
       ]
      },
      {
       "output_type": "stream",
       "stream": "stdout",
       "text": [
        "\n",
        "iteration: 8900    loss: 0.0113689992577    accuracy: [ 0.04289662  0.07671746]"
       ]
      },
      {
       "output_type": "stream",
       "stream": "stdout",
       "text": [
        "\n",
        "iteration: 9000    loss: 0.0112360417843    accuracy: [ 0.02698849  0.10665722]"
       ]
      },
      {
       "output_type": "stream",
       "stream": "stdout",
       "text": [
        "\n",
        "iteration: 9100    loss: 0.0124299582094    accuracy: [ 0.04440911  0.08555689]"
       ]
      },
      {
       "output_type": "stream",
       "stream": "stdout",
       "text": [
        "\n",
        "iteration: 9200    loss: 0.0108972694725    accuracy: [ 0.02153349  0.24836022]"
       ]
      },
      {
       "output_type": "stream",
       "stream": "stdout",
       "text": [
        "\n",
        "iteration: 9300    loss: 0.0127026792616    accuracy: [ 0.06320039  0.0630974 ]"
       ]
      },
      {
       "output_type": "stream",
       "stream": "stdout",
       "text": [
        "\n",
        "iteration: 9400    loss: 0.0137779507786    accuracy: [ 0.04366652  0.08540644]"
       ]
      },
      {
       "output_type": "stream",
       "stream": "stdout",
       "text": [
        "\n",
        "iteration: 9500    loss: 0.0109920306131    accuracy: [ 0.02378604  0.12745099]"
       ]
      },
      {
       "output_type": "stream",
       "stream": "stdout",
       "text": [
        "\n",
        "iteration: 9600    loss: 0.00995768792927    accuracy: [ 0.03648595  0.10375877]"
       ]
      },
      {
       "output_type": "stream",
       "stream": "stdout",
       "text": [
        "\n",
        "iteration: 9700    loss: 0.0153404874727    accuracy: [ 0.03335345  0.20682546]"
       ]
      },
      {
       "output_type": "stream",
       "stream": "stdout",
       "text": [
        "\n",
        "iteration: 9800    loss: 0.00280949613079    accuracy: [ 0.00481851  0.32937449]"
       ]
      },
      {
       "output_type": "stream",
       "stream": "stdout",
       "text": [
        "\n",
        "iteration: 9900    loss: 0.0103520499542    accuracy: [ 0.02553687  0.12509352]"
       ]
      },
      {
       "output_type": "stream",
       "stream": "stdout",
       "text": [
        "\n",
        "iteration: 10000   loss: 0.0136506576091    accuracy: [ 0.06320982  0.06394435]"
       ]
      },
      {
       "output_type": "stream",
       "stream": "stdout",
       "text": [
        "\n",
        "snaping to: /home/qinshuo/WorkPlace/caffe_space/seg_spine/weight/seg_spine_net_fin10000.caffemodel\n",
        "iteration: 100     loss: 0.0108138844371    accuracy: [ 0.04754046  0.0842173 ]"
       ]
      },
      {
       "output_type": "stream",
       "stream": "stdout",
       "text": [
        "\n",
        "iteration: 200     loss: 0.00221612420864    accuracy: [ 0.00164082  0.43023255]"
       ]
      },
      {
       "output_type": "stream",
       "stream": "stdout",
       "text": [
        "\n",
        "iteration: 300     loss: 0.000287090311758    accuracy: [ 0.  0.]"
       ]
      },
      {
       "output_type": "stream",
       "stream": "stdout",
       "text": [
        "\n",
        "iteration: 400     loss: 0.0136826448143    accuracy: [ 0.06424841  0.08171762]"
       ]
      },
      {
       "output_type": "stream",
       "stream": "stdout",
       "text": [
        "\n",
        "iteration: 500     loss: 0.000245337723754    accuracy: [ 0.  0.]"
       ]
      },
      {
       "output_type": "stream",
       "stream": "stdout",
       "text": [
        "\n",
        "iteration: 600     loss: 0.0027552540414    accuracy: [ 0.00132835  0.18103448]"
       ]
      },
      {
       "output_type": "stream",
       "stream": "stdout",
       "text": [
        "\n",
        "iteration: 700     loss: 0.000712252804078    accuracy: [ 0.  0.]"
       ]
      },
      {
       "output_type": "stream",
       "stream": "stdout",
       "text": [
        "\n",
        "iteration: 800     loss: 0.00945972464979    accuracy: [ 0.02957931  0.06953599]"
       ]
      },
      {
       "output_type": "stream",
       "stream": "stdout",
       "text": [
        "\n",
        "iteration: 900     loss: 0.0105894291773    accuracy: [ 0.04716711  0.08890688]"
       ]
      },
      {
       "output_type": "stream",
       "stream": "stdout",
       "text": [
        "\n",
        "iteration: 1000    loss: 0.0119197163731    accuracy: [ 0.05011788  0.07967368]"
       ]
      },
      {
       "output_type": "stream",
       "stream": "stdout",
       "text": [
        "\n",
        "iteration: 1100    loss: 0.000227469718084    accuracy: [ 0.  0.]"
       ]
      },
      {
       "output_type": "stream",
       "stream": "stdout",
       "text": [
        "\n",
        "iteration: 1200    loss: 0.0160977430642    accuracy: [ 0.07057299  0.08830058]"
       ]
      },
      {
       "output_type": "stream",
       "stream": "stdout",
       "text": [
        "\n",
        "iteration: 1300    loss: 0.00737127009779    accuracy: [ 0.00916867  0.16708334]"
       ]
      },
      {
       "output_type": "stream",
       "stream": "stdout",
       "text": [
        "\n",
        "iteration: 1400    loss: 0.0138401500881    accuracy: [ 0.05329825  0.07591849]"
       ]
      },
      {
       "output_type": "stream",
       "stream": "stdout",
       "text": [
        "\n",
        "iteration: 1500    loss: 0.00258143991232    accuracy: [ 0.00389507  0.34378061]"
       ]
      },
      {
       "output_type": "stream",
       "stream": "stdout",
       "text": [
        "\n",
        "iteration: 1600    loss: 0.00155960768461    accuracy: [ 0.00714212  0.08653846]"
       ]
      },
      {
       "output_type": "stream",
       "stream": "stdout",
       "text": [
        "\n",
        "iteration: 1700    loss: 0.00134006002918    accuracy: [ 0.  0.]"
       ]
      },
      {
       "output_type": "stream",
       "stream": "stdout",
       "text": [
        "\n",
        "iteration: 1800    loss: 0.00875768531114    accuracy: [ 0.02801651  0.12605615]"
       ]
      },
      {
       "output_type": "stream",
       "stream": "stdout",
       "text": [
        "\n",
        "iteration: 1900    loss: 0.0100881392136    accuracy: [ 0.02382935  0.15595448]"
       ]
      },
      {
       "output_type": "stream",
       "stream": "stdout",
       "text": [
        "\n",
        "iteration: 2000    loss: 0.00496416352689    accuracy: [ 0.01268315  0.2202166 ]"
       ]
      },
      {
       "output_type": "stream",
       "stream": "stdout",
       "text": [
        "\n",
        "iteration: 2100    loss: 0.00581515952945    accuracy: [ 0.01466877  0.12155128]"
       ]
      },
      {
       "output_type": "stream",
       "stream": "stdout",
       "text": [
        "\n",
        "iteration: 2200    loss: 0.0109381936491    accuracy: [ 0.02832979  0.12585998]"
       ]
      },
      {
       "output_type": "stream",
       "stream": "stdout",
       "text": [
        "\n",
        "iteration: 2300    loss: 0.000470532511827    accuracy: [ 0.  0.]"
       ]
      },
      {
       "output_type": "stream",
       "stream": "stdout",
       "text": [
        "\n",
        "iteration: 2400    loss: 0.0151166981086    accuracy: [ 0.01891372  0.25828618]"
       ]
      },
      {
       "output_type": "stream",
       "stream": "stdout",
       "text": [
        "\n",
        "iteration: 2500    loss: 0.00463049346581    accuracy: [ 0.0042735   0.14834674]"
       ]
      },
      {
       "output_type": "stream",
       "stream": "stdout",
       "text": [
        "\n",
        "iteration: 2600    loss: 0.0110817439854    accuracy: [ 0.04813974  0.08277778]"
       ]
      },
      {
       "output_type": "stream",
       "stream": "stdout",
       "text": [
        "\n",
        "iteration: 2700    loss: 0.00337474094704    accuracy: [ 0.00502279  0.17857143]"
       ]
      },
      {
       "output_type": "stream",
       "stream": "stdout",
       "text": [
        "\n",
        "iteration: 2800    loss: 0.0110095692798    accuracy: [ 0.05014744  0.08584051]"
       ]
      },
      {
       "output_type": "stream",
       "stream": "stdout",
       "text": [
        "\n",
        "iteration: 2900    loss: 0.0118703199551    accuracy: [ 0.04854562  0.09890629]"
       ]
      },
      {
       "output_type": "stream",
       "stream": "stdout",
       "text": [
        "\n",
        "iteration: 3000    loss: 0.000654376461171    accuracy: [ 0.  0.]"
       ]
      },
      {
       "output_type": "stream",
       "stream": "stdout",
       "text": [
        "\n",
        "iteration: 3100    loss: 0.0111373122782    accuracy: [ 0.04439392  0.08108806]"
       ]
      },
      {
       "output_type": "stream",
       "stream": "stdout",
       "text": [
        "\n",
        "iteration: 3200    loss: 0.0125600155443    accuracy: [ 0.04670782  0.09239709]"
       ]
      },
      {
       "output_type": "stream",
       "stream": "stdout",
       "text": [
        "\n",
        "iteration: 3300    loss: 0.000325236149365    accuracy: [ 0.  0.]"
       ]
      },
      {
       "output_type": "stream",
       "stream": "stdout",
       "text": [
        "\n",
        "iteration: 3400    loss: 0.00996960699558    accuracy: [ 0.02706841  0.17068698]"
       ]
      },
      {
       "output_type": "stream",
       "stream": "stdout",
       "text": [
        "\n",
        "iteration: 3500    loss: 0.000394609989598    accuracy: [ 0.  0.]"
       ]
      },
      {
       "output_type": "stream",
       "stream": "stdout",
       "text": [
        "\n",
        "iteration: 3600    loss: 0.0101696942002    accuracy: [ 0.02008487  0.2863386 ]"
       ]
      },
      {
       "output_type": "stream",
       "stream": "stdout",
       "text": [
        "\n",
        "iteration: 3700    loss: 0.000242142094066    accuracy: [ 0.  0.]"
       ]
      },
      {
       "output_type": "stream",
       "stream": "stdout",
       "text": [
        "\n",
        "iteration: 3800    loss: 0.0125069627538    accuracy: [ 0.06456666  0.07420997]"
       ]
      },
      {
       "output_type": "stream",
       "stream": "stdout",
       "text": [
        "\n",
        "iteration: 3900    loss: 0.011830794625    accuracy: [ 0.04745168  0.09628855]"
       ]
      },
      {
       "output_type": "stream",
       "stream": "stdout",
       "text": [
        "\n",
        "iteration: 4000    loss: 0.00530923064798    accuracy: [ 0.00835462  0.17184643]"
       ]
      },
      {
       "output_type": "stream",
       "stream": "stdout",
       "text": [
        "\n",
        "iteration: 4100    loss: 0.00552034052089    accuracy: [ 0.00835154  0.14631917]"
       ]
      },
      {
       "output_type": "stream",
       "stream": "stdout",
       "text": [
        "\n",
        "iteration: 4200    loss: 0.00837733317167    accuracy: [ 0.01950578  0.08699059]"
       ]
      },
      {
       "output_type": "stream",
       "stream": "stdout",
       "text": [
        "\n",
        "iteration: 4300    loss: 0.0103254253045    accuracy: [ 0.0126749   0.29518071]"
       ]
      },
      {
       "output_type": "stream",
       "stream": "stdout",
       "text": [
        "\n",
        "iteration: 4400    loss: 0.00889237970114    accuracy: [ 0.01989386  0.11618975]"
       ]
      },
      {
       "output_type": "stream",
       "stream": "stdout",
       "text": [
        "\n",
        "iteration: 4500    loss: 0.0111514413729    accuracy: [ 0.04706184  0.06685078]"
       ]
      },
      {
       "output_type": "stream",
       "stream": "stdout",
       "text": [
        "\n",
        "iteration: 4600    loss: 0.0163089893758    accuracy: [ 0.06327729  0.08028535]"
       ]
      },
      {
       "output_type": "stream",
       "stream": "stdout",
       "text": [
        "\n",
        "iteration: 4700    loss: 0.0110834538937    accuracy: [ 0.0481285   0.05831413]"
       ]
      },
      {
       "output_type": "stream",
       "stream": "stdout",
       "text": [
        "\n",
        "iteration: 4800    loss: 0.00803930871189    accuracy: [ 0.00989025  0.17419854]"
       ]
      },
      {
       "output_type": "stream",
       "stream": "stdout",
       "text": [
        "\n",
        "iteration: 4900    loss: 0.000282101391349    accuracy: [ 0.  0.]"
       ]
      },
      {
       "output_type": "stream",
       "stream": "stdout",
       "text": [
        "\n",
        "iteration: 5000    loss: 0.0125012425706    accuracy: [ 0.04812209  0.08577555]"
       ]
      },
      {
       "output_type": "stream",
       "stream": "stdout",
       "text": [
        "\n",
        "iteration: 5100    loss: 0.00289475917816    accuracy: [ 0.00121377  0.49685535]"
       ]
      },
      {
       "output_type": "stream",
       "stream": "stdout",
       "text": [
        "\n",
        "iteration: 5200    loss: 0.0108218565583    accuracy: [ 0.04334117  0.07548501]"
       ]
      },
      {
       "output_type": "stream",
       "stream": "stdout",
       "text": [
        "\n",
        "iteration: 5300    loss: 0.000364352454199    accuracy: [ 0.  0.]"
       ]
      },
      {
       "output_type": "stream",
       "stream": "stdout",
       "text": [
        "\n",
        "iteration: 5400    loss: 0.000292621960398    accuracy: [ 0.  0.]"
       ]
      },
      {
       "output_type": "stream",
       "stream": "stdout",
       "text": [
        "\n",
        "iteration: 5500    loss: 0.0141614321619    accuracy: [ 0.04338228  0.0801658 ]"
       ]
      },
      {
       "output_type": "stream",
       "stream": "stdout",
       "text": [
        "\n",
        "iteration: 5600    loss: 0.00785171519965    accuracy: [ 0.01054598  0.14239131]"
       ]
      },
      {
       "output_type": "stream",
       "stream": "stdout",
       "text": [
        "\n",
        "iteration: 5700    loss: 0.000258546206169    accuracy: [ 0.  0.]"
       ]
      },
      {
       "output_type": "stream",
       "stream": "stdout",
       "text": [
        "\n",
        "iteration: 5800    loss: 0.000261757348198    accuracy: [ 0.  0.]"
       ]
      },
      {
       "output_type": "stream",
       "stream": "stdout",
       "text": [
        "\n",
        "iteration: 5900    loss: 0.000250194221735    accuracy: [ 0.  0.]"
       ]
      },
      {
       "output_type": "stream",
       "stream": "stdout",
       "text": [
        "\n",
        "iteration: 6000    loss: 0.0114259887487    accuracy: [ 0.04158431  0.07814655]"
       ]
      },
      {
       "output_type": "stream",
       "stream": "stdout",
       "text": [
        "\n",
        "iteration: 6100    loss: 0.00139786547516    accuracy: [ 0.00121695  0.48275861]"
       ]
      },
      {
       "output_type": "stream",
       "stream": "stdout",
       "text": [
        "\n",
        "iteration: 6200    loss: 0.0136862453073    accuracy: [ 0.06441674  0.06586755]"
       ]
      },
      {
       "output_type": "stream",
       "stream": "stdout",
       "text": [
        "\n",
        "iteration: 6300    loss: 0.0122065832838    accuracy: [ 0.02972734  0.13077022]"
       ]
      },
      {
       "output_type": "stream",
       "stream": "stdout",
       "text": [
        "\n",
        "iteration: 6400    loss: 0.00842525996268    accuracy: [ 0.03644874  0.06269001]"
       ]
      },
      {
       "output_type": "stream",
       "stream": "stdout",
       "text": [
        "\n",
        "iteration: 6500    loss: 0.0203686449677    accuracy: [ 0.05409583  0.0627526 ]"
       ]
      },
      {
       "output_type": "stream",
       "stream": "stdout",
       "text": [
        "\n",
        "iteration: 6600    loss: 0.0023339537438    accuracy: [ 0.00389945  0.18297456]"
       ]
      },
      {
       "output_type": "stream",
       "stream": "stdout",
       "text": [
        "\n",
        "iteration: 6700    loss: 0.0126966703683    accuracy: [ 0.04247531  0.07312021]"
       ]
      },
      {
       "output_type": "stream",
       "stream": "stdout",
       "text": [
        "\n",
        "iteration: 6800    loss: 0.0178043432534    accuracy: [ 0.06435708  0.09283804]"
       ]
      },
      {
       "output_type": "stream",
       "stream": "stdout",
       "text": [
        "\n",
        "iteration: 6900    loss: 0.0126362992451    accuracy: [ 0.04946182  0.09146389]"
       ]
      },
      {
       "output_type": "stream",
       "stream": "stdout",
       "text": [
        "\n",
        "iteration: 7000    loss: 0.00501462910324    accuracy: [ 0.0068318   0.17709497]"
       ]
      },
      {
       "output_type": "stream",
       "stream": "stdout",
       "text": [
        "\n",
        "iteration: 7100    loss: 0.0113017112017    accuracy: [ 0.04294404  0.07210896]"
       ]
      },
      {
       "output_type": "stream",
       "stream": "stdout",
       "text": [
        "\n",
        "iteration: 7200    loss: 0.014211403206    accuracy: [ 0.01977446  0.10840108]"
       ]
      },
      {
       "output_type": "stream",
       "stream": "stdout",
       "text": [
        "\n",
        "iteration: 7300    loss: 0.000616046250798    accuracy: [ 0.  0.]"
       ]
      },
      {
       "output_type": "stream",
       "stream": "stdout",
       "text": [
        "\n",
        "iteration: 7400    loss: 0.0113935805857    accuracy: [ 0.04808133  0.06186879]"
       ]
      },
      {
       "output_type": "stream",
       "stream": "stdout",
       "text": [
        "\n",
        "iteration: 7500    loss: 0.012724827975    accuracy: [ 0.02429916  0.14000314]"
       ]
      },
      {
       "output_type": "stream",
       "stream": "stdout",
       "text": [
        "\n",
        "iteration: 7600    loss: 0.00226024445146    accuracy: [ 0.00390381  0.13000977]"
       ]
      },
      {
       "output_type": "stream",
       "stream": "stdout",
       "text": [
        "\n",
        "iteration: 7700    loss: 0.00313764531165    accuracy: [ 0.00133931  0.6837607 ]"
       ]
      },
      {
       "output_type": "stream",
       "stream": "stdout",
       "text": [
        "\n",
        "iteration: 7800    loss: 0.010212123394    accuracy: [ 0.01992589  0.09172904]"
       ]
      },
      {
       "output_type": "stream",
       "stream": "stdout",
       "text": [
        "\n",
        "iteration: 7900    loss: 0.0121710533276    accuracy: [ 0.04363693  0.10246081]"
       ]
      },
      {
       "output_type": "stream",
       "stream": "stdout",
       "text": [
        "\n",
        "iteration: 8000    loss: 0.00516904797405    accuracy: [ 0.01867863  0.05234103]"
       ]
      },
      {
       "output_type": "stream",
       "stream": "stdout",
       "text": [
        "\n",
        "iteration: 8100    loss: 0.00342702819034    accuracy: [ 0.00813092  0.17128108]"
       ]
      },
      {
       "output_type": "stream",
       "stream": "stdout",
       "text": [
        "\n",
        "iteration: 8200    loss: 0.0103560788557    accuracy: [ 0.02093383  0.1893815 ]"
       ]
      },
      {
       "output_type": "stream",
       "stream": "stdout",
       "text": [
        "\n",
        "iteration: 8300    loss: 0.0148844141513    accuracy: [ 0.07169528  0.07313433]"
       ]
      },
      {
       "output_type": "stream",
       "stream": "stdout",
       "text": [
        "\n",
        "iteration: 8400    loss: 0.0106936432421    accuracy: [ 0.04431608  0.09077586]"
       ]
      },
      {
       "output_type": "stream",
       "stream": "stdout",
       "text": [
        "\n",
        "iteration: 8500    loss: 0.00966133922338    accuracy: [ 0.04967734  0.06552838]"
       ]
      },
      {
       "output_type": "stream",
       "stream": "stdout",
       "text": [
        "\n",
        "iteration: 8600    loss: 0.0143306292593    accuracy: [ 0.04712338  0.08642376]"
       ]
      },
      {
       "output_type": "stream",
       "stream": "stdout",
       "text": [
        "\n",
        "iteration: 8700    loss: 0.0157165806741    accuracy: [ 0.02912328  0.09649008]"
       ]
      },
      {
       "output_type": "stream",
       "stream": "stdout",
       "text": [
        "\n",
        "iteration: 8800    loss: 0.0041988901794    accuracy: [ 0.00905687  0.13358618]"
       ]
      },
      {
       "output_type": "stream",
       "stream": "stdout",
       "text": [
        "\n",
        "iteration: 8900    loss: 0.00947571359575    accuracy: [ 0.04946493  0.06240828]"
       ]
      },
      {
       "output_type": "stream",
       "stream": "stdout",
       "text": [
        "\n",
        "iteration: 9000    loss: 0.00228678993881    accuracy: [ 0.00122125  0.159375  ]"
       ]
      },
      {
       "output_type": "stream",
       "stream": "stdout",
       "text": [
        "\n",
        "iteration: 9100    loss: 0.0129157844931    accuracy: [ 0.03200009  0.06265694]"
       ]
      },
      {
       "output_type": "stream",
       "stream": "stdout",
       "text": [
        "\n",
        "iteration: 9200    loss: 0.00158872664906    accuracy: [  1.06822525e-04   1.00000000e+00]"
       ]
      },
      {
       "output_type": "stream",
       "stream": "stdout",
       "text": [
        "\n",
        "iteration: 9300    loss: 0.0115326587111    accuracy: [ 0.03724555  0.08599281]"
       ]
      },
      {
       "output_type": "stream",
       "stream": "stdout",
       "text": [
        "\n",
        "iteration: 9400    loss: 0.0141763342544    accuracy: [ 0.03984106  0.070907  ]"
       ]
      },
      {
       "output_type": "stream",
       "stream": "stdout",
       "text": [
        "\n",
        "iteration: 9500    loss: 0.0114855561405    accuracy: [ 0.04783331  0.0898347 ]"
       ]
      },
      {
       "output_type": "stream",
       "stream": "stdout",
       "text": [
        "\n",
        "iteration: 9600    loss: 0.0155419176444    accuracy: [ 0.0633139   0.07099698]"
       ]
      },
      {
       "output_type": "stream",
       "stream": "stdout",
       "text": [
        "\n",
        "iteration: 9700    loss: 0.0089600244537    accuracy: [ 0.02826091  0.10164909]"
       ]
      },
      {
       "output_type": "stream",
       "stream": "stdout",
       "text": [
        "\n",
        "iteration: 9800    loss: 0.0154984798282    accuracy: [ 0.033068    0.13487566]"
       ]
      },
      {
       "output_type": "stream",
       "stream": "stdout",
       "text": [
        "\n",
        "iteration: 9900    loss: 0.00872992351651    accuracy: [ 0.00908674  0.07067733]"
       ]
      },
      {
       "output_type": "stream",
       "stream": "stdout",
       "text": [
        "\n",
        "iteration: 10000   loss: 0.00406732596457    accuracy: [ 0.00943036  0.09595142]"
       ]
      },
      {
       "output_type": "stream",
       "stream": "stdout",
       "text": [
        "\n",
        "snaping to: /home/qinshuo/WorkPlace/caffe_space/seg_spine/weight/seg_spine_net_fin20000.caffemodel\n",
        "iteration: 100     loss: 0.0127846412361    accuracy: [ 0.06006541  0.07963363]"
       ]
      },
      {
       "output_type": "stream",
       "stream": "stdout",
       "text": [
        "\n",
        "iteration: 200     loss: 0.00397836184129    accuracy: [ 0.00362655  0.28      ]"
       ]
      },
      {
       "output_type": "stream",
       "stream": "stdout",
       "text": [
        "\n",
        "iteration: 300     loss: 0.000318797538057    accuracy: [ 0.  0.]"
       ]
      },
      {
       "output_type": "stream",
       "stream": "stdout",
       "text": [
        "\n",
        "iteration: 400     loss: 0.00958509556949    accuracy: [ 0.01406036  0.27023357]"
       ]
      },
      {
       "output_type": "stream",
       "stream": "stdout",
       "text": [
        "\n",
        "iteration: 500     loss: 0.0114972889423    accuracy: [ 0.04794801  0.08239701]"
       ]
      },
      {
       "output_type": "stream",
       "stream": "stdout",
       "text": [
        "\n",
        "iteration: 600     loss: 0.0118852667511    accuracy: [ 0.02432916  0.10922521]"
       ]
      },
      {
       "output_type": "stream",
       "stream": "stdout",
       "text": [
        "\n",
        "iteration: 700     loss: 0.0117877162993    accuracy: [ 0.04715232  0.07823267]"
       ]
      },
      {
       "output_type": "stream",
       "stream": "stdout",
       "text": [
        "\n",
        "iteration: 800     loss: 0.000347279274138    accuracy: [ 0.  0.]"
       ]
      },
      {
       "output_type": "stream",
       "stream": "stdout",
       "text": [
        "\n",
        "iteration: 900     loss: 0.00230870908126    accuracy: [ 0.00135831  0.4775281 ]"
       ]
      },
      {
       "output_type": "stream",
       "stream": "stdout",
       "text": [
        "\n",
        "iteration: 1000    loss: 0.00478024221957    accuracy: [ 0.00266076  0.38307029]"
       ]
      },
      {
       "output_type": "stream",
       "stream": "stdout",
       "text": [
        "\n",
        "iteration: 1100    loss: 0.0156232211739    accuracy: [ 0.07448383  0.07554917]"
       ]
      },
      {
       "output_type": "stream",
       "stream": "stdout",
       "text": [
        "\n",
        "iteration: 1200    loss: 0.00996483303607    accuracy: [ 0.03741294  0.11134925]"
       ]
      },
      {
       "output_type": "stream",
       "stream": "stdout",
       "text": [
        "\n",
        "iteration: 1300    loss: 0.0130518479273    accuracy: [ 0.05325374  0.06405745]"
       ]
      },
      {
       "output_type": "stream",
       "stream": "stdout",
       "text": [
        "\n",
        "iteration: 1400    loss: 0.00712643098086    accuracy: [ 0.01780093  0.18821007]"
       ]
      },
      {
       "output_type": "stream",
       "stream": "stdout",
       "text": [
        "\n",
        "iteration: 1500    loss: 0.0134004559368    accuracy: [ 0.061384    0.07708113]"
       ]
      },
      {
       "output_type": "stream",
       "stream": "stdout",
       "text": [
        "\n",
        "iteration: 1600    loss: 0.0127173112705    accuracy: [ 0.05321998  0.08887932]"
       ]
      },
      {
       "output_type": "stream",
       "stream": "stdout",
       "text": [
        "\n",
        "iteration: 1700    loss: 0.000247991119977    accuracy: [ 0.  0.]"
       ]
      },
      {
       "output_type": "stream",
       "stream": "stdout",
       "text": [
        "\n",
        "iteration: 1800    loss: 0.0107387695462    accuracy: [ 0.02697167  0.12198924]"
       ]
      },
      {
       "output_type": "stream",
       "stream": "stdout",
       "text": [
        "\n",
        "iteration: 1900    loss: 0.0055889217183    accuracy: [ 0.00839466  0.1278435 ]"
       ]
      },
      {
       "output_type": "stream",
       "stream": "stdout",
       "text": [
        "\n",
        "iteration: 2000    loss: 0.0111837498844    accuracy: [ 0.04942187  0.07314056]"
       ]
      },
      {
       "output_type": "stream",
       "stream": "stdout",
       "text": [
        "\n",
        "iteration: 2100    loss: 0.0107344696298    accuracy: [ 0.03723658  0.09707543]"
       ]
      },
      {
       "output_type": "stream",
       "stream": "stdout",
       "text": [
        "\n",
        "iteration: 2200    loss: 0.00545991584659    accuracy: [ 0.00340349  0.23007856]"
       ]
      },
      {
       "output_type": "stream",
       "stream": "stdout",
       "text": [
        "\n",
        "iteration: 2300    loss: 0.0112796695903    accuracy: [ 0.04980448  0.09538414]"
       ]
      },
      {
       "output_type": "stream",
       "stream": "stdout",
       "text": [
        "\n",
        "iteration: 2400    loss: 0.0137255862355    accuracy: [ 0.04320702  0.12104332]"
       ]
      },
      {
       "output_type": "stream",
       "stream": "stdout",
       "text": [
        "\n",
        "iteration: 2500    loss: 0.000455165281892    accuracy: [ 0.  0.]"
       ]
      },
      {
       "output_type": "stream",
       "stream": "stdout",
       "text": [
        "\n",
        "iteration: 2600    loss: 0.0288982689381    accuracy: [ 0.05414404  0.08362295]"
       ]
      },
      {
       "output_type": "stream",
       "stream": "stdout",
       "text": [
        "\n",
        "iteration: 2700    loss: 0.00433155754581    accuracy: [ 0.00501688  0.16057838]"
       ]
      },
      {
       "output_type": "stream",
       "stream": "stdout",
       "text": [
        "\n",
        "iteration: 2800    loss: 0.0135254319757    accuracy: [ 0.06551828  0.08285714]"
       ]
      },
      {
       "output_type": "stream",
       "stream": "stdout",
       "text": [
        "\n",
        "iteration: 2900    loss: 0.0139462053776    accuracy: [ 0.03729138  0.06908233]"
       ]
      },
      {
       "output_type": "stream",
       "stream": "stdout",
       "text": [
        "\n",
        "iteration: 3000    loss: 0.00845412816852    accuracy: [ 0.01530754  0.1865802 ]"
       ]
      },
      {
       "output_type": "stream",
       "stream": "stdout",
       "text": [
        "\n",
        "iteration: 3100    loss: 0.00824301689863    accuracy: [ 0.00441943  0.70725387]"
       ]
      },
      {
       "output_type": "stream",
       "stream": "stdout",
       "text": [
        "\n",
        "iteration: 3200    loss: 0.00993191823363    accuracy: [ 0.01276316  0.30173445]"
       ]
      },
      {
       "output_type": "stream",
       "stream": "stdout",
       "text": [
        "\n",
        "iteration: 3300    loss: 0.00870263576508    accuracy: [ 0.01055738  0.14699493]"
       ]
      },
      {
       "output_type": "stream",
       "stream": "stdout",
       "text": [
        "\n",
        "iteration: 3400    loss: 0.0138884941116    accuracy: [ 0.02750686  0.12004451]"
       ]
      },
      {
       "output_type": "stream",
       "stream": "stdout",
       "text": [
        "\n",
        "iteration: 3500    loss: 0.000269683718216    accuracy: [ 0.  0.]"
       ]
      },
      {
       "output_type": "stream",
       "stream": "stdout",
       "text": [
        "\n",
        "iteration: 3600    loss: 0.0119550246745    accuracy: [ 0.0338681   0.08231708]"
       ]
      },
      {
       "output_type": "stream",
       "stream": "stdout",
       "text": [
        "\n",
        "iteration: 3700    loss: 0.0187260191888    accuracy: [ 0.05402787  0.09255191]"
       ]
      },
      {
       "output_type": "stream",
       "stream": "stdout",
       "text": [
        "\n",
        "iteration: 3800    loss: 0.0146955940872    accuracy: [ 0.01405185  0.2039205 ]"
       ]
      },
      {
       "output_type": "stream",
       "stream": "stdout",
       "text": [
        "\n",
        "iteration: 3900    loss: 0.00213303859346    accuracy: [ 0.00404097  0.11048159]"
       ]
      },
      {
       "output_type": "stream",
       "stream": "stdout",
       "text": [
        "\n",
        "iteration: 4000    loss: 0.000284264446236    accuracy: [ 0.  0.]"
       ]
      },
      {
       "output_type": "stream",
       "stream": "stdout",
       "text": [
        "\n",
        "iteration: 4100    loss: 0.00164630566724    accuracy: [ 0.00459768  0.09792531]"
       ]
      },
      {
       "output_type": "stream",
       "stream": "stdout",
       "text": [
        "\n",
        "iteration: 4200    loss: 0.0026142464485    accuracy: [ 0.00432354  0.17652251]"
       ]
      },
      {
       "output_type": "stream",
       "stream": "stdout",
       "text": [
        "\n",
        "iteration: 4300    loss: 0.000412683701143    accuracy: [ 0.  0.]"
       ]
      },
      {
       "output_type": "stream",
       "stream": "stdout",
       "text": [
        "\n",
        "iteration: 4400    loss: 0.00992745440453    accuracy: [ 0.0255254   0.17217651]"
       ]
      },
      {
       "output_type": "stream",
       "stream": "stdout",
       "text": [
        "\n",
        "iteration: 4500    loss: 0.0117826433852    accuracy: [ 0.04854859  0.06961178]"
       ]
      },
      {
       "output_type": "stream",
       "stream": "stdout",
       "text": [
        "\n",
        "iteration: 4600    loss: 0.0104301981628    accuracy: [ 0.04829879  0.07293727]"
       ]
      },
      {
       "output_type": "stream",
       "stream": "stdout",
       "text": [
        "\n",
        "iteration: 4700    loss: 0.00120540126227    accuracy: [ 0.  0.]"
       ]
      },
      {
       "output_type": "stream",
       "stream": "stdout",
       "text": [
        "\n",
        "iteration: 4800    loss: 0.00343056744896    accuracy: [ 0.0074419   0.15743589]"
       ]
      },
      {
       "output_type": "stream",
       "stream": "stdout",
       "text": [
        "\n",
        "iteration: 4900    loss: 0.0105698332191    accuracy: [ 0.04940531  0.0744722 ]"
       ]
      },
      {
       "output_type": "stream",
       "stream": "stdout",
       "text": [
        "\n",
        "iteration: 5000    loss: 0.0104885902256    accuracy: [ 0.02959041  0.08435602]"
       ]
      },
      {
       "output_type": "stream",
       "stream": "stdout",
       "text": [
        "\n",
        "iteration: 5100    loss: 0.0135658718646    accuracy: [ 0.02157262  0.25057551]"
       ]
      },
      {
       "output_type": "stream",
       "stream": "stdout",
       "text": [
        "\n",
        "iteration: 5200    loss: 0.00442340690643    accuracy: [ 0.00494997  0.28681573]"
       ]
      },
      {
       "output_type": "stream",
       "stream": "stdout",
       "text": [
        "\n",
        "iteration: 5300    loss: 0.00026586977765    accuracy: [ 0.  0.]"
       ]
      },
      {
       "output_type": "stream",
       "stream": "stdout",
       "text": [
        "\n",
        "iteration: 5400    loss: 0.0019140529912    accuracy: [ 0.00405919  0.19642857]"
       ]
      },
      {
       "output_type": "stream",
       "stream": "stdout",
       "text": [
        "\n",
        "iteration: 5500    loss: 0.0116065964103    accuracy: [ 0.03979371  0.11327638]"
       ]
      },
      {
       "output_type": "stream",
       "stream": "stdout",
       "text": [
        "\n",
        "iteration: 5600    loss: 0.00827296823263    accuracy: [ 0.03449606  0.08713463]"
       ]
      },
      {
       "output_type": "stream",
       "stream": "stdout",
       "text": [
        "\n",
        "iteration: 5700    loss: 0.0160365272313    accuracy: [ 0.07079575  0.08556929]"
       ]
      },
      {
       "output_type": "stream",
       "stream": "stdout",
       "text": [
        "\n",
        "iteration: 5800    loss: 0.011282957159    accuracy: [ 0.04584282  0.08875   ]"
       ]
      },
      {
       "output_type": "stream",
       "stream": "stdout",
       "text": [
        "\n",
        "iteration: 5900    loss: 0.000780409900472    accuracy: [ 0.  0.]"
       ]
      },
      {
       "output_type": "stream",
       "stream": "stdout",
       "text": [
        "\n",
        "iteration: 6000    loss: 0.0118038607761    accuracy: [ 0.0186553   0.10805823]"
       ]
      },
      {
       "output_type": "stream",
       "stream": "stdout",
       "text": [
        "\n",
        "iteration: 6100    loss: 0.000284945475869    accuracy: [ 0.  0.]"
       ]
      },
      {
       "output_type": "stream",
       "stream": "stdout",
       "text": [
        "\n",
        "iteration: 6200    loss: 0.00982934702188    accuracy: [ 0.03195972  0.09598374]"
       ]
      },
      {
       "output_type": "stream",
       "stream": "stdout",
       "text": [
        "\n",
        "iteration: 6300    loss: 0.00040600655484    accuracy: [ 0.  0.]"
       ]
      },
      {
       "output_type": "stream",
       "stream": "stdout",
       "text": [
        "\n",
        "iteration: 6400    loss: 0.00622493121773    accuracy: [ 0.00911582  0.29510257]"
       ]
      },
      {
       "output_type": "stream",
       "stream": "stdout",
       "text": [
        "\n",
        "iteration: 6500    loss: 0.000238931446802    accuracy: [ 0.  0.]"
       ]
      },
      {
       "output_type": "stream",
       "stream": "stdout",
       "text": [
        "\n",
        "iteration: 6600    loss: 0.0159401316196    accuracy: [ 0.07538491  0.08210015]"
       ]
      },
      {
       "output_type": "stream",
       "stream": "stdout",
       "text": [
        "\n",
        "iteration: 6700    loss: 0.000867152935825    accuracy: [ 0.  0.]"
       ]
      },
      {
       "output_type": "stream",
       "stream": "stdout",
       "text": [
        "\n",
        "iteration: 6800    loss: 0.0131664406508    accuracy: [ 0.03455683  0.12974228]"
       ]
      },
      {
       "output_type": "stream",
       "stream": "stdout",
       "text": [
        "\n",
        "iteration: 6900    loss: 0.00357798999175    accuracy: [ 0.00815384  0.18671034]"
       ]
      },
      {
       "output_type": "stream",
       "stream": "stdout",
       "text": [
        "\n",
        "iteration: 7000    loss: 0.000322670792229    accuracy: [ 0.  0.]"
       ]
      },
      {
       "output_type": "stream",
       "stream": "stdout",
       "text": [
        "\n",
        "iteration: 7100    loss: 0.00888104736805    accuracy: [ 0.01989529  0.09412216]"
       ]
      },
      {
       "output_type": "stream",
       "stream": "stdout",
       "text": [
        "\n",
        "iteration: 7200    loss: 0.00412453664467    accuracy: [ 0.00671079  0.13367464]"
       ]
      },
      {
       "output_type": "stream",
       "stream": "stdout",
       "text": [
        "\n",
        "iteration: 7300    loss: 0.00911438371986    accuracy: [ 0.02956202  0.08853561]"
       ]
      },
      {
       "output_type": "stream",
       "stream": "stdout",
       "text": [
        "\n",
        "iteration: 7400    loss: 0.00811010878533    accuracy: [ 0.02802251  0.12477864]"
       ]
      },
      {
       "output_type": "stream",
       "stream": "stdout",
       "text": [
        "\n",
        "iteration: 7500    loss: 0.0150220021605    accuracy: [ 0.02845953  0.14433543]"
       ]
      },
      {
       "output_type": "stream",
       "stream": "stdout",
       "text": [
        "\n",
        "iteration: 7600    loss: 0.00231398991309    accuracy: [ 0.00713479  0.13422459]"
       ]
      },
      {
       "output_type": "stream",
       "stream": "stdout",
       "text": [
        "\n",
        "iteration: 7700    loss: 0.00491539202631    accuracy: [ 0.01862273  0.07052071]"
       ]
      },
      {
       "output_type": "stream",
       "stream": "stdout",
       "text": [
        "\n",
        "iteration: 7800    loss: 0.00453434092924    accuracy: [ 0.01787459  0.10845431]"
       ]
      },
      {
       "output_type": "stream",
       "stream": "stdout",
       "text": [
        "\n",
        "iteration: 7900    loss: 0.0118774091825    accuracy: [ 0.04411916  0.07382376]"
       ]
      },
      {
       "output_type": "stream",
       "stream": "stdout",
       "text": [
        "\n",
        "iteration: 8000    loss: 0.0129460319877    accuracy: [ 0.02910961  0.21954098]"
       ]
      },
      {
       "output_type": "stream",
       "stream": "stdout",
       "text": [
        "\n",
        "iteration: 8100    loss: 0.00979397073388    accuracy: [ 0.03685548  0.08345428]"
       ]
      },
      {
       "output_type": "stream",
       "stream": "stdout",
       "text": [
        "\n",
        "iteration: 8200    loss: 0.012508106418    accuracy: [ 0.04923679  0.07018633]"
       ]
      },
      {
       "output_type": "stream",
       "stream": "stdout",
       "text": [
        "\n",
        "iteration: 8300    loss: 0.00196415977553    accuracy: [ 0.00714163  0.13568376]"
       ]
      },
      {
       "output_type": "stream",
       "stream": "stdout",
       "text": [
        "\n",
        "iteration: 8400    loss: 0.000329755945131    accuracy: [ 0.  0.]"
       ]
      },
      {
       "output_type": "stream",
       "stream": "stdout",
       "text": [
        "\n",
        "iteration: 8500    loss: 0.0162369944155    accuracy: [ 0.07549109  0.08962097]"
       ]
      },
      {
       "output_type": "stream",
       "stream": "stdout",
       "text": [
        "\n",
        "iteration: 8600    loss: 0.0127875637263    accuracy: [ 0.03032006  0.11775088]"
       ]
      },
      {
       "output_type": "stream",
       "stream": "stdout",
       "text": [
        "\n",
        "iteration: 8700    loss: 0.0121548045427    accuracy: [ 0.03057475  0.11343171]"
       ]
      },
      {
       "output_type": "stream",
       "stream": "stdout",
       "text": [
        "\n",
        "iteration: 8800    loss: 0.0132364900783    accuracy: [ 0.0415536   0.10724798]"
       ]
      },
      {
       "output_type": "stream",
       "stream": "stdout",
       "text": [
        "\n",
        "iteration: 8900    loss: 0.0118701215833    accuracy: [ 0.01403431  0.27871528]"
       ]
      },
      {
       "output_type": "stream",
       "stream": "stdout",
       "text": [
        "\n",
        "iteration: 9000    loss: 0.0145538905635    accuracy: [ 0.04176585  0.0736736 ]"
       ]
      },
      {
       "output_type": "stream",
       "stream": "stdout",
       "text": [
        "\n",
        "iteration: 9100    loss: 0.000418902753154    accuracy: [ 0.  0.]"
       ]
      },
      {
       "output_type": "stream",
       "stream": "stdout",
       "text": [
        "\n",
        "iteration: 9200    loss: 0.000282545021037    accuracy: [ 0.  0.]"
       ]
      },
      {
       "output_type": "stream",
       "stream": "stdout",
       "text": [
        "\n",
        "iteration: 9300    loss: 0.000287120958092    accuracy: [ 0.  0.]"
       ]
      },
      {
       "output_type": "stream",
       "stream": "stdout",
       "text": [
        "\n",
        "iteration: 9400    loss: 0.0130418464541    accuracy: [ 0.04948947  0.08319172]"
       ]
      },
      {
       "output_type": "stream",
       "stream": "stdout",
       "text": [
        "\n",
        "iteration: 9500    loss: 0.00102127098944    accuracy: [  2.74658203e-04   1.00000000e+00]"
       ]
      },
      {
       "output_type": "stream",
       "stream": "stdout",
       "text": [
        "\n",
        "iteration: 9600    loss: 0.00870894268155    accuracy: [ 0.02955377  0.0971953 ]"
       ]
      },
      {
       "output_type": "stream",
       "stream": "stdout",
       "text": [
        "\n",
        "iteration: 9700    loss: 0.0122429002076    accuracy: [ 0.03977372  0.1023448 ]"
       ]
      },
      {
       "output_type": "stream",
       "stream": "stdout",
       "text": [
        "\n",
        "iteration: 9800    loss: 0.0110591650009    accuracy: [ 0.04818315  0.07748434]"
       ]
      },
      {
       "output_type": "stream",
       "stream": "stdout",
       "text": [
        "\n",
        "iteration: 9900    loss: 0.0119134997949    accuracy: [ 0.06239799  0.05764519]"
       ]
      },
      {
       "output_type": "stream",
       "stream": "stdout",
       "text": [
        "\n",
        "iteration: 10000   loss: 0.000251000339631    accuracy: [ 0.  0.]"
       ]
      },
      {
       "output_type": "stream",
       "stream": "stdout",
       "text": [
        "\n",
        "snaping to: /home/qinshuo/WorkPlace/caffe_space/seg_spine/weight/seg_spine_net_fin30000.caffemodel\n",
        "iteration: 100     loss: 0.0147597203031    accuracy: [ 0.02709643  0.1108757 ]"
       ]
      },
      {
       "output_type": "stream",
       "stream": "stdout",
       "text": [
        "\n",
        "iteration: 200     loss: 0.00439610844478    accuracy: [ 0.00362308  0.24657534]"
       ]
      },
      {
       "output_type": "stream",
       "stream": "stdout",
       "text": [
        "\n",
        "iteration: 300     loss: 0.0155097665265    accuracy: [ 0.05101717  0.10592554]"
       ]
      },
      {
       "output_type": "stream",
       "stream": "stdout",
       "text": [
        "\n",
        "iteration: 400     loss: 0.0119043672457    accuracy: [ 0.04384835  0.08150279]"
       ]
      },
      {
       "output_type": "stream",
       "stream": "stdout",
       "text": [
        "\n",
        "iteration: 500     loss: 0.014455165714    accuracy: [ 0.04468466  0.06827137]"
       ]
      },
      {
       "output_type": "stream",
       "stream": "stdout",
       "text": [
        "\n",
        "iteration: 600     loss: 0.0026289972011    accuracy: [ 0.00400665  0.18190476]"
       ]
      },
      {
       "output_type": "stream",
       "stream": "stdout",
       "text": [
        "\n",
        "iteration: 700     loss: 0.0115573704243    accuracy: [ 0.05873428  0.06441538]"
       ]
      },
      {
       "output_type": "stream",
       "stream": "stdout",
       "text": [
        "\n",
        "iteration: 800     loss: 0.00929834879935    accuracy: [ 0.03331067  0.09633028]"
       ]
      },
      {
       "output_type": "stream",
       "stream": "stdout",
       "text": [
        "\n",
        "iteration: 900     loss: 0.0118941087276    accuracy: [ 0.04696886  0.0935644 ]"
       ]
      },
      {
       "output_type": "stream",
       "stream": "stdout",
       "text": [
        "\n",
        "iteration: 1000    loss: 0.0190566144884    accuracy: [ 0.03344557  0.11522163]"
       ]
      },
      {
       "output_type": "stream",
       "stream": "stdout",
       "text": [
        "\n",
        "iteration: 1100    loss: 0.0133007336408    accuracy: [ 0.03999709  0.09282983]"
       ]
      },
      {
       "output_type": "stream",
       "stream": "stdout",
       "text": [
        "\n",
        "iteration: 1200    loss: 0.000263667461695    accuracy: [ 0.  0.]"
       ]
      },
      {
       "output_type": "stream",
       "stream": "stdout",
       "text": [
        "\n",
        "iteration: 1300    loss: 0.00229510338977    accuracy: [ 0.0012133   0.54402518]"
       ]
      },
      {
       "output_type": "stream",
       "stream": "stdout",
       "text": [
        "\n",
        "iteration: 1400    loss: 0.00718339812011    accuracy: [ 0.02104431  0.10959899]"
       ]
      },
      {
       "output_type": "stream",
       "stream": "stdout",
       "text": [
        "\n",
        "iteration: 1500    loss: 0.0149854160845    accuracy: [ 0.0270711   0.10845588]"
       ]
      },
      {
       "output_type": "stream",
       "stream": "stdout",
       "text": [
        "\n",
        "iteration: 1600    loss: 0.000652333605103    accuracy: [ 0.  0.]"
       ]
      },
      {
       "output_type": "stream",
       "stream": "stdout",
       "text": [
        "\n",
        "iteration: 1700    loss: 0.00743342982605    accuracy: [ 0.00489035  0.2734375 ]"
       ]
      },
      {
       "output_type": "stream",
       "stream": "stdout",
       "text": [
        "\n",
        "iteration: 1800    loss: 0.000346138636814    accuracy: [ 0.  0.]"
       ]
      },
      {
       "output_type": "stream",
       "stream": "stdout",
       "text": [
        "\n",
        "iteration: 1900    loss: 0.00348051311448    accuracy: [ 0.00413658  0.23247233]"
       ]
      },
      {
       "output_type": "stream",
       "stream": "stdout",
       "text": [
        "\n",
        "iteration: 2000    loss: 0.0135953519493    accuracy: [ 0.02704098  0.13816999]"
       ]
      },
      {
       "output_type": "stream",
       "stream": "stdout",
       "text": [
        "\n",
        "iteration: 2100    loss: 0.000251505640335    accuracy: [ 0.  0.]"
       ]
      },
      {
       "output_type": "stream",
       "stream": "stdout",
       "text": [
        "\n",
        "iteration: 2200    loss: 0.00163157528732    accuracy: [ 0.00401758  0.1433998 ]"
       ]
      },
      {
       "output_type": "stream",
       "stream": "stdout",
       "text": [
        "\n",
        "iteration: 2300    loss: 0.0137621993199    accuracy: [ 0.06423077  0.08991437]"
       ]
      },
      {
       "output_type": "stream",
       "stream": "stdout",
       "text": [
        "\n",
        "iteration: 2400    loss: 0.00961807183921    accuracy: [ 0.03609249  0.0986139 ]"
       ]
      },
      {
       "output_type": "stream",
       "stream": "stdout",
       "text": [
        "\n",
        "iteration: 2500    loss: 0.0022310600616    accuracy: [ 0.00304523  0.1027569 ]"
       ]
      },
      {
       "output_type": "stream",
       "stream": "stdout",
       "text": [
        "\n",
        "iteration: 2600    loss: 0.00870590936393    accuracy: [ 0.03045767  0.09631301]"
       ]
      },
      {
       "output_type": "stream",
       "stream": "stdout",
       "text": [
        "\n",
        "iteration: 2700    loss: 0.000319647719152    accuracy: [ 0.  0.]"
       ]
      },
      {
       "output_type": "stream",
       "stream": "stdout",
       "text": [
        "\n",
        "iteration: 2800    loss: 0.0130775477737    accuracy: [ 0.04916823  0.08232916]"
       ]
      },
      {
       "output_type": "stream",
       "stream": "stdout",
       "text": [
        "\n",
        "iteration: 2900    loss: 0.00931151583791    accuracy: [ 0.02279171  0.11232188]"
       ]
      },
      {
       "output_type": "stream",
       "stream": "stdout",
       "text": [
        "\n",
        "iteration: 3000    loss: 0.0217117555439    accuracy: [ 0.05411052  0.08650372]"
       ]
      },
      {
       "output_type": "stream",
       "stream": "stdout",
       "text": [
        "\n",
        "iteration: 3100    loss: 0.0106863854453    accuracy: [ 0.048302    0.07814601]"
       ]
      },
      {
       "output_type": "stream",
       "stream": "stdout",
       "text": [
        "\n",
        "iteration: 3200    loss: 0.000359719386324    accuracy: [ 0.  0.]"
       ]
      },
      {
       "output_type": "stream",
       "stream": "stdout",
       "text": [
        "\n",
        "iteration: 3300    loss: 0.000791037688032    accuracy: [ 0.  0.]"
       ]
      },
      {
       "output_type": "stream",
       "stream": "stdout",
       "text": [
        "\n",
        "iteration: 3400    loss: 0.012784817256    accuracy: [ 0.06689994  0.07445897]"
       ]
      },
      {
       "output_type": "stream",
       "stream": "stdout",
       "text": [
        "\n",
        "iteration: 3500    loss: 0.00714377500117    accuracy: [ 0.01767335  0.19131938]"
       ]
      },
      {
       "output_type": "stream",
       "stream": "stdout",
       "text": [
        "\n",
        "iteration: 3600    loss: 0.0152809703723    accuracy: [ 0.03983465  0.10799655]"
       ]
      },
      {
       "output_type": "stream",
       "stream": "stdout",
       "text": [
        "\n",
        "iteration: 3700    loss: 0.0115540809929    accuracy: [ 0.04732452  0.07189015]"
       ]
      },
      {
       "output_type": "stream",
       "stream": "stdout",
       "text": [
        "\n",
        "iteration: 3800    loss: 0.00219690939412    accuracy: [ 0.  0.]"
       ]
      },
      {
       "output_type": "stream",
       "stream": "stdout",
       "text": [
        "\n",
        "iteration: 3900    loss: 0.022661972791    accuracy: [ 0.02019423  0.15409462]"
       ]
      },
      {
       "output_type": "stream",
       "stream": "stdout",
       "text": [
        "\n",
        "iteration: 4000    loss: 0.0113577898592    accuracy: [ 0.02967901  0.11102524]"
       ]
      },
      {
       "output_type": "stream",
       "stream": "stdout",
       "text": [
        "\n",
        "iteration: 4100    loss: 0.000457091373391    accuracy: [ 0.  0.]"
       ]
      },
      {
       "output_type": "stream",
       "stream": "stdout",
       "text": [
        "\n",
        "iteration: 4200    loss: 0.000275108788628    accuracy: [ 0.  0.]"
       ]
      },
      {
       "output_type": "stream",
       "stream": "stdout",
       "text": [
        "\n",
        "iteration: 4300    loss: 0.0158868618309    accuracy: [ 0.0471626   0.14370191]"
       ]
      },
      {
       "output_type": "stream",
       "stream": "stdout",
       "text": [
        "\n",
        "iteration: 4400    loss: 0.00343596516177    accuracy: [ 0.00405762  0.09595484]"
       ]
      },
      {
       "output_type": "stream",
       "stream": "stdout",
       "text": [
        "\n",
        "iteration: 4500    loss: 0.000433909735875    accuracy: [ 0.  0.]"
       ]
      },
      {
       "output_type": "stream",
       "stream": "stdout",
       "text": [
        "\n",
        "iteration: 4600    loss: 0.00623030168936    accuracy: [ 0.01863764  0.090127  ]"
       ]
      },
      {
       "output_type": "stream",
       "stream": "stdout",
       "text": [
        "\n",
        "iteration: 4700    loss: 0.000267367780907    accuracy: [ 0.  0.]"
       ]
      },
      {
       "output_type": "stream",
       "stream": "stdout",
       "text": [
        "\n",
        "iteration: 4800    loss: 0.0109454849735    accuracy: [ 0.01859293  0.22124076]"
       ]
      },
      {
       "output_type": "stream",
       "stream": "stdout",
       "text": [
        "\n",
        "iteration: 4900    loss: 0.000251950259553    accuracy: [ 0.  0.]"
       ]
      },
      {
       "output_type": "stream",
       "stream": "stdout",
       "text": [
        "\n",
        "iteration: 5000    loss: 0.0122165670618    accuracy: [ 0.04696632  0.08211932]"
       ]
      },
      {
       "output_type": "stream",
       "stream": "stdout",
       "text": [
        "\n",
        "iteration: 5100    loss: 0.00619359314442    accuracy: [ 0.00496598  0.19384615]"
       ]
      },
      {
       "output_type": "stream",
       "stream": "stdout",
       "text": [
        "\n",
        "iteration: 5200    loss: 0.00884080864489    accuracy: [ 0.03891904  0.08840267]"
       ]
      },
      {
       "output_type": "stream",
       "stream": "stdout",
       "text": [
        "\n",
        "iteration: 5300    loss: 0.000331809947966    accuracy: [ 0.  0.]"
       ]
      },
      {
       "output_type": "stream",
       "stream": "stdout",
       "text": [
        "\n",
        "iteration: 5400    loss: 0.0105827152729    accuracy: [ 0.04153584  0.09665257]"
       ]
      },
      {
       "output_type": "stream",
       "stream": "stdout",
       "text": [
        "\n",
        "iteration: 5500    loss: 0.0133336354047    accuracy: [ 0.0432314   0.09233218]"
       ]
      },
      {
       "output_type": "stream",
       "stream": "stdout",
       "text": [
        "\n",
        "iteration: 5600    loss: 0.0030819287058    accuracy: [ 0.00165687  0.16589862]"
       ]
      },
      {
       "output_type": "stream",
       "stream": "stdout",
       "text": [
        "\n",
        "iteration: 5700    loss: 0.00233497517183    accuracy: [ 0.00681412  0.15285555]"
       ]
      },
      {
       "output_type": "stream",
       "stream": "stdout",
       "text": [
        "\n",
        "iteration: 5800    loss: 0.0113391624764    accuracy: [ 0.04293543  0.08954161]"
       ]
      },
      {
       "output_type": "stream",
       "stream": "stdout",
       "text": [
        "\n",
        "iteration: 5900    loss: 0.000310356903356    accuracy: [ 0.  0.]"
       ]
      },
      {
       "output_type": "stream",
       "stream": "stdout",
       "text": [
        "\n",
        "iteration: 6000    loss: 0.00115827901755    accuracy: [ 0.  0.]"
       ]
      },
      {
       "output_type": "stream",
       "stream": "stdout",
       "text": [
        "\n",
        "iteration: 6100    loss: 0.0117219556123    accuracy: [ 0.0470461   0.06225112]"
       ]
      },
      {
       "output_type": "stream",
       "stream": "stdout",
       "text": [
        "\n",
        "iteration: 6200    loss: 0.00995715893805    accuracy: [ 0.02204508  0.12757844]"
       ]
      },
      {
       "output_type": "stream",
       "stream": "stdout",
       "text": [
        "\n",
        "iteration: 6300    loss: 0.000247550749918    accuracy: [ 0.  0.]"
       ]
      },
      {
       "output_type": "stream",
       "stream": "stdout",
       "text": [
        "\n",
        "iteration: 6400    loss: 0.00480484217405    accuracy: [ 0.0178371   0.07641267]"
       ]
      },
      {
       "output_type": "stream",
       "stream": "stdout",
       "text": [
        "\n",
        "iteration: 6500    loss: 0.0100715840235    accuracy: [ 0.03725953  0.08441026]"
       ]
      },
      {
       "output_type": "stream",
       "stream": "stdout",
       "text": [
        "\n",
        "iteration: 6600    loss: 0.00227460591123    accuracy: [ 0.00435898  0.03064799]"
       ]
      },
      {
       "output_type": "stream",
       "stream": "stdout",
       "text": [
        "\n",
        "iteration: 6700    loss: 0.0106035359204    accuracy: [ 0.04968662  0.08132831]"
       ]
      },
      {
       "output_type": "stream",
       "stream": "stdout",
       "text": [
        "\n",
        "iteration: 6800    loss: 0.0126533396542    accuracy: [ 0.02098731  0.14993623]"
       ]
      },
      {
       "output_type": "stream",
       "stream": "stdout",
       "text": [
        "\n",
        "iteration: 6900    loss: 0.0120018906891    accuracy: [ 0.0398398   0.06413826]"
       ]
      },
      {
       "output_type": "stream",
       "stream": "stdout",
       "text": [
        "\n",
        "iteration: 7000    loss: 0.0119145056233    accuracy: [ 0.03726625  0.0881116 ]"
       ]
      },
      {
       "output_type": "stream",
       "stream": "stdout",
       "text": [
        "\n",
        "iteration: 7100    loss: 0.00071402231697    accuracy: [ 0.  0.]"
       ]
      },
      {
       "output_type": "stream",
       "stream": "stdout",
       "text": [
        "\n",
        "iteration: 7200    loss: 0.0107237873599    accuracy: [ 0.04931307  0.08333979]"
       ]
      },
      {
       "output_type": "stream",
       "stream": "stdout",
       "text": [
        "\n",
        "iteration: 7300    loss: 0.00378553150222    accuracy: [ 0.00492637  0.27575523]"
       ]
      },
      {
       "output_type": "stream",
       "stream": "stdout",
       "text": [
        "\n",
        "iteration: 7400    loss: 0.0106878168881    accuracy: [ 0.04433919  0.09028257]"
       ]
      },
      {
       "output_type": "stream",
       "stream": "stdout",
       "text": [
        "\n",
        "iteration: 7500    loss: 0.00997533090413    accuracy: [ 0.03612069  0.0964467 ]"
       ]
      },
      {
       "output_type": "stream",
       "stream": "stdout",
       "text": [
        "\n",
        "iteration: 7600    loss: 0.0125164175406    accuracy: [ 0.04409544  0.08357898]"
       ]
      },
      {
       "output_type": "stream",
       "stream": "stdout",
       "text": [
        "\n",
        "iteration: 7700    loss: 0.0148125207052    accuracy: [ 0.01065451  0.14665708]"
       ]
      },
      {
       "output_type": "stream",
       "stream": "stdout",
       "text": [
        "\n",
        "iteration: 7800    loss: 0.0119489701465    accuracy: [ 0.04386994  0.08877853]"
       ]
      },
      {
       "output_type": "stream",
       "stream": "stdout",
       "text": [
        "\n",
        "iteration: 7900    loss: 0.0102178361267    accuracy: [ 0.01374107  0.22935779]"
       ]
      },
      {
       "output_type": "stream",
       "stream": "stdout",
       "text": [
        "\n",
        "iteration: 8000    loss: 0.0139687145129    accuracy: [ 0.04816752  0.07949492]"
       ]
      },
      {
       "output_type": "stream",
       "stream": "stdout",
       "text": [
        "\n",
        "iteration: 8100    loss: 0.00395332137123    accuracy: [ 0.00746687  0.14263804]"
       ]
      },
      {
       "output_type": "stream",
       "stream": "stdout",
       "text": [
        "\n",
        "iteration: 8200    loss: 0.00309961824678    accuracy: [ 0.00243509  0.22413793]"
       ]
      },
      {
       "output_type": "stream",
       "stream": "stdout",
       "text": [
        "\n",
        "iteration: 8300    loss: 0.0117026753724    accuracy: [ 0.02968059  0.20208387]"
       ]
      },
      {
       "output_type": "stream",
       "stream": "stdout",
       "text": [
        "\n",
        "iteration: 8400    loss: 0.0122413411736    accuracy: [ 0.04734877  0.08282208]"
       ]
      },
      {
       "output_type": "stream",
       "stream": "stdout",
       "text": [
        "\n",
        "iteration: 8500    loss: 0.0018473030068    accuracy: [ 0.00713798  0.12346339]"
       ]
      },
      {
       "output_type": "stream",
       "stream": "stdout",
       "text": [
        "\n",
        "iteration: 8600    loss: 0.000301787513308    accuracy: [ 0.  0.]"
       ]
      },
      {
       "output_type": "stream",
       "stream": "stdout",
       "text": [
        "\n",
        "iteration: 8700    loss: 0.000251473422395    accuracy: [ 0.  0.]"
       ]
      },
      {
       "output_type": "stream",
       "stream": "stdout",
       "text": [
        "\n",
        "iteration: 8800    loss: 0.00671366695315    accuracy: [ 0.02101174  0.0770769 ]"
       ]
      },
      {
       "output_type": "stream",
       "stream": "stdout",
       "text": [
        "\n",
        "iteration: 8900    loss: 0.00691763404757    accuracy: [ 0.0231894   0.10865986]"
       ]
      },
      {
       "output_type": "stream",
       "stream": "stdout",
       "text": [
        "\n",
        "iteration: 9000    loss: 0.0136158177629    accuracy: [ 0.04409533  0.09656727]"
       ]
      },
      {
       "output_type": "stream",
       "stream": "stdout",
       "text": [
        "\n",
        "iteration: 9100    loss: 0.00778568070382    accuracy: [ 0.02006041  0.13763563]"
       ]
      },
      {
       "output_type": "stream",
       "stream": "stdout",
       "text": [
        "\n",
        "iteration: 9200    loss: 0.00420308858156    accuracy: [ 0.00836561  0.21578467]"
       ]
      },
      {
       "output_type": "stream",
       "stream": "stdout",
       "text": [
        "\n",
        "iteration: 9300    loss: 0.0112716434523    accuracy: [ 0.02696969  0.11621315]"
       ]
      },
      {
       "output_type": "stream",
       "stream": "stdout",
       "text": [
        "\n",
        "iteration: 9400    loss: 0.00417849421501    accuracy: [ 0.00515533  0.09555556]"
       ]
      },
      {
       "output_type": "stream",
       "stream": "stdout",
       "text": [
        "\n",
        "iteration: 9500    loss: 0.0115487352014    accuracy: [ 0.05018932  0.08115104]"
       ]
      },
      {
       "output_type": "stream",
       "stream": "stdout",
       "text": [
        "\n",
        "iteration: 9600    loss: 0.0132513707504    accuracy: [ 0.03203529  0.07655559]"
       ]
      },
      {
       "output_type": "stream",
       "stream": "stdout",
       "text": [
        "\n",
        "iteration: 9700    loss: 0.00492456462234    accuracy: [ 0.01866679  0.06443036]"
       ]
      },
      {
       "output_type": "stream",
       "stream": "stdout",
       "text": [
        "\n",
        "iteration: 9800    loss: 0.00412678904831    accuracy: [ 0.00907557  0.08540177]"
       ]
      },
      {
       "output_type": "stream",
       "stream": "stdout",
       "text": [
        "\n",
        "iteration: 9900    loss: 0.00630237348378    accuracy: [ 0.00836074  0.15029694]"
       ]
      },
      {
       "output_type": "stream",
       "stream": "stdout",
       "text": [
        "\n",
        "iteration: 10000   loss: 0.0134605485946    accuracy: [ 0.049543    0.08020069]"
       ]
      },
      {
       "output_type": "stream",
       "stream": "stdout",
       "text": [
        "\n",
        "snaping to: /home/qinshuo/WorkPlace/caffe_space/seg_spine/weight/seg_spine_net_fin40000.caffemodel\n",
        "iteration: 100     loss: 0.00585996126756    accuracy: [ 0.00914122  0.21837161]"
       ]
      },
      {
       "output_type": "stream",
       "stream": "stdout",
       "text": [
        "\n",
        "iteration: 200     loss: 0.000269731623121    accuracy: [ 0.  0.]"
       ]
      },
      {
       "output_type": "stream",
       "stream": "stdout",
       "text": [
        "\n",
        "iteration: 300     loss: 0.00453721545637    accuracy: [ 0.00493124  0.25851393]"
       ]
      },
      {
       "output_type": "stream",
       "stream": "stdout",
       "text": [
        "\n",
        "iteration: 400     loss: 0.0116393920034    accuracy: [ 0.06135759  0.06930693]"
       ]
      },
      {
       "output_type": "stream",
       "stream": "stdout",
       "text": [
        "\n",
        "iteration: 500     loss: 0.0179043840617    accuracy: [ 0.0539865   0.08429635]"
       ]
      },
      {
       "output_type": "stream",
       "stream": "stdout",
       "text": [
        "\n",
        "iteration: 600     loss: 0.00887260679156    accuracy: [ 0.04331965  0.07248677]"
       ]
      },
      {
       "output_type": "stream",
       "stream": "stdout",
       "text": [
        "\n",
        "iteration: 700     loss: 0.000261162407696    accuracy: [ 0.  0.]"
       ]
      },
      {
       "output_type": "stream",
       "stream": "stdout",
       "text": [
        "\n",
        "iteration: 800     loss: 0.0154392048717    accuracy: [ 0.02881042  0.19148089]"
       ]
      },
      {
       "output_type": "stream",
       "stream": "stdout",
       "text": [
        "\n",
        "iteration: 900     loss: 0.00466649280861    accuracy: [ 0.0056363   0.10298103]"
       ]
      },
      {
       "output_type": "stream",
       "stream": "stdout",
       "text": [
        "\n",
        "iteration: 1000    loss: 0.0131601924077    accuracy: [ 0.02009252  0.11578747]"
       ]
      },
      {
       "output_type": "stream",
       "stream": "stdout",
       "text": [
        "\n",
        "iteration: 1100    loss: 0.0117423450574    accuracy: [ 0.03736985  0.08472322]"
       ]
      },
      {
       "output_type": "stream",
       "stream": "stdout",
       "text": [
        "\n",
        "iteration: 1200    loss: 0.010043784976    accuracy: [ 0.0347582   0.09737334]"
       ]
      },
      {
       "output_type": "stream",
       "stream": "stdout",
       "text": [
        "\n",
        "iteration: 1300    loss: 0.00244656461291    accuracy: [ 0.00562044  0.17447387]"
       ]
      },
      {
       "output_type": "stream",
       "stream": "stdout",
       "text": [
        "\n",
        "iteration: 1400    loss: 0.0144191626459    accuracy: [ 0.02017164  0.16084976]"
       ]
      },
      {
       "output_type": "stream",
       "stream": "stdout",
       "text": [
        "\n",
        "iteration: 1500    loss: 0.00835164263844    accuracy: [ 0.01055076  0.21759595]"
       ]
      },
      {
       "output_type": "stream",
       "stream": "stdout",
       "text": [
        "\n",
        "iteration: 1600    loss: 0.0116192046553    accuracy: [ 0.04977778  0.06962997]"
       ]
      },
      {
       "output_type": "stream",
       "stream": "stdout",
       "text": [
        "\n",
        "iteration: 1700    loss: 0.0110426209867    accuracy: [ 0.04795065  0.09097427]"
       ]
      },
      {
       "output_type": "stream",
       "stream": "stdout",
       "text": [
        "\n",
        "iteration: 1800    loss: 0.000232342717936    accuracy: [ 0.  0.]"
       ]
      },
      {
       "output_type": "stream",
       "stream": "stdout",
       "text": [
        "\n",
        "iteration: 1900    loss: 0.0150315416977    accuracy: [ 0.05399688  0.08274885]"
       ]
      },
      {
       "output_type": "stream",
       "stream": "stdout",
       "text": [
        "\n",
        "iteration: 2000    loss: 0.00210873689502    accuracy: [ 0.  0.]"
       ]
      },
      {
       "output_type": "stream",
       "stream": "stdout",
       "text": [
        "\n",
        "iteration: 2100    loss: 0.000319241080433    accuracy: [ 0.  0.]"
       ]
      },
      {
       "output_type": "stream",
       "stream": "stdout",
       "text": [
        "\n",
        "iteration: 2200    loss: 0.0173649303615    accuracy: [ 0.05400245  0.09161766]"
       ]
      },
      {
       "output_type": "stream",
       "stream": "stdout",
       "text": [
        "\n",
        "iteration: 2300    loss: 0.000449765007943    accuracy: [ 0.  0.]"
       ]
      },
      {
       "output_type": "stream",
       "stream": "stdout",
       "text": [
        "\n",
        "iteration: 2400    loss: 0.0138631947339    accuracy: [ 0.01603731  0.08930277]"
       ]
      },
      {
       "output_type": "stream",
       "stream": "stdout",
       "text": [
        "\n",
        "iteration: 2500    loss: 0.0131833683699    accuracy: [ 0.04675237  0.09615699]"
       ]
      },
      {
       "output_type": "stream",
       "stream": "stdout",
       "text": [
        "\n",
        "iteration: 2600    loss: 0.0112012317404    accuracy: [ 0.02832771  0.18102171]"
       ]
      },
      {
       "output_type": "stream",
       "stream": "stdout",
       "text": [
        "\n",
        "iteration: 2700    loss: 0.00329405814409    accuracy: [ 0.00683164  0.12458101]"
       ]
      },
      {
       "output_type": "stream",
       "stream": "stdout",
       "text": [
        "\n",
        "iteration: 2800    loss: 0.0021686735563    accuracy: [ 0.00368245  0.15336788]"
       ]
      },
      {
       "output_type": "stream",
       "stream": "stdout",
       "text": [
        "\n",
        "iteration: 2900    loss: 0.0111441118643    accuracy: [ 0.04902954  0.06534113]"
       ]
      },
      {
       "output_type": "stream",
       "stream": "stdout",
       "text": [
        "\n",
        "iteration: 3000    loss: 0.00335929309949    accuracy: [ 0.00681544  0.14109743]"
       ]
      },
      {
       "output_type": "stream",
       "stream": "stdout",
       "text": [
        "\n",
        "iteration: 3100    loss: 0.0130302906036    accuracy: [ 0.05328299  0.08448078]"
       ]
      },
      {
       "output_type": "stream",
       "stream": "stdout",
       "text": [
        "\n",
        "iteration: 3200    loss: 0.0118142375723    accuracy: [ 0.04730125  0.07789899]"
       ]
      },
      {
       "output_type": "stream",
       "stream": "stdout",
       "text": [
        "\n",
        "iteration: 3300    loss: 0.0115942601115    accuracy: [ 0.0238189   0.15005617]"
       ]
      },
      {
       "output_type": "stream",
       "stream": "stdout",
       "text": [
        "\n",
        "iteration: 3400    loss: 0.0114263053983    accuracy: [ 0.04258034  0.08838837]"
       ]
      },
      {
       "output_type": "stream",
       "stream": "stdout",
       "text": [
        "\n",
        "iteration: 3500    loss: 0.0101908817887    accuracy: [ 0.03934884  0.10260144]"
       ]
      },
      {
       "output_type": "stream",
       "stream": "stdout",
       "text": [
        "\n",
        "iteration: 3600    loss: 0.0116402553394    accuracy: [ 0.04591562  0.08553836]"
       ]
      },
      {
       "output_type": "stream",
       "stream": "stdout",
       "text": [
        "\n",
        "iteration: 3700    loss: 0.000280638108961    accuracy: [ 0.  0.]"
       ]
      },
      {
       "output_type": "stream",
       "stream": "stdout",
       "text": [
        "\n",
        "iteration: 3800    loss: 0.0123126460239    accuracy: [ 0.04814267  0.08304223]"
       ]
      },
      {
       "output_type": "stream",
       "stream": "stdout",
       "text": [
        "\n",
        "iteration: 3900    loss: 0.0131010282785    accuracy: [ 0.0668734   0.08428988]"
       ]
      },
      {
       "output_type": "stream",
       "stream": "stdout",
       "text": [
        "\n",
        "iteration: 4000    loss: 0.00882515124977    accuracy: [ 0.03891198  0.07872779]"
       ]
      },
      {
       "output_type": "stream",
       "stream": "stdout",
       "text": [
        "\n",
        "iteration: 4100    loss: 0.000310126575641    accuracy: [ 0.  0.]"
       ]
      },
      {
       "output_type": "stream",
       "stream": "stdout",
       "text": [
        "\n",
        "iteration: 4200    loss: 0.0118086002767    accuracy: [ 0.04810691  0.08912542]"
       ]
      },
      {
       "output_type": "stream",
       "stream": "stdout",
       "text": [
        "\n",
        "iteration: 4300    loss: 0.0127711296082    accuracy: [ 0.01866198  0.12546125]"
       ]
      },
      {
       "output_type": "stream",
       "stream": "stdout",
       "text": [
        "\n",
        "iteration: 4400    loss: 0.0149570228532    accuracy: [ 0.02849972  0.13934757]"
       ]
      },
      {
       "output_type": "stream",
       "stream": "stdout",
       "text": [
        "\n",
        "iteration: 4500    loss: 0.0177287980914    accuracy: [ 0.03342625  0.11695304]"
       ]
      },
      {
       "output_type": "stream",
       "stream": "stdout",
       "text": [
        "\n",
        "iteration: 4600    loss: 0.00946065969765    accuracy: [ 0.04747558  0.0819593 ]"
       ]
      },
      {
       "output_type": "stream",
       "stream": "stdout",
       "text": [
        "\n",
        "iteration: 4700    loss: 0.0028758556582    accuracy: [ 0.00389605  0.24583742]"
       ]
      },
      {
       "output_type": "stream",
       "stream": "stdout",
       "text": [
        "\n",
        "iteration: 4800    loss: 0.00620312057436    accuracy: [ 0.01054215  0.26068068]"
       ]
      },
      {
       "output_type": "stream",
       "stream": "stdout",
       "text": [
        "\n",
        "iteration: 4900    loss: 0.00351668545045    accuracy: [ 0.00468989  0.22213182]"
       ]
      },
      {
       "output_type": "stream",
       "stream": "stdout",
       "text": [
        "\n",
        "iteration: 5000    loss: 0.0172079540789    accuracy: [ 0.07049543  0.08978529]"
       ]
      },
      {
       "output_type": "stream",
       "stream": "stdout",
       "text": [
        "\n",
        "iteration: 5100    loss: 0.0100044514984    accuracy: [ 0.02555175  0.1869117 ]"
       ]
      },
      {
       "output_type": "stream",
       "stream": "stdout",
       "text": [
        "\n",
        "iteration: 5200    loss: 0.0168806668371    accuracy: [ 0.07063542  0.07914253]"
       ]
      },
      {
       "output_type": "stream",
       "stream": "stdout",
       "text": [
        "\n",
        "iteration: 5300    loss: 0.0106066074222    accuracy: [ 0.02974096  0.18906431]"
       ]
      },
      {
       "output_type": "stream",
       "stream": "stdout",
       "text": [
        "\n",
        "iteration: 5400    loss: 0.0129386633635    accuracy: [ 0.03942722  0.07752766]"
       ]
      },
      {
       "output_type": "stream",
       "stream": "stdout",
       "text": [
        "\n",
        "iteration: 5500    loss: 0.0148723972961    accuracy: [ 0.05813291  0.07782383]"
       ]
      },
      {
       "output_type": "stream",
       "stream": "stdout",
       "text": [
        "\n",
        "iteration: 5600    loss: 0.0108552807942    accuracy: [ 0.00985325  0.16841288]"
       ]
      },
      {
       "output_type": "stream",
       "stream": "stdout",
       "text": [
        "\n",
        "iteration: 5700    loss: 0.0102856121957    accuracy: [ 0.04797127  0.07335138]"
       ]
      },
      {
       "output_type": "stream",
       "stream": "stdout",
       "text": [
        "\n",
        "iteration: 5800    loss: 0.00274909567088    accuracy: [ 0.00680397  0.11553562]"
       ]
      },
      {
       "output_type": "stream",
       "stream": "stdout",
       "text": [
        "\n",
        "iteration: 5900    loss: 0.00484791817144    accuracy: [ 0.00338663  0.28861329]"
       ]
      },
      {
       "output_type": "stream",
       "stream": "stdout",
       "text": [
        "\n",
        "iteration: 6000    loss: 0.0159168317914    accuracy: [ 0.02043573  0.15877177]"
       ]
      },
      {
       "output_type": "stream",
       "stream": "stdout",
       "text": [
        "\n",
        "iteration: 6100    loss: 0.0104439938441    accuracy: [ 0.04855137  0.06769522]"
       ]
      },
      {
       "output_type": "stream",
       "stream": "stdout",
       "text": [
        "\n",
        "iteration: 6200    loss: 0.0139516741037    accuracy: [ 0.05421631  0.08874322]"
       ]
      },
      {
       "output_type": "stream",
       "stream": "stdout",
       "text": [
        "\n",
        "iteration: 6300    loss: 0.0116768348962    accuracy: [ 0.04908371  0.09143257]"
       ]
      },
      {
       "output_type": "stream",
       "stream": "stdout",
       "text": [
        "\n",
        "iteration: 6400    loss: 0.0128829302266    accuracy: [ 0.04807105  0.09952305]"
       ]
      },
      {
       "output_type": "stream",
       "stream": "stdout",
       "text": [
        "\n",
        "iteration: 6500    loss: 0.00485609611496    accuracy: [ 0.00268622  0.67471594]"
       ]
      },
      {
       "output_type": "stream",
       "stream": "stdout",
       "text": [
        "\n",
        "iteration: 6600    loss: 0.00215324107558    accuracy: [ 0.00164816  0.56018519]"
       ]
      },
      {
       "output_type": "stream",
       "stream": "stdout",
       "text": [
        "\n",
        "iteration: 6700    loss: 0.000262067478616    accuracy: [ 0.  0.]"
       ]
      },
      {
       "output_type": "stream",
       "stream": "stdout",
       "text": [
        "\n",
        "iteration: 6800    loss: 0.00701854005456    accuracy: [ 0.00915385  0.20317063]"
       ]
      },
      {
       "output_type": "stream",
       "stream": "stdout",
       "text": [
        "\n",
        "iteration: 6900    loss: 0.00663339532912    accuracy: [ 0.02592593  0.07923417]"
       ]
      },
      {
       "output_type": "stream",
       "stream": "stdout",
       "text": [
        "\n",
        "iteration: 7000    loss: 0.0103084519506    accuracy: [ 0.02433345  0.09129478]"
       ]
      },
      {
       "output_type": "stream",
       "stream": "stdout",
       "text": [
        "\n",
        "iteration: 7100    loss: 0.00550194177777    accuracy: [ 0.01781297  0.0996571 ]"
       ]
      },
      {
       "output_type": "stream",
       "stream": "stdout",
       "text": [
        "\n",
        "iteration: 7200    loss: 0.00948398280889    accuracy: [ 0.02907672  0.12503283]"
       ]
      },
      {
       "output_type": "stream",
       "stream": "stdout",
       "text": [
        "\n",
        "iteration: 7300    loss: 0.0130641153082    accuracy: [ 0.04737915  0.06951397]"
       ]
      },
      {
       "output_type": "stream",
       "stream": "stdout",
       "text": [
        "\n",
        "iteration: 7400    loss: 0.0126519612968    accuracy: [ 0.04460375  0.06320754]"
       ]
      },
      {
       "output_type": "stream",
       "stream": "stdout",
       "text": [
        "\n",
        "iteration: 7500    loss: 0.0122564062476    accuracy: [ 0.04246551  0.08300324]"
       ]
      },
      {
       "output_type": "stream",
       "stream": "stdout",
       "text": [
        "\n",
        "iteration: 7600    loss: 0.0138752302155    accuracy: [ 0.06547242  0.09437153]"
       ]
      },
      {
       "output_type": "stream",
       "stream": "stdout",
       "text": [
        "\n",
        "iteration: 7700    loss: 0.0138201899827    accuracy: [ 0.04704335  0.09249025]"
       ]
      },
      {
       "output_type": "stream",
       "stream": "stdout",
       "text": [
        "\n",
        "iteration: 7800    loss: 0.000263378082309    accuracy: [ 0.  0.]"
       ]
      },
      {
       "output_type": "stream",
       "stream": "stdout",
       "text": [
        "\n",
        "iteration: 7900    loss: 0.00986662041396    accuracy: [ 0.04343223  0.06353397]"
       ]
      },
      {
       "output_type": "stream",
       "stream": "stdout",
       "text": [
        "\n",
        "iteration: 8000    loss: 0.0110050141811    accuracy: [ 0.04795229  0.08117581]"
       ]
      },
      {
       "output_type": "stream",
       "stream": "stdout",
       "text": [
        "\n",
        "iteration: 8100    loss: 0.00355470390059    accuracy: [ 0.00674758  0.17873304]"
       ]
      },
      {
       "output_type": "stream",
       "stream": "stdout",
       "text": [
        "\n",
        "iteration: 8200    loss: 0.0139690991491    accuracy: [ 0.07170466  0.06046388]"
       ]
      },
      {
       "output_type": "stream",
       "stream": "stdout",
       "text": [
        "\n",
        "iteration: 8300    loss: 0.00915700849146    accuracy: [ 0.03604725  0.09175673]"
       ]
      },
      {
       "output_type": "stream",
       "stream": "stdout",
       "text": [
        "\n",
        "iteration: 8400    loss: 0.00741974823177    accuracy: [ 0.02954194  0.09501034]"
       ]
      },
      {
       "output_type": "stream",
       "stream": "stdout",
       "text": [
        "\n",
        "iteration: 8500    loss: 0.00435884762555    accuracy: [ 0.00492989  0.3490712 ]"
       ]
      },
      {
       "output_type": "stream",
       "stream": "stdout",
       "text": [
        "\n",
        "iteration: 8600    loss: 0.0121462531388    accuracy: [ 0.04836676  0.09778831]"
       ]
      },
      {
       "output_type": "stream",
       "stream": "stdout",
       "text": [
        "\n",
        "iteration: 8700    loss: 0.00101922021713    accuracy: [ 0.  0.]"
       ]
      },
      {
       "output_type": "stream",
       "stream": "stdout",
       "text": [
        "\n",
        "iteration: 8800    loss: 0.00792602915317    accuracy: [ 0.01529108  0.17882118]"
       ]
      },
      {
       "output_type": "stream",
       "stream": "stdout",
       "text": [
        "\n",
        "iteration: 8900    loss: 0.000271971075563    accuracy: [ 0.  0.]"
       ]
      },
      {
       "output_type": "stream",
       "stream": "stdout",
       "text": [
        "\n",
        "iteration: 9000    loss: 0.00955989584327    accuracy: [ 0.01256392  0.24164134]"
       ]
      },
      {
       "output_type": "stream",
       "stream": "stdout",
       "text": [
        "\n",
        "iteration: 9100    loss: 0.00271925260313    accuracy: [ 0.00144658  0.30343008]"
       ]
      },
      {
       "output_type": "stream",
       "stream": "stdout",
       "text": [
        "\n",
        "iteration: 9200    loss: 0.0092607755214    accuracy: [ 0.01403751  0.29806909]"
       ]
      },
      {
       "output_type": "stream",
       "stream": "stdout",
       "text": [
        "\n",
        "iteration: 9300    loss: 0.00238161045127    accuracy: [ 0.  0.]"
       ]
      },
      {
       "output_type": "stream",
       "stream": "stdout",
       "text": [
        "\n",
        "iteration: 9400    loss: 0.00551655795425    accuracy: [ 0.00911087  0.14752725]"
       ]
      },
      {
       "output_type": "stream",
       "stream": "stdout",
       "text": [
        "\n",
        "iteration: 9500    loss: 0.016123753041    accuracy: [ 0.07547992  0.07898735]"
       ]
      },
      {
       "output_type": "stream",
       "stream": "stdout",
       "text": [
        "\n",
        "iteration: 9600    loss: 0.0115057453513    accuracy: [ 0.02097531  0.19559279]"
       ]
      },
      {
       "output_type": "stream",
       "stream": "stdout",
       "text": [
        "\n",
        "iteration: 9700    loss: 0.0126527696848    accuracy: [ 0.04811002  0.10528823]"
       ]
      },
      {
       "output_type": "stream",
       "stream": "stdout",
       "text": [
        "\n",
        "iteration: 9800    loss: 0.0147759029642    accuracy: [ 0.05799239  0.09882725]"
       ]
      },
      {
       "output_type": "stream",
       "stream": "stdout",
       "text": [
        "\n",
        "iteration: 9900    loss: 0.0188304614276    accuracy: [ 0.0511668   0.09375935]"
       ]
      },
      {
       "output_type": "stream",
       "stream": "stdout",
       "text": [
        "\n",
        "iteration: 10000   loss: 0.00355409109034    accuracy: [ 0.00683562  0.12674484]"
       ]
      },
      {
       "output_type": "stream",
       "stream": "stdout",
       "text": [
        "\n",
        "snaping to: /home/qinshuo/WorkPlace/caffe_space/seg_spine/weight/seg_spine_net_fin50000.caffemodel\n",
        "iteration: 100     loss: 0.00974766910076    accuracy: [ 0.02708478  0.08255716]"
       ]
      },
      {
       "output_type": "stream",
       "stream": "stdout",
       "text": [
        "\n",
        "iteration: 200     loss: 0.00201799627393    accuracy: [ 0.0046058   0.06048053]"
       ]
      },
      {
       "output_type": "stream",
       "stream": "stdout",
       "text": [
        "\n",
        "iteration: 300     loss: 0.0116877257824    accuracy: [ 0.04412046  0.09118462]"
       ]
      },
      {
       "output_type": "stream",
       "stream": "stdout",
       "text": [
        "\n",
        "iteration: 400     loss: 0.0102715399116    accuracy: [ 0.04945122  0.05873261]"
       ]
      },
      {
       "output_type": "stream",
       "stream": "stdout",
       "text": [
        "\n",
        "iteration: 500     loss: 0.0103185083717    accuracy: [ 0.03604871  0.08184902]"
       ]
      },
      {
       "output_type": "stream",
       "stream": "stdout",
       "text": [
        "\n",
        "iteration: 600     loss: 0.0105755291879    accuracy: [ 0.00988846  0.12799691]"
       ]
      },
      {
       "output_type": "stream",
       "stream": "stdout",
       "text": [
        "\n",
        "iteration: 700     loss: 0.000247860967647    accuracy: [ 0.  0.]"
       ]
      },
      {
       "output_type": "stream",
       "stream": "stdout",
       "text": [
        "\n",
        "iteration: 800     loss: 0.010802872479    accuracy: [ 0.02007908  0.19501522]"
       ]
      },
      {
       "output_type": "stream",
       "stream": "stdout",
       "text": [
        "\n",
        "iteration: 900     loss: 0.0129422526807    accuracy: [ 0.01993042  0.16535585]"
       ]
      },
      {
       "output_type": "stream",
       "stream": "stdout",
       "text": [
        "\n",
        "iteration: 1000    loss: 0.00408293958753    accuracy: [ 0.01266344  0.17565532]"
       ]
      },
      {
       "output_type": "stream",
       "stream": "stdout",
       "text": [
        "\n",
        "iteration: 1100    loss: 0.0118560735136    accuracy: [ 0.04892977  0.07055239]"
       ]
      },
      {
       "output_type": "stream",
       "stream": "stdout",
       "text": [
        "\n",
        "iteration: 1200    loss: 0.000417378963903    accuracy: [ 0.  0.]"
       ]
      },
      {
       "output_type": "stream",
       "stream": "stdout",
       "text": [
        "\n",
        "iteration: 1300    loss: 0.0113353114575    accuracy: [ 0.02694358  0.13416536]"
       ]
      },
      {
       "output_type": "stream",
       "stream": "stdout",
       "text": [
        "\n",
        "iteration: 1400    loss: 0.0135051840916    accuracy: [ 0.06322742  0.05535055]"
       ]
      },
      {
       "output_type": "stream",
       "stream": "stdout",
       "text": [
        "\n",
        "iteration: 1500    loss: 0.00917420908809    accuracy: [ 0.01531045  0.16691616]"
       ]
      },
      {
       "output_type": "stream",
       "stream": "stdout",
       "text": [
        "\n",
        "iteration: 1600    loss: 0.0140244504437    accuracy: [ 0.066902    0.07492006]"
       ]
      },
      {
       "output_type": "stream",
       "stream": "stdout",
       "text": [
        "\n",
        "iteration: 1700    loss: 0.0147682102397    accuracy: [ 0.02886879  0.17224944]"
       ]
      },
      {
       "output_type": "stream",
       "stream": "stdout",
       "text": [
        "\n",
        "iteration: 1800    loss: 0.0138014219701    accuracy: [ 0.04925237  0.10225774]"
       ]
      },
      {
       "output_type": "stream",
       "stream": "stdout",
       "text": [
        "\n",
        "iteration: 1900    loss: 0.011551938951    accuracy: [ 0.05764865  0.06231769]"
       ]
      },
      {
       "output_type": "stream",
       "stream": "stdout",
       "text": [
        "\n",
        "iteration: 2000    loss: 0.000456188805401    accuracy: [ 0.  0.]"
       ]
      },
      {
       "output_type": "stream",
       "stream": "stdout",
       "text": [
        "\n",
        "iteration: 2100    loss: 0.0132107520476    accuracy: [ 0.01695524  0.26182964]"
       ]
      },
      {
       "output_type": "stream",
       "stream": "stdout",
       "text": [
        "\n",
        "iteration: 2200    loss: 0.0160211063921    accuracy: [ 0.04715284  0.08027598]"
       ]
      },
      {
       "output_type": "stream",
       "stream": "stdout",
       "text": [
        "\n",
        "iteration: 2300    loss: 0.00507302442566    accuracy: [ 0.00166188  0.14482759]"
       ]
      },
      {
       "output_type": "stream",
       "stream": "stdout",
       "text": [
        "\n",
        "iteration: 2400    loss: 0.00295997201465    accuracy: [ 0.00485798  0.18774548]"
       ]
      },
      {
       "output_type": "stream",
       "stream": "stdout",
       "text": [
        "\n",
        "iteration: 2500    loss: 0.0134032601491    accuracy: [ 0.04817453  0.09036814]"
       ]
      },
      {
       "output_type": "stream",
       "stream": "stdout",
       "text": [
        "\n",
        "iteration: 2600    loss: 0.000261681561824    accuracy: [ 0.  0.]"
       ]
      },
      {
       "output_type": "stream",
       "stream": "stdout",
       "text": [
        "\n",
        "iteration: 2700    loss: 0.0024127732031    accuracy: [ 0.00389715  0.04799217]"
       ]
      },
      {
       "output_type": "stream",
       "stream": "stdout",
       "text": [
        "\n",
        "iteration: 2800    loss: 0.0136137772352    accuracy: [ 0.06444088  0.05702587]"
       ]
      },
      {
       "output_type": "stream",
       "stream": "stdout",
       "text": [
        "\n",
        "iteration: 2900    loss: 0.0103373862803    accuracy: [ 0.03386127  0.10954423]"
       ]
      },
      {
       "output_type": "stream",
       "stream": "stdout",
       "text": [
        "\n",
        "iteration: 3000    loss: 0.0112901469693    accuracy: [ 0.04966427  0.08844113]"
       ]
      },
      {
       "output_type": "stream",
       "stream": "stdout",
       "text": [
        "\n",
        "iteration: 3100    loss: 0.0166332498193    accuracy: [ 0.06433632  0.08039484]"
       ]
      },
      {
       "output_type": "stream",
       "stream": "stdout",
       "text": [
        "\n",
        "iteration: 3200    loss: 0.012209251523    accuracy: [ 0.06238944  0.07434625]"
       ]
      },
      {
       "output_type": "stream",
       "stream": "stdout",
       "text": [
        "\n",
        "iteration: 3300    loss: 0.000290419615339    accuracy: [ 0.  0.]"
       ]
      },
      {
       "output_type": "stream",
       "stream": "stdout",
       "text": [
        "\n",
        "iteration: 3400    loss: 0.0143878301606    accuracy: [ 0.01696152  0.26109484]"
       ]
      },
      {
       "output_type": "stream",
       "stream": "stdout",
       "text": [
        "\n",
        "iteration: 3500    loss: 0.0124408528209    accuracy: [ 0.02705327  0.14158542]"
       ]
      },
      {
       "output_type": "stream",
       "stream": "stdout",
       "text": [
        "\n",
        "iteration: 3600    loss: 0.0133361471817    accuracy: [ 0.04412338  0.08439477]"
       ]
      },
      {
       "output_type": "stream",
       "stream": "stdout",
       "text": [
        "\n",
        "iteration: 3700    loss: 0.0104405730963    accuracy: [ 0.00494996  0.1267388 ]"
       ]
      },
      {
       "output_type": "stream",
       "stream": "stdout",
       "text": [
        "\n",
        "iteration: 3800    loss: 0.0143679259345    accuracy: [ 0.07076963  0.06623089]"
       ]
      },
      {
       "output_type": "stream",
       "stream": "stdout",
       "text": [
        "\n",
        "iteration: 3900    loss: 0.00868225563318    accuracy: [ 0.01994721  0.12485638]"
       ]
      },
      {
       "output_type": "stream",
       "stream": "stdout",
       "text": [
        "\n",
        "iteration: 4000    loss: 0.00379507266916    accuracy: [ 0.00363384  0.24054621]"
       ]
      },
      {
       "output_type": "stream",
       "stream": "stdout",
       "text": [
        "\n",
        "iteration: 4100    loss: 0.0120481513441    accuracy: [ 0.03299526  0.10960491]"
       ]
      },
      {
       "output_type": "stream",
       "stream": "stdout",
       "text": [
        "\n",
        "iteration: 4200    loss: 0.0124281048775    accuracy: [ 0.06015127  0.07008069]"
       ]
      },
      {
       "output_type": "stream",
       "stream": "stdout",
       "text": [
        "\n",
        "iteration: 4300    loss: 0.0112884156406    accuracy: [ 0.04647395  0.07794771]"
       ]
      },
      {
       "output_type": "stream",
       "stream": "stdout",
       "text": [
        "\n",
        "iteration: 4400    loss: 0.0140339378268    accuracy: [ 0.04341438  0.07129638]"
       ]
      },
      {
       "output_type": "stream",
       "stream": "stdout",
       "text": [
        "\n",
        "iteration: 4500    loss: 0.00031325040618    accuracy: [ 0.  0.]"
       ]
      },
      {
       "output_type": "stream",
       "stream": "stdout",
       "text": [
        "\n",
        "iteration: 4600    loss: 0.00580500392243    accuracy: [ 0.01863093  0.08831967]"
       ]
      },
      {
       "output_type": "stream",
       "stream": "stdout",
       "text": [
        "\n",
        "iteration: 4700    loss: 0.010104845278    accuracy: [ 0.03032399  0.10257056]"
       ]
      },
      {
       "output_type": "stream",
       "stream": "stdout",
       "text": [
        "\n",
        "iteration: 4800    loss: 0.0104827387258    accuracy: [ 0.02091764  0.08593893]"
       ]
      },
      {
       "output_type": "stream",
       "stream": "stdout",
       "text": [
        "\n",
        "iteration: 4900    loss: 0.0157092250884    accuracy: [ 0.0633403   0.07151918]"
       ]
      },
      {
       "output_type": "stream",
       "stream": "stdout",
       "text": [
        "\n",
        "iteration: 5000    loss: 0.0108179487288    accuracy: [ 0.01118227  0.34665301]"
       ]
      },
      {
       "output_type": "stream",
       "stream": "stdout",
       "text": [
        "\n",
        "iteration: 5100    loss: 0.00313250953332    accuracy: [ 0.00680713  0.16535874]"
       ]
      },
      {
       "output_type": "stream",
       "stream": "stdout",
       "text": [
        "\n",
        "iteration: 5200    loss: 0.0119665041566    accuracy: [ 0.04253936  0.06390437]"
       ]
      },
      {
       "output_type": "stream",
       "stream": "stdout",
       "text": [
        "\n",
        "iteration: 5300    loss: 0.0116693582386    accuracy: [ 0.04921942  0.07811166]"
       ]
      },
      {
       "output_type": "stream",
       "stream": "stdout",
       "text": [
        "\n",
        "iteration: 5400    loss: 0.0155195193365    accuracy: [ 0.01881241  0.19381736]"
       ]
      },
      {
       "output_type": "stream",
       "stream": "stdout",
       "text": [
        "\n",
        "iteration: 5500    loss: 0.0098351277411    accuracy: [ 0.02586991  0.10649926]"
       ]
      },
      {
       "output_type": "stream",
       "stream": "stdout",
       "text": [
        "\n",
        "iteration: 5600    loss: 0.0126319732517    accuracy: [ 0.06323438  0.06740011]"
       ]
      },
      {
       "output_type": "stream",
       "stream": "stdout",
       "text": [
        "\n",
        "iteration: 5700    loss: 0.00512405578047    accuracy: [ 0.00910156  0.13338926]"
       ]
      },
      {
       "output_type": "stream",
       "stream": "stdout",
       "text": [
        "\n",
        "iteration: 5800    loss: 0.00990703701973    accuracy: [ 0.03475752  0.07971413]"
       ]
      },
      {
       "output_type": "stream",
       "stream": "stdout",
       "text": [
        "\n",
        "iteration: 5900    loss: 0.000292297598207    accuracy: [ 0.  0.]"
       ]
      },
      {
       "output_type": "stream",
       "stream": "stdout",
       "text": [
        "\n",
        "iteration: 6000    loss: 0.0097849983722    accuracy: [ 0.04924668  0.08264847]"
       ]
      },
      {
       "output_type": "stream",
       "stream": "stdout",
       "text": [
        "\n",
        "iteration: 6100    loss: 0.00549331959337    accuracy: [ 0.00267079  0.78142858]"
       ]
      },
      {
       "output_type": "stream",
       "stream": "stdout",
       "text": [
        "\n",
        "iteration: 6200    loss: 0.0131454309449    accuracy: [ 0.0480963   0.07902687]"
       ]
      },
      {
       "output_type": "stream",
       "stream": "stdout",
       "text": [
        "\n",
        "iteration: 6300    loss: 0.0120295714587    accuracy: [ 0.04733477  0.07174598]"
       ]
      },
      {
       "output_type": "stream",
       "stream": "stdout",
       "text": [
        "\n",
        "iteration: 6400    loss: 0.0129578309134    accuracy: [ 0.04817674  0.08759124]"
       ]
      },
      {
       "output_type": "stream",
       "stream": "stdout",
       "text": [
        "\n",
        "iteration: 6500    loss: 0.0136444978416    accuracy: [ 0.05818187  0.06409413]"
       ]
      },
      {
       "output_type": "stream",
       "stream": "stdout",
       "text": [
        "\n",
        "iteration: 6600    loss: 0.000238084568991    accuracy: [ 0.  0.]"
       ]
      },
      {
       "output_type": "stream",
       "stream": "stdout",
       "text": [
        "\n",
        "iteration: 6700    loss: 0.00945777539164    accuracy: [ 0.03733175  0.06244881]"
       ]
      },
      {
       "output_type": "stream",
       "stream": "stdout",
       "text": [
        "\n",
        "iteration: 6800    loss: 0.00808872841299    accuracy: [ 0.02321326  0.09134299]"
       ]
      },
      {
       "output_type": "stream",
       "stream": "stdout",
       "text": [
        "\n",
        "iteration: 6900    loss: 0.0126921273768    accuracy: [ 0.04577679  0.05382365]"
       ]
      },
      {
       "output_type": "stream",
       "stream": "stdout",
       "text": [
        "\n",
        "iteration: 7000    loss: 0.00210049422458    accuracy: [ 0.00144987  0.51578945]"
       ]
      },
      {
       "output_type": "stream",
       "stream": "stdout",
       "text": [
        "\n",
        "iteration: 7100    loss: 0.0135825192556    accuracy: [ 0.04812312  0.07711264]"
       ]
      },
      {
       "output_type": "stream",
       "stream": "stdout",
       "text": [
        "\n",
        "iteration: 7200    loss: 0.00831046421081    accuracy: [ 0.0295416   0.10211996]"
       ]
      },
      {
       "output_type": "stream",
       "stream": "stdout",
       "text": [
        "\n",
        "iteration: 7300    loss: 0.00969238206744    accuracy: [ 0.04808221  0.08514018]"
       ]
      },
      {
       "output_type": "stream",
       "stream": "stdout",
       "text": [
        "\n",
        "iteration: 7400    loss: 0.0126680955291    accuracy: [ 0.04733497  0.07198255]"
       ]
      },
      {
       "output_type": "stream",
       "stream": "stdout",
       "text": [
        "\n",
        "iteration: 7500    loss: 0.00890565942973    accuracy: [ 0.01974426  0.12093654]"
       ]
      },
      {
       "output_type": "stream",
       "stream": "stdout",
       "text": [
        "\n",
        "iteration: 7600    loss: 0.00810083374381    accuracy: [ 0.01120751  0.2439523 ]"
       ]
      },
      {
       "output_type": "stream",
       "stream": "stdout",
       "text": [
        "\n",
        "iteration: 7700    loss: 0.0125040989369    accuracy: [ 0.0398474   0.09765925]"
       ]
      },
      {
       "output_type": "stream",
       "stream": "stdout",
       "text": [
        "\n",
        "iteration: 7800    loss: 0.0118873249739    accuracy: [ 0.06456014  0.06339904]"
       ]
      },
      {
       "output_type": "stream",
       "stream": "stdout",
       "text": [
        "\n",
        "iteration: 7900    loss: 0.0125988060609    accuracy: [ 0.01369984  0.15047459]"
       ]
      },
      {
       "output_type": "stream",
       "stream": "stdout",
       "text": [
        "\n",
        "iteration: 8000    loss: 0.000253819336649    accuracy: [ 0.  0.]"
       ]
      },
      {
       "output_type": "stream",
       "stream": "stdout",
       "text": [
        "\n",
        "iteration: 8100    loss: 0.0124533865601    accuracy: [ 0.03112458  0.07695144]"
       ]
      },
      {
       "output_type": "stream",
       "stream": "stdout",
       "text": [
        "\n",
        "iteration: 8200    loss: 0.00909476634115    accuracy: [ 0.03883732  0.08044846]"
       ]
      },
      {
       "output_type": "stream",
       "stream": "stdout",
       "text": [
        "\n",
        "iteration: 8300    loss: 0.0084615489468    accuracy: [ 0.015294    0.16308691]"
       ]
      },
      {
       "output_type": "stream",
       "stream": "stdout",
       "text": [
        "\n",
        "iteration: 8400    loss: 0.0133943632245    accuracy: [ 0.04000107  0.08804971]"
       ]
      },
      {
       "output_type": "stream",
       "stream": "stdout",
       "text": [
        "\n",
        "iteration: 8500    loss: 0.0170535091311    accuracy: [ 0.02887025  0.1733139 ]"
       ]
      },
      {
       "output_type": "stream",
       "stream": "stdout",
       "text": [
        "\n",
        "iteration: 8600    loss: 0.00886827521026    accuracy: [ 0.03789581  0.06956346]"
       ]
      },
      {
       "output_type": "stream",
       "stream": "stdout",
       "text": [
        "\n",
        "iteration: 8700    loss: 0.00963968876749    accuracy: [ 0.01369063  0.25153375]"
       ]
      },
      {
       "output_type": "stream",
       "stream": "stdout",
       "text": [
        "\n",
        "iteration: 8800    loss: 0.00465483777225    accuracy: [ 0.01966982  0.08034155]"
       ]
      },
      {
       "output_type": "stream",
       "stream": "stdout",
       "text": [
        "\n",
        "iteration: 8900    loss: 0.00314026046544    accuracy: [ 0.0016482  0.6412037]"
       ]
      },
      {
       "output_type": "stream",
       "stream": "stdout",
       "text": [
        "\n",
        "iteration: 9000    loss: 0.00371078262106    accuracy: [ 0.00377747  0.41414142]"
       ]
      },
      {
       "output_type": "stream",
       "stream": "stdout",
       "text": [
        "\n",
        "iteration: 9100    loss: 0.00829785689712    accuracy: [ 0.02828654  0.10449575]"
       ]
      },
      {
       "output_type": "stream",
       "stream": "stdout",
       "text": [
        "\n",
        "iteration: 9200    loss: 0.0178759582341    accuracy: [ 0.06435201  0.08916894]"
       ]
      },
      {
       "output_type": "stream",
       "stream": "stdout",
       "text": [
        "\n",
        "iteration: 9300    loss: 0.00938925333321    accuracy: [ 0.03104551  0.10175957]"
       ]
      },
      {
       "output_type": "stream",
       "stream": "stdout",
       "text": [
        "\n",
        "iteration: 9400    loss: 0.0109269432724    accuracy: [ 0.02344248  0.15433507]"
       ]
      },
      {
       "output_type": "stream",
       "stream": "stdout",
       "text": [
        "\n",
        "iteration: 9500    loss: 0.000255051796557    accuracy: [ 0.  0.]"
       ]
      },
      {
       "output_type": "stream",
       "stream": "stdout",
       "text": [
        "\n",
        "iteration: 9600    loss: 0.00202308152802    accuracy: [ 0.00162541  0.35915494]"
       ]
      },
      {
       "output_type": "stream",
       "stream": "stdout",
       "text": [
        "\n",
        "iteration: 9700    loss: 0.0128933526576    accuracy: [ 0.06583459  0.06271049]"
       ]
      },
      {
       "output_type": "stream",
       "stream": "stdout",
       "text": [
        "\n",
        "iteration: 9800    loss: 0.000299314968288    accuracy: [ 0.  0.]"
       ]
      },
      {
       "output_type": "stream",
       "stream": "stdout",
       "text": [
        "\n",
        "iteration: 9900    loss: 0.0129186101258    accuracy: [ 0.03732322  0.09905757]"
       ]
      },
      {
       "output_type": "stream",
       "stream": "stdout",
       "text": [
        "\n",
        "iteration: 10000   loss: 0.00415726145729    accuracy: [ 0.01266717  0.13257006]"
       ]
      },
      {
       "output_type": "stream",
       "stream": "stdout",
       "text": [
        "\n",
        "snaping to: /home/qinshuo/WorkPlace/caffe_space/seg_spine/weight/seg_spine_net_fin60000.caffemodel\n",
        "iteration: 100     loss: 0.0115609336644    accuracy: [ 0.04755754  0.08324628]"
       ]
      },
      {
       "output_type": "stream",
       "stream": "stdout",
       "text": [
        "\n",
        "iteration: 200     loss: 0.0106826238334    accuracy: [ 0.04801242  0.06297771]"
       ]
      },
      {
       "output_type": "stream",
       "stream": "stdout",
       "text": [
        "\n",
        "iteration: 300     loss: 0.0149000752717    accuracy: [ 0.01059031  0.26300579]"
       ]
      },
      {
       "output_type": "stream",
       "stream": "stdout",
       "text": [
        "\n",
        "iteration: 400     loss: 0.00265088886954    accuracy: [ 0.00468561  0.2247557 ]"
       ]
      },
      {
       "output_type": "stream",
       "stream": "stdout",
       "text": [
        "\n",
        "iteration: 500     loss: 0.011340668425    accuracy: [ 0.050218    0.07730939]"
       ]
      },
      {
       "output_type": "stream",
       "stream": "stdout",
       "text": [
        "\n",
        "iteration: 600     loss: 0.00743011757731    accuracy: [ 0.02104045  0.06410024]"
       ]
      },
      {
       "output_type": "stream",
       "stream": "stdout",
       "text": [
        "\n",
        "iteration: 700     loss: 0.0127372900024    accuracy: [ 0.04941712  0.08763245]"
       ]
      },
      {
       "output_type": "stream",
       "stream": "stdout",
       "text": [
        "\n",
        "iteration: 800     loss: 0.0100559201092    accuracy: [ 0.02910506  0.08681376]"
       ]
      },
      {
       "output_type": "stream",
       "stream": "stdout",
       "text": [
        "\n",
        "iteration: 900     loss: 0.00171736243647    accuracy: [ 0.00459794  0.07053942]"
       ]
      },
      {
       "output_type": "stream",
       "stream": "stdout",
       "text": [
        "\n",
        "iteration: 1000    loss: 0.0108066648245    accuracy: [ 0.03203927  0.0770883 ]"
       ]
      },
      {
       "output_type": "stream",
       "stream": "stdout",
       "text": [
        "\n",
        "iteration: 1100    loss: 0.0111200278625    accuracy: [ 0.04802629  0.07710057]"
       ]
      },
      {
       "output_type": "stream",
       "stream": "stdout",
       "text": [
        "\n",
        "iteration: 1200    loss: 0.00746307289228    accuracy: [ 0.01074181  0.3024165 ]"
       ]
      },
      {
       "output_type": "stream",
       "stream": "stdout",
       "text": [
        "\n",
        "iteration: 1300    loss: 0.00907063297927    accuracy: [ 0.04711418  0.07465953]"
       ]
      },
      {
       "output_type": "stream",
       "stream": "stdout",
       "text": [
        "\n",
        "iteration: 1400    loss: 0.00775809586048    accuracy: [ 0.00267067  0.94285715]"
       ]
      },
      {
       "output_type": "stream",
       "stream": "stdout",
       "text": [
        "\n",
        "iteration: 1500    loss: 0.0187006928027    accuracy: [ 0.07063229  0.08906817]"
       ]
      },
      {
       "output_type": "stream",
       "stream": "stdout",
       "text": [
        "\n",
        "iteration: 1600    loss: 0.0165224671364    accuracy: [ 0.01388708  0.16993104]"
       ]
      },
      {
       "output_type": "stream",
       "stream": "stdout",
       "text": [
        "\n",
        "iteration: 1700    loss: 0.0142358094454    accuracy: [ 0.03335131  0.1192387 ]"
       ]
      },
      {
       "output_type": "stream",
       "stream": "stdout",
       "text": [
        "\n",
        "iteration: 1800    loss: 0.00137819722295    accuracy: [ 0.  0.]"
       ]
      },
      {
       "output_type": "stream",
       "stream": "stdout",
       "text": [
        "\n",
        "iteration: 1900    loss: 0.0100881457329    accuracy: [ 0.04334584  0.0746716 ]"
       ]
      },
      {
       "output_type": "stream",
       "stream": "stdout",
       "text": [
        "\n",
        "iteration: 2000    loss: 0.000257682695519    accuracy: [ 0.  0.]"
       ]
      },
      {
       "output_type": "stream",
       "stream": "stdout",
       "text": [
        "\n",
        "iteration: 2100    loss: 0.0163325965405    accuracy: [ 0.07447971  0.07509111]"
       ]
      },
      {
       "output_type": "stream",
       "stream": "stdout",
       "text": [
        "\n",
        "iteration: 2200    loss: 0.00217741727829    accuracy: [ 0.0030374   0.15326633]"
       ]
      },
      {
       "output_type": "stream",
       "stream": "stdout",
       "text": [
        "\n",
        "iteration: 2300    loss: 0.00486169476062    accuracy: [ 0.00442767  0.375     ]"
       ]
      },
      {
       "output_type": "stream",
       "stream": "stdout",
       "text": [
        "\n",
        "iteration: 2400    loss: 0.00216994504444    accuracy: [ 0.00460662  0.04308202]"
       ]
      },
      {
       "output_type": "stream",
       "stream": "stdout",
       "text": [
        "\n",
        "iteration: 2500    loss: 0.0127565329894    accuracy: [ 0.02753234  0.08241834]"
       ]
      },
      {
       "output_type": "stream",
       "stream": "stdout",
       "text": [
        "\n",
        "iteration: 2600    loss: 0.00682047009468    accuracy: [ 0.01066368  0.24060151]"
       ]
      },
      {
       "output_type": "stream",
       "stream": "stdout",
       "text": [
        "\n",
        "iteration: 2700    loss: 0.00243273051456    accuracy: [ 0.00368184  0.2476684 ]"
       ]
      },
      {
       "output_type": "stream",
       "stream": "stdout",
       "text": [
        "\n",
        "iteration: 2800    loss: 0.00963090732694    accuracy: [ 0.03607653  0.11082883]"
       ]
      },
      {
       "output_type": "stream",
       "stream": "stdout",
       "text": [
        "\n",
        "iteration: 2900    loss: 0.0116555215791    accuracy: [ 0.02592628  0.13576062]"
       ]
      },
      {
       "output_type": "stream",
       "stream": "stdout",
       "text": [
        "\n",
        "iteration: 3000    loss: 0.0124492999166    accuracy: [ 0.06580462  0.06337129]"
       ]
      },
      {
       "output_type": "stream",
       "stream": "stdout",
       "text": [
        "\n",
        "iteration: 3100    loss: 0.00409846566617    accuracy: [ 0.0013513   0.40112993]"
       ]
      },
      {
       "output_type": "stream",
       "stream": "stdout",
       "text": [
        "\n",
        "iteration: 3200    loss: 0.0116007719189    accuracy: [ 0.04997001  0.08768443]"
       ]
      },
      {
       "output_type": "stream",
       "stream": "stdout",
       "text": [
        "\n",
        "iteration: 3300    loss: 0.00155315455049    accuracy: [ 0.00391045  0.14439024]"
       ]
      },
      {
       "output_type": "stream",
       "stream": "stdout",
       "text": [
        "\n",
        "iteration: 3400    loss: 0.000316020858008    accuracy: [ 0.  0.]"
       ]
      },
      {
       "output_type": "stream",
       "stream": "stdout",
       "text": [
        "\n",
        "iteration: 3500    loss: 0.0104673895985    accuracy: [ 0.04947381  0.06990036]"
       ]
      },
      {
       "output_type": "stream",
       "stream": "stdout",
       "text": [
        "\n",
        "iteration: 3600    loss: 0.000342253653798    accuracy: [ 0.  0.]"
       ]
      },
      {
       "output_type": "stream",
       "stream": "stdout",
       "text": [
        "\n",
        "iteration: 3700    loss: 0.0114882206544    accuracy: [ 0.04959789  0.09631968]"
       ]
      },
      {
       "output_type": "stream",
       "stream": "stdout",
       "text": [
        "\n",
        "iteration: 3800    loss: 0.0140624037012    accuracy: [ 0.06681921  0.08695403]"
       ]
      },
      {
       "output_type": "stream",
       "stream": "stdout",
       "text": [
        "\n",
        "iteration: 3900    loss: 0.000249611213803    accuracy: [ 0.  0.]"
       ]
      },
      {
       "output_type": "stream",
       "stream": "stdout",
       "text": [
        "\n",
        "iteration: 4000    loss: 0.0127890408039    accuracy: [ 0.01698188  0.18847106]"
       ]
      },
      {
       "output_type": "stream",
       "stream": "stdout",
       "text": [
        "\n",
        "iteration: 4100    loss: 0.000264999747742    accuracy: [ 0.  0.]"
       ]
      },
      {
       "output_type": "stream",
       "stream": "stdout",
       "text": [
        "\n",
        "iteration: 4200    loss: 0.0050789238885    accuracy: [ 0.01468612  0.1195737 ]"
       ]
      },
      {
       "output_type": "stream",
       "stream": "stdout",
       "text": [
        "\n",
        "iteration: 4300    loss: 0.0156024582684    accuracy: [ 0.03310914  0.1254911 ]"
       ]
      },
      {
       "output_type": "stream",
       "stream": "stdout",
       "text": [
        "\n",
        "iteration: 4400    loss: 0.0156100764871    accuracy: [ 0.07075951  0.07434623]"
       ]
      },
      {
       "output_type": "stream",
       "stream": "stdout",
       "text": [
        "\n",
        "iteration: 4500    loss: 0.0161423459649    accuracy: [ 0.04721     0.11592676]"
       ]
      },
      {
       "output_type": "stream",
       "stream": "stdout",
       "text": [
        "\n",
        "iteration: 4600    loss: 0.00989829748869    accuracy: [ 0.04707118  0.07062262]"
       ]
      },
      {
       "output_type": "stream",
       "stream": "stdout",
       "text": [
        "\n",
        "iteration: 4700    loss: 0.015458763577    accuracy: [ 0.02040043  0.18604651]"
       ]
      },
      {
       "output_type": "stream",
       "stream": "stdout",
       "text": [
        "\n",
        "iteration: 4800    loss: 0.012429353781    accuracy: [ 0.04731458  0.0691829 ]"
       ]
      },
      {
       "output_type": "stream",
       "stream": "stdout",
       "text": [
        "\n",
        "iteration: 4900    loss: 0.000307728885673    accuracy: [ 0.  0.]"
       ]
      },
      {
       "output_type": "stream",
       "stream": "stdout",
       "text": [
        "\n",
        "iteration: 5000    loss: 0.0117362756282    accuracy: [ 0.06579535  0.05866295]"
       ]
      },
      {
       "output_type": "stream",
       "stream": "stdout",
       "text": [
        "\n",
        "iteration: 5100    loss: 0.00917255599052    accuracy: [ 0.03321249  0.08891189]"
       ]
      },
      {
       "output_type": "stream",
       "stream": "stdout",
       "text": [
        "\n",
        "iteration: 5200    loss: 0.00840801000595    accuracy: [ 0.03787477  0.07975398]"
       ]
      },
      {
       "output_type": "stream",
       "stream": "stdout",
       "text": [
        "\n",
        "iteration: 5300    loss: 0.000260095053818    accuracy: [ 0.  0.]"
       ]
      },
      {
       "output_type": "stream",
       "stream": "stdout",
       "text": [
        "\n",
        "iteration: 5400    loss: 0.0114214383066    accuracy: [ 0.04804521  0.08486439]"
       ]
      },
      {
       "output_type": "stream",
       "stream": "stdout",
       "text": [
        "\n",
        "iteration: 5500    loss: 0.00993276014924    accuracy: [ 0.03894551  0.07397959]"
       ]
      },
      {
       "output_type": "stream",
       "stream": "stdout",
       "text": [
        "\n",
        "iteration: 5600    loss: 0.00579180568457    accuracy: [ 0.00929416  0.13393591]"
       ]
      },
      {
       "output_type": "stream",
       "stream": "stdout",
       "text": [
        "\n",
        "iteration: 5700    loss: 0.0143763832748    accuracy: [ 0.04703035  0.09244654]"
       ]
      },
      {
       "output_type": "stream",
       "stream": "stdout",
       "text": [
        "\n",
        "iteration: 5800    loss: 0.0111209480092    accuracy: [ 0.04834083  0.08826551]"
       ]
      },
      {
       "output_type": "stream",
       "stream": "stdout",
       "text": [
        "\n",
        "iteration: 5900    loss: 0.000253686041106    accuracy: [ 0.  0.]"
       ]
      },
      {
       "output_type": "stream",
       "stream": "stdout",
       "text": [
        "\n",
        "iteration: 6000    loss: 0.0135067906231    accuracy: [ 0.04387403  0.11619197]"
       ]
      },
      {
       "output_type": "stream",
       "stream": "stdout",
       "text": [
        "\n",
        "iteration: 6100    loss: 0.000596423167735    accuracy: [  1.06813561e-04   9.28571403e-01]"
       ]
      },
      {
       "output_type": "stream",
       "stream": "stdout",
       "text": [
        "\n",
        "iteration: 6200    loss: 0.0112082147971    accuracy: [ 0.02647487  0.10528596]"
       ]
      },
      {
       "output_type": "stream",
       "stream": "stdout",
       "text": [
        "\n",
        "iteration: 6300    loss: 0.0159679949284    accuracy: [ 0.06433905  0.08246626]"
       ]
      },
      {
       "output_type": "stream",
       "stream": "stdout",
       "text": [
        "\n",
        "iteration: 6400    loss: 0.00650704465806    accuracy: [ 0.00918506  0.24106401]"
       ]
      },
      {
       "output_type": "stream",
       "stream": "stdout",
       "text": [
        "\n",
        "iteration: 6500    loss: 0.0107440855354    accuracy: [ 0.0243179   0.11332914]"
       ]
      },
      {
       "output_type": "stream",
       "stream": "stdout",
       "text": [
        "\n",
        "iteration: 6600    loss: 0.0128871649504    accuracy: [ 0.02351433  0.07013832]"
       ]
      },
      {
       "output_type": "stream",
       "stream": "stdout",
       "text": [
        "\n",
        "iteration: 6700    loss: 0.00235136249103    accuracy: [ 0.00162888  0.74473065]"
       ]
      },
      {
       "output_type": "stream",
       "stream": "stdout",
       "text": [
        "\n",
        "iteration: 6800    loss: 0.0120858196169    accuracy: [ 0.04858269  0.0810258 ]"
       ]
      },
      {
       "output_type": "stream",
       "stream": "stdout",
       "text": [
        "\n",
        "iteration: 6900    loss: 0.0144436955452    accuracy: [ 0.04006638  0.10326398]"
       ]
      },
      {
       "output_type": "stream",
       "stream": "stdout",
       "text": [
        "\n",
        "iteration: 7000    loss: 0.0107721341774    accuracy: [ 0.03123842  0.11521526]"
       ]
      },
      {
       "output_type": "stream",
       "stream": "stdout",
       "text": [
        "\n",
        "iteration: 7100    loss: 0.000326301611494    accuracy: [ 0.  0.]"
       ]
      },
      {
       "output_type": "stream",
       "stream": "stdout",
       "text": [
        "\n",
        "iteration: 7200    loss: 0.0122619308531    accuracy: [ 0.04804973  0.08042959]"
       ]
      },
      {
       "output_type": "stream",
       "stream": "stdout",
       "text": [
        "\n",
        "iteration: 7300    loss: 0.00326707214117    accuracy: [ 0.00713847  0.08181818]"
       ]
      },
      {
       "output_type": "stream",
       "stream": "stdout",
       "text": [
        "\n",
        "iteration: 7400    loss: 0.0106650227681    accuracy: [ 0.04968657  0.08064888]"
       ]
      },
      {
       "output_type": "stream",
       "stream": "stdout",
       "text": [
        "\n",
        "iteration: 7500    loss: 0.0112207550555    accuracy: [ 0.03127401  0.10474212]"
       ]
      },
      {
       "output_type": "stream",
       "stream": "stdout",
       "text": [
        "\n",
        "iteration: 7600    loss: 0.0133754927665    accuracy: [ 0.04730531  0.06454222]"
       ]
      },
      {
       "output_type": "stream",
       "stream": "stdout",
       "text": [
        "\n",
        "iteration: 7700    loss: 0.0114387637004    accuracy: [ 0.04436496  0.08906116]"
       ]
      },
      {
       "output_type": "stream",
       "stream": "stdout",
       "text": [
        "\n",
        "iteration: 7800    loss: 0.00472014490515    accuracy: [ 0.0036347   0.23739496]"
       ]
      },
      {
       "output_type": "stream",
       "stream": "stdout",
       "text": [
        "\n",
        "iteration: 7900    loss: 0.00029155050288    accuracy: [ 0.  0.]"
       ]
      },
      {
       "output_type": "stream",
       "stream": "stdout",
       "text": [
        "\n",
        "iteration: 8000    loss: 0.0113025624305    accuracy: [ 0.05017825  0.07782516]"
       ]
      },
      {
       "output_type": "stream",
       "stream": "stdout",
       "text": [
        "\n",
        "iteration: 8100    loss: 0.0121624870226    accuracy: [ 0.04412759  0.09335759]"
       ]
      },
      {
       "output_type": "stream",
       "stream": "stdout",
       "text": [
        "\n",
        "iteration: 8200    loss: 0.0134707633406    accuracy: [ 0.04679767  0.08050016]"
       ]
      },
      {
       "output_type": "stream",
       "stream": "stdout",
       "text": [
        "\n",
        "iteration: 8300    loss: 0.0101682431996    accuracy: [ 0.02905011  0.11163708]"
       ]
      },
      {
       "output_type": "stream",
       "stream": "stdout",
       "text": [
        "\n",
        "iteration: 8400    loss: 0.00386821292341    accuracy: [ 0.00147011  0.23636363]"
       ]
      },
      {
       "output_type": "stream",
       "stream": "stdout",
       "text": [
        "\n",
        "iteration: 8500    loss: 0.0101307071745    accuracy: [ 0.02281914  0.14314415]"
       ]
      },
      {
       "output_type": "stream",
       "stream": "stdout",
       "text": [
        "\n",
        "iteration: 8600    loss: 0.00229439907707    accuracy: [ 0.00405156  0.22222222]"
       ]
      },
      {
       "output_type": "stream",
       "stream": "stdout",
       "text": [
        "\n",
        "iteration: 8700    loss: 0.0105784796178    accuracy: [ 0.04922556  0.07328624]"
       ]
      },
      {
       "output_type": "stream",
       "stream": "stdout",
       "text": [
        "\n",
        "iteration: 8800    loss: 0.00658455537632    accuracy: [ 0.01867985  0.06747086]"
       ]
      },
      {
       "output_type": "stream",
       "stream": "stdout",
       "text": [
        "\n",
        "iteration: 8900    loss: 0.00863902643323    accuracy: [ 0.02805281  0.07601144]"
       ]
      },
      {
       "output_type": "stream",
       "stream": "stdout",
       "text": [
        "\n",
        "iteration: 9000    loss: 0.000338594603818    accuracy: [ 0.  0.]"
       ]
      },
      {
       "output_type": "stream",
       "stream": "stdout",
       "text": [
        "\n",
        "iteration: 9100    loss: 0.0149945532903    accuracy: [ 0.03556569  0.08383556]"
       ]
      },
      {
       "output_type": "stream",
       "stream": "stdout",
       "text": [
        "\n",
        "iteration: 9200    loss: 0.00221714936197    accuracy: [ 0.00304834  0.26908636]"
       ]
      },
      {
       "output_type": "stream",
       "stream": "stdout",
       "text": [
        "\n",
        "iteration: 9300    loss: 0.0119103267789    accuracy: [ 0.02701618  0.14611033]"
       ]
      },
      {
       "output_type": "stream",
       "stream": "stdout",
       "text": [
        "\n",
        "iteration: 9400    loss: 0.00900971703231    accuracy: [ 0.03448987  0.10993025]"
       ]
      },
      {
       "output_type": "stream",
       "stream": "stdout",
       "text": [
        "\n",
        "iteration: 9500    loss: 0.0138922668993    accuracy: [ 0.04739148  0.07637656]"
       ]
      },
      {
       "output_type": "stream",
       "stream": "stdout",
       "text": [
        "\n",
        "iteration: 9600    loss: 0.011884897016    accuracy: [ 0.0443889   0.08274496]"
       ]
      },
      {
       "output_type": "stream",
       "stream": "stdout",
       "text": [
        "\n",
        "iteration: 9700    loss: 0.0125844161958    accuracy: [ 0.06454029  0.07328913]"
       ]
      },
      {
       "output_type": "stream",
       "stream": "stdout",
       "text": [
        "\n",
        "iteration: 9800    loss: 0.00806687958539    accuracy: [ 0.03881823  0.06671259]"
       ]
      },
      {
       "output_type": "stream",
       "stream": "stdout",
       "text": [
        "\n",
        "iteration: 9900    loss: 0.0140689080581    accuracy: [ 0.04178134  0.06495648]"
       ]
      },
      {
       "output_type": "stream",
       "stream": "stdout",
       "text": [
        "\n",
        "iteration: 10000   loss: 0.000260135537246    accuracy: [ 0.  0.]"
       ]
      },
      {
       "output_type": "stream",
       "stream": "stdout",
       "text": [
        "\n",
        "snaping to: /home/qinshuo/WorkPlace/caffe_space/seg_spine/weight/seg_spine_net_fin70000.caffemodel\n",
        "iteration: 100     loss: 0.00766706652939    accuracy: [ 0.00835525  0.10064044]"
       ]
      },
      {
       "output_type": "stream",
       "stream": "stdout",
       "text": [
        "\n",
        "iteration: 200     loss: 0.00906841363758    accuracy: [ 0.04843845  0.04600332]"
       ]
      },
      {
       "output_type": "stream",
       "stream": "stdout",
       "text": [
        "\n",
        "iteration: 300     loss: 0.00938037410378    accuracy: [ 0.03381534  0.07548875]"
       ]
      },
      {
       "output_type": "stream",
       "stream": "stdout",
       "text": [
        "\n",
        "iteration: 400     loss: 0.00344203202985    accuracy: [ 0.00514104  0.22048998]"
       ]
      },
      {
       "output_type": "stream",
       "stream": "stdout",
       "text": [
        "\n",
        "iteration: 500     loss: 0.0124820424244    accuracy: [ 0.04568312  0.0693119 ]"
       ]
      },
      {
       "output_type": "stream",
       "stream": "stdout",
       "text": [
        "\n",
        "iteration: 600     loss: 0.00130404997617    accuracy: [ 0.00436033  0.14173229]"
       ]
      },
      {
       "output_type": "stream",
       "stream": "stdout",
       "text": [
        "\n",
        "iteration: 700     loss: 0.0115655241534    accuracy: [ 0.04157114  0.09945767]"
       ]
      },
      {
       "output_type": "stream",
       "stream": "stdout",
       "text": [
        "\n",
        "iteration: 800     loss: 0.0109058441594    accuracy: [ 0.04891232  0.08449824]"
       ]
      },
      {
       "output_type": "stream",
       "stream": "stdout",
       "text": [
        "\n",
        "iteration: 900     loss: 0.0125782629475    accuracy: [ 0.0424355   0.08810017]"
       ]
      },
      {
       "output_type": "stream",
       "stream": "stdout",
       "text": [
        "\n",
        "iteration: 1000    loss: 0.00983499735594    accuracy: [ 0.0137317  0.2047288]"
       ]
      },
      {
       "output_type": "stream",
       "stream": "stdout",
       "text": [
        "\n",
        "iteration: 1100    loss: 0.0116559416056    accuracy: [ 0.0425924   0.07468582]"
       ]
      },
      {
       "output_type": "stream",
       "stream": "stdout",
       "text": [
        "\n",
        "iteration: 1200    loss: 0.000303917186102    accuracy: [ 0.  0.]"
       ]
      },
      {
       "output_type": "stream",
       "stream": "stdout",
       "text": [
        "\n",
        "iteration: 1300    loss: 0.00699992151931    accuracy: [ 0.00492037  0.18167701]"
       ]
      },
      {
       "output_type": "stream",
       "stream": "stdout",
       "text": [
        "\n",
        "iteration: 1400    loss: 0.0100957155228    accuracy: [ 0.03727544  0.06901149]"
       ]
      },
      {
       "output_type": "stream",
       "stream": "stdout",
       "text": [
        "\n",
        "iteration: 1500    loss: 0.00666150264442    accuracy: [ 0.02100863  0.11557332]"
       ]
      },
      {
       "output_type": "stream",
       "stream": "stdout",
       "text": [
        "\n",
        "iteration: 1600    loss: 0.00926745776087    accuracy: [ 0.03324785  0.07069778]"
       ]
      },
      {
       "output_type": "stream",
       "stream": "stdout",
       "text": [
        "\n",
        "iteration: 1700    loss: 0.00973302125931    accuracy: [ 0.03483315  0.07273725]"
       ]
      },
      {
       "output_type": "stream",
       "stream": "stdout",
       "text": [
        "\n",
        "iteration: 1800    loss: 0.0112681277096    accuracy: [ 0.04937729  0.07901865]"
       ]
      },
      {
       "output_type": "stream",
       "stream": "stdout",
       "text": [
        "\n",
        "iteration: 1900    loss: 0.0140221081674    accuracy: [ 0.06421794  0.07860756]"
       ]
      },
      {
       "output_type": "stream",
       "stream": "stdout",
       "text": [
        "\n",
        "iteration: 2000    loss: 0.000374411582015    accuracy: [ 0.  0.]"
       ]
      },
      {
       "output_type": "stream",
       "stream": "stdout",
       "text": [
        "\n",
        "iteration: 2100    loss: 0.000361387850717    accuracy: [ 0.  0.]"
       ]
      },
      {
       "output_type": "stream",
       "stream": "stdout",
       "text": [
        "\n",
        "iteration: 2200    loss: 0.00936186127365    accuracy: [ 0.01990194  0.12749615]"
       ]
      },
      {
       "output_type": "stream",
       "stream": "stdout",
       "text": [
        "\n",
        "iteration: 2300    loss: 0.00258129555732    accuracy: [ 0.00301084  0.11787073]"
       ]
      },
      {
       "output_type": "stream",
       "stream": "stdout",
       "text": [
        "\n",
        "iteration: 2400    loss: 0.01528076455    accuracy: [ 0.03692994  0.06679112]"
       ]
      },
      {
       "output_type": "stream",
       "stream": "stdout",
       "text": [
        "\n",
        "iteration: 2500    loss: 0.00775627652183    accuracy: [ 0.02907112  0.10153685]"
       ]
      },
      {
       "output_type": "stream",
       "stream": "stdout",
       "text": [
        "\n",
        "iteration: 2600    loss: 0.0128644751385    accuracy: [ 0.01971552  0.20294631]"
       ]
      },
      {
       "output_type": "stream",
       "stream": "stdout",
       "text": [
        "\n",
        "iteration: 2700    loss: 0.011682331562    accuracy: [ 0.04935993  0.0874042 ]"
       ]
      },
      {
       "output_type": "stream",
       "stream": "stdout",
       "text": [
        "\n",
        "iteration: 2800    loss: 0.0109845222905    accuracy: [ 0.04935876  0.07910217]"
       ]
      },
      {
       "output_type": "stream",
       "stream": "stdout",
       "text": [
        "\n",
        "iteration: 2900    loss: 0.0109910611063    accuracy: [ 0.04166348  0.0716711 ]"
       ]
      },
      {
       "output_type": "stream",
       "stream": "stdout",
       "text": [
        "\n",
        "iteration: 3000    loss: 0.0221330188215    accuracy: [ 0.04729794  0.10844545]"
       ]
      },
      {
       "output_type": "stream",
       "stream": "stdout",
       "text": [
        "\n",
        "iteration: 3100    loss: 0.0025454913266    accuracy: [ 0.00162575  0.34976527]"
       ]
      },
      {
       "output_type": "stream",
       "stream": "stdout",
       "text": [
        "\n",
        "iteration: 3200    loss: 0.0140661345795    accuracy: [ 0.04366375  0.1022588 ]"
       ]
      },
      {
       "output_type": "stream",
       "stream": "stdout",
       "text": [
        "\n",
        "iteration: 3300    loss: 0.012064948678    accuracy: [ 0.04620628  0.08815746]"
       ]
      },
      {
       "output_type": "stream",
       "stream": "stdout",
       "text": [
        "\n",
        "iteration: 3400    loss: 0.000259289256064    accuracy: [ 0.  0.]"
       ]
      },
      {
       "output_type": "stream",
       "stream": "stdout",
       "text": [
        "\n",
        "iteration: 3500    loss: 0.00168542540632    accuracy: [ 0.00433875  0.06596306]"
       ]
      },
      {
       "output_type": "stream",
       "stream": "stdout",
       "text": [
        "\n",
        "iteration: 3600    loss: 0.011322026141    accuracy: [ 0.02697517  0.12553132]"
       ]
      },
      {
       "output_type": "stream",
       "stream": "stdout",
       "text": [
        "\n",
        "iteration: 3700    loss: 0.0101194623858    accuracy: [ 0.04816124  0.07687426]"
       ]
      },
      {
       "output_type": "stream",
       "stream": "stdout",
       "text": [
        "\n",
        "iteration: 3800    loss: 0.000380264886189    accuracy: [ 0.  0.]"
       ]
      },
      {
       "output_type": "stream",
       "stream": "stdout",
       "text": [
        "\n",
        "iteration: 3900    loss: 0.00235283793882    accuracy: [ 0.00484277  0.12687156]"
       ]
      },
      {
       "output_type": "stream",
       "stream": "stdout",
       "text": [
        "\n",
        "iteration: 4000    loss: 0.000707449391484    accuracy: [ 0.  0.]"
       ]
      },
      {
       "output_type": "stream",
       "stream": "stdout",
       "text": [
        "\n",
        "iteration: 4100    loss: 0.00593153946102    accuracy: [ 0.00749413  0.07696228]"
       ]
      },
      {
       "output_type": "stream",
       "stream": "stdout",
       "text": [
        "\n",
        "iteration: 4200    loss: 0.0136243663728    accuracy: [ 0.07167208  0.0675092 ]"
       ]
      },
      {
       "output_type": "stream",
       "stream": "stdout",
       "text": [
        "\n",
        "iteration: 4300    loss: 0.011707319878    accuracy: [ 0.05020041  0.08418328]"
       ]
      },
      {
       "output_type": "stream",
       "stream": "stdout",
       "text": [
        "\n",
        "iteration: 4400    loss: 0.0112608056515    accuracy: [ 0.04242447  0.08575804]"
       ]
      },
      {
       "output_type": "stream",
       "stream": "stdout",
       "text": [
        "\n",
        "iteration: 4500    loss: 0.0113460309803    accuracy: [ 0.01385031  0.07403315]"
       ]
      },
      {
       "output_type": "stream",
       "stream": "stdout",
       "text": [
        "\n",
        "iteration: 4600    loss: 0.00814990419894    accuracy: [ 0.02953664  0.11000517]"
       ]
      },
      {
       "output_type": "stream",
       "stream": "stdout",
       "text": [
        "\n",
        "iteration: 4700    loss: 0.00284608523361    accuracy: [ 0.003045    0.21303259]"
       ]
      },
      {
       "output_type": "stream",
       "stream": "stdout",
       "text": [
        "\n",
        "iteration: 4800    loss: 0.00795355346054    accuracy: [ 0.01975567  0.08181818]"
       ]
      },
      {
       "output_type": "stream",
       "stream": "stdout",
       "text": [
        "\n",
        "iteration: 4900    loss: 0.000411777000409    accuracy: [ 0.  0.]"
       ]
      },
      {
       "output_type": "stream",
       "stream": "stdout",
       "text": [
        "\n",
        "iteration: 5000    loss: 0.000621056300588    accuracy: [ 0.  0.]"
       ]
      },
      {
       "output_type": "stream",
       "stream": "stdout",
       "text": [
        "\n",
        "iteration: 5100    loss: 0.0108497701585    accuracy: [ 0.03104385  0.12759936]"
       ]
      },
      {
       "output_type": "stream",
       "stream": "stdout",
       "text": [
        "\n",
        "iteration: 5200    loss: 0.00555590866134    accuracy: [ 0.00906669  0.19073685]"
       ]
      },
      {
       "output_type": "stream",
       "stream": "stdout",
       "text": [
        "\n",
        "iteration: 5300    loss: 0.00703801400959    accuracy: [ 0.00445709  0.38131961]"
       ]
      },
      {
       "output_type": "stream",
       "stream": "stdout",
       "text": [
        "\n",
        "iteration: 5400    loss: 0.0136110763997    accuracy: [ 0.02750258  0.11710709]"
       ]
      },
      {
       "output_type": "stream",
       "stream": "stdout",
       "text": [
        "\n",
        "iteration: 5500    loss: 0.000269994779956    accuracy: [ 0.  0.]"
       ]
      },
      {
       "output_type": "stream",
       "stream": "stdout",
       "text": [
        "\n",
        "iteration: 5600    loss: 0.000238439824898    accuracy: [ 0.  0.]"
       ]
      },
      {
       "output_type": "stream",
       "stream": "stdout",
       "text": [
        "\n",
        "iteration: 5700    loss: 0.00163425656501    accuracy: [ 0.00037778  0.19191919]"
       ]
      },
      {
       "output_type": "stream",
       "stream": "stdout",
       "text": [
        "\n",
        "iteration: 5800    loss: 0.0136641599238    accuracy: [ 0.04860502  0.06644623]"
       ]
      },
      {
       "output_type": "stream",
       "stream": "stdout",
       "text": [
        "\n",
        "iteration: 5900    loss: 0.00785720348358    accuracy: [ 0.00496689  0.24307692]"
       ]
      },
      {
       "output_type": "stream",
       "stream": "stdout",
       "text": [
        "\n",
        "iteration: 6000    loss: 0.00374495587312    accuracy: [ 0.00746049  0.18925831]"
       ]
      },
      {
       "output_type": "stream",
       "stream": "stdout",
       "text": [
        "\n",
        "iteration: 6100    loss: 0.000330771814333    accuracy: [ 0.  0.]"
       ]
      },
      {
       "output_type": "stream",
       "stream": "stdout",
       "text": [
        "\n",
        "iteration: 6200    loss: 0.0120579870418    accuracy: [ 0.0239199   0.10873041]"
       ]
      },
      {
       "output_type": "stream",
       "stream": "stdout",
       "text": [
        "\n",
        "iteration: 6300    loss: 0.00889665074646    accuracy: [ 0.01267277  0.29397589]"
       ]
      },
      {
       "output_type": "stream",
       "stream": "stdout",
       "text": [
        "\n",
        "iteration: 6400    loss: 0.0116388089955    accuracy: [ 0.0456121   0.08060326]"
       ]
      },
      {
       "output_type": "stream",
       "stream": "stdout",
       "text": [
        "\n",
        "iteration: 6500    loss: 0.00303457817063    accuracy: [ 0.00484939  0.29819041]"
       ]
      },
      {
       "output_type": "stream",
       "stream": "stdout",
       "text": [
        "\n",
        "iteration: 6600    loss: 0.00176198408008    accuracy: [ 0.00391135  0.09365854]"
       ]
      },
      {
       "output_type": "stream",
       "stream": "stdout",
       "text": [
        "\n",
        "iteration: 6700    loss: 0.000288710987661    accuracy: [ 0.  0.]"
       ]
      },
      {
       "output_type": "stream",
       "stream": "stdout",
       "text": [
        "\n",
        "iteration: 6800    loss: 0.00973073206842    accuracy: [ 0.03381836  0.06984629]"
       ]
      },
      {
       "output_type": "stream",
       "stream": "stdout",
       "text": [
        "\n",
        "iteration: 6900    loss: 0.0113942399621    accuracy: [ 0.04991462  0.08020817]"
       ]
      },
      {
       "output_type": "stream",
       "stream": "stdout",
       "text": [
        "\n",
        "iteration: 7000    loss: 0.0156249469146    accuracy: [ 0.06432617  0.08358102]"
       ]
      },
      {
       "output_type": "stream",
       "stream": "stdout",
       "text": [
        "\n",
        "iteration: 7100    loss: 0.0195335410535    accuracy: [ 0.05405374  0.06898263]"
       ]
      },
      {
       "output_type": "stream",
       "stream": "stdout",
       "text": [
        "\n",
        "iteration: 7200    loss: 0.00291595445015    accuracy: [ 0.00515586  0.19467062]"
       ]
      },
      {
       "output_type": "stream",
       "stream": "stdout",
       "text": [
        "\n",
        "iteration: 7300    loss: 0.000435836351244    accuracy: [ 0.  0.]"
       ]
      },
      {
       "output_type": "stream",
       "stream": "stdout",
       "text": [
        "\n",
        "iteration: 7400    loss: 0.00224578287452    accuracy: [ 0.00401862  0.11585945]"
       ]
      },
      {
       "output_type": "stream",
       "stream": "stdout",
       "text": [
        "\n",
        "iteration: 7500    loss: 0.0108641199768    accuracy: [ 0.02838243  0.12535344]"
       ]
      },
      {
       "output_type": "stream",
       "stream": "stdout",
       "text": [
        "\n",
        "iteration: 7600    loss: 0.0110849672928    accuracy: [ 0.04541148  0.08026925]"
       ]
      },
      {
       "output_type": "stream",
       "stream": "stdout",
       "text": [
        "\n",
        "iteration: 7700    loss: 0.0108819166198    accuracy: [ 0.02829582  0.06799135]"
       ]
      },
      {
       "output_type": "stream",
       "stream": "stdout",
       "text": [
        "\n",
        "iteration: 7800    loss: 0.000448758015409    accuracy: [ 0.  0.]"
       ]
      },
      {
       "output_type": "stream",
       "stream": "stdout",
       "text": [
        "\n",
        "iteration: 7900    loss: 0.0109457541257    accuracy: [ 0.03895369  0.05968977]"
       ]
      },
      {
       "output_type": "stream",
       "stream": "stdout",
       "text": [
        "\n",
        "iteration: 8000    loss: 0.0171833410859    accuracy: [ 0.03309119  0.17931831]"
       ]
      },
      {
       "output_type": "stream",
       "stream": "stdout",
       "text": [
        "\n",
        "iteration: 8100    loss: 0.00786990858614    accuracy: [ 0.0197431   0.09711743]"
       ]
      },
      {
       "output_type": "stream",
       "stream": "stdout",
       "text": [
        "\n",
        "iteration: 8200    loss: 0.00344543159008    accuracy: [ 0.00502189  0.26443768]"
       ]
      },
      {
       "output_type": "stream",
       "stream": "stdout",
       "text": [
        "\n",
        "iteration: 8300    loss: 0.00368683692068    accuracy: [ 0.00380019  0.437751  ]"
       ]
      },
      {
       "output_type": "stream",
       "stream": "stdout",
       "text": [
        "\n",
        "iteration: 8400    loss: 0.0109646059573    accuracy: [ 0.03725262  0.08730891]"
       ]
      },
      {
       "output_type": "stream",
       "stream": "stdout",
       "text": [
        "\n",
        "iteration: 8500    loss: 0.00293854856864    accuracy: [ 0.0081535   0.17220402]"
       ]
      },
      {
       "output_type": "stream",
       "stream": "stdout",
       "text": [
        "\n",
        "iteration: 8600    loss: 0.0122283501551    accuracy: [ 0.04700492  0.09096821]"
       ]
      },
      {
       "output_type": "stream",
       "stream": "stdout",
       "text": [
        "\n",
        "iteration: 8700    loss: 0.0102476961911    accuracy: [ 0.04842471  0.056994  ]"
       ]
      },
      {
       "output_type": "stream",
       "stream": "stdout",
       "text": [
        "\n",
        "iteration: 8800    loss: 0.0107322577387    accuracy: [ 0.01370072  0.2041841 ]"
       ]
      },
      {
       "output_type": "stream",
       "stream": "stdout",
       "text": [
        "\n",
        "iteration: 8900    loss: 0.012351134792    accuracy: [ 0.02968512  0.20427065]"
       ]
      },
      {
       "output_type": "stream",
       "stream": "stdout",
       "text": [
        "\n",
        "iteration: 9000    loss: 0.00429594051093    accuracy: [ 0.00502236  0.24392097]"
       ]
      },
      {
       "output_type": "stream",
       "stream": "stdout",
       "text": [
        "\n",
        "iteration: 9100    loss: 0.0104396976531    accuracy: [ 0.04889159  0.0705018 ]"
       ]
      },
      {
       "output_type": "stream",
       "stream": "stdout",
       "text": [
        "\n",
        "iteration: 9200    loss: 0.0111380415037    accuracy: [ 0.03792452  0.09209068]"
       ]
      },
      {
       "output_type": "stream",
       "stream": "stdout",
       "text": [
        "\n",
        "iteration: 9300    loss: 0.00962176080793    accuracy: [ 0.02649118  0.12701845]"
       ]
      },
      {
       "output_type": "stream",
       "stream": "stdout",
       "text": [
        "\n",
        "iteration: 9400    loss: 0.00129766517784    accuracy: [ 0.  0.]"
       ]
      },
      {
       "output_type": "stream",
       "stream": "stdout",
       "text": [
        "\n",
        "iteration: 9500    loss: 0.000652830465697    accuracy: [  9.53674316e-05   1.00000000e+00]"
       ]
      },
      {
       "output_type": "stream",
       "stream": "stdout",
       "text": [
        "\n",
        "iteration: 9600    loss: 0.00956388376653    accuracy: [ 0.04715947  0.07491092]"
       ]
      },
      {
       "output_type": "stream",
       "stream": "stdout",
       "text": [
        "\n",
        "iteration: 9700    loss: 0.00308354618028    accuracy: [ 0.00465947  0.2039312 ]"
       ]
      },
      {
       "output_type": "stream",
       "stream": "stdout",
       "text": [
        "\n",
        "iteration: 9800    loss: 0.0119528118521    accuracy: [ 0.0049296   0.20729813]"
       ]
      },
      {
       "output_type": "stream",
       "stream": "stdout",
       "text": [
        "\n",
        "iteration: 9900    loss: 0.000257486390183    accuracy: [ 0.  0.]"
       ]
      },
      {
       "output_type": "stream",
       "stream": "stdout",
       "text": [
        "\n",
        "iteration: 10000   loss: 0.0130636841059    accuracy: [ 0.0439113   0.08811493]"
       ]
      },
      {
       "output_type": "stream",
       "stream": "stdout",
       "text": [
        "\n",
        "snaping to: /home/qinshuo/WorkPlace/caffe_space/seg_spine/weight/seg_spine_net_fin80000.caffemodel\n",
        "iteration: 100     loss: 0.00895974598825    accuracy: [ 0.03603456  0.09210387]"
       ]
      },
      {
       "output_type": "stream",
       "stream": "stdout",
       "text": [
        "\n",
        "iteration: 200     loss: 0.0164221189916    accuracy: [ 0.05399765  0.11105606]"
       ]
      },
      {
       "output_type": "stream",
       "stream": "stdout",
       "text": [
        "\n",
        "iteration: 300     loss: 0.0139326602221    accuracy: [ 0.04671335  0.07908957]"
       ]
      },
      {
       "output_type": "stream",
       "stream": "stdout",
       "text": [
        "\n",
        "iteration: 400     loss: 0.0126853883266    accuracy: [ 0.06238895  0.07539196]"
       ]
      },
      {
       "output_type": "stream",
       "stream": "stdout",
       "text": [
        "\n",
        "iteration: 500     loss: 0.000342570740031    accuracy: [ 0.  0.]"
       ]
      },
      {
       "output_type": "stream",
       "stream": "stdout",
       "text": [
        "\n",
        "iteration: 600     loss: 0.0122447516769    accuracy: [ 0.04407847  0.08904882]"
       ]
      },
      {
       "output_type": "stream",
       "stream": "stdout",
       "text": [
        "\n",
        "iteration: 700     loss: 0.0133738201112    accuracy: [ 0.03451321  0.1012518 ]"
       ]
      },
      {
       "output_type": "stream",
       "stream": "stdout",
       "text": [
        "\n",
        "iteration: 800     loss: 0.012146548368    accuracy: [ 0.05056644  0.06005597]"
       ]
      },
      {
       "output_type": "stream",
       "stream": "stdout",
       "text": [
        "\n",
        "iteration: 900     loss: 0.0132215442136    accuracy: [ 0.0642473   0.08732612]"
       ]
      },
      {
       "output_type": "stream",
       "stream": "stdout",
       "text": [
        "\n",
        "iteration: 1000    loss: 0.00994983222336    accuracy: [ 0.04886543  0.0806502 ]"
       ]
      },
      {
       "output_type": "stream",
       "stream": "stdout",
       "text": [
        "\n",
        "iteration: 1100    loss: 0.00461472058669    accuracy: [ 0.00906531  0.26220539]"
       ]
      },
      {
       "output_type": "stream",
       "stream": "stdout",
       "text": [
        "\n",
        "iteration: 1200    loss: 0.0118757197633    accuracy: [ 0.04271027  0.07483663]"
       ]
      },
      {
       "output_type": "stream",
       "stream": "stdout",
       "text": [
        "\n",
        "iteration: 1300    loss: 0.0121896965429    accuracy: [ 0.04918459  0.07160071]"
       ]
      },
      {
       "output_type": "stream",
       "stream": "stdout",
       "text": [
        "\n",
        "iteration: 1400    loss: 0.0118491202593    accuracy: [ 0.03743162  0.09620098]"
       ]
      },
      {
       "output_type": "stream",
       "stream": "stdout",
       "text": [
        "\n",
        "iteration: 1500    loss: 0.0221493970603    accuracy: [ 0.02027543  0.11298259]"
       ]
      },
      {
       "output_type": "stream",
       "stream": "stdout",
       "text": [
        "\n",
        "iteration: 1600    loss: 0.0137850493193    accuracy: [ 0.04324833  0.09425288]"
       ]
      },
      {
       "output_type": "stream",
       "stream": "stdout",
       "text": [
        "\n",
        "iteration: 1700    loss: 0.0114768594503    accuracy: [ 0.04860495  0.07202957]"
       ]
      },
      {
       "output_type": "stream",
       "stream": "stdout",
       "text": [
        "\n",
        "iteration: 1800    loss: 0.0112251052633    accuracy: [ 0.04700856  0.08014957]"
       ]
      },
      {
       "output_type": "stream",
       "stream": "stdout",
       "text": [
        "\n",
        "iteration: 1900    loss: 0.00703826919198    accuracy: [ 0.00265579  0.80316091]"
       ]
      },
      {
       "output_type": "stream",
       "stream": "stdout",
       "text": [
        "\n",
        "iteration: 2000    loss: 0.000243920992943    accuracy: [ 0.  0.]"
       ]
      },
      {
       "output_type": "stream",
       "stream": "stdout",
       "text": [
        "\n",
        "iteration: 2100    loss: 0.0128239821643    accuracy: [ 0.04809511  0.09058403]"
       ]
      },
      {
       "output_type": "stream",
       "stream": "stdout",
       "text": [
        "\n",
        "iteration: 2200    loss: 0.0023742695339    accuracy: [ 0.00304486  0.25563911]"
       ]
      },
      {
       "output_type": "stream",
       "stream": "stdout",
       "text": [
        "\n",
        "iteration: 2300    loss: 0.00357724213973    accuracy: [ 0.00485685  0.05503144]"
       ]
      },
      {
       "output_type": "stream",
       "stream": "stdout",
       "text": [
        "\n",
        "iteration: 2400    loss: 0.00126906007063    accuracy: [ 0.  0.]"
       ]
      },
      {
       "output_type": "stream",
       "stream": "stdout",
       "text": [
        "\n",
        "iteration: 2500    loss: 0.00491007510573    accuracy: [ 0.00928754  0.15659679]"
       ]
      },
      {
       "output_type": "stream",
       "stream": "stdout",
       "text": [
        "\n",
        "iteration: 2600    loss: 0.0105178933591    accuracy: [ 0.0105726   0.13996384]"
       ]
      },
      {
       "output_type": "stream",
       "stream": "stdout",
       "text": [
        "\n",
        "iteration: 2700    loss: 0.00593887269497    accuracy: [ 0.02593206  0.06553756]"
       ]
      },
      {
       "output_type": "stream",
       "stream": "stdout",
       "text": [
        "\n",
        "iteration: 2800    loss: 0.0105377333239    accuracy: [ 0.04890283  0.07640028]"
       ]
      },
      {
       "output_type": "stream",
       "stream": "stdout",
       "text": [
        "\n",
        "iteration: 2900    loss: 0.00752007495612    accuracy: [ 0.01945858  0.07207384]"
       ]
      },
      {
       "output_type": "stream",
       "stream": "stdout",
       "text": [
        "\n",
        "iteration: 3000    loss: 0.0106175094843    accuracy: [ 0.04939333  0.0848991 ]"
       ]
      },
      {
       "output_type": "stream",
       "stream": "stdout",
       "text": [
        "\n",
        "iteration: 3100    loss: 0.0112739512697    accuracy: [ 0.04714274  0.08355621]"
       ]
      },
      {
       "output_type": "stream",
       "stream": "stdout",
       "text": [
        "\n",
        "iteration: 3200    loss: 0.0120034543797    accuracy: [ 0.02593123  0.05579336]"
       ]
      },
      {
       "output_type": "stream",
       "stream": "stdout",
       "text": [
        "\n",
        "iteration: 3300    loss: 0.000258581043454    accuracy: [ 0.  0.]"
       ]
      },
      {
       "output_type": "stream",
       "stream": "stdout",
       "text": [
        "\n",
        "iteration: 3400    loss: 0.00643785949796    accuracy: [ 0.01461821  0.17389034]"
       ]
      },
      {
       "output_type": "stream",
       "stream": "stdout",
       "text": [
        "\n",
        "iteration: 3500    loss: 0.009570594877    accuracy: [ 0.0319937   0.09839981]"
       ]
      },
      {
       "output_type": "stream",
       "stream": "stdout",
       "text": [
        "\n",
        "iteration: 3600    loss: 0.00911324750632    accuracy: [ 0.02273205  0.1453293 ]"
       ]
      },
      {
       "output_type": "stream",
       "stream": "stdout",
       "text": [
        "\n",
        "iteration: 3700    loss: 0.000254635233432    accuracy: [ 0.  0.]"
       ]
      },
      {
       "output_type": "stream",
       "stream": "stdout",
       "text": [
        "\n",
        "iteration: 3800    loss: 0.00237953220494    accuracy: [ 0.00471261  0.16194332]"
       ]
      },
      {
       "output_type": "stream",
       "stream": "stdout",
       "text": [
        "\n",
        "iteration: 3900    loss: 0.0124044790864    accuracy: [ 0.06012641  0.07188255]"
       ]
      },
      {
       "output_type": "stream",
       "stream": "stdout",
       "text": [
        "\n",
        "iteration: 4000    loss: 0.000347775639966    accuracy: [ 0.  0.]"
       ]
      },
      {
       "output_type": "stream",
       "stream": "stdout",
       "text": [
        "\n",
        "iteration: 4100    loss: 0.00563477445394    accuracy: [ 0.01463819  0.1535854 ]"
       ]
      },
      {
       "output_type": "stream",
       "stream": "stdout",
       "text": [
        "\n",
        "iteration: 4200    loss: 0.0132804485038    accuracy: [ 0.04007465  0.09237523]"
       ]
      },
      {
       "output_type": "stream",
       "stream": "stdout",
       "text": [
        "\n",
        "iteration: 4300    loss: 0.00916732847691    accuracy: [ 0.03740099  0.0810093 ]"
       ]
      },
      {
       "output_type": "stream",
       "stream": "stdout",
       "text": [
        "\n",
        "iteration: 4400    loss: 0.000229604935157    accuracy: [ 0.  0.]"
       ]
      },
      {
       "output_type": "stream",
       "stream": "stdout",
       "text": [
        "\n",
        "iteration: 4500    loss: 0.00975320674479    accuracy: [ 0.01597505  0.13588516]"
       ]
      },
      {
       "output_type": "stream",
       "stream": "stdout",
       "text": [
        "\n",
        "iteration: 4600    loss: 0.0120115112513    accuracy: [ 0.04922716  0.06300008]"
       ]
      },
      {
       "output_type": "stream",
       "stream": "stdout",
       "text": [
        "\n",
        "iteration: 4700    loss: 0.0114723062143    accuracy: [ 0.04318929  0.10391793]"
       ]
      },
      {
       "output_type": "stream",
       "stream": "stdout",
       "text": [
        "\n",
        "iteration: 4800    loss: 0.0112440399826    accuracy: [ 0.04968543  0.08372415]"
       ]
      },
      {
       "output_type": "stream",
       "stream": "stdout",
       "text": [
        "\n",
        "iteration: 4900    loss: 0.00504907872528    accuracy: [ 0.00495403  0.32357472]"
       ]
      },
      {
       "output_type": "stream",
       "stream": "stdout",
       "text": [
        "\n",
        "iteration: 5000    loss: 0.0128801623359    accuracy: [ 0.04934999  0.10140888]"
       ]
      },
      {
       "output_type": "stream",
       "stream": "stdout",
       "text": [
        "\n",
        "iteration: 5100    loss: 0.010887878947    accuracy: [ 0.0504785   0.07939151]"
       ]
      },
      {
       "output_type": "stream",
       "stream": "stdout",
       "text": [
        "\n",
        "iteration: 5200    loss: 0.00380715308711    accuracy: [ 0.00563494  0.10636856]"
       ]
      },
      {
       "output_type": "stream",
       "stream": "stdout",
       "text": [
        "\n",
        "iteration: 5300    loss: 0.0110476091504    accuracy: [ 0.04716415  0.07826298]"
       ]
      },
      {
       "output_type": "stream",
       "stream": "stdout",
       "text": [
        "\n",
        "iteration: 5400    loss: 0.000235740764765    accuracy: [ 0.  0.]"
       ]
      },
      {
       "output_type": "stream",
       "stream": "stdout",
       "text": [
        "\n",
        "iteration: 5500    loss: 0.0168715212494    accuracy: [ 0.04180217  0.06964171]"
       ]
      },
      {
       "output_type": "stream",
       "stream": "stdout",
       "text": [
        "\n",
        "iteration: 5600    loss: 0.0187194328755    accuracy: [ 0.06428025  0.09494613]"
       ]
      },
      {
       "output_type": "stream",
       "stream": "stdout",
       "text": [
        "\n",
        "iteration: 5700    loss: 0.00211674161255    accuracy: [ 0.00401439  0.12927757]"
       ]
      },
      {
       "output_type": "stream",
       "stream": "stdout",
       "text": [
        "\n",
        "iteration: 5800    loss: 0.00571650126949    accuracy: [ 0.00836096  0.11466423]"
       ]
      },
      {
       "output_type": "stream",
       "stream": "stdout",
       "text": [
        "\n",
        "iteration: 5900    loss: 0.0168574824929    accuracy: [ 0.02887453  0.20773202]"
       ]
      },
      {
       "output_type": "stream",
       "stream": "stdout",
       "text": [
        "\n",
        "iteration: 6000    loss: 0.0118616390973    accuracy: [ 0.04696943  0.09394062]"
       ]
      },
      {
       "output_type": "stream",
       "stream": "stdout",
       "text": [
        "\n",
        "iteration: 6100    loss: 0.00618268549442    accuracy: [ 0.00838774  0.32984531]"
       ]
      },
      {
       "output_type": "stream",
       "stream": "stdout",
       "text": [
        "\n",
        "iteration: 6200    loss: 0.00465856771916    accuracy: [ 0.00442588  0.48793104]"
       ]
      },
      {
       "output_type": "stream",
       "stream": "stdout",
       "text": [
        "\n",
        "iteration: 6300    loss: 0.017376082018    accuracy: [ 0.02850186  0.0996642 ]"
       ]
      },
      {
       "output_type": "stream",
       "stream": "stdout",
       "text": [
        "\n",
        "iteration: 6400    loss: 0.0102434875444    accuracy: [ 0.02956665  0.09887553]"
       ]
      },
      {
       "output_type": "stream",
       "stream": "stdout",
       "text": [
        "\n",
        "iteration: 6500    loss: 0.00264977291226    accuracy: [ 0.00432752  0.18342152]"
       ]
      },
      {
       "output_type": "stream",
       "stream": "stdout",
       "text": [
        "\n",
        "iteration: 6600    loss: 0.00941781140864    accuracy: [ 0.03448856  0.10056484]"
       ]
      },
      {
       "output_type": "stream",
       "stream": "stdout",
       "text": [
        "\n",
        "iteration: 6700    loss: 0.0136805521324    accuracy: [ 0.04337467  0.08499383]"
       ]
      },
      {
       "output_type": "stream",
       "stream": "stdout",
       "text": [
        "\n",
        "iteration: 6800    loss: 0.0140013406053    accuracy: [ 0.06427286  0.08493818]"
       ]
      },
      {
       "output_type": "stream",
       "stream": "stdout",
       "text": [
        "\n",
        "iteration: 6900    loss: 0.0124976485968    accuracy: [ 0.06451748  0.06049654]"
       ]
      },
      {
       "output_type": "stream",
       "stream": "stdout",
       "text": [
        "\n",
        "iteration: 7000    loss: 0.0100896023214    accuracy: [ 0.04827897  0.07579713]"
       ]
      },
      {
       "output_type": "stream",
       "stream": "stdout",
       "text": [
        "\n",
        "iteration: 7100    loss: 0.00266338069923    accuracy: [ 0.00390311  0.24731183]"
       ]
      },
      {
       "output_type": "stream",
       "stream": "stdout",
       "text": [
        "\n",
        "iteration: 7200    loss: 0.0122193936259    accuracy: [ 0.0494986   0.08454293]"
       ]
      },
      {
       "output_type": "stream",
       "stream": "stdout",
       "text": [
        "\n",
        "iteration: 7300    loss: 0.0103844907135    accuracy: [ 0.02199704  0.14990446]"
       ]
      },
      {
       "output_type": "stream",
       "stream": "stdout",
       "text": [
        "\n",
        "iteration: 7400    loss: 0.0121324956417    accuracy: [ 0.04337155  0.08021155]"
       ]
      },
      {
       "output_type": "stream",
       "stream": "stdout",
       "text": [
        "\n",
        "iteration: 7500    loss: 0.0132124228403    accuracy: [ 0.06542274  0.07768238]"
       ]
      },
      {
       "output_type": "stream",
       "stream": "stdout",
       "text": [
        "\n",
        "iteration: 7600    loss: 0.0105648133904    accuracy: [ 0.03647402  0.06205451]"
       ]
      },
      {
       "output_type": "stream",
       "stream": "stdout",
       "text": [
        "\n",
        "iteration: 7700    loss: 0.00969028007239    accuracy: [ 0.04967053  0.06836884]"
       ]
      },
      {
       "output_type": "stream",
       "stream": "stdout",
       "text": [
        "\n",
        "iteration: 7800    loss: 0.0124210612848    accuracy: [ 0.04405158  0.07620205]"
       ]
      },
      {
       "output_type": "stream",
       "stream": "stdout",
       "text": [
        "\n",
        "iteration: 7900    loss: 0.0123551273718    accuracy: [ 0.01989884  0.0978658 ]"
       ]
      },
      {
       "output_type": "stream",
       "stream": "stdout",
       "text": [
        "\n",
        "iteration: 8000    loss: 0.0164559036493    accuracy: [ 0.03058664  0.08279058]"
       ]
      },
      {
       "output_type": "stream",
       "stream": "stdout",
       "text": [
        "\n",
        "iteration: 8100    loss: 0.000464631360956    accuracy: [ 0.  0.]"
       ]
      },
      {
       "output_type": "stream",
       "stream": "stdout",
       "text": [
        "\n",
        "iteration: 8200    loss: 0.000233633894823    accuracy: [ 0.  0.]"
       ]
      },
      {
       "output_type": "stream",
       "stream": "stdout",
       "text": [
        "\n",
        "iteration: 8300    loss: 0.00496915960684    accuracy: [ 0.00496492  0.16692308]"
       ]
      },
      {
       "output_type": "stream",
       "stream": "stdout",
       "text": [
        "\n",
        "iteration: 8400    loss: 0.0144970770925    accuracy: [ 0.01995919  0.08112773]"
       ]
      },
      {
       "output_type": "stream",
       "stream": "stdout",
       "text": [
        "\n",
        "iteration: 8500    loss: 0.0104758199304    accuracy: [ 0.04709965  0.06231743]"
       ]
      },
      {
       "output_type": "stream",
       "stream": "stdout",
       "text": [
        "\n",
        "iteration: 8600    loss: 0.000256184110185    accuracy: [ 0.  0.]"
       ]
      },
      {
       "output_type": "stream",
       "stream": "stdout",
       "text": [
        "\n",
        "iteration: 8700    loss: 0.0138128688559    accuracy: [ 0.05330238  0.07209986]"
       ]
      },
      {
       "output_type": "stream",
       "stream": "stdout",
       "text": [
        "\n",
        "iteration: 8800    loss: 0.00851346272975    accuracy: [ 0.03321178  0.10393194]"
       ]
      },
      {
       "output_type": "stream",
       "stream": "stdout",
       "text": [
        "\n",
        "iteration: 8900    loss: 0.0007955612964    accuracy: [  9.53677954e-05   1.00000000e+00]"
       ]
      },
      {
       "output_type": "stream",
       "stream": "stdout",
       "text": [
        "\n",
        "iteration: 9000    loss: 0.0119755435735    accuracy: [ 0.04946682  0.0921449 ]"
       ]
      },
      {
       "output_type": "stream",
       "stream": "stdout",
       "text": [
        "\n",
        "iteration: 9100    loss: 0.0111106876284    accuracy: [ 0.02915122  0.1299161 ]"
       ]
      },
      {
       "output_type": "stream",
       "stream": "stdout",
       "text": [
        "\n",
        "iteration: 9200    loss: 0.0113933617249    accuracy: [ 0.04917081  0.07623562]"
       ]
      },
      {
       "output_type": "stream",
       "stream": "stdout",
       "text": [
        "\n",
        "iteration: 9300    loss: 0.00871567800641    accuracy: [ 0.02085035  0.16993225]"
       ]
      },
      {
       "output_type": "stream",
       "stream": "stdout",
       "text": [
        "\n",
        "iteration: 9400    loss: 0.00155114766676    accuracy: [ 0.00434552  0.1404741 ]"
       ]
      },
      {
       "output_type": "stream",
       "stream": "stdout",
       "text": [
        "\n",
        "iteration: 9500    loss: 0.0161589886993    accuracy: [ 0.04718373  0.11457743]"
       ]
      },
      {
       "output_type": "stream",
       "stream": "stdout",
       "text": [
        "\n",
        "iteration: 9600    loss: 0.000452545180451    accuracy: [ 0.  0.]"
       ]
      },
      {
       "output_type": "stream",
       "stream": "stdout",
       "text": [
        "\n",
        "iteration: 9700    loss: 0.00851056911051    accuracy: [ 0.01054526  0.20144928]"
       ]
      },
      {
       "output_type": "stream",
       "stream": "stdout",
       "text": [
        "\n",
        "iteration: 9800    loss: 0.0088330861181    accuracy: [ 0.02089466  0.19861136]"
       ]
      },
      {
       "output_type": "stream",
       "stream": "stdout",
       "text": [
        "\n",
        "iteration: 9900    loss: 0.010854255408    accuracy: [ 0.04637652  0.0707104 ]"
       ]
      },
      {
       "output_type": "stream",
       "stream": "stdout",
       "text": [
        "\n",
        "iteration: 10000   loss: 0.0155665911734    accuracy: [ 0.0745478   0.05874808]"
       ]
      },
      {
       "output_type": "stream",
       "stream": "stdout",
       "text": [
        "\n",
        "snaping to: /home/qinshuo/WorkPlace/caffe_space/seg_spine/weight/seg_spine_net_fin90000.caffemodel\n"
       ]
      }
     ],
     "prompt_number": 6
    },
    {
     "cell_type": "code",
     "collapsed": false,
     "input": [],
     "language": "python",
     "metadata": {},
     "outputs": []
    }
   ],
   "metadata": {}
  }
 ]
}