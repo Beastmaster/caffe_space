{
 "metadata": {
  "name": "",
  "signature": "sha256:e8002cef855936231871408d3ef5f1e5896a60787e99ad76db339bc08fc4c06a"
 },
 "nbformat": 3,
 "nbformat_minor": 0,
 "worksheets": [
  {
   "cells": [
    {
     "cell_type": "code",
     "collapsed": false,
     "input": [
      "import tensorflow as tf\n",
      "\n",
      "\n"
     ],
     "language": "python",
     "metadata": {},
     "outputs": [],
     "prompt_number": 20
    },
    {
     "cell_type": "code",
     "collapsed": false,
     "input": [
      "def conv_layer(data,nOutputChannelConv1,nKernelConv1,name):\n",
      "    nOutputChannelConv1 = 32\n",
      "    nKernelConv1 = 5\n",
      "    sNameKernelConv1 = 'kernel'+name\n",
      "    sNameBasisConv1 = 'basis'+name\n",
      "    nInputChannelConv1 = data.get_shape()[0]\n",
      "    # first conv layer\n",
      "    initKConv1 = tf.truncated_normal([nKernelConv1,nKernelConv1,nInputChannelConv1 ,nOutputChannelConv1], stddev=0.35)\n",
      "    W_conv1 = tf.Variable(initConv1,sNameKernelConv1)\n",
      "    initBConv1 = tf.random_normal(nOutputChannelConv1, stddev=0.35)\n",
      "    B_conv1 = tf.Variable(initBConv1,sNameBasisConv1)\n",
      "\n",
      "    data_conv1 = tf.nn.conv2d(data,W_conv1,strides=[1,1,1,1],padding='SAME') + B_conv1\n",
      "    relu_conv1 = tf.nn.relu(data_conv1)\n",
      "    return relu_conv1\n"
     ],
     "language": "python",
     "metadata": {},
     "outputs": [],
     "prompt_number": 21
    },
    {
     "cell_type": "code",
     "collapsed": false,
     "input": [
      "basis = tf.random_normal([32], stddev=0.35)\n",
      "basis.get_shape()\n"
     ],
     "language": "python",
     "metadata": {},
     "outputs": [
      {
       "metadata": {},
       "output_type": "pyout",
       "prompt_number": 24,
       "text": [
        "TensorShape([Dimension(32)])"
       ]
      }
     ],
     "prompt_number": 24
    },
    {
     "cell_type": "code",
     "collapsed": false,
     "input": [],
     "language": "python",
     "metadata": {},
     "outputs": []
    }
   ],
   "metadata": {}
  }
 ]
}