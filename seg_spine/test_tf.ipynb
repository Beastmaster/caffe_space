{
 "metadata": {
  "name": "",
  "signature": "sha256:f98aa51de5ccc490c153497afb74968b89860d41d56401c46fc4ef80b3956d17"
 },
 "nbformat": 3,
 "nbformat_minor": 0,
 "worksheets": [
  {
   "cells": [
    {
     "cell_type": "code",
     "collapsed": false,
     "input": [
      "import tensorflow as tf\n",
      "\n",
      "\n"
     ],
     "language": "python",
     "metadata": {},
     "outputs": [],
     "prompt_number": 20
    },
    {
     "cell_type": "code",
     "collapsed": false,
     "input": [
      "im_name = '/media/D/SpineDataset/spine_seg/image/AKa21.jpg'\n",
      "label_name = '/media/D/SpineDataset/spine_seg/label/AKA2_mask1.png'\n",
      "def read_img(im_name,type=np.float32):\n",
      "    im = Image.open(im_name,'r')\n",
      "    im = im.convert('L')\n",
      "    im = im.resize((512,512),Image.NEAREST)\n",
      "    in_ = np.array(im, dtype=type)\n",
      "    return in_\n"
     ],
     "language": "python",
     "metadata": {},
     "outputs": [],
     "prompt_number": 0
    },
    {
     "cell_type": "code",
     "collapsed": false,
     "input": [],
     "language": "python",
     "metadata": {},
     "outputs": [],
     "prompt_number": 0
    },
    {
     "cell_type": "code",
     "collapsed": false,
     "input": [],
     "language": "python",
     "metadata": {},
     "outputs": [],
     "prompt_number": 0
    },
    {
     "cell_type": "code",
     "collapsed": false,
     "input": [],
     "language": "python",
     "metadata": {},
     "outputs": []
    }
   ],
   "metadata": {}
  }
 ]
}